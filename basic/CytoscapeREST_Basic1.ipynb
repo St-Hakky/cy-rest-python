{
 "cells": [
  {
   "cell_type": "markdown",
   "metadata": {},
   "source": [
    "# Basic Workflow 1: Introduction to cyREST API\n",
    "\n",
    "by [Keiichiro Ono](http://keiono.github.io/)\n",
    "\n",
    "----\n",
    "\n",
    "![](http://cytoscape.org/images/logo/cy3logoOrange.svg)\n",
    "\n",
    "\n",
    "## Introduction\n",
    "This is an introduction to cyREST and its API.  You will learn how to access Cytoscape via RESTful API.\n",
    "\n",
    "### Prerequisites\n",
    "* Basic knowledge of RESTful API\n",
    "    * [This is a good introduction to REST](http://www.restapitutorial.com/)\n",
    "* Basic Python skill\n",
    "* Basic knowledge of Cytoscape\n",
    "\n",
    "### System Requirments\n",
    "* [Java 8+](http://www.oracle.com/technetwork/java/javase/downloads/jdk8-downloads-2133151.html)\n",
    "* [Cytoscape 3.2.1 or later](http://cytoscape.org/download.php)\n",
    "* Latest version of [cyREST app](http://apps.cytoscape.org/apps/cyrest)\n",
    "\n",
    "#### Tested with Python 2.7.10 and 3.4.0.  You are running:"
   ]
  },
  {
   "cell_type": "code",
   "execution_count": 1,
   "metadata": {
    "collapsed": false
   },
   "outputs": [
    {
     "name": "stdout",
     "output_type": "stream",
     "text": [
      "My Python Version = 3.4.0 (default, Apr 11 2014, 13:05:11) \n",
      "[GCC 4.8.2]\n"
     ]
    }
   ],
   "source": [
    "import sys\n",
    "print ('My Python Version = ' + sys.version)"
   ]
  },
  {
   "cell_type": "markdown",
   "metadata": {},
   "source": [
    "----\n",
    "## Questions or Feature Requests?\n",
    "Please send them to our [mailing list](https://groups.google.com/forum/#!forum/cytoscape-discuss)"
   ]
  },
  {
   "cell_type": "markdown",
   "metadata": {},
   "source": [
    "## 1. Import Python Libraries and Basic Setup\n",
    "\n",
    "### Libraries\n",
    "In this tutorial, we will use several popular Python libraries to make this workflow more realistic.\n",
    "\n",
    "#### HTTP Client\n",
    "Since you need to access Cytoscape via RESTful API, HTTP client library is the most important tool you need to understand.  In this example, we use [Requests](http://docs.python-requests.org/en/latest/) library to simplify API call code.\n",
    "\n",
    "#### JSON Encoding and Decoding\n",
    "Data will be exchanged as JSON between Cytoscape and Python code.  Python has built-in support for JSON and we will use [it](https://docs.python.org/2/library/json.html) in this workflow.\n",
    "\n",
    "### Basic Setup for the API\n",
    "At this point, there is only one option for the cy-rest module: port number.\n",
    "\n",
    "#### URL to Access Cytoscape REST API\n",
    "We assume you are running Cytoscape desktop application and IPython Notebook server on a same machine.  To access Cytoscape REST API, use the following URL:\n",
    "\n",
    "```\n",
    "http://localhost:PORT_NUMBER/v1/\n",
    "```\n",
    "\n",
    "where __v1__ is the current version number of API.  Once the final release is ready, we guarantee compatibility of your scripts as long as major version number is the same.\n",
    "\n",
    "##### Note\n",
    "Of course, you can run Cytoscape and IPython server on different machines.  In that case, you need to change the URL to the machine running Cytoscape desktop.  Also, you need to open the port.\n",
    "\n",
    "#### Change Port Number\n",
    "By default, port number used by cyREST is __1234__.  To change this, you need set a global Cytoscape property from:\n",
    "\n",
    "* _**Edit &rarr; Preserences &rarr; Properties...**_\n",
    "\n",
    "and add a new property __resr.port__."
   ]
  },
  {
   "cell_type": "markdown",
   "metadata": {},
   "source": [
    "Before running following cells, install dependent Python packages with\n",
    "```\n",
    "pip install -U requests\n",
    "```"
   ]
  },
  {
   "cell_type": "code",
   "execution_count": 2,
   "metadata": {
    "collapsed": false
   },
   "outputs": [],
   "source": [
    "# HTTP Client for Python\n",
    "import requests\n",
    "\n",
    "# Standard JSON library\n",
    "import json\n",
    "\n",
    "# Basic Setup\n",
    "PORT_NUMBER = 1234\n",
    "\n",
    "# Specify your machine's URL (The IP address of the machine running Cytoscape and cyREST) if you use \n",
    "# Docker or remote server for this notebook.\n",
    "#IP = '192.168.1.1'\n",
    "\n",
    "# If you are running both Notebook server and Cytoscape on a same machine, just use localhost\n",
    "IP = 'localhost'\n",
    "\n",
    "BASE = 'http://' + IP + ':' + str(PORT_NUMBER) + '/v1/'\n",
    "\n",
    "# Header for posting data to the server as JSON\n",
    "HEADERS = {'Content-Type': 'application/json'}"
   ]
  },
  {
   "cell_type": "markdown",
   "metadata": {},
   "source": [
    "## 2. Test Cytoscape REST API\n",
    "\n",
    "### Understand REST Basics\n",
    "\n",
    "| HTTP Verb | Description |\n",
    "|:----------:|:------------|\n",
    "| GET | Retrieving resources (in most cases, it is Cytoscape data objects, such as networks or tables) |\n",
    "| POST | Creating resources | \n",
    "| PUT | Changing/replacing resources or collections |\n",
    "| DELETE | Deleting resources |\n",
    "\n",
    "----\n",
    "\n",
    "### Check the status of server\n",
    "First, send a simple request and check the server status."
   ]
  },
  {
   "cell_type": "code",
   "execution_count": 3,
   "metadata": {
    "collapsed": false
   },
   "outputs": [],
   "source": [
    "# Get server status\n",
    "res = requests.get(BASE)"
   ]
  },
  {
   "cell_type": "markdown",
   "metadata": {},
   "source": [
    "### Roundtrip between JSON and Python Object\n",
    "\n",
    "#### Introduction to JSON handling in Python\n",
    "\n",
    "\n",
    "Now, __res__ object contains return value of API as JSON.  Let's convert it into Python object:"
   ]
  },
  {
   "cell_type": "code",
   "execution_count": 4,
   "metadata": {
    "collapsed": false
   },
   "outputs": [
    {
     "name": "stdout",
     "output_type": "stream",
     "text": [
      "{\n",
      "    \"apiVersion\": \"v1\",\n",
      "    \"memoryStatus\": {\n",
      "        \"maxMemory\": 28217,\n",
      "        \"totalMemory\": 2952,\n",
      "        \"freeMemory\": 2590,\n",
      "        \"usedMemory\": 361\n",
      "    },\n",
      "    \"numberOfCores\": 8\n",
      "}\n"
     ]
    }
   ],
   "source": [
    "status_object = res.json();\n",
    "print(json.dumps(status_object, indent=4))"
   ]
  },
  {
   "cell_type": "markdown",
   "metadata": {},
   "source": [
    "JSON library in Python converts JSON string into simple Python object."
   ]
  },
  {
   "cell_type": "code",
   "execution_count": 5,
   "metadata": {
    "collapsed": false
   },
   "outputs": [
    {
     "name": "stdout",
     "output_type": "stream",
     "text": [
      "v1\n",
      "361\n"
     ]
    }
   ],
   "source": [
    "print(status_object['apiVersion'])\n",
    "print(status_object['memoryStatus']['usedMemory'])"
   ]
  },
  {
   "cell_type": "markdown",
   "metadata": {},
   "source": [
    "If you are comfortable with this data type conversion, you are ready to go!\n",
    "\n",
    "----\n",
    "## 3. Import Networks from various data sources\n",
    "There are many ways to load networks into Cytoscape from REST API:\n",
    "\n",
    "* Load from files\n",
    "* Load from web services\n",
    "* Send Cytoscape.js style JSON directly to Cytoscape\n",
    "* Send edgelist\n",
    "\n",
    "### 3.1 Create networks from local files and URLs\n",
    "\n",
    "Let's start from a simple file loading examples.  The __POST__ method is used to create new Cytoscape objects.  For example,\n",
    "\n",
    "```bash\n",
    "POST http://localhost:1234/v1/networks\n",
    "```\n",
    "\n",
    "means create new network(s) by specified method.  If you want to create networks from files on your machine or remote servers, all you need to do is create a list of file locations and post it to Cytoscape."
   ]
  },
  {
   "cell_type": "code",
   "execution_count": 6,
   "metadata": {
    "collapsed": false
   },
   "outputs": [
    {
     "name": "stdout",
     "output_type": "stream",
     "text": [
      "Target Local File = file:///notebooks/basic/sample_data/yeast.json\n"
     ]
    }
   ],
   "source": [
    "# Small utility function to create networks from list of URLs\n",
    "def create_from_list(network_list):\n",
    "    server_res = requests.post(BASE + 'networks?source=url&collection=Yeast Collection', data=json.dumps(network_list), headers=HEADERS)\n",
    "    return server_res.json()\n",
    "\n",
    "# This is not necessary if you directly specify absolute file path like \"/Users/foo/bar/sample_data/yeast.json\"\n",
    "import os\n",
    "filepath = os.path.abspath('sample_data/yeast.json')\n",
    "\n",
    "import platform\n",
    "if platform.system() != 'Windows':\n",
    "    filepath = 'file://' + filepath  \n",
    "\n",
    "print('Target Local File = ' + filepath)"
   ]
  },
  {
   "cell_type": "markdown",
   "metadata": {},
   "source": [
    "## If you do understand what this code means, uncomment the line _filepath_.  Otherwise, don't try.  You need to know how to specify local file location as URL."
   ]
  },
  {
   "cell_type": "code",
   "execution_count": 7,
   "metadata": {
    "collapsed": false
   },
   "outputs": [
    {
     "name": "stdout",
     "output_type": "stream",
     "text": [
      "[\n",
      "    {\n",
      "        \"source\": \"http://chianti.ucsd.edu/cytoscape-data/galFiltered.sif\",\n",
      "        \"networkSUID\": [\n",
      "            52\n",
      "        ]\n",
      "    }\n",
      "]\n"
     ]
    }
   ],
   "source": [
    "# Array of data source. \n",
    "network_files = [\n",
    "    # Local file in this example data directory\n",
    "    # filepath,\n",
    "\n",
    "    # SIF file on a web server\n",
    "    'http://chianti.ucsd.edu/cytoscape-data/galFiltered.sif'\n",
    "    \n",
    "    # And of course, you can add as many files as you need...\n",
    "]\n",
    "\n",
    "# Create!\n",
    "print(json.dumps(create_from_list(network_files), indent=4))"
   ]
  },
  {
   "cell_type": "markdown",
   "metadata": {},
   "source": [
    "### 3.2 Create networks from public RESTful web services\n",
    "There are many public network data services.  If the service supports Cytoscape-readable file formats, you can specify the query URL as a network location.  For example, the following URL calls [PSICQUIC](https://code.google.com/p/psicquic/) web service and returns the search result in PSIMI 2.5 XML format.  Since Cytoscape supports PSIMI2.5 files by default, this automatically creates a network from the response from the web service. "
   ]
  },
  {
   "cell_type": "code",
   "execution_count": 8,
   "metadata": {
    "collapsed": false
   },
   "outputs": [
    {
     "name": "stdout",
     "output_type": "stream",
     "text": [
      "[\n",
      "    {\n",
      "        \"source\": \"http://www.ebi.ac.uk/Tools/webservices/psicquic/intact/webservices/current/search/query/brca1?format=xml25\",\n",
      "        \"networkSUID\": [\n",
      "            1466\n",
      "        ]\n",
      "    }\n",
      "]\n"
     ]
    }
   ],
   "source": [
    "# This may take a while because Cytoscape fetch the data from a server in UK...\n",
    "queries = [ 'http://www.ebi.ac.uk/Tools/webservices/psicquic/intact/webservices/current/search/query/brca1?format=xml25' ]\n",
    "print(json.dumps(create_from_list(queries), indent=4))"
   ]
  },
  {
   "cell_type": "markdown",
   "metadata": {},
   "source": [
    "And of course, you can mix local files, URLs, and list of web service queries in a same list:"
   ]
  },
  {
   "cell_type": "code",
   "execution_count": 9,
   "metadata": {
    "collapsed": false
   },
   "outputs": [
    {
     "name": "stdout",
     "output_type": "stream",
     "text": [
      "[\n",
      "    {\n",
      "        \"source\": \"http://chianti.ucsd.edu/cytoscape-data/galFiltered.sif\",\n",
      "        \"networkSUID\": [\n",
      "            3038\n",
      "        ]\n",
      "    }\n",
      "]\n"
     ]
    }
   ],
   "source": [
    "mixed = [\n",
    "    #'file://' + filepath,\n",
    "    'http://chianti.ucsd.edu/cytoscape-data/galFiltered.sif',\n",
    "    \n",
    "    # Uncomment the line below if you have fast internet connection\n",
    "    #'http://www.ebi.ac.uk/Tools/webservices/psicquic/intact/webservices/current/search/query/brca2?format=xml25'\n",
    "]\n",
    "print(json.dumps(create_from_list(mixed), indent=4))"
   ]
  },
  {
   "cell_type": "markdown",
   "metadata": {},
   "source": [
    "### 3.3 Create networks from Python objects\n",
    "And this is the most powerful feature in Cytoscape REST API.  __You can easily convert Python objects into Cytoscape networks, tables, or Visual Styles__\n",
    "\n",
    "#### How does this work?\n",
    "Cytoscape REST API sends and receives data as JSON.  For networks, it uses [Cytoscape.js style JSON](http://cytoscape.github.io/cytoscape.js/) (support for more file formats are comming!).  You can programmatically generates networks by converting Python dictionary into JSON.\n",
    "\n",
    "#### 3.3.1 Prepare Network as Cytoscape.js JSON\n",
    "Let's start with the simplest network JSON:"
   ]
  },
  {
   "cell_type": "code",
   "execution_count": 10,
   "metadata": {
    "collapsed": false
   },
   "outputs": [
    {
     "name": "stdout",
     "output_type": "stream",
     "text": [
      "Empty network has SUID 4452\n"
     ]
    }
   ],
   "source": [
    "# Start from a clean slate: remove all networks from current session\n",
    "requests.delete(BASE + 'networks')\n",
    "\n",
    "# Manually generates JSON as dictionary\n",
    "\n",
    "empty_network = {\n",
    "        'data': {\n",
    "            'name': 'I\\'m empty!'\n",
    "        },\n",
    "        'elements': {\n",
    "            'nodes':[],\n",
    "            'edges':[]\n",
    "        }\n",
    "}\n",
    "\n",
    "res = requests.post(BASE + 'networks?collection=My%20Collection', data=json.dumps(empty_network), headers=HEADERS) \n",
    "net_suid = res.json()['networkSUID']\n",
    "print('Empty network has SUID ' + str(net_suid))"
   ]
  },
  {
   "cell_type": "markdown",
   "metadata": {},
   "source": [
    "Since it's a simple Python dictionary, it is easy to add data to the network.  Let's add some nodes and edges:"
   ]
  },
  {
   "cell_type": "code",
   "execution_count": 11,
   "metadata": {
    "collapsed": false
   },
   "outputs": [
    {
     "data": {
      "text/plain": [
       "<Response [200]>"
      ]
     },
     "execution_count": 11,
     "metadata": {},
     "output_type": "execute_result"
    }
   ],
   "source": [
    "import copy\n",
    "\n",
    "# Create a copy of the empty network object\n",
    "small_network = copy.deepcopy(empty_network)\n",
    "\n",
    "# Sequence of letters (a-z)\n",
    "seq_letters = list(map(chr, range(ord('a'), ord('z')+1)))\n",
    "\n",
    "# Build nodes and edges (in functional way)\n",
    "build_node = lambda x: {'data': { 'id': x }}\n",
    "abc_nodes = list(map(build_node, seq_letters))\n",
    "\n",
    "build_edge = lambda x: {'data': { 'source': x, 'target': 'a' }}\n",
    "rand_edges = list(map(build_edge, seq_letters))\n",
    "\n",
    "small_network['elements']['nodes'] = abc_nodes\n",
    "small_network['elements']['edges'] = rand_edges\n",
    "small_network['data']['name'] = 'A is the hub.'\n",
    "\n",
    "# Uncomment this if you want to see the actual JSON object\n",
    "#print(json.dumps(small_network, indent=4))\n",
    "\n",
    "res = requests.post(BASE + 'networks?collection=My%20Collection', data=json.dumps(small_network), headers=HEADERS)\n",
    "res_dict = res.json()\n",
    "new_suid = res_dict['networkSUID']\n",
    "\n",
    "# Apply layout\n",
    "requests.get(BASE + 'apply/layouts/force-directed/' + str(new_suid))"
   ]
  },
  {
   "cell_type": "markdown",
   "metadata": {},
   "source": [
    "It's simple, isn't it?\n",
    "\n",
    "### Embed images in IPython Notebook\n",
    "cyRest has function to generate PNG image directly from current network view.  Let's try to see the result in this notebook."
   ]
  },
  {
   "cell_type": "code",
   "execution_count": 12,
   "metadata": {
    "collapsed": false
   },
   "outputs": [
    {
     "data": {
      "image/png": "[encoded data removed]",
      "text/plain": [
       "<IPython.core.display.Image object>"
      ]
     },
     "execution_count": 12,
     "metadata": {},
     "output_type": "execute_result"
    }
   ],
   "source": [
    "from IPython.display import Image\n",
    "Image(url=BASE+'networks/' + str(new_suid) + '/views/first.png', embed=True)"
   ]
  },
  {
   "cell_type": "markdown",
   "metadata": {},
   "source": [
    "#### 3.3.2 Prepare Network as edgelist\n",
    "Edgelist is a minimalistic data format for networks and it is widely used in popular libraries including NetworkX and igraph.  Preparing edgelist in Python is straightforward.  You just need to prepare a list of edges as string like:\n",
    "\n",
    "```\n",
    "a b\n",
    "b c\n",
    "a c\n",
    "```\n",
    "\n",
    "In Python, there are many ways to generate string like this.  Here is a naive approach:"
   ]
  },
  {
   "cell_type": "code",
   "execution_count": 13,
   "metadata": {
    "collapsed": false
   },
   "outputs": [
    {
     "data": {
      "image/png": "[encoded data removed]",
      "text/plain": [
       "<IPython.core.display.Image object>"
      ]
     },
     "execution_count": 13,
     "metadata": {},
     "output_type": "execute_result"
    }
   ],
   "source": [
    "numbers = range(1,101)\n",
    "el_builder = lambda x:  str(x) + '\\t' + str(1) if x is 100 else str(x) + '\\t' + str(x+1) + '\\n'\n",
    "\n",
    "el = list(map(el_builder, numbers))\n",
    "\n",
    "edgelist = ''.join(el)\n",
    "\n",
    "res = requests.post(BASE + 'networks?format=edgelist&collection=Ring', data=edgelist, headers=HEADERS)\n",
    "\n",
    "res_dict = res.json()\n",
    "circle_suid = res_dict['networkSUID']\n",
    "requests.get(BASE + 'apply/layouts/circular/' + str(circle_suid))\n",
    "\n",
    "Image(url=BASE+'networks/' + str(circle_suid) + '/views/first.png', embed=True)"
   ]
  },
  {
   "cell_type": "markdown",
   "metadata": {},
   "source": [
    "## Discussion\n",
    "In this section, we've learned how to generate networks programmatically from Python.  But for real world problems, it is not a good idea to use low level Python objects to generate networks because there are lots of cool libraries such as NetworkX or igraph.  In the next session, let's use those to analyze real network data and visualize them in Cytoscape.\n",
    "\n",
    "----\n",
    "[Back to Index](../index.ipynb)"
   ]
  }
 ],
 "metadata": {
  "kernelspec": {
   "display_name": "Python 3",
   "language": "python",
   "name": "python3"
  },
  "language_info": {
   "codemirror_mode": {
    "name": "ipython",
    "version": 3
   },
   "file_extension": ".py",
   "mimetype": "text/x-python",
   "name": "python",
   "nbconvert_exporter": "python",
   "pygments_lexer": "ipython3",
   "version": "3.4.0"
  }
 },
 "nbformat": 4,
 "nbformat_minor": 0
}
