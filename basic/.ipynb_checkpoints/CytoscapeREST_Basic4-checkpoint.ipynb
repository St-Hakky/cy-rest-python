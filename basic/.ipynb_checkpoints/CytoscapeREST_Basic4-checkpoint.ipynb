{
 "metadata": {
  "name": "",
  "signature": "sha256:efa6bb76edd3edf4a5536a57ddc00780989f489a1282431b01c8e5aca3034982"
 },
 "nbformat": 3,
 "nbformat_minor": 0,
 "worksheets": [
  {
   "cells": [
    {
     "cell_type": "markdown",
     "metadata": {},
     "source": [
      "## Manipulating table data"
     ]
    }
   ],
   "metadata": {}
  }
 ]
}