{
 "cells": [
  {
   "cell_type": "markdown",
   "metadata": {},
   "source": [
    "# Import KEGG Pathways from Web Service\n",
    "\n",
    "This example demonstrates how to use external web services with Cytoscape.  As an example, we will use [KEGG REST API](http://www.kegg.jp/kegg/docs/keggapi.html).\n",
    "\n",
    "## Requirments\n",
    "In addition to basic cyREST setup, you need to install the following Cytoscpae App to run this workflow:\n",
    "\n",
    "* [KEGGScape 0.7.x](http://apps.cytoscape.org/apps/keggscape)\n",
    "\n",
    "\n",
    "## Input and Output\n",
    "\n",
    "* Input - Disease name\n",
    "* Output - Cytoscape session file containing all KEGG pathways known to be related to the disease."
   ]
  },
  {
   "cell_type": "code",
   "execution_count": 7,
   "metadata": {
    "collapsed": false
   },
   "outputs": [
    {
     "data": {
      "text/plain": [
       "<Response [200]>"
      ]
     },
     "execution_count": 7,
     "metadata": {},
     "output_type": "execute_result"
    }
   ],
   "source": [
    "import requests\n",
    "import json\n",
    "import pandas as pd\n",
    "import io\n",
    "from IPython.display import Image\n",
    "\n",
    "# Basic Setup\n",
    "PORT_NUMBER = 1234\n",
    "BASE = 'http://localhost:' + str(PORT_NUMBER) + '/v1/'\n",
    "\n",
    "# KEGG API URL\n",
    "KEGG_API_URL = 'http://rest.kegg.jp/'\n",
    "\n",
    "# Header for posting data to the server as JSON\n",
    "HEADERS = {'Content-Type': 'application/json'}\n",
    "\n",
    "# Delete all networks in current session\n",
    "requests.delete(BASE + 'session')"
   ]
  },
  {
   "cell_type": "markdown",
   "metadata": {},
   "source": [
    "## Get list of entries from KEGG Disease database about cancer"
   ]
  },
  {
   "cell_type": "code",
   "execution_count": 8,
   "metadata": {
    "collapsed": false
   },
   "outputs": [
    {
     "data": {
      "text/html": [
       "<div>\n",
       "<table border=\"1\" class=\"dataframe\">\n",
       "  <thead>\n",
       "    <tr style=\"text-align: right;\">\n",
       "      <th></th>\n",
       "      <th>id</th>\n",
       "      <th>name</th>\n",
       "    </tr>\n",
       "  </thead>\n",
       "  <tbody>\n",
       "    <tr>\n",
       "      <th>0</th>\n",
       "      <td>ds:H00013</td>\n",
       "      <td>Small cell lung cancer</td>\n",
       "    </tr>\n",
       "    <tr>\n",
       "      <th>1</th>\n",
       "      <td>ds:H00014</td>\n",
       "      <td>Non-small cell lung cancer</td>\n",
       "    </tr>\n",
       "    <tr>\n",
       "      <th>2</th>\n",
       "      <td>ds:H00016</td>\n",
       "      <td>Oral cancer</td>\n",
       "    </tr>\n",
       "    <tr>\n",
       "      <th>3</th>\n",
       "      <td>ds:H00017</td>\n",
       "      <td>Esophageal cancer</td>\n",
       "    </tr>\n",
       "    <tr>\n",
       "      <th>4</th>\n",
       "      <td>ds:H00018</td>\n",
       "      <td>Gastric cancer</td>\n",
       "    </tr>\n",
       "    <tr>\n",
       "      <th>5</th>\n",
       "      <td>ds:H00019</td>\n",
       "      <td>Pancreatic cancer</td>\n",
       "    </tr>\n",
       "    <tr>\n",
       "      <th>6</th>\n",
       "      <td>ds:H00020</td>\n",
       "      <td>Colorectal cancer</td>\n",
       "    </tr>\n",
       "    <tr>\n",
       "      <th>7</th>\n",
       "      <td>ds:H00022</td>\n",
       "      <td>Bladder cancer</td>\n",
       "    </tr>\n",
       "    <tr>\n",
       "      <th>8</th>\n",
       "      <td>ds:H00023</td>\n",
       "      <td>Testicular cancer</td>\n",
       "    </tr>\n",
       "    <tr>\n",
       "      <th>9</th>\n",
       "      <td>ds:H00024</td>\n",
       "      <td>Prostate cancer</td>\n",
       "    </tr>\n",
       "    <tr>\n",
       "      <th>10</th>\n",
       "      <td>ds:H00025</td>\n",
       "      <td>Penile cancer</td>\n",
       "    </tr>\n",
       "    <tr>\n",
       "      <th>11</th>\n",
       "      <td>ds:H00026</td>\n",
       "      <td>Endometrial Cancer</td>\n",
       "    </tr>\n",
       "    <tr>\n",
       "      <th>12</th>\n",
       "      <td>ds:H00027</td>\n",
       "      <td>Ovarian cancer</td>\n",
       "    </tr>\n",
       "    <tr>\n",
       "      <th>13</th>\n",
       "      <td>ds:H00029</td>\n",
       "      <td>Vulvar cancer</td>\n",
       "    </tr>\n",
       "    <tr>\n",
       "      <th>14</th>\n",
       "      <td>ds:H00030</td>\n",
       "      <td>Cervical cancer</td>\n",
       "    </tr>\n",
       "    <tr>\n",
       "      <th>15</th>\n",
       "      <td>ds:H00031</td>\n",
       "      <td>Breast cancer</td>\n",
       "    </tr>\n",
       "    <tr>\n",
       "      <th>16</th>\n",
       "      <td>ds:H00032</td>\n",
       "      <td>Thyroid cancer</td>\n",
       "    </tr>\n",
       "    <tr>\n",
       "      <th>17</th>\n",
       "      <td>ds:H00044</td>\n",
       "      <td>Cancer of the anal canal</td>\n",
       "    </tr>\n",
       "    <tr>\n",
       "      <th>18</th>\n",
       "      <td>ds:H00047</td>\n",
       "      <td>Gallbladder cancer</td>\n",
       "    </tr>\n",
       "    <tr>\n",
       "      <th>19</th>\n",
       "      <td>ds:H00054</td>\n",
       "      <td>Nasopharyngeal cancer</td>\n",
       "    </tr>\n",
       "    <tr>\n",
       "      <th>20</th>\n",
       "      <td>ds:H00055</td>\n",
       "      <td>Laryngeal cancer</td>\n",
       "    </tr>\n",
       "    <tr>\n",
       "      <th>21</th>\n",
       "      <td>ds:H00857</td>\n",
       "      <td>Oligodontia-colorectal cancer syndrome</td>\n",
       "    </tr>\n",
       "    <tr>\n",
       "      <th>22</th>\n",
       "      <td>ds:H00876</td>\n",
       "      <td>Mismatch repair deficiency, including: Heredit...</td>\n",
       "    </tr>\n",
       "  </tbody>\n",
       "</table>\n",
       "</div>"
      ],
      "text/plain": [
       "           id                                               name\n",
       "0   ds:H00013                             Small cell lung cancer\n",
       "1   ds:H00014                         Non-small cell lung cancer\n",
       "2   ds:H00016                                        Oral cancer\n",
       "3   ds:H00017                                  Esophageal cancer\n",
       "4   ds:H00018                                     Gastric cancer\n",
       "5   ds:H00019                                  Pancreatic cancer\n",
       "6   ds:H00020                                  Colorectal cancer\n",
       "7   ds:H00022                                     Bladder cancer\n",
       "8   ds:H00023                                  Testicular cancer\n",
       "9   ds:H00024                                    Prostate cancer\n",
       "10  ds:H00025                                      Penile cancer\n",
       "11  ds:H00026                                 Endometrial Cancer\n",
       "12  ds:H00027                                     Ovarian cancer\n",
       "13  ds:H00029                                      Vulvar cancer\n",
       "14  ds:H00030                                    Cervical cancer\n",
       "15  ds:H00031                                      Breast cancer\n",
       "16  ds:H00032                                     Thyroid cancer\n",
       "17  ds:H00044                           Cancer of the anal canal\n",
       "18  ds:H00047                                 Gallbladder cancer\n",
       "19  ds:H00054                              Nasopharyngeal cancer\n",
       "20  ds:H00055                                   Laryngeal cancer\n",
       "21  ds:H00857             Oligodontia-colorectal cancer syndrome\n",
       "22  ds:H00876  Mismatch repair deficiency, including: Heredit..."
      ]
     },
     "execution_count": 8,
     "metadata": {},
     "output_type": "execute_result"
    }
   ],
   "source": [
    "# Find information about cancer from KEGG disease database.\n",
    "query = 'cancer'\n",
    "\n",
    "res = requests.get(KEGG_API_URL + '/find/disease/' + query)\n",
    "pathway_list = res.content.decode('utf8')\n",
    "\n",
    "disease_df = pd.read_csv(io.StringIO(pathway_list), delimiter='\\t',  header=None, names=['id', 'name'])\n",
    "disease_df"
   ]
  },
  {
   "cell_type": "markdown",
   "metadata": {},
   "source": [
    "## Piping the result to KEGG Pathway database to get list of related pathways"
   ]
  },
  {
   "cell_type": "code",
   "execution_count": 9,
   "metadata": {
    "collapsed": false
   },
   "outputs": [],
   "source": [
    "disease_ids = disease_df['id']\n",
    "disease_urls = disease_ids.apply(lambda x: KEGG_API_URL + 'get/' + x)\n",
    "\n",
    "def disease_parser(entry):\n",
    "    lines = entry.split('\\n')\n",
    "    data = {}\n",
    "    \n",
    "    last_key = None\n",
    "    for line in lines:\n",
    "        if '///' in line:\n",
    "            return data\n",
    "        \n",
    "        parts = line.split(' ')\n",
    "        if parts[0] is not None and len(parts[0]) != 0:\n",
    "            last_key = parts[0]\n",
    "            data[parts[0]] = line.replace(parts[0], '').strip()\n",
    "        else:\n",
    "            last_val = data[last_key]\n",
    "            data[last_key] = last_val + '|' + line.strip()\n",
    "    return data   \n",
    "\n",
    "result = []\n",
    "for url in disease_urls:\n",
    "        res = requests.get(url)\n",
    "        rows = disease_parser(res.content)\n",
    "        result.append(rows)"
   ]
  },
  {
   "cell_type": "code",
   "execution_count": 10,
   "metadata": {
    "collapsed": false
   },
   "outputs": [],
   "source": [
    "disease_df = pd.DataFrame(result)\n",
    "pathways = disease_df['PATHWAY'].dropna().unique()\n",
    "\n",
    "p_urls = []\n",
    "for pathway in pathways:\n",
    "    entries = pathway.split('|')\n",
    "    for en in entries:\n",
    "        url = KEGG_API_URL + 'get/' + en.split(' ')[0].split('(')[0] + '/kgml'\n",
    "        p_urls.append(url)"
   ]
  },
  {
   "cell_type": "markdown",
   "metadata": {},
   "source": [
    "## Import all pathways directly into Cytoscape"
   ]
  },
  {
   "cell_type": "code",
   "execution_count": 11,
   "metadata": {
    "collapsed": false
   },
   "outputs": [],
   "source": [
    "def create_from_list(network_list):\n",
    "    server_res = requests.post(BASE + 'networks?source=url&collection=' + query, data=json.dumps(network_list), headers=HEADERS)\n",
    "    return server_res.json()\n",
    "\n",
    "url_list = list(set(p_urls))\n",
    "pathway_suids = create_from_list(url_list)"
   ]
  },
  {
   "cell_type": "markdown",
   "metadata": {},
   "source": [
    "### Result\n",
    "In your Cytoscape window, you can see the pathway diagrams as interactive Cytoscape view:\n",
    "\n",
    "![](http://chianti.ucsd.edu/~kono/images/python_kegg_workflow.png)"
   ]
  },
  {
   "cell_type": "markdown",
   "metadata": {},
   "source": [
    "## Embed the result as Cytoscape.js Widget\n",
    "py2cytoscape has utility to visualize any Cytoscape network as an embedded widget.  You can do it with few lines of code:"
   ]
  },
  {
   "cell_type": "code",
   "execution_count": 12,
   "metadata": {
    "collapsed": false
   },
   "outputs": [
    {
     "data": {
      "text/html": [
       "<!DOCTYPE html>\n",
       "<html>\n",
       "\n",
       "<head>\n",
       "    <meta charset=utf-8 />\n",
       "    <style type=\"text/css\">\n",
       "      body {\n",
       "          font: 14px helvetica neue, helvetica, arial, sans-serif;\n",
       "      }\n",
       "\n",
       "      #cy6d68d012-7d68-417c-9cd4-a41992017080 {\n",
       "        height: 700px;\n",
       "        width: 1098px;\n",
       "        position: absolute;\n",
       "        left: 4px;\n",
       "        top: 5px;\n",
       "        background: white;\n",
       "      }\n",
       "    </style>\n",
       "\n",
       "    <script>\n",
       "    (function() {\n",
       "      function render() {\n",
       "        $('#cy6d68d012-7d68-417c-9cd4-a41992017080').cytoscape({\n",
       "            elements: {\n",
       "                nodes: [{\"position\": {\"y\": 247.0, \"x\": 487.0}, \"selected\": false, \"data\": {\"KEGG_NODE_SHAPE\": \"rectangle\", \"KEGG_NODE_HEIGHT\": \"48\", \"KEGG_NODE_FILL_COLOR\": \"#FFFFFF\", \"name\": \"container\", \"SUID\": 324, \"selected\": false, \"KEGG_NODE_TYPE\": \"group\", \"KEGG_NODE_WIDTH\": \"59\", \"KEGG_NODE_Y\": \"247\", \"KEGG_NODE_X\": \"487\", \"shared_name\": \"container\", \"id\": \"324\"}}, {\"position\": {\"y\": 142.0, \"x\": 956.0}, \"selected\": false, \"data\": {\"KEGG_NODE_SHAPE\": \"rectangle\", \"KEGG_NODE_HEIGHT\": \"36\", \"KEGG_NODE_FILL_COLOR\": \"#FFFFFF\", \"name\": \"container\", \"SUID\": 323, \"selected\": false, \"KEGG_NODE_TYPE\": \"group\", \"KEGG_NODE_WIDTH\": \"48\", \"KEGG_NODE_Y\": \"142\", \"KEGG_NODE_X\": \"956\", \"shared_name\": \"container\", \"id\": \"323\"}}, {\"position\": {\"y\": 278.0, \"x\": 996.0}, \"selected\": false, \"data\": {\"KEGG_NODE_SHAPE\": \"rectangle\", \"KEGG_NODE_HEIGHT\": \"36\", \"KEGG_NODE_FILL_COLOR\": \"#FFFFFF\", \"name\": \"container\", \"SUID\": 322, \"selected\": false, \"KEGG_NODE_TYPE\": \"group\", \"KEGG_NODE_WIDTH\": \"48\", \"KEGG_NODE_Y\": \"278\", \"KEGG_NODE_X\": \"996\", \"shared_name\": \"container\", \"id\": \"322\"}}, {\"position\": {\"y\": 655.0, \"x\": 428.0}, \"selected\": false, \"data\": {\"KEGG_LINK\": \"http://www.kegg.jp/dbget-bin/www_bget?hsa:238+hsa:27436\", \"KEGG_NODE_HEIGHT\": \"17\", \"selected\": false, \"KEGG_NODE_LABEL_LIST_FIRST\": \"ALK\", \"name\": \"path:hsa05223:54\", \"SUID\": 321, \"KEGG_ID\": [\"hsa:238\", \"hsa:27436\"], \"KEGG_NODE_LABEL_COLOR\": \"#000000\", \"KEGG_NODE_TYPE\": \"gene\", \"KEGG_NODE_LABEL\": \"ALK, CD246, NBLST3...\", \"KEGG_NODE_WIDTH\": \"46\", \"KEGG_NODE_SHAPE\": \"rectangle\", \"KEGG_NODE_FILL_COLOR\": \"#BFFFBF\", \"KEGG_NODE_Y\": \"655\", \"KEGG_NODE_X\": \"428\", \"shared_name\": \"path:hsa05223:54\", \"id\": \"321\", \"KEGG_NODE_LABEL_LIST\": [\"ALK\", \"CD246\", \"NBLST3...\"]}}, {\"position\": {\"y\": 588.0, \"x\": 818.0}, \"selected\": false, \"data\": {\"KEGG_LINK\": \"http://www.kegg.jp/dbget-bin/www_bget?hsa04151\", \"KEGG_NODE_HEIGHT\": \"34\", \"selected\": false, \"KEGG_NODE_LABEL_LIST_FIRST\": \"PI3K-Akt signaling pathway\", \"name\": \"path:hsa05223:53\", \"SUID\": 320, \"KEGG_ID\": [\"path:hsa04151\"], \"KEGG_NODE_LABEL_COLOR\": \"#000000\", \"KEGG_NODE_TYPE\": \"map\", \"KEGG_NODE_LABEL\": \"PI3K-Akt signaling pathway\", \"KEGG_NODE_WIDTH\": \"104\", \"KEGG_NODE_SHAPE\": \"roundrectangle\", \"KEGG_NODE_FILL_COLOR\": \"#89b9cE\", \"KEGG_NODE_Y\": \"588\", \"KEGG_NODE_X\": \"818\", \"shared_name\": \"path:hsa05223:53\", \"id\": \"320\", \"KEGG_NODE_LABEL_LIST\": [\"PI3K-Akt signaling pathway\"]}}, {\"position\": {\"y\": 588.0, \"x\": 375.0}, \"selected\": false, \"data\": {\"KEGG_LINK\": \"http://www.kegg.jp/dbget-bin/www_bget?hsa04012\", \"KEGG_NODE_HEIGHT\": \"34\", \"selected\": false, \"KEGG_NODE_LABEL_LIST_FIRST\": \"ErbB signaling pathway\", \"name\": \"path:hsa05223:52\", \"SUID\": 319, \"KEGG_ID\": [\"path:hsa04012\"], \"KEGG_NODE_LABEL_COLOR\": \"#000000\", \"KEGG_NODE_TYPE\": \"map\", \"KEGG_NODE_LABEL\": \"ErbB signaling pathway\", \"KEGG_NODE_WIDTH\": \"104\", \"KEGG_NODE_SHAPE\": \"roundrectangle\", \"KEGG_NODE_FILL_COLOR\": \"#89b9cE\", \"KEGG_NODE_Y\": \"588\", \"KEGG_NODE_X\": \"375\", \"shared_name\": \"path:hsa05223:52\", \"id\": \"319\", \"KEGG_NODE_LABEL_LIST\": [\"ErbB signaling pathway\"]}}, {\"position\": {\"y\": 433.0, \"x\": 781.0}, \"selected\": false, \"data\": {\"KEGG_LINK\": \"http://www.kegg.jp/dbget-bin/www_bget?hsa04010\", \"KEGG_NODE_HEIGHT\": \"34\", \"selected\": false, \"KEGG_NODE_LABEL_LIST_FIRST\": \"MAPK signaling pathway\", \"name\": \"path:hsa05223:51\", \"SUID\": 318, \"KEGG_ID\": [\"path:hsa04010\"], \"KEGG_NODE_LABEL_COLOR\": \"#000000\", \"KEGG_NODE_TYPE\": \"map\", \"KEGG_NODE_LABEL\": \"MAPK signaling pathway\", \"KEGG_NODE_WIDTH\": \"104\", \"KEGG_NODE_SHAPE\": \"roundrectangle\", \"KEGG_NODE_FILL_COLOR\": \"#89b9cE\", \"KEGG_NODE_Y\": \"433\", \"KEGG_NODE_X\": \"781\", \"shared_name\": \"path:hsa05223:51\", \"id\": \"318\", \"KEGG_NODE_LABEL_LIST\": [\"MAPK signaling pathway\"]}}, {\"position\": {\"y\": 483.0, \"x\": 703.0}, \"selected\": false, \"data\": {\"KEGG_LINK\": \"http://www.kegg.jp/dbget-bin/www_bget?hsa04020\", \"KEGG_NODE_HEIGHT\": \"34\", \"selected\": false, \"KEGG_NODE_LABEL_LIST_FIRST\": \"Calcium signaling pathway\", \"name\": \"path:hsa05223:50\", \"SUID\": 317, \"KEGG_ID\": [\"path:hsa04020\"], \"KEGG_NODE_LABEL_COLOR\": \"#000000\", \"KEGG_NODE_TYPE\": \"map\", \"KEGG_NODE_LABEL\": \"Calcium signaling pathway\", \"KEGG_NODE_WIDTH\": \"104\", \"KEGG_NODE_SHAPE\": \"roundrectangle\", \"KEGG_NODE_FILL_COLOR\": \"#89b9cE\", \"KEGG_NODE_Y\": \"483\", \"KEGG_NODE_X\": \"703\", \"shared_name\": \"path:hsa05223:50\", \"id\": \"317\", \"KEGG_NODE_LABEL_LIST\": [\"Calcium signaling pathway\"]}}, {\"position\": {\"y\": 614.0, \"x\": 1076.0}, \"selected\": false, \"data\": {\"KEGG_LINK\": \"http://www.kegg.jp/dbget-bin/www_bget?hsa04110\", \"KEGG_NODE_HEIGHT\": \"34\", \"selected\": false, \"KEGG_NODE_LABEL_LIST_FIRST\": \"Cell cycle\", \"name\": \"path:hsa05223:49\", \"SUID\": 316, \"KEGG_ID\": [\"path:hsa04110\"], \"KEGG_NODE_LABEL_COLOR\": \"#000000\", \"KEGG_NODE_TYPE\": \"map\", \"KEGG_NODE_LABEL\": \"Cell cycle\", \"KEGG_NODE_WIDTH\": \"104\", \"KEGG_NODE_SHAPE\": \"roundrectangle\", \"KEGG_NODE_FILL_COLOR\": \"#89b9cE\", \"KEGG_NODE_Y\": \"614\", \"KEGG_NODE_X\": \"1076\", \"shared_name\": \"path:hsa05223:49\", \"id\": \"316\", \"KEGG_NODE_LABEL_LIST\": [\"Cell cycle\"]}}, {\"position\": {\"y\": 555.0, \"x\": 1076.0}, \"selected\": false, \"data\": {\"KEGG_LINK\": \"http://www.kegg.jp/dbget-bin/www_bget?hsa04115\", \"KEGG_NODE_HEIGHT\": \"34\", \"selected\": false, \"KEGG_NODE_LABEL_LIST_FIRST\": \"p53 signaling pathway\", \"name\": \"path:hsa05223:48\", \"SUID\": 315, \"KEGG_ID\": [\"path:hsa04115\"], \"KEGG_NODE_LABEL_COLOR\": \"#000000\", \"KEGG_NODE_TYPE\": \"map\", \"KEGG_NODE_LABEL\": \"p53 signaling pathway\", \"KEGG_NODE_WIDTH\": \"104\", \"KEGG_NODE_SHAPE\": \"roundrectangle\", \"KEGG_NODE_FILL_COLOR\": \"#89b9cE\", \"KEGG_NODE_Y\": \"555\", \"KEGG_NODE_X\": \"1076\", \"shared_name\": \"path:hsa05223:48\", \"id\": \"315\", \"KEGG_NODE_LABEL_LIST\": [\"p53 signaling pathway\"]}}, {\"position\": {\"y\": 229.0, \"x\": 1076.0}, \"selected\": false, \"data\": {\"KEGG_LINK\": \"http://www.kegg.jp/dbget-bin/www_bget?hsa04110\", \"KEGG_NODE_HEIGHT\": \"34\", \"selected\": false, \"KEGG_NODE_LABEL_LIST_FIRST\": \"Cell cycle\", \"name\": \"path:hsa05223:47\", \"SUID\": 314, \"KEGG_ID\": [\"path:hsa04110\"], \"KEGG_NODE_LABEL_COLOR\": \"#000000\", \"KEGG_NODE_TYPE\": \"map\", \"KEGG_NODE_LABEL\": \"Cell cycle\", \"KEGG_NODE_WIDTH\": \"104\", \"KEGG_NODE_SHAPE\": \"roundrectangle\", \"KEGG_NODE_FILL_COLOR\": \"#89b9cE\", \"KEGG_NODE_Y\": \"229\", \"KEGG_NODE_X\": \"1076\", \"shared_name\": \"path:hsa05223:47\", \"id\": \"314\", \"KEGG_NODE_LABEL_LIST\": [\"Cell cycle\"]}}, {\"position\": {\"y\": 324.0, \"x\": 365.0}, \"selected\": false, \"data\": {\"KEGG_LINK\": \"http://www.kegg.jp/dbget-bin/www_bget?hsa:3845\", \"KEGG_NODE_HEIGHT\": \"17\", \"selected\": false, \"KEGG_NODE_LABEL_LIST_FIRST\": \"KRAS\", \"name\": \"path:hsa05223:46\", \"SUID\": 313, \"KEGG_ID\": [\"hsa:3845\"], \"KEGG_NODE_LABEL_COLOR\": \"#000000\", \"KEGG_NODE_TYPE\": \"gene\", \"KEGG_NODE_LABEL\": \"KRAS, C-K-RAS, CFC2, K-RAS2A, K-RAS2B, K-RAS4A, K-RAS4B, KI-RAS, KRAS1, KRAS2, NS, NS3, RASK2\", \"KEGG_NODE_WIDTH\": \"46\", \"KEGG_NODE_SHAPE\": \"rectangle\", \"KEGG_NODE_FILL_COLOR\": \"#BFFFBF\", \"KEGG_NODE_Y\": \"324\", \"KEGG_NODE_X\": \"365\", \"shared_name\": \"path:hsa05223:46\", \"id\": \"313\", \"KEGG_NODE_LABEL_LIST\": [\"KRAS\", \"C-K-RAS\", \"CFC2\", \"K-RAS2A\", \"K-RAS2B\", \"K-RAS4A\", \"K-RAS4B\", \"KI-RAS\", \"KRAS1\", \"KRAS2\", \"NS\", \"NS3\", \"RASK2\"]}}, {\"position\": {\"y\": 399.0, \"x\": 672.0}, \"selected\": false, \"data\": {\"KEGG_LINK\": \"http://www.kegg.jp/dbget-bin/www_bget?hsa:369+hsa:5894+hsa:673\", \"KEGG_NODE_HEIGHT\": \"17\", \"selected\": false, \"KEGG_NODE_LABEL_LIST_FIRST\": \"ARAF\", \"name\": \"path:hsa05223:45\", \"SUID\": 312, \"KEGG_ID\": [\"hsa:369\", \"hsa:5894\", \"hsa:673\"], \"KEGG_NODE_LABEL_COLOR\": \"#000000\", \"KEGG_NODE_TYPE\": \"gene\", \"KEGG_NODE_LABEL\": \"ARAF, A-RAF, ARAF1, PKS2, RAFA1...\", \"KEGG_NODE_WIDTH\": \"46\", \"KEGG_NODE_SHAPE\": \"rectangle\", \"KEGG_NODE_FILL_COLOR\": \"#BFFFBF\", \"KEGG_NODE_Y\": \"399\", \"KEGG_NODE_X\": \"672\", \"shared_name\": \"path:hsa05223:45\", \"id\": \"312\", \"KEGG_NODE_LABEL_LIST\": [\"ARAF\", \"A-RAF\", \"ARAF1\", \"PKS2\", \"RAFA1...\"]}}, {\"position\": {\"y\": 399.0, \"x\": 754.0}, \"selected\": false, \"data\": {\"KEGG_LINK\": \"http://www.kegg.jp/dbget-bin/www_bget?hsa:5604+hsa:5605\", \"KEGG_NODE_HEIGHT\": \"17\", \"selected\": false, \"KEGG_NODE_LABEL_LIST_FIRST\": \"MAP2K1\", \"name\": \"path:hsa05223:44\", \"SUID\": 311, \"KEGG_ID\": [\"hsa:5604\", \"hsa:5605\"], \"KEGG_NODE_LABEL_COLOR\": \"#000000\", \"KEGG_NODE_TYPE\": \"gene\", \"KEGG_NODE_LABEL\": \"MAP2K1, CFC3, MAPKK1, MEK1, MKK1, PRKMK1...\", \"KEGG_NODE_WIDTH\": \"46\", \"KEGG_NODE_SHAPE\": \"rectangle\", \"KEGG_NODE_FILL_COLOR\": \"#BFFFBF\", \"KEGG_NODE_Y\": \"399\", \"KEGG_NODE_X\": \"754\", \"shared_name\": \"path:hsa05223:44\", \"id\": \"311\", \"KEGG_NODE_LABEL_LIST\": [\"MAP2K1\", \"CFC3\", \"MAPKK1\", \"MEK1\", \"MKK1\", \"PRKMK1...\"]}}, {\"position\": {\"y\": 399.0, \"x\": 838.0}, \"selected\": false, \"data\": {\"KEGG_LINK\": \"http://www.kegg.jp/dbget-bin/www_bget?hsa:5594+hsa:5595\", \"KEGG_NODE_HEIGHT\": \"17\", \"selected\": false, \"KEGG_NODE_LABEL_LIST_FIRST\": \"MAPK1\", \"name\": \"path:hsa05223:43\", \"SUID\": 310, \"KEGG_ID\": [\"hsa:5594\", \"hsa:5595\"], \"KEGG_NODE_LABEL_COLOR\": \"#000000\", \"KEGG_NODE_TYPE\": \"gene\", \"KEGG_NODE_LABEL\": \"MAPK1, ERK, ERK-2, ERK2, ERT1, MAPK2, P42MAPK, PRKM1, PRKM2, p38, p40, p41, p41mapk, p42-MAPK...\", \"KEGG_NODE_WIDTH\": \"46\", \"KEGG_NODE_SHAPE\": \"rectangle\", \"KEGG_NODE_FILL_COLOR\": \"#BFFFBF\", \"KEGG_NODE_Y\": \"399\", \"KEGG_NODE_X\": \"838\", \"shared_name\": \"path:hsa05223:43\", \"id\": \"310\", \"KEGG_NODE_LABEL_LIST\": [\"MAPK1\", \"ERK\", \"ERK-2\", \"ERK2\", \"ERT1\", \"MAPK2\", \"P42MAPK\", \"PRKM1\", \"PRKM2\", \"p38\", \"p40\", \"p41\", \"p41mapk\", \"p42-MAPK...\"]}}, {\"position\": {\"y\": 58.0, \"x\": 170.0}, \"selected\": false, \"data\": {\"KEGG_LINK\": \"http://www.kegg.jp/dbget-bin/www_bget?hsa05223\", \"KEGG_NODE_HEIGHT\": \"25\", \"selected\": false, \"KEGG_NODE_LABEL_LIST_FIRST\": \"TITLE:Non-small cell lung cancer\", \"name\": \"path:hsa05223:42\", \"SUID\": 309, \"KEGG_ID\": [\"path:hsa05223\"], \"KEGG_NODE_LABEL_COLOR\": \"#000000\", \"KEGG_NODE_TYPE\": \"map\", \"KEGG_NODE_LABEL\": \"TITLE:Non-small cell lung cancer\", \"KEGG_NODE_WIDTH\": \"260\", \"KEGG_NODE_SHAPE\": \"roundrectangle\", \"KEGG_NODE_FILL_COLOR\": \"#f5f5f5\", \"KEGG_NODE_Y\": \"58\", \"KEGG_NODE_X\": \"170\", \"shared_name\": \"path:hsa05223:42\", \"id\": \"309\", \"KEGG_NODE_LABEL_LIST\": [\"TITLE:Non-small cell lung cancer\"]}}, {\"position\": {\"y\": 175.0, \"x\": 407.0}, \"selected\": false, \"data\": {\"KEGG_LINK\": \"http://www.kegg.jp/dbget-bin/www_bget?hsa:2272\", \"KEGG_NODE_HEIGHT\": \"17\", \"selected\": false, \"KEGG_NODE_LABEL_LIST_FIRST\": \"FHIT\", \"name\": \"path:hsa05223:41\", \"SUID\": 308, \"KEGG_ID\": [\"hsa:2272\"], \"KEGG_NODE_LABEL_COLOR\": \"#000000\", \"KEGG_NODE_TYPE\": \"gene\", \"KEGG_NODE_LABEL\": \"FHIT, AP3Aase, FRA3B\", \"KEGG_NODE_WIDTH\": \"46\", \"KEGG_NODE_SHAPE\": \"rectangle\", \"KEGG_NODE_FILL_COLOR\": \"#BFFFBF\", \"KEGG_NODE_Y\": \"175\", \"KEGG_NODE_X\": \"407\", \"shared_name\": \"path:hsa05223:41\", \"id\": \"308\", \"KEGG_NODE_LABEL_LIST\": [\"FHIT\", \"AP3Aase\", \"FRA3B\"]}}, {\"position\": {\"y\": 553.0, \"x\": 445.0}, \"selected\": false, \"data\": {\"KEGG_LINK\": \"http://www.kegg.jp/dbget-bin/www_bget?hsa:5290+hsa:5291+hsa:5293+hsa:5294\", \"KEGG_NODE_HEIGHT\": \"17\", \"selected\": false, \"KEGG_NODE_LABEL_LIST_FIRST\": \"PIK3CA\", \"name\": \"path:hsa05223:40\", \"SUID\": 307, \"KEGG_ID\": [\"hsa:5290\", \"hsa:5291\", \"hsa:5293\", \"hsa:5294\"], \"KEGG_NODE_LABEL_COLOR\": \"#000000\", \"KEGG_NODE_TYPE\": \"gene\", \"KEGG_NODE_LABEL\": \"PIK3CA, CLOVE, CWS5, MCAP, MCM, MCMTC, PI3K, p110-alpha...\", \"KEGG_NODE_WIDTH\": \"46\", \"KEGG_NODE_SHAPE\": \"rectangle\", \"KEGG_NODE_FILL_COLOR\": \"#BFFFBF\", \"KEGG_NODE_Y\": \"553\", \"KEGG_NODE_X\": \"445\", \"shared_name\": \"path:hsa05223:40\", \"id\": \"307\", \"KEGG_NODE_LABEL_LIST\": [\"PIK3CA\", \"CLOVE\", \"CWS5\", \"MCAP\", \"MCM\", \"MCMTC\", \"PI3K\", \"p110-alpha...\"]}}, {\"position\": {\"y\": 553.0, \"x\": 635.0}, \"selected\": false, \"data\": {\"KEGG_LINK\": \"http://www.kegg.jp/dbget-bin/www_bget?hsa:10000+hsa:207+hsa:208\", \"KEGG_NODE_HEIGHT\": \"17\", \"selected\": false, \"KEGG_NODE_LABEL_LIST_FIRST\": \"AKT3\", \"name\": \"path:hsa05223:39\", \"SUID\": 306, \"KEGG_ID\": [\"hsa:10000\", \"hsa:207\", \"hsa:208\"], \"KEGG_NODE_LABEL_COLOR\": \"#000000\", \"KEGG_NODE_TYPE\": \"gene\", \"KEGG_NODE_LABEL\": \"AKT3, MPPH, PKB-GAMMA, PKBG, PRKBG, RAC-PK-gamma, RAC-gamma, STK-2...\", \"KEGG_NODE_WIDTH\": \"46\", \"KEGG_NODE_SHAPE\": \"rectangle\", \"KEGG_NODE_FILL_COLOR\": \"#BFFFBF\", \"KEGG_NODE_Y\": \"553\", \"KEGG_NODE_X\": \"635\", \"shared_name\": \"path:hsa05223:39\", \"id\": \"306\", \"KEGG_NODE_LABEL_LIST\": [\"AKT3\", \"MPPH\", \"PKB-GAMMA\", \"PKBG\", \"PRKBG\", \"RAC-PK-gamma\", \"RAC-gamma\", \"STK-2...\"]}}, {\"position\": {\"y\": 243.0, \"x\": 932.0}, \"selected\": false, \"data\": {\"KEGG_LINK\": \"http://www.kegg.jp/dbget-bin/www_bget?hsa:1029\", \"KEGG_NODE_HEIGHT\": \"17\", \"selected\": false, \"KEGG_NODE_LABEL_LIST_FIRST\": \"CDKN2A\", \"name\": \"path:hsa05223:38\", \"SUID\": 305, \"KEGG_ID\": [\"hsa:1029\"], \"KEGG_NODE_LABEL_COLOR\": \"#000000\", \"KEGG_NODE_TYPE\": \"gene\", \"KEGG_NODE_LABEL\": \"CDKN2A, ARF, CDK4I, CDKN2, CMM2, INK4, INK4A, MLM, MTS-1, MTS1, P14, P14ARF, P16, P16-INK4A, P16INK4, P16INK4A, P19, P19ARF, TP16\", \"KEGG_NODE_WIDTH\": \"46\", \"KEGG_NODE_SHAPE\": \"rectangle\", \"KEGG_NODE_FILL_COLOR\": \"#BFFFBF\", \"KEGG_NODE_Y\": \"243\", \"KEGG_NODE_X\": \"932\", \"shared_name\": \"path:hsa05223:38\", \"id\": \"305\", \"KEGG_NODE_LABEL_LIST\": [\"CDKN2A\", \"ARF\", \"CDK4I\", \"CDKN2\", \"CMM2\", \"INK4\", \"INK4A\", \"MLM\", \"MTS-1\", \"MTS1\", \"P14\", \"P14ARF\", \"P16\", \"P16-INK4A\", \"P16INK4\", \"P16INK4A\", \"P19\", \"P19ARF\", \"TP16\"]}}, {\"position\": {\"y\": 399.0, \"x\": 986.0}, \"selected\": false, \"data\": {\"KEGG_LINK\": \"http://www.kegg.jp/dbget-bin/www_bget?hsa:595\", \"KEGG_NODE_HEIGHT\": \"17\", \"selected\": false, \"KEGG_NODE_LABEL_LIST_FIRST\": \"CCND1\", \"name\": \"path:hsa05223:37\", \"SUID\": 304, \"KEGG_ID\": [\"hsa:595\"], \"KEGG_NODE_LABEL_COLOR\": \"#000000\", \"KEGG_NODE_TYPE\": \"gene\", \"KEGG_NODE_LABEL\": \"CCND1, BCL1, D11S287E, PRAD1, U21B31\", \"KEGG_NODE_WIDTH\": \"46\", \"KEGG_NODE_SHAPE\": \"rectangle\", \"KEGG_NODE_FILL_COLOR\": \"#BFFFBF\", \"KEGG_NODE_Y\": \"399\", \"KEGG_NODE_X\": \"986\", \"shared_name\": \"path:hsa05223:37\", \"id\": \"304\", \"KEGG_NODE_LABEL_LIST\": [\"CCND1\", \"BCL1\", \"D11S287E\", \"PRAD1\", \"U21B31\"]}}, {\"position\": {\"y\": 233.0, \"x\": 493.0}, \"selected\": false, \"data\": {\"KEGG_LINK\": \"http://www.kegg.jp/dbget-bin/www_bget?hsa:83593\", \"KEGG_NODE_HEIGHT\": \"17\", \"selected\": false, \"KEGG_NODE_LABEL_LIST_FIRST\": \"RASSF5\", \"name\": \"path:hsa05223:36\", \"SUID\": 303, \"KEGG_ID\": [\"hsa:83593\"], \"KEGG_NODE_LABEL_COLOR\": \"#000000\", \"KEGG_NODE_TYPE\": \"gene\", \"KEGG_NODE_LABEL\": \"RASSF5, Maxp1, NORE1, NORE1A, NORE1B, RAPL, RASSF3\", \"KEGG_NODE_WIDTH\": \"46\", \"KEGG_NODE_SHAPE\": \"rectangle\", \"KEGG_NODE_FILL_COLOR\": \"#BFFFBF\", \"KEGG_NODE_Y\": \"233\", \"KEGG_NODE_X\": \"493\", \"shared_name\": \"path:hsa05223:36\", \"id\": \"303\", \"KEGG_NODE_LABEL_LIST\": [\"RASSF5\", \"Maxp1\", \"NORE1\", \"NORE1A\", \"NORE1B\", \"RAPL\", \"RASSF3\"]}}, {\"position\": {\"y\": 262.0, \"x\": 482.0}, \"selected\": false, \"data\": {\"KEGG_LINK\": \"http://www.kegg.jp/dbget-bin/www_bget?hsa:11186\", \"KEGG_NODE_HEIGHT\": \"17\", \"selected\": false, \"KEGG_NODE_LABEL_LIST_FIRST\": \"RASSF1\", \"name\": \"path:hsa05223:35\", \"SUID\": 302, \"KEGG_ID\": [\"hsa:11186\"], \"KEGG_NODE_LABEL_COLOR\": \"#000000\", \"KEGG_NODE_TYPE\": \"gene\", \"KEGG_NODE_LABEL\": \"RASSF1, 123F2, NORE2A, RASSF1A, RDA32, REH3P21\", \"KEGG_NODE_WIDTH\": \"46\", \"KEGG_NODE_SHAPE\": \"rectangle\", \"KEGG_NODE_FILL_COLOR\": \"#BFFFBF\", \"KEGG_NODE_Y\": \"262\", \"KEGG_NODE_X\": \"482\", \"shared_name\": \"path:hsa05223:35\", \"id\": \"302\", \"KEGG_NODE_LABEL_LIST\": [\"RASSF1\", \"123F2\", \"NORE2A\", \"RASSF1A\", \"RDA32\", \"REH3P21\"]}}, {\"position\": {\"y\": 151.0, \"x\": 956.0}, \"selected\": false, \"data\": {\"KEGG_LINK\": \"http://www.kegg.jp/dbget-bin/www_bget?hsa:6256+hsa:6257+hsa:6258\", \"KEGG_NODE_HEIGHT\": \"17\", \"selected\": false, \"KEGG_NODE_LABEL_LIST_FIRST\": \"RXRA\", \"name\": \"path:hsa05223:34\", \"SUID\": 301, \"KEGG_ID\": [\"hsa:6256\", \"hsa:6257\", \"hsa:6258\"], \"KEGG_NODE_LABEL_COLOR\": \"#000000\", \"KEGG_NODE_TYPE\": \"gene\", \"KEGG_NODE_LABEL\": \"RXRA, NR2B1...\", \"KEGG_NODE_WIDTH\": \"46\", \"KEGG_NODE_SHAPE\": \"rectangle\", \"KEGG_NODE_FILL_COLOR\": \"#BFFFBF\", \"KEGG_NODE_Y\": \"151\", \"KEGG_NODE_X\": \"956\", \"shared_name\": \"path:hsa05223:34\", \"id\": \"301\", \"KEGG_NODE_LABEL_LIST\": [\"RXRA\", \"NR2B1...\"]}}, {\"position\": {\"y\": 552.0, \"x\": 544.0}, \"selected\": false, \"data\": {\"KEGG_LINK\": \"http://www.kegg.jp/dbget-bin/www_bget?C05981\", \"KEGG_NODE_HEIGHT\": \"8\", \"selected\": false, \"KEGG_NODE_LABEL_LIST_FIRST\": \"Phosphatidylinositol-3,4,5-trisphosphate\", \"name\": \"path:hsa05223:33\", \"SUID\": 300, \"KEGG_ID\": [\"cpd:C05981\"], \"KEGG_NODE_LABEL_COLOR\": \"#000000\", \"KEGG_NODE_TYPE\": \"compound\", \"KEGG_NODE_LABEL\": \"C05981\", \"KEGG_NODE_WIDTH\": \"8\", \"KEGG_NODE_SHAPE\": \"circle\", \"KEGG_NODE_FILL_COLOR\": \"#FFFFFF\", \"KEGG_NODE_Y\": \"552\", \"KEGG_NODE_X\": \"544\", \"shared_name\": \"path:hsa05223:33\", \"id\": \"300\", \"KEGG_NODE_LABEL_LIST\": [\"C05981\"]}}, {\"position\": {\"y\": 399.0, \"x\": 424.0}, \"selected\": false, \"data\": {\"KEGG_LINK\": \"http://www.kegg.jp/dbget-bin/www_bget?hsa:2885\", \"KEGG_NODE_HEIGHT\": \"17\", \"selected\": false, \"KEGG_NODE_LABEL_LIST_FIRST\": \"GRB2\", \"name\": \"path:hsa05223:32\", \"SUID\": 299, \"KEGG_ID\": [\"hsa:2885\"], \"KEGG_NODE_LABEL_COLOR\": \"#000000\", \"KEGG_NODE_TYPE\": \"gene\", \"KEGG_NODE_LABEL\": \"GRB2, ASH, EGFRBP-GRB2, Grb3-3, MST084, MSTP084, NCKAP2\", \"KEGG_NODE_WIDTH\": \"46\", \"KEGG_NODE_SHAPE\": \"rectangle\", \"KEGG_NODE_FILL_COLOR\": \"#BFFFBF\", \"KEGG_NODE_Y\": \"399\", \"KEGG_NODE_X\": \"424\", \"shared_name\": \"path:hsa05223:32\", \"id\": \"299\", \"KEGG_NODE_LABEL_LIST\": [\"GRB2\", \"ASH\", \"EGFRBP-GRB2\", \"Grb3-3\", \"MST084\", \"MSTP084\", \"NCKAP2\"]}}, {\"position\": {\"y\": 399.0, \"x\": 507.0}, \"selected\": false, \"data\": {\"KEGG_LINK\": \"http://www.kegg.jp/dbget-bin/www_bget?hsa:6654+hsa:6655\", \"KEGG_NODE_HEIGHT\": \"17\", \"selected\": false, \"KEGG_NODE_LABEL_LIST_FIRST\": \"SOS1\", \"name\": \"path:hsa05223:31\", \"SUID\": 298, \"KEGG_ID\": [\"hsa:6654\", \"hsa:6655\"], \"KEGG_NODE_LABEL_COLOR\": \"#000000\", \"KEGG_NODE_TYPE\": \"gene\", \"KEGG_NODE_LABEL\": \"SOS1, GF1, GGF1, GINGF, HGF, NS4...\", \"KEGG_NODE_WIDTH\": \"46\", \"KEGG_NODE_SHAPE\": \"rectangle\", \"KEGG_NODE_FILL_COLOR\": \"#BFFFBF\", \"KEGG_NODE_Y\": \"399\", \"KEGG_NODE_X\": \"507\", \"shared_name\": \"path:hsa05223:31\", \"id\": \"298\", \"KEGG_NODE_LABEL_LIST\": [\"SOS1\", \"GF1\", \"GGF1\", \"GINGF\", \"HGF\", \"NS4...\"]}}, {\"position\": {\"y\": 575.0, \"x\": 591.0}, \"selected\": false, \"data\": {\"KEGG_LINK\": \"http://www.kegg.jp/dbget-bin/www_bget?hsa:5170\", \"KEGG_NODE_HEIGHT\": \"17\", \"selected\": false, \"KEGG_NODE_LABEL_LIST_FIRST\": \"PDPK1\", \"name\": \"path:hsa05223:30\", \"SUID\": 297, \"KEGG_ID\": [\"hsa:5170\"], \"KEGG_NODE_LABEL_COLOR\": \"#000000\", \"KEGG_NODE_TYPE\": \"gene\", \"KEGG_NODE_LABEL\": \"PDPK1, PDK1, PDPK2, PRO0461\", \"KEGG_NODE_WIDTH\": \"46\", \"KEGG_NODE_SHAPE\": \"rectangle\", \"KEGG_NODE_FILL_COLOR\": \"#BFFFBF\", \"KEGG_NODE_Y\": \"575\", \"KEGG_NODE_X\": \"591\", \"shared_name\": \"path:hsa05223:30\", \"id\": \"297\", \"KEGG_NODE_LABEL_LIST\": [\"PDPK1\", \"PDK1\", \"PDPK2\", \"PRO0461\"]}}, {\"position\": {\"y\": 134.0, \"x\": 956.0}, \"selected\": false, \"data\": {\"KEGG_LINK\": \"http://www.kegg.jp/dbget-bin/www_bget?hsa:5915\", \"KEGG_NODE_HEIGHT\": \"17\", \"selected\": false, \"KEGG_NODE_LABEL_LIST_FIRST\": \"RARB\", \"name\": \"path:hsa05223:29\", \"SUID\": 296, \"KEGG_ID\": [\"hsa:5915\"], \"KEGG_NODE_LABEL_COLOR\": \"#000000\", \"KEGG_NODE_TYPE\": \"gene\", \"KEGG_NODE_LABEL\": \"RARB, HAP, MCOPS12, NR1B2, RRB2\", \"KEGG_NODE_WIDTH\": \"46\", \"KEGG_NODE_SHAPE\": \"rectangle\", \"KEGG_NODE_FILL_COLOR\": \"#BFFFBF\", \"KEGG_NODE_Y\": \"134\", \"KEGG_NODE_X\": \"956\", \"shared_name\": \"path:hsa05223:29\", \"id\": \"296\", \"KEGG_NODE_LABEL_LIST\": [\"RARB\", \"HAP\", \"MCOPS12\", \"NR1B2\", \"RRB2\"]}}, {\"position\": {\"y\": 280.0, \"x\": 1079.0}, \"selected\": false, \"data\": {\"KEGG_LINK\": \"http://www.kegg.jp/dbget-bin/www_bget?hsa:5925\", \"KEGG_NODE_HEIGHT\": \"17\", \"selected\": false, \"KEGG_NODE_LABEL_LIST_FIRST\": \"RB1\", \"name\": \"path:hsa05223:28\", \"SUID\": 295, \"KEGG_ID\": [\"hsa:5925\"], \"KEGG_NODE_LABEL_COLOR\": \"#000000\", \"KEGG_NODE_TYPE\": \"gene\", \"KEGG_NODE_LABEL\": \"RB1, OSRC, PPP1R130, RB, p105-Rb, pRb, pp110\", \"KEGG_NODE_WIDTH\": \"46\", \"KEGG_NODE_SHAPE\": \"rectangle\", \"KEGG_NODE_FILL_COLOR\": \"#BFFFBF\", \"KEGG_NODE_Y\": \"280\", \"KEGG_NODE_X\": \"1079\", \"shared_name\": \"path:hsa05223:28\", \"id\": \"295\", \"KEGG_NODE_LABEL_LIST\": [\"RB1\", \"OSRC\", \"PPP1R130\", \"RB\", \"p105-Rb\", \"pRb\", \"pp110\"]}}, {\"position\": {\"y\": 475.0, \"x\": 218.0}, \"selected\": false, \"data\": {\"KEGG_LINK\": \"http://www.kegg.jp/dbget-bin/www_bget?hsa:1950\", \"KEGG_NODE_HEIGHT\": \"17\", \"selected\": false, \"KEGG_NODE_LABEL_LIST_FIRST\": \"EGF\", \"name\": \"path:hsa05223:27\", \"SUID\": 294, \"KEGG_ID\": [\"hsa:1950\"], \"KEGG_NODE_LABEL_COLOR\": \"#000000\", \"KEGG_NODE_TYPE\": \"gene\", \"KEGG_NODE_LABEL\": \"EGF, HOMG4, URG\", \"KEGG_NODE_WIDTH\": \"46\", \"KEGG_NODE_SHAPE\": \"rectangle\", \"KEGG_NODE_FILL_COLOR\": \"#BFFFBF\", \"KEGG_NODE_Y\": \"475\", \"KEGG_NODE_X\": \"218\", \"shared_name\": \"path:hsa05223:27\", \"id\": \"294\", \"KEGG_NODE_LABEL_LIST\": [\"EGF\", \"HOMG4\", \"URG\"]}}, {\"position\": {\"y\": 500.0, \"x\": 303.0}, \"selected\": false, \"data\": {\"KEGG_LINK\": \"http://www.kegg.jp/dbget-bin/www_bget?hsa:2064\", \"KEGG_NODE_HEIGHT\": \"17\", \"selected\": false, \"KEGG_NODE_LABEL_LIST_FIRST\": \"ERBB2\", \"name\": \"path:hsa05223:26\", \"SUID\": 293, \"KEGG_ID\": [\"hsa:2064\"], \"KEGG_NODE_LABEL_COLOR\": \"#000000\", \"KEGG_NODE_TYPE\": \"gene\", \"KEGG_NODE_LABEL\": \"ERBB2, CD340, HER-2, HER-2/neu, HER2, MLN_19, NEU, NGL, TKR1\", \"KEGG_NODE_WIDTH\": \"46\", \"KEGG_NODE_SHAPE\": \"rectangle\", \"KEGG_NODE_FILL_COLOR\": \"#BFFFBF\", \"KEGG_NODE_Y\": \"500\", \"KEGG_NODE_X\": \"303\", \"shared_name\": \"path:hsa05223:26\", \"id\": \"293\", \"KEGG_NODE_LABEL_LIST\": [\"ERBB2\", \"CD340\", \"HER-2\", \"HER-2/neu\", \"HER2\", \"MLN_19\", \"NEU\", \"NGL\", \"TKR1\"]}}, {\"position\": {\"y\": 287.0, \"x\": 996.0}, \"selected\": false, \"data\": {\"KEGG_LINK\": \"http://www.kegg.jp/dbget-bin/www_bget?hsa:595\", \"KEGG_NODE_HEIGHT\": \"17\", \"selected\": false, \"KEGG_NODE_LABEL_LIST_FIRST\": \"CCND1\", \"name\": \"path:hsa05223:25\", \"SUID\": 292, \"KEGG_ID\": [\"hsa:595\"], \"KEGG_NODE_LABEL_COLOR\": \"#000000\", \"KEGG_NODE_TYPE\": \"gene\", \"KEGG_NODE_LABEL\": \"CCND1, BCL1, D11S287E, PRAD1, U21B31\", \"KEGG_NODE_WIDTH\": \"46\", \"KEGG_NODE_SHAPE\": \"rectangle\", \"KEGG_NODE_FILL_COLOR\": \"#BFFFBF\", \"KEGG_NODE_Y\": \"287\", \"KEGG_NODE_X\": \"996\", \"shared_name\": \"path:hsa05223:25\", \"id\": \"292\", \"KEGG_NODE_LABEL_LIST\": [\"CCND1\", \"BCL1\", \"D11S287E\", \"PRAD1\", \"U21B31\"]}}, {\"position\": {\"y\": 221.0, \"x\": 596.0}, \"selected\": false, \"data\": {\"KEGG_LINK\": \"http://www.kegg.jp/dbget-bin/www_bget?hsa:6789\", \"KEGG_NODE_HEIGHT\": \"17\", \"selected\": false, \"KEGG_NODE_LABEL_LIST_FIRST\": \"STK4\", \"name\": \"path:hsa05223:24\", \"SUID\": 291, \"KEGG_ID\": [\"hsa:6789\"], \"KEGG_NODE_LABEL_COLOR\": \"#000000\", \"KEGG_NODE_TYPE\": \"gene\", \"KEGG_NODE_LABEL\": \"STK4, KRS2, MST1, TIIAC, YSK3\", \"KEGG_NODE_WIDTH\": \"46\", \"KEGG_NODE_SHAPE\": \"rectangle\", \"KEGG_NODE_FILL_COLOR\": \"#BFFFBF\", \"KEGG_NODE_Y\": \"221\", \"KEGG_NODE_X\": \"596\", \"shared_name\": \"path:hsa05223:24\", \"id\": \"291\", \"KEGG_NODE_LABEL_LIST\": [\"STK4\", \"KRS2\", \"MST1\", \"TIIAC\", \"YSK3\"]}}, {\"position\": {\"y\": 553.0, \"x\": 722.0}, \"selected\": false, \"data\": {\"KEGG_LINK\": \"http://www.kegg.jp/dbget-bin/www_bget?hsa:842\", \"KEGG_NODE_HEIGHT\": \"17\", \"selected\": false, \"KEGG_NODE_LABEL_LIST_FIRST\": \"CASP9\", \"name\": \"path:hsa05223:23\", \"SUID\": 290, \"KEGG_ID\": [\"hsa:842\"], \"KEGG_NODE_LABEL_COLOR\": \"#000000\", \"KEGG_NODE_TYPE\": \"gene\", \"KEGG_NODE_LABEL\": \"CASP9, APAF-3, APAF3, ICE-LAP6, MCH6, PPP1R56\", \"KEGG_NODE_WIDTH\": \"46\", \"KEGG_NODE_SHAPE\": \"rectangle\", \"KEGG_NODE_FILL_COLOR\": \"#BFFFBF\", \"KEGG_NODE_Y\": \"553\", \"KEGG_NODE_X\": \"722\", \"shared_name\": \"path:hsa05223:23\", \"id\": \"290\", \"KEGG_NODE_LABEL_LIST\": [\"CASP9\", \"APAF-3\", \"APAF3\", \"ICE-LAP6\", \"MCH6\", \"PPP1R56\"]}}, {\"position\": {\"y\": 530.0, \"x\": 722.0}, \"selected\": false, \"data\": {\"KEGG_LINK\": \"http://www.kegg.jp/dbget-bin/www_bget?hsa:572\", \"KEGG_NODE_HEIGHT\": \"17\", \"selected\": false, \"KEGG_NODE_LABEL_LIST_FIRST\": \"BAD\", \"name\": \"path:hsa05223:22\", \"SUID\": 289, \"KEGG_ID\": [\"hsa:572\"], \"KEGG_NODE_LABEL_COLOR\": \"#000000\", \"KEGG_NODE_TYPE\": \"gene\", \"KEGG_NODE_LABEL\": \"BAD, BBC2, BCL2L8\", \"KEGG_NODE_WIDTH\": \"46\", \"KEGG_NODE_SHAPE\": \"rectangle\", \"KEGG_NODE_FILL_COLOR\": \"#BFFFBF\", \"KEGG_NODE_Y\": \"530\", \"KEGG_NODE_X\": \"722\", \"shared_name\": \"path:hsa05223:22\", \"id\": \"289\", \"KEGG_NODE_LABEL_LIST\": [\"BAD\", \"BBC2\", \"BCL2L8\"]}}, {\"position\": {\"y\": 576.0, \"x\": 722.0}, \"selected\": false, \"data\": {\"KEGG_LINK\": \"http://www.kegg.jp/dbget-bin/www_bget?hsa:2309\", \"KEGG_NODE_HEIGHT\": \"17\", \"selected\": false, \"KEGG_NODE_LABEL_LIST_FIRST\": \"FOXO3\", \"name\": \"path:hsa05223:21\", \"SUID\": 288, \"KEGG_ID\": [\"hsa:2309\"], \"KEGG_NODE_LABEL_COLOR\": \"#000000\", \"KEGG_NODE_TYPE\": \"gene\", \"KEGG_NODE_LABEL\": \"FOXO3, AF6q21, FKHRL1, FKHRL1P2, FOXO2, FOXO3A\", \"KEGG_NODE_WIDTH\": \"46\", \"KEGG_NODE_SHAPE\": \"rectangle\", \"KEGG_NODE_FILL_COLOR\": \"#BFFFBF\", \"KEGG_NODE_Y\": \"576\", \"KEGG_NODE_X\": \"722\", \"shared_name\": \"path:hsa05223:21\", \"id\": \"288\", \"KEGG_NODE_LABEL_LIST\": [\"FOXO3\", \"AF6q21\", \"FKHRL1\", \"FKHRL1P2\", \"FOXO2\", \"FOXO3A\"]}}, {\"position\": {\"y\": 475.0, \"x\": 303.0}, \"selected\": false, \"data\": {\"KEGG_LINK\": \"http://www.kegg.jp/dbget-bin/www_bget?hsa:1956\", \"KEGG_NODE_HEIGHT\": \"17\", \"selected\": false, \"KEGG_NODE_LABEL_LIST_FIRST\": \"EGFR\", \"name\": \"path:hsa05223:20\", \"SUID\": 287, \"KEGG_ID\": [\"hsa:1956\"], \"KEGG_NODE_LABEL_COLOR\": \"#000000\", \"KEGG_NODE_TYPE\": \"gene\", \"KEGG_NODE_LABEL\": \"EGFR, ERBB, ERBB1, HER1, PIG61, mENA\", \"KEGG_NODE_WIDTH\": \"46\", \"KEGG_NODE_SHAPE\": \"rectangle\", \"KEGG_NODE_FILL_COLOR\": \"#BFFFBF\", \"KEGG_NODE_Y\": \"475\", \"KEGG_NODE_X\": \"303\", \"shared_name\": \"path:hsa05223:20\", \"id\": \"287\", \"KEGG_NODE_LABEL_LIST\": [\"EGFR\", \"ERBB\", \"ERBB1\", \"HER1\", \"PIG61\", \"mENA\"]}}, {\"position\": {\"y\": 499.0, \"x\": 218.0}, \"selected\": false, \"data\": {\"KEGG_LINK\": \"http://www.kegg.jp/dbget-bin/www_bget?hsa:7039\", \"KEGG_NODE_HEIGHT\": \"17\", \"selected\": false, \"KEGG_NODE_LABEL_LIST_FIRST\": \"TGFA\", \"name\": \"path:hsa05223:19\", \"SUID\": 286, \"KEGG_ID\": [\"hsa:7039\"], \"KEGG_NODE_LABEL_COLOR\": \"#000000\", \"KEGG_NODE_TYPE\": \"gene\", \"KEGG_NODE_LABEL\": \"TGFA, TFGA\", \"KEGG_NODE_WIDTH\": \"46\", \"KEGG_NODE_SHAPE\": \"rectangle\", \"KEGG_NODE_FILL_COLOR\": \"#BFFFBF\", \"KEGG_NODE_Y\": \"499\", \"KEGG_NODE_X\": \"218\", \"shared_name\": \"path:hsa05223:19\", \"id\": \"286\", \"KEGG_NODE_LABEL_LIST\": [\"TGFA\", \"TFGA\"]}}, {\"position\": {\"y\": 473.0, \"x\": 398.0}, \"selected\": false, \"data\": {\"KEGG_LINK\": \"http://www.kegg.jp/dbget-bin/www_bget?hsa:5335+hsa:5336\", \"KEGG_NODE_HEIGHT\": \"17\", \"selected\": false, \"KEGG_NODE_LABEL_LIST_FIRST\": \"PLCG1\", \"name\": \"path:hsa05223:18\", \"SUID\": 285, \"KEGG_ID\": [\"hsa:5335\", \"hsa:5336\"], \"KEGG_NODE_LABEL_COLOR\": \"#000000\", \"KEGG_NODE_TYPE\": \"gene\", \"KEGG_NODE_LABEL\": \"PLCG1, NCKAP3, PLC-II, PLC1, PLC148, PLCgamma1...\", \"KEGG_NODE_WIDTH\": \"46\", \"KEGG_NODE_SHAPE\": \"rectangle\", \"KEGG_NODE_FILL_COLOR\": \"#BFFFBF\", \"KEGG_NODE_Y\": \"473\", \"KEGG_NODE_X\": \"398\", \"shared_name\": \"path:hsa05223:18\", \"id\": \"285\", \"KEGG_NODE_LABEL_LIST\": [\"PLCG1\", \"NCKAP3\", \"PLC-II\", \"PLC1\", \"PLC148\", \"PLCgamma1...\"]}}, {\"position\": {\"y\": 498.0, \"x\": 1016.0}, \"selected\": false, \"data\": {\"KEGG_LINK\": \"http://www.kegg.jp/dbget-bin/www_bget?hsa:7157\", \"KEGG_NODE_HEIGHT\": \"17\", \"selected\": false, \"KEGG_NODE_LABEL_LIST_FIRST\": \"TP53\", \"name\": \"path:hsa05223:17\", \"SUID\": 284, \"KEGG_ID\": [\"hsa:7157\"], \"KEGG_NODE_LABEL_COLOR\": \"#000000\", \"KEGG_NODE_TYPE\": \"gene\", \"KEGG_NODE_LABEL\": \"TP53, BCC7, LFS1, P53, TRP53\", \"KEGG_NODE_WIDTH\": \"46\", \"KEGG_NODE_SHAPE\": \"rectangle\", \"KEGG_NODE_FILL_COLOR\": \"#BFFFBF\", \"KEGG_NODE_Y\": \"498\", \"KEGG_NODE_X\": \"1016\", \"shared_name\": \"path:hsa05223:17\", \"id\": \"284\", \"KEGG_NODE_LABEL_LIST\": [\"TP53\", \"BCC7\", \"LFS1\", \"P53\", \"TRP53\"]}}, {\"position\": {\"y\": 399.0, \"x\": 589.0}, \"selected\": false, \"data\": {\"KEGG_LINK\": \"http://www.kegg.jp/dbget-bin/www_bget?hsa:3265+hsa:3845+hsa:4893\", \"KEGG_NODE_HEIGHT\": \"17\", \"selected\": false, \"KEGG_NODE_LABEL_LIST_FIRST\": \"HRAS\", \"name\": \"path:hsa05223:16\", \"SUID\": 283, \"KEGG_ID\": [\"hsa:3265\", \"hsa:3845\", \"hsa:4893\"], \"KEGG_NODE_LABEL_COLOR\": \"#000000\", \"KEGG_NODE_TYPE\": \"gene\", \"KEGG_NODE_LABEL\": \"HRAS, C-BAS/HAS, C-H-RAS, C-HA-RAS1, CTLO, H-RASIDX, HAMSV, HRAS1, RASH1, p21ras...\", \"KEGG_NODE_WIDTH\": \"46\", \"KEGG_NODE_SHAPE\": \"rectangle\", \"KEGG_NODE_FILL_COLOR\": \"#BFFFBF\", \"KEGG_NODE_Y\": \"399\", \"KEGG_NODE_X\": \"589\", \"shared_name\": \"path:hsa05223:16\", \"id\": \"283\", \"KEGG_NODE_LABEL_LIST\": [\"HRAS\", \"C-BAS/HAS\", \"C-H-RAS\", \"C-HA-RAS1\", \"CTLO\", \"H-RASIDX\", \"HAMSV\", \"HRAS1\", \"RASH1\", \"p21ras...\"]}}, {\"position\": {\"y\": 317.0, \"x\": 1079.0}, \"selected\": false, \"data\": {\"KEGG_LINK\": \"http://www.kegg.jp/dbget-bin/www_bget?hsa:1869+hsa:1870+hsa:1871\", \"KEGG_NODE_HEIGHT\": \"17\", \"selected\": false, \"KEGG_NODE_LABEL_LIST_FIRST\": \"E2F1\", \"name\": \"path:hsa05223:15\", \"SUID\": 282, \"KEGG_ID\": [\"hsa:1869\", \"hsa:1870\", \"hsa:1871\"], \"KEGG_NODE_LABEL_COLOR\": \"#000000\", \"KEGG_NODE_TYPE\": \"gene\", \"KEGG_NODE_LABEL\": \"E2F1, E2F-1, RBAP1, RBBP3, RBP3...\", \"KEGG_NODE_WIDTH\": \"46\", \"KEGG_NODE_SHAPE\": \"rectangle\", \"KEGG_NODE_FILL_COLOR\": \"#BFFFBF\", \"KEGG_NODE_Y\": \"317\", \"KEGG_NODE_X\": \"1079\", \"shared_name\": \"path:hsa05223:15\", \"id\": \"282\", \"KEGG_NODE_LABEL_LIST\": [\"E2F1\", \"E2F-1\", \"RBAP1\", \"RBBP3\", \"RBP3...\"]}}, {\"position\": {\"y\": 262.0, \"x\": 596.0}, \"selected\": false, \"data\": {\"KEGG_LINK\": \"http://www.kegg.jp/dbget-bin/www_bget?hsa:595\", \"KEGG_NODE_HEIGHT\": \"17\", \"selected\": false, \"KEGG_NODE_LABEL_LIST_FIRST\": \"CCND1\", \"name\": \"path:hsa05223:14\", \"SUID\": 281, \"KEGG_ID\": [\"hsa:595\"], \"KEGG_NODE_LABEL_COLOR\": \"#000000\", \"KEGG_NODE_TYPE\": \"gene\", \"KEGG_NODE_LABEL\": \"CCND1, BCL1, D11S287E, PRAD1, U21B31\", \"KEGG_NODE_WIDTH\": \"46\", \"KEGG_NODE_SHAPE\": \"rectangle\", \"KEGG_NODE_FILL_COLOR\": \"#BFFFBF\", \"KEGG_NODE_Y\": \"262\", \"KEGG_NODE_X\": \"596\", \"shared_name\": \"path:hsa05223:14\", \"id\": \"281\", \"KEGG_NODE_LABEL_LIST\": [\"CCND1\", \"BCL1\", \"D11S287E\", \"PRAD1\", \"U21B31\"]}}, {\"position\": {\"y\": 270.0, \"x\": 996.0}, \"selected\": false, \"data\": {\"KEGG_LINK\": \"http://www.kegg.jp/dbget-bin/www_bget?hsa:1019+hsa:1021\", \"KEGG_NODE_HEIGHT\": \"17\", \"selected\": false, \"KEGG_NODE_LABEL_LIST_FIRST\": \"CDK4\", \"name\": \"path:hsa05223:13\", \"SUID\": 280, \"KEGG_ID\": [\"hsa:1019\", \"hsa:1021\"], \"KEGG_NODE_LABEL_COLOR\": \"#000000\", \"KEGG_NODE_TYPE\": \"gene\", \"KEGG_NODE_LABEL\": \"CDK4, CMM3, PSK-J3...\", \"KEGG_NODE_WIDTH\": \"46\", \"KEGG_NODE_SHAPE\": \"rectangle\", \"KEGG_NODE_FILL_COLOR\": \"#BFFFBF\", \"KEGG_NODE_Y\": \"270\", \"KEGG_NODE_X\": \"996\", \"shared_name\": \"path:hsa05223:13\", \"id\": \"280\", \"KEGG_NODE_LABEL_LIST\": [\"CDK4\", \"CMM3\", \"PSK-J3...\"]}}, {\"position\": {\"y\": 324.0, \"x\": 479.0}, \"selected\": false, \"data\": {\"KEGG_LINK\": \"http://www.kegg.jp/dbget-bin/www_bget?hsa:23533+hsa:5290+hsa:5291+hsa:5293+hsa:5294+hsa:5295+hsa:5296+hsa:8503\", \"KEGG_NODE_HEIGHT\": \"17\", \"selected\": false, \"KEGG_NODE_LABEL_LIST_FIRST\": \"PIK3R5\", \"name\": \"path:hsa05223:12\", \"SUID\": 279, \"KEGG_ID\": [\"hsa:23533\", \"hsa:5290\", \"hsa:5291\", \"hsa:5293\", \"hsa:5294\", \"hsa:5295\", \"hsa:5296\", \"hsa:8503\"], \"KEGG_NODE_LABEL_COLOR\": \"#000000\", \"KEGG_NODE_TYPE\": \"gene\", \"KEGG_NODE_LABEL\": \"PIK3R5, F730038I15Rik, FOAP-2, P101-PI3K, p101...\", \"KEGG_NODE_WIDTH\": \"46\", \"KEGG_NODE_SHAPE\": \"rectangle\", \"KEGG_NODE_FILL_COLOR\": \"#BFFFBF\", \"KEGG_NODE_Y\": \"324\", \"KEGG_NODE_X\": \"479\", \"shared_name\": \"path:hsa05223:12\", \"id\": \"279\", \"KEGG_NODE_LABEL_LIST\": [\"PIK3R5\", \"F730038I15Rik\", \"FOAP-2\", \"P101-PI3K\", \"p101...\"]}}, {\"position\": {\"y\": 347.0, \"x\": 602.0}, \"selected\": false, \"data\": {\"KEGG_LINK\": \"http://www.kegg.jp/dbget-bin/www_bget?hsa:5170\", \"KEGG_NODE_HEIGHT\": \"17\", \"selected\": false, \"KEGG_NODE_LABEL_LIST_FIRST\": \"PDPK1\", \"name\": \"path:hsa05223:11\", \"SUID\": 278, \"KEGG_ID\": [\"hsa:5170\"], \"KEGG_NODE_LABEL_COLOR\": \"#000000\", \"KEGG_NODE_TYPE\": \"gene\", \"KEGG_NODE_LABEL\": \"PDPK1, PDK1, PDPK2, PRO0461\", \"KEGG_NODE_WIDTH\": \"46\", \"KEGG_NODE_SHAPE\": \"rectangle\", \"KEGG_NODE_FILL_COLOR\": \"#BFFFBF\", \"KEGG_NODE_Y\": \"347\", \"KEGG_NODE_X\": \"602\", \"shared_name\": \"path:hsa05223:11\", \"id\": \"278\", \"KEGG_NODE_LABEL_LIST\": [\"PDPK1\", \"PDK1\", \"PDPK2\", \"PRO0461\"]}}, {\"position\": {\"y\": 325.0, \"x\": 646.0}, \"selected\": false, \"data\": {\"KEGG_LINK\": \"http://www.kegg.jp/dbget-bin/www_bget?hsa:10000+hsa:207+hsa:208\", \"KEGG_NODE_HEIGHT\": \"17\", \"selected\": false, \"KEGG_NODE_LABEL_LIST_FIRST\": \"AKT3\", \"name\": \"path:hsa05223:10\", \"SUID\": 277, \"KEGG_ID\": [\"hsa:10000\", \"hsa:207\", \"hsa:208\"], \"KEGG_NODE_LABEL_COLOR\": \"#000000\", \"KEGG_NODE_TYPE\": \"gene\", \"KEGG_NODE_LABEL\": \"AKT3, MPPH, PKB-GAMMA, PKBG, PRKBG, RAC-PK-gamma, RAC-gamma, STK-2...\", \"KEGG_NODE_WIDTH\": \"46\", \"KEGG_NODE_SHAPE\": \"rectangle\", \"KEGG_NODE_FILL_COLOR\": \"#BFFFBF\", \"KEGG_NODE_Y\": \"325\", \"KEGG_NODE_X\": \"646\", \"shared_name\": \"path:hsa05223:10\", \"id\": \"277\", \"KEGG_NODE_LABEL_LIST\": [\"AKT3\", \"MPPH\", \"PKB-GAMMA\", \"PKBG\", \"PRKBG\", \"RAC-PK-gamma\", \"RAC-gamma\", \"STK-2...\"]}}, {\"position\": {\"y\": 301.0, \"x\": 733.0}, \"selected\": false, \"data\": {\"KEGG_LINK\": \"http://www.kegg.jp/dbget-bin/www_bget?hsa:572\", \"KEGG_NODE_HEIGHT\": \"17\", \"selected\": false, \"KEGG_NODE_LABEL_LIST_FIRST\": \"BAD\", \"name\": \"path:hsa05223:9\", \"SUID\": 276, \"KEGG_ID\": [\"hsa:572\"], \"KEGG_NODE_LABEL_COLOR\": \"#000000\", \"KEGG_NODE_TYPE\": \"gene\", \"KEGG_NODE_LABEL\": \"BAD, BBC2, BCL2L8\", \"KEGG_NODE_WIDTH\": \"46\", \"KEGG_NODE_SHAPE\": \"rectangle\", \"KEGG_NODE_FILL_COLOR\": \"#BFFFBF\", \"KEGG_NODE_Y\": \"301\", \"KEGG_NODE_X\": \"733\", \"shared_name\": \"path:hsa05223:9\", \"id\": \"276\", \"KEGG_NODE_LABEL_LIST\": [\"BAD\", \"BBC2\", \"BCL2L8\"]}}, {\"position\": {\"y\": 325.0, \"x\": 733.0}, \"selected\": false, \"data\": {\"KEGG_LINK\": \"http://www.kegg.jp/dbget-bin/www_bget?hsa:842\", \"KEGG_NODE_HEIGHT\": \"17\", \"selected\": false, \"KEGG_NODE_LABEL_LIST_FIRST\": \"CASP9\", \"name\": \"path:hsa05223:8\", \"SUID\": 275, \"KEGG_ID\": [\"hsa:842\"], \"KEGG_NODE_LABEL_COLOR\": \"#000000\", \"KEGG_NODE_TYPE\": \"gene\", \"KEGG_NODE_LABEL\": \"CASP9, APAF-3, APAF3, ICE-LAP6, MCH6, PPP1R56\", \"KEGG_NODE_WIDTH\": \"46\", \"KEGG_NODE_SHAPE\": \"rectangle\", \"KEGG_NODE_FILL_COLOR\": \"#BFFFBF\", \"KEGG_NODE_Y\": \"325\", \"KEGG_NODE_X\": \"733\", \"shared_name\": \"path:hsa05223:8\", \"id\": \"275\", \"KEGG_NODE_LABEL_LIST\": [\"CASP9\", \"APAF-3\", \"APAF3\", \"ICE-LAP6\", \"MCH6\", \"PPP1R56\"]}}, {\"position\": {\"y\": 347.0, \"x\": 733.0}, \"selected\": false, \"data\": {\"KEGG_LINK\": \"http://www.kegg.jp/dbget-bin/www_bget?hsa:2309\", \"KEGG_NODE_HEIGHT\": \"17\", \"selected\": false, \"KEGG_NODE_LABEL_LIST_FIRST\": \"FOXO3\", \"name\": \"path:hsa05223:7\", \"SUID\": 274, \"KEGG_ID\": [\"hsa:2309\"], \"KEGG_NODE_LABEL_COLOR\": \"#000000\", \"KEGG_NODE_TYPE\": \"gene\", \"KEGG_NODE_LABEL\": \"FOXO3, AF6q21, FKHRL1, FKHRL1P2, FOXO2, FOXO3A\", \"KEGG_NODE_WIDTH\": \"46\", \"KEGG_NODE_SHAPE\": \"rectangle\", \"KEGG_NODE_FILL_COLOR\": \"#BFFFBF\", \"KEGG_NODE_Y\": \"347\", \"KEGG_NODE_X\": \"733\", \"shared_name\": \"path:hsa05223:7\", \"id\": \"274\", \"KEGG_NODE_LABEL_LIST\": [\"FOXO3\", \"AF6q21\", \"FKHRL1\", \"FKHRL1P2\", \"FOXO2\", \"FOXO3A\"]}}, {\"position\": {\"y\": 323.0, \"x\": 556.0}, \"selected\": false, \"data\": {\"KEGG_LINK\": \"http://www.kegg.jp/dbget-bin/www_bget?C05981\", \"KEGG_NODE_HEIGHT\": \"8\", \"selected\": false, \"KEGG_NODE_LABEL_LIST_FIRST\": \"Phosphatidylinositol-3,4,5-trisphosphate\", \"name\": \"path:hsa05223:6\", \"SUID\": 273, \"KEGG_ID\": [\"cpd:C05981\"], \"KEGG_NODE_LABEL_COLOR\": \"#000000\", \"KEGG_NODE_TYPE\": \"compound\", \"KEGG_NODE_LABEL\": \"C05981\", \"KEGG_NODE_WIDTH\": \"8\", \"KEGG_NODE_SHAPE\": \"circle\", \"KEGG_NODE_FILL_COLOR\": \"#FFFFFF\", \"KEGG_NODE_Y\": \"323\", \"KEGG_NODE_X\": \"556\", \"shared_name\": \"path:hsa05223:6\", \"id\": \"273\", \"KEGG_NODE_LABEL_LIST\": [\"C05981\"]}}, {\"position\": {\"y\": 450.0, \"x\": 454.0}, \"selected\": false, \"data\": {\"KEGG_LINK\": \"http://www.kegg.jp/dbget-bin/www_bget?C01245\", \"KEGG_NODE_HEIGHT\": \"8\", \"selected\": false, \"KEGG_NODE_LABEL_LIST_FIRST\": \"Ins(1,4,5)P3\", \"name\": \"path:hsa05223:5\", \"SUID\": 272, \"KEGG_ID\": [\"cpd:C01245\"], \"KEGG_NODE_LABEL_COLOR\": \"#000000\", \"KEGG_NODE_TYPE\": \"compound\", \"KEGG_NODE_LABEL\": \"C01245\", \"KEGG_NODE_WIDTH\": \"8\", \"KEGG_NODE_SHAPE\": \"circle\", \"KEGG_NODE_FILL_COLOR\": \"#FFFFFF\", \"KEGG_NODE_Y\": \"450\", \"KEGG_NODE_X\": \"454\", \"shared_name\": \"path:hsa05223:5\", \"id\": \"272\", \"KEGG_NODE_LABEL_LIST\": [\"C01245\"]}}, {\"position\": {\"y\": 492.0, \"x\": 455.0}, \"selected\": false, \"data\": {\"KEGG_LINK\": \"http://www.kegg.jp/dbget-bin/www_bget?C00165\", \"KEGG_NODE_HEIGHT\": \"8\", \"selected\": false, \"KEGG_NODE_LABEL_LIST_FIRST\": \"Diglyceride\", \"name\": \"path:hsa05223:4\", \"SUID\": 271, \"KEGG_ID\": [\"cpd:C00165\"], \"KEGG_NODE_LABEL_COLOR\": \"#000000\", \"KEGG_NODE_TYPE\": \"compound\", \"KEGG_NODE_LABEL\": \"C00165\", \"KEGG_NODE_WIDTH\": \"8\", \"KEGG_NODE_SHAPE\": \"circle\", \"KEGG_NODE_FILL_COLOR\": \"#FFFFFF\", \"KEGG_NODE_Y\": \"492\", \"KEGG_NODE_X\": \"455\", \"shared_name\": \"path:hsa05223:4\", \"id\": \"271\", \"KEGG_NODE_LABEL_LIST\": [\"C00165\"]}}, {\"position\": {\"y\": 451.0, \"x\": 580.0}, \"selected\": false, \"data\": {\"KEGG_LINK\": \"http://www.kegg.jp/dbget-bin/www_bget?C00076\", \"KEGG_NODE_HEIGHT\": \"8\", \"selected\": false, \"KEGG_NODE_LABEL_LIST_FIRST\": \"Ca2+\", \"name\": \"path:hsa05223:3\", \"SUID\": 270, \"KEGG_ID\": [\"cpd:C00076\"], \"KEGG_NODE_LABEL_COLOR\": \"#000000\", \"KEGG_NODE_TYPE\": \"compound\", \"KEGG_NODE_LABEL\": \"C00076\", \"KEGG_NODE_WIDTH\": \"8\", \"KEGG_NODE_SHAPE\": \"circle\", \"KEGG_NODE_FILL_COLOR\": \"#FFFFFF\", \"KEGG_NODE_Y\": \"451\", \"KEGG_NODE_X\": \"580\", \"shared_name\": \"path:hsa05223:3\", \"id\": \"270\", \"KEGG_NODE_LABEL_LIST\": [\"C00076\"]}}, {\"position\": {\"y\": 142.0, \"x\": 686.0}, \"selected\": false, \"data\": {\"KEGG_LINK\": \"http://www.kegg.jp/dbget-bin/www_bget?C00777+C15493\", \"KEGG_NODE_HEIGHT\": \"8\", \"selected\": false, \"KEGG_NODE_LABEL_LIST_FIRST\": \"Tretin M\", \"name\": \"path:hsa05223:2\", \"SUID\": 269, \"KEGG_ID\": [\"cpd:C00777\", \"cpd:C15493\"], \"KEGG_NODE_LABEL_COLOR\": \"#000000\", \"KEGG_NODE_TYPE\": \"compound\", \"KEGG_NODE_LABEL\": \"C00777...\", \"KEGG_NODE_WIDTH\": \"8\", \"KEGG_NODE_SHAPE\": \"circle\", \"KEGG_NODE_FILL_COLOR\": \"#FFFFFF\", \"KEGG_NODE_Y\": \"142\", \"KEGG_NODE_X\": \"686\", \"shared_name\": \"path:hsa05223:2\", \"id\": \"269\", \"KEGG_NODE_LABEL_LIST\": [\"C00777...\"]}}, {\"position\": {\"y\": 493.0, \"x\": 616.0}, \"selected\": false, \"data\": {\"KEGG_LINK\": \"http://www.kegg.jp/dbget-bin/www_bget?hsa:5578+hsa:5579+hsa:5582\", \"KEGG_NODE_HEIGHT\": \"17\", \"selected\": false, \"KEGG_NODE_LABEL_LIST_FIRST\": \"PRKCA\", \"name\": \"path:hsa05223:1\", \"SUID\": 268, \"KEGG_ID\": [\"hsa:5578\", \"hsa:5579\", \"hsa:5582\"], \"KEGG_NODE_LABEL_COLOR\": \"#000000\", \"KEGG_NODE_TYPE\": \"gene\", \"KEGG_NODE_LABEL\": \"PRKCA, AAG6, PKC-alpha, PKCA, PRKACA...\", \"KEGG_NODE_WIDTH\": \"46\", \"KEGG_NODE_SHAPE\": \"rectangle\", \"KEGG_NODE_FILL_COLOR\": \"#BFFFBF\", \"KEGG_NODE_Y\": \"493\", \"KEGG_NODE_X\": \"616\", \"shared_name\": \"path:hsa05223:1\", \"id\": \"268\", \"KEGG_NODE_LABEL_LIST\": [\"PRKCA\", \"AAG6\", \"PKC-alpha\", \"PKCA\", \"PRKACA...\"]}}],\n",
       "                edges: [{\"selected\": false, \"data\": {\"KEGG_RELATION_TYPE\": \"PPrel\", \"interaction\": \"PPrel\", \"target\": \"291\", \"SUID\": 363, \"KEGG_EDGE_LABEL\": \"/ \", \"selected\": false, \"source\": \"324\", \"KEGG_EDGE_SUBTYPES\": [\"missing interaction\"], \"shared_interaction\": \"PPrel\", \"shared_name\": \"57 (PPrel) 24\", \"id\": \"363\", \"name\": \"57 (PPrel) 24\"}}, {\"selected\": false, \"data\": {\"KEGG_RELATION_TYPE\": \"PPrel\", \"interaction\": \"PPrel\", \"target\": \"295\", \"SUID\": 346, \"KEGG_EDGE_LABEL\": \"+p \", \"selected\": false, \"source\": \"322\", \"KEGG_EDGE_SUBTYPES\": [\"activation\", \"phosphorylation\"], \"shared_interaction\": \"PPrel\", \"shared_name\": \"55 (PPrel) 28\", \"id\": \"346\", \"name\": \"55 (PPrel) 28\"}}, {\"selected\": false, \"data\": {\"KEGG_RELATION_TYPE\": \"PPrel\", \"interaction\": \"PPrel\", \"target\": \"283\", \"SUID\": 367, \"KEGG_EDGE_LABEL\": \"\", \"selected\": false, \"source\": \"321\", \"KEGG_EDGE_SUBTYPES\": [\"activation\", \"indirect effect\"], \"shared_interaction\": \"PPrel\", \"shared_name\": \"54 (PPrel) 16\", \"id\": \"367\", \"name\": \"54 (PPrel) 16\"}}, {\"selected\": false, \"data\": {\"KEGG_RELATION_TYPE\": \"PPrel\", \"interaction\": \"PPrel\", \"target\": \"307\", \"SUID\": 366, \"KEGG_EDGE_LABEL\": \"\", \"selected\": false, \"source\": \"321\", \"KEGG_EDGE_SUBTYPES\": [\"activation\"], \"shared_interaction\": \"PPrel\", \"shared_name\": \"54 (PPrel) 40\", \"id\": \"366\", \"name\": \"54 (PPrel) 40\"}}, {\"selected\": false, \"data\": {\"KEGG_RELATION_TYPE\": \"PPrel\", \"interaction\": \"PPrel\", \"target\": \"312\", \"SUID\": 333, \"KEGG_EDGE_LABEL\": \"\", \"selected\": false, \"source\": \"313\", \"KEGG_EDGE_SUBTYPES\": [\"activation\"], \"shared_interaction\": \"PPrel\", \"shared_name\": \"46 (PPrel) 45\", \"id\": \"333\", \"name\": \"46 (PPrel) 45\"}}, {\"selected\": false, \"data\": {\"KEGG_RELATION_TYPE\": \"PPrel\", \"interaction\": \"PPrel\", \"target\": \"279\", \"SUID\": 332, \"KEGG_EDGE_LABEL\": \"\", \"selected\": false, \"source\": \"313\", \"KEGG_EDGE_SUBTYPES\": [\"activation\"], \"shared_interaction\": \"PPrel\", \"shared_name\": \"46 (PPrel) 12\", \"id\": \"332\", \"name\": \"46 (PPrel) 12\"}}, {\"selected\": false, \"data\": {\"KEGG_RELATION_TYPE\": \"PPrel\", \"interaction\": \"PPrel\", \"target\": \"302\", \"SUID\": 331, \"KEGG_EDGE_LABEL\": \"\", \"selected\": false, \"source\": \"313\", \"KEGG_EDGE_SUBTYPES\": [\"activation\"], \"shared_interaction\": \"PPrel\", \"shared_name\": \"46 (PPrel) 35\", \"id\": \"331\", \"name\": \"46 (PPrel) 35\"}}, {\"selected\": false, \"data\": {\"KEGG_RELATION_TYPE\": \"PPrel\", \"interaction\": \"PPrel\", \"target\": \"311\", \"SUID\": 350, \"KEGG_EDGE_LABEL\": \"+p \", \"selected\": false, \"source\": \"312\", \"KEGG_EDGE_SUBTYPES\": [\"activation\", \"phosphorylation\"], \"shared_interaction\": \"PPrel\", \"shared_name\": \"45 (PPrel) 44\", \"id\": \"350\", \"name\": \"45 (PPrel) 44\"}}, {\"selected\": false, \"data\": {\"KEGG_RELATION_TYPE\": \"PPrel\", \"interaction\": \"PPrel\", \"target\": \"310\", \"SUID\": 351, \"KEGG_EDGE_LABEL\": \"+p \", \"selected\": false, \"source\": \"311\", \"KEGG_EDGE_SUBTYPES\": [\"activation\", \"phosphorylation\"], \"shared_interaction\": \"PPrel\", \"shared_name\": \"44 (PPrel) 43\", \"id\": \"351\", \"name\": \"44 (PPrel) 43\"}}, {\"selected\": false, \"data\": {\"KEGG_RELATION_TYPE\": \"GErel\", \"interaction\": \"GErel\", \"target\": \"304\", \"SUID\": 365, \"KEGG_EDGE_LABEL\": \"e \", \"selected\": false, \"source\": \"310\", \"KEGG_EDGE_SUBTYPES\": [\"expression\"], \"shared_interaction\": \"GErel\", \"shared_name\": \"43 (GErel) 37\", \"id\": \"365\", \"name\": \"43 (GErel) 37\"}}, {\"selected\": false, \"data\": {\"KEGG_RELATION_TYPE\": \"PPrel\", \"interaction\": \"PPrel\", \"target\": \"297\", \"SUID\": 330, \"KEGG_EDGE_LABEL\": \"e \", \"selected\": false, \"source\": \"307\", \"KEGG_EDGE_SUBTYPES\": [\"compound\", \"expression\"], \"shared_interaction\": \"PPrel\", \"shared_name\": \"40 (PPrel) 30\", \"id\": \"330\", \"name\": \"40 (PPrel) 30\"}}, {\"selected\": false, \"data\": {\"KEGG_RELATION_TYPE\": \"PPrel\", \"interaction\": \"PPrel\", \"target\": \"306\", \"SUID\": 329, \"KEGG_EDGE_LABEL\": \"e \", \"selected\": false, \"source\": \"307\", \"KEGG_EDGE_SUBTYPES\": [\"compound\", \"expression\"], \"shared_interaction\": \"PPrel\", \"shared_name\": \"40 (PPrel) 39\", \"id\": \"329\", \"name\": \"40 (PPrel) 39\"}}, {\"selected\": false, \"data\": {\"KEGG_RELATION_TYPE\": \"PPrel\", \"interaction\": \"PPrel\", \"target\": \"288\", \"SUID\": 358, \"KEGG_EDGE_LABEL\": \"+p \", \"selected\": false, \"source\": \"306\", \"KEGG_EDGE_SUBTYPES\": [\"inhibition\", \"phosphorylation\"], \"shared_interaction\": \"PPrel\", \"shared_name\": \"39 (PPrel) 21\", \"id\": \"358\", \"name\": \"39 (PPrel) 21\"}}, {\"selected\": false, \"data\": {\"KEGG_RELATION_TYPE\": \"PPrel\", \"interaction\": \"PPrel\", \"target\": \"290\", \"SUID\": 357, \"KEGG_EDGE_LABEL\": \"+p \", \"selected\": false, \"source\": \"306\", \"KEGG_EDGE_SUBTYPES\": [\"inhibition\", \"phosphorylation\"], \"shared_interaction\": \"PPrel\", \"shared_name\": \"39 (PPrel) 23\", \"id\": \"357\", \"name\": \"39 (PPrel) 23\"}}, {\"selected\": false, \"data\": {\"KEGG_RELATION_TYPE\": \"PPrel\", \"interaction\": \"PPrel\", \"target\": \"289\", \"SUID\": 356, \"KEGG_EDGE_LABEL\": \"+p \", \"selected\": false, \"source\": \"306\", \"KEGG_EDGE_SUBTYPES\": [\"inhibition\", \"phosphorylation\"], \"shared_interaction\": \"PPrel\", \"shared_name\": \"39 (PPrel) 22\", \"id\": \"356\", \"name\": \"39 (PPrel) 22\"}}, {\"selected\": false, \"data\": {\"KEGG_RELATION_TYPE\": \"PPrel\", \"interaction\": \"PPrel\", \"target\": \"322\", \"SUID\": 362, \"KEGG_EDGE_LABEL\": \"/ \", \"selected\": false, \"source\": \"305\", \"KEGG_EDGE_SUBTYPES\": [\"missing interaction\"], \"shared_interaction\": \"PPrel\", \"shared_name\": \"38 (PPrel) 55\", \"id\": \"362\", \"name\": \"38 (PPrel) 55\"}}, {\"selected\": false, \"data\": {\"KEGG_RELATION_TYPE\": \"PPrel\", \"interaction\": \"PPrel\", \"target\": \"281\", \"SUID\": 364, \"KEGG_EDGE_LABEL\": \"/ \", \"selected\": false, \"source\": \"302\", \"KEGG_EDGE_SUBTYPES\": [\"missing interaction\"], \"shared_interaction\": \"PPrel\", \"shared_name\": \"35 (PPrel) 14\", \"id\": \"364\", \"name\": \"35 (PPrel) 14\"}}, {\"selected\": false, \"data\": {\"KEGG_RELATION_TYPE\": \"PPrel\", \"interaction\": \"PPrel\", \"target\": \"303\", \"SUID\": 360, \"KEGG_EDGE_LABEL\": \"\", \"selected\": false, \"source\": \"302\", \"KEGG_EDGE_SUBTYPES\": [\"binding/association\"], \"shared_interaction\": \"PPrel\", \"shared_name\": \"35 (PPrel) 36\", \"id\": \"360\", \"name\": \"35 (PPrel) 36\"}}, {\"selected\": false, \"data\": {\"KEGG_RELATION_TYPE\": \"PPrel\", \"interaction\": \"PPrel\", \"target\": \"298\", \"SUID\": 342, \"KEGG_EDGE_LABEL\": \"\", \"selected\": false, \"source\": \"299\", \"KEGG_EDGE_SUBTYPES\": [\"activation\"], \"shared_interaction\": \"PPrel\", \"shared_name\": \"32 (PPrel) 31\", \"id\": \"342\", \"name\": \"32 (PPrel) 31\"}}, {\"selected\": false, \"data\": {\"KEGG_RELATION_TYPE\": \"PPrel\", \"interaction\": \"PPrel\", \"target\": \"283\", \"SUID\": 343, \"KEGG_EDGE_LABEL\": \"\", \"selected\": false, \"source\": \"298\", \"KEGG_EDGE_SUBTYPES\": [\"activation\"], \"shared_interaction\": \"PPrel\", \"shared_name\": \"31 (PPrel) 16\", \"id\": \"343\", \"name\": \"31 (PPrel) 16\"}}, {\"selected\": false, \"data\": {\"KEGG_RELATION_TYPE\": \"PPrel\", \"interaction\": \"PPrel\", \"target\": \"306\", \"SUID\": 352, \"KEGG_EDGE_LABEL\": \"+p \", \"selected\": false, \"source\": \"297\", \"KEGG_EDGE_SUBTYPES\": [\"activation\", \"phosphorylation\"], \"shared_interaction\": \"PPrel\", \"shared_name\": \"30 (PPrel) 39\", \"id\": \"352\", \"name\": \"30 (PPrel) 39\"}}, {\"selected\": false, \"data\": {\"KEGG_RELATION_TYPE\": \"PPrel\", \"interaction\": \"PPrel\", \"target\": \"293\", \"SUID\": 335, \"KEGG_EDGE_LABEL\": \"\", \"selected\": false, \"source\": \"294\", \"KEGG_EDGE_SUBTYPES\": [\"activation\"], \"shared_interaction\": \"PPrel\", \"shared_name\": \"27 (PPrel) 26\", \"id\": \"335\", \"name\": \"27 (PPrel) 26\"}}, {\"selected\": false, \"data\": {\"KEGG_RELATION_TYPE\": \"PPrel\", \"interaction\": \"PPrel\", \"target\": \"287\", \"SUID\": 334, \"KEGG_EDGE_LABEL\": \"\", \"selected\": false, \"source\": \"294\", \"KEGG_EDGE_SUBTYPES\": [\"activation\"], \"shared_interaction\": \"PPrel\", \"shared_name\": \"27 (PPrel) 20\", \"id\": \"334\", \"name\": \"27 (PPrel) 20\"}}, {\"selected\": false, \"data\": {\"KEGG_RELATION_TYPE\": \"PPrel\", \"interaction\": \"PPrel\", \"target\": \"285\", \"SUID\": 349, \"KEGG_EDGE_LABEL\": \"+p \", \"selected\": false, \"source\": \"293\", \"KEGG_EDGE_SUBTYPES\": [\"activation\", \"phosphorylation\"], \"shared_interaction\": \"PPrel\", \"shared_name\": \"26 (PPrel) 18\", \"id\": \"349\", \"name\": \"26 (PPrel) 18\"}}, {\"selected\": false, \"data\": {\"KEGG_RELATION_TYPE\": \"PPrel\", \"interaction\": \"PPrel\", \"target\": \"307\", \"SUID\": 341, \"KEGG_EDGE_LABEL\": \"\", \"selected\": false, \"source\": \"293\", \"KEGG_EDGE_SUBTYPES\": [\"activation\"], \"shared_interaction\": \"PPrel\", \"shared_name\": \"26 (PPrel) 40\", \"id\": \"341\", \"name\": \"26 (PPrel) 40\"}}, {\"selected\": false, \"data\": {\"KEGG_RELATION_TYPE\": \"PPrel\", \"interaction\": \"PPrel\", \"target\": \"299\", \"SUID\": 340, \"KEGG_EDGE_LABEL\": \"\", \"selected\": false, \"source\": \"293\", \"KEGG_EDGE_SUBTYPES\": [\"activation\"], \"shared_interaction\": \"PPrel\", \"shared_name\": \"26 (PPrel) 32\", \"id\": \"340\", \"name\": \"26 (PPrel) 32\"}}, {\"selected\": false, \"data\": {\"KEGG_RELATION_TYPE\": \"PPrel\", \"interaction\": \"PPrel\", \"target\": \"285\", \"SUID\": 348, \"KEGG_EDGE_LABEL\": \"+p \", \"selected\": false, \"source\": \"287\", \"KEGG_EDGE_SUBTYPES\": [\"activation\", \"phosphorylation\"], \"shared_interaction\": \"PPrel\", \"shared_name\": \"20 (PPrel) 18\", \"id\": \"348\", \"name\": \"20 (PPrel) 18\"}}, {\"selected\": false, \"data\": {\"KEGG_RELATION_TYPE\": \"PPrel\", \"interaction\": \"PPrel\", \"target\": \"307\", \"SUID\": 339, \"KEGG_EDGE_LABEL\": \"\", \"selected\": false, \"source\": \"287\", \"KEGG_EDGE_SUBTYPES\": [\"activation\"], \"shared_interaction\": \"PPrel\", \"shared_name\": \"20 (PPrel) 40\", \"id\": \"339\", \"name\": \"20 (PPrel) 40\"}}, {\"selected\": false, \"data\": {\"KEGG_RELATION_TYPE\": \"PPrel\", \"interaction\": \"PPrel\", \"target\": \"299\", \"SUID\": 338, \"KEGG_EDGE_LABEL\": \"\", \"selected\": false, \"source\": \"287\", \"KEGG_EDGE_SUBTYPES\": [\"activation\"], \"shared_interaction\": \"PPrel\", \"shared_name\": \"20 (PPrel) 32\", \"id\": \"338\", \"name\": \"20 (PPrel) 32\"}}, {\"selected\": false, \"data\": {\"KEGG_RELATION_TYPE\": \"PPrel\", \"interaction\": \"PPrel\", \"target\": \"293\", \"SUID\": 337, \"KEGG_EDGE_LABEL\": \"\", \"selected\": false, \"source\": \"286\", \"KEGG_EDGE_SUBTYPES\": [\"activation\"], \"shared_interaction\": \"PPrel\", \"shared_name\": \"19 (PPrel) 26\", \"id\": \"337\", \"name\": \"19 (PPrel) 26\"}}, {\"selected\": false, \"data\": {\"KEGG_RELATION_TYPE\": \"PPrel\", \"interaction\": \"PPrel\", \"target\": \"287\", \"SUID\": 336, \"KEGG_EDGE_LABEL\": \"\", \"selected\": false, \"source\": \"286\", \"KEGG_EDGE_SUBTYPES\": [\"activation\"], \"shared_interaction\": \"PPrel\", \"shared_name\": \"19 (PPrel) 20\", \"id\": \"336\", \"name\": \"19 (PPrel) 20\"}}, {\"selected\": false, \"data\": {\"KEGG_RELATION_TYPE\": \"PPrel\", \"interaction\": \"PPrel\", \"target\": \"287\", \"SUID\": 328, \"KEGG_EDGE_LABEL\": \"e \", \"selected\": false, \"source\": \"285\", \"KEGG_EDGE_SUBTYPES\": [\"compound\", \"expression\"], \"shared_interaction\": \"PPrel\", \"shared_name\": \"18 (PPrel) 20\", \"id\": \"328\", \"name\": \"18 (PPrel) 20\"}}, {\"selected\": false, \"data\": {\"KEGG_RELATION_TYPE\": \"PPrel\", \"interaction\": \"PPrel\", \"target\": \"287\", \"SUID\": 327, \"KEGG_EDGE_LABEL\": \"e \", \"selected\": false, \"source\": \"285\", \"KEGG_EDGE_SUBTYPES\": [\"compound\", \"expression\"], \"shared_interaction\": \"PPrel\", \"shared_name\": \"18 (PPrel) 20\", \"id\": \"327\", \"name\": \"18 (PPrel) 20\"}}, {\"selected\": false, \"data\": {\"KEGG_RELATION_TYPE\": \"PPrel\", \"interaction\": \"PPrel\", \"target\": \"312\", \"SUID\": 344, \"KEGG_EDGE_LABEL\": \"\", \"selected\": false, \"source\": \"283\", \"KEGG_EDGE_SUBTYPES\": [\"activation\"], \"shared_interaction\": \"PPrel\", \"shared_name\": \"16 (PPrel) 45\", \"id\": \"344\", \"name\": \"16 (PPrel) 45\"}}, {\"selected\": false, \"data\": {\"KEGG_RELATION_TYPE\": \"PPrel\", \"interaction\": \"PPrel\", \"target\": \"295\", \"SUID\": 359, \"KEGG_EDGE_LABEL\": \"+ \", \"selected\": false, \"source\": \"282\", \"KEGG_EDGE_SUBTYPES\": [\"dissociation\"], \"shared_interaction\": \"PPrel\", \"shared_name\": \"15 (PPrel) 28\", \"id\": \"359\", \"name\": \"15 (PPrel) 28\"}}, {\"selected\": false, \"data\": {\"KEGG_RELATION_TYPE\": \"PPrel\", \"interaction\": \"PPrel\", \"target\": \"278\", \"SUID\": 326, \"KEGG_EDGE_LABEL\": \"e \", \"selected\": false, \"source\": \"279\", \"KEGG_EDGE_SUBTYPES\": [\"compound\", \"expression\"], \"shared_interaction\": \"PPrel\", \"shared_name\": \"12 (PPrel) 11\", \"id\": \"326\", \"name\": \"12 (PPrel) 11\"}}, {\"selected\": false, \"data\": {\"KEGG_RELATION_TYPE\": \"PPrel\", \"interaction\": \"PPrel\", \"target\": \"277\", \"SUID\": 325, \"KEGG_EDGE_LABEL\": \"e \", \"selected\": false, \"source\": \"279\", \"KEGG_EDGE_SUBTYPES\": [\"compound\", \"expression\"], \"shared_interaction\": \"PPrel\", \"shared_name\": \"12 (PPrel) 10\", \"id\": \"325\", \"name\": \"12 (PPrel) 10\"}}, {\"selected\": false, \"data\": {\"KEGG_RELATION_TYPE\": \"PPrel\", \"interaction\": \"PPrel\", \"target\": \"277\", \"SUID\": 347, \"KEGG_EDGE_LABEL\": \"+p \", \"selected\": false, \"source\": \"278\", \"KEGG_EDGE_SUBTYPES\": [\"activation\", \"phosphorylation\"], \"shared_interaction\": \"PPrel\", \"shared_name\": \"11 (PPrel) 10\", \"id\": \"347\", \"name\": \"11 (PPrel) 10\"}}, {\"selected\": false, \"data\": {\"KEGG_RELATION_TYPE\": \"PPrel\", \"interaction\": \"PPrel\", \"target\": \"274\", \"SUID\": 355, \"KEGG_EDGE_LABEL\": \"+p \", \"selected\": false, \"source\": \"277\", \"KEGG_EDGE_SUBTYPES\": [\"inhibition\", \"phosphorylation\"], \"shared_interaction\": \"PPrel\", \"shared_name\": \"10 (PPrel) 7\", \"id\": \"355\", \"name\": \"10 (PPrel) 7\"}}, {\"selected\": false, \"data\": {\"KEGG_RELATION_TYPE\": \"PPrel\", \"interaction\": \"PPrel\", \"target\": \"275\", \"SUID\": 354, \"KEGG_EDGE_LABEL\": \"+p \", \"selected\": false, \"source\": \"277\", \"KEGG_EDGE_SUBTYPES\": [\"inhibition\", \"phosphorylation\"], \"shared_interaction\": \"PPrel\", \"shared_name\": \"10 (PPrel) 8\", \"id\": \"354\", \"name\": \"10 (PPrel) 8\"}}, {\"selected\": false, \"data\": {\"KEGG_RELATION_TYPE\": \"PPrel\", \"interaction\": \"PPrel\", \"target\": \"276\", \"SUID\": 353, \"KEGG_EDGE_LABEL\": \"+p \", \"selected\": false, \"source\": \"277\", \"KEGG_EDGE_SUBTYPES\": [\"inhibition\", \"phosphorylation\"], \"shared_interaction\": \"PPrel\", \"shared_name\": \"10 (PPrel) 9\", \"id\": \"353\", \"name\": \"10 (PPrel) 9\"}}, {\"selected\": false, \"data\": {\"KEGG_RELATION_TYPE\": \"PCrel\", \"interaction\": \"PCrel\", \"target\": \"323\", \"SUID\": 361, \"KEGG_EDGE_LABEL\": \"/ \", \"selected\": false, \"source\": \"269\", \"KEGG_EDGE_SUBTYPES\": [\"missing interaction\"], \"shared_interaction\": \"PCrel\", \"shared_name\": \"2 (PCrel) 56\", \"id\": \"361\", \"name\": \"2 (PCrel) 56\"}}, {\"selected\": false, \"data\": {\"KEGG_RELATION_TYPE\": \"PPrel\", \"interaction\": \"PPrel\", \"target\": \"312\", \"SUID\": 345, \"KEGG_EDGE_LABEL\": \"\", \"selected\": false, \"source\": \"268\", \"KEGG_EDGE_SUBTYPES\": [\"activation\"], \"shared_interaction\": \"PPrel\", \"shared_name\": \"1 (PPrel) 45\", \"id\": \"345\", \"name\": \"1 (PPrel) 45\"}}]\n",
       "            },\n",
       "\n",
       "            layout: {\n",
       "                name: 'preset'\n",
       "            },\n",
       "\n",
       "            ready: function() {\n",
       "                window.cy = this;\n",
       "                cy.fit();\n",
       "                cy.style().fromJson([{\"css\": {\"text-opacity\": 1.0, \"background-opacity\": 0.9411764705882353, \"font-weight\": \"normal\", \"color\": \"data(KEGG_NODE_LABEL_COLOR)\", \"width\": \"data(KEGG_NODE_WIDTH)\", \"border-opacity\": 1.0, \"border-width\": 0.0, \"height\": \"data(KEGG_NODE_HEIGHT)\", \"content\": \"data(KEGG_NODE_LABEL_LIST_FIRST)\", \"border-color\": \"rgb(0,0,0)\", \"shape\": \"ellipse\", \"font-size\": 8, \"text-halign\": \"center\", \"font-family\": \"HelveticaNeue\", \"text-valign\": \"center\", \"background-color\": \"data(KEGG_NODE_FILL_COLOR)\"}, \"selector\": \"node\"}, {\"css\": {\"border-width\": 1.0}, \"selector\": \"node[KEGG_NODE_TYPE = 'ortholog']\"}, {\"css\": {\"border-width\": 2.0}, \"selector\": \"node[KEGG_NODE_TYPE = 'compound']\"}, {\"css\": {\"border-width\": 1.0}, \"selector\": \"node[KEGG_NODE_TYPE = 'group']\"}, {\"css\": {\"background-opacity\": 0.0}, \"selector\": \"node[KEGG_NODE_TYPE = 'group']\"}, {\"css\": {\"shape\": \"rectangle\"}, \"selector\": \"node[KEGG_NODE_TYPE = 'ortholog']\"}, {\"css\": {\"shape\": \"rectangle\"}, \"selector\": \"node[KEGG_NODE_TYPE = 'gene']\"}, {\"css\": {\"shape\": \"roundrectangle\"}, \"selector\": \"node[KEGG_NODE_TYPE = 'map']\"}, {\"css\": {\"shape\": \"ellipse\"}, \"selector\": \"node[KEGG_NODE_TYPE = 'compound']\"}, {\"css\": {\"shape\": \"rectangle\"}, \"selector\": \"node[KEGG_NODE_TYPE = 'group']\"}, {\"css\": {\"text-valign\": \"bottom\"}, \"selector\": \"node[KEGG_NODE_TYPE = 'compound']\"}, {\"css\": {\"font-size\": 9}, \"selector\": \"node[KEGG_NODE_TYPE = 'ortholog']\"}, {\"css\": {\"font-size\": 9}, \"selector\": \"node[KEGG_NODE_TYPE = 'gene']\"}, {\"css\": {\"font-size\": 6}, \"selector\": \"node[KEGG_NODE_TYPE = 'compound']\"}, {\"css\": {\"font-size\": 9}, \"selector\": \"node[KEGG_NODE_TYPE = 'map']\"}, {\"css\": {\"font-size\": 9}, \"selector\": \"node[KEGG_NODE_TYPE = 'group']\"}, {\"css\": {\"background-color\": \"rgb(255,255,0)\"}, \"selector\": \"node:selected\"}, {\"css\": {\"opacity\": 0.7058823529411765, \"text-opacity\": 1.0, \"line-color\": \"rgb(64,64,64)\", \"font-weight\": \"normal\", \"target-arrow-shape\": \"none\", \"source-arrow-shape\": \"none\", \"color\": \"rgb(220,20,60)\", \"source-arrow-color\": \"rgb(64,64,64)\", \"font-size\": 10, \"content\": \"data(KEGG_EDGE_LABEL)\", \"width\": 1.0, \"line-style\": \"solid\", \"font-family\": \"HelveticaNeue\", \"target-arrow-color\": \"rgb(64,64,64)\"}, \"selector\": \"edge\"}, {\"css\": {\"target-arrow-shape\": \"triangle\"}, \"selector\": \"edge[KEGG_EDGE_SUBTYPES = 'expression']\"}, {\"css\": {\"target-arrow-shape\": \"triangle\"}, \"selector\": \"edge[KEGG_EDGE_SUBTYPES = 'indirect effect']\"}, {\"css\": {\"target-arrow-shape\": \"triangle\"}, \"selector\": \"edge[KEGG_EDGE_SUBTYPES = 'irreversible']\"}, {\"css\": {\"target-arrow-shape\": \"tee\"}, \"selector\": \"edge[KEGG_EDGE_SUBTYPES = 'inhibition']\"}, {\"css\": {\"target-arrow-shape\": \"tee\"}, \"selector\": \"edge[KEGG_EDGE_SUBTYPES = 'repression']\"}, {\"css\": {\"target-arrow-shape\": \"triangle\"}, \"selector\": \"edge[KEGG_EDGE_SUBTYPES = 'activation']\"}, {\"css\": {\"line-style\": \"dotted\"}, \"selector\": \"edge[KEGG_EDGE_SUBTYPES = 'state change']\"}, {\"css\": {\"line-style\": \"dashed\"}, \"selector\": \"edge[KEGG_EDGE_SUBTYPES = 'indirect effect']\"}, {\"css\": {\"line-style\": \"dashed\"}, \"selector\": \"edge[KEGG_EDGE_SUBTYPES = 'binding/association']\"}, {\"css\": {\"line-style\": \"dashed\"}, \"selector\": \"edge[KEGG_EDGE_SUBTYPES = 'maplink']\"}, {\"css\": {\"line-color\": \"rgb(255,0,0)\"}, \"selector\": \"edge:selected\"}]).update();\n",
       "            }\n",
       "        });\n",
       "      }\n",
       "\n",
       "      var before_render = function(){\n",
       "        if(window['cytoscape'] === undefined){\n",
       "          console.log(\"waiting for Cyjs!\");\n",
       "          window.addEventListener(\"load_cytoscape\", before_render);\n",
       "        } else {\n",
       "          console.log(\"Ready to render graph...\");\n",
       "          render();\n",
       "        }\n",
       "      }\n",
       "\n",
       "      before_render();\n",
       "\n",
       "    })();\n",
       "    </script>\n",
       "</head>\n",
       "\n",
       "<body>\n",
       "  <div id=\"cy6d68d012-7d68-417c-9cd4-a41992017080\"></div>\n",
       "  <!-- When only #uuid div is placed on this page, the height of output-box on ipynb will be 0px. One line below will prevent that. -->\n",
       "  <div id=\"dummy\" style=\"width:1098px;height:700px\">\n",
       "</body>\n",
       "\n",
       "</html>"
      ],
      "text/plain": [
       "<IPython.core.display.HTML object>"
      ]
     },
     "metadata": {},
     "output_type": "display_data"
    }
   ],
   "source": [
    "from py2cytoscape import cytoscapejs as cyjs\n",
    "\n",
    "res1 = requests.get(BASE + 'styles/KEGG Style.json')\n",
    "kegg_style = res1.json()\n",
    "\n",
    "# Load local network files\n",
    "kegg_url = BASE + 'networks/' + str(pathway_suids[5]['networkSUID'][0])\n",
    "net1 =  requests.get(kegg_url + '/views/first')\n",
    "\n",
    "# Render it!\n",
    "cyjs.render(net1.json(), style=kegg_style[0]['style'], background='white')"
   ]
  },
  {
   "cell_type": "markdown",
   "metadata": {},
   "source": [
    "----\n",
    "[Back to Index](../index.ipynb)\n"
   ]
  }
 ],
 "metadata": {
  "kernelspec": {
   "display_name": "Python 2",
   "language": "python",
   "name": "python2"
  },
  "language_info": {
   "codemirror_mode": {
    "name": "ipython",
    "version": 2
   },
   "file_extension": ".py",
   "mimetype": "text/x-python",
   "name": "python",
   "nbconvert_exporter": "python",
   "pygments_lexer": "ipython2",
   "version": "2.7.10"
  }
 },
 "nbformat": 4,
 "nbformat_minor": 0
}
