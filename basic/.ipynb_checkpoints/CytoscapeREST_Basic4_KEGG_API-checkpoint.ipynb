{
 "cells": [
  {
   "cell_type": "markdown",
   "metadata": {},
   "source": [
    "# Import KEGG Pathways from Web Service\n",
    "\n",
    "This example demonstrates how to use external web services with Cytoscape.  As an example, we will use [KEGG REST API](http://www.kegg.jp/kegg/docs/keggapi.html).\n",
    "\n",
    "## Requirments\n",
    "In addition to basic cyREST setup, you need to install the following Cytoscpae App to run this workflow:\n",
    "\n",
    "* [KEGGScape 0.7.x](http://apps.cytoscape.org/apps/keggscape)\n",
    "\n",
    "\n",
    "## Input and Output\n",
    "\n",
    "* Input - Disease name\n",
    "* Output - Cytoscape session file containing all KEGG pathways known to be related to the disease."
   ]
  },
  {
   "cell_type": "code",
   "execution_count": 1,
   "metadata": {
    "collapsed": false
   },
   "outputs": [
    {
     "data": {
      "text/plain": [
       "<Response [200]>"
      ]
     },
     "execution_count": 1,
     "metadata": {},
     "output_type": "execute_result"
    }
   ],
   "source": [
    "import requests\n",
    "import json\n",
    "import pandas as pd\n",
    "import io\n",
    "from IPython.display import Image\n",
    "\n",
    "# Basic Setup\n",
    "PORT_NUMBER = 1234\n",
    "BASE = 'http://localhost:' + str(PORT_NUMBER) + '/v1/'\n",
    "\n",
    "# KEGG API URL\n",
    "KEGG_API_URL = 'http://rest.kegg.jp/'\n",
    "\n",
    "# Header for posting data to the server as JSON\n",
    "HEADERS = {'Content-Type': 'application/json'}\n",
    "\n",
    "# Delete all networks in current session\n",
    "requests.delete(BASE + 'session')"
   ]
  },
  {
   "cell_type": "markdown",
   "metadata": {},
   "source": [
    "## Get list of entries from KEGG Disease database about cancer"
   ]
  },
  {
   "cell_type": "code",
   "execution_count": 2,
   "metadata": {
    "collapsed": false
   },
   "outputs": [
    {
     "data": {
      "text/html": [
       "<div style=\"max-height:1000px;max-width:1500px;overflow:auto;\">\n",
       "<table border=\"1\" class=\"dataframe\">\n",
       "  <thead>\n",
       "    <tr style=\"text-align: right;\">\n",
       "      <th></th>\n",
       "      <th>id</th>\n",
       "      <th>name</th>\n",
       "    </tr>\n",
       "  </thead>\n",
       "  <tbody>\n",
       "    <tr>\n",
       "      <th>0 </th>\n",
       "      <td> ds:H00013</td>\n",
       "      <td>                            Small cell lung cancer</td>\n",
       "    </tr>\n",
       "    <tr>\n",
       "      <th>1 </th>\n",
       "      <td> ds:H00014</td>\n",
       "      <td>                        Non-small cell lung cancer</td>\n",
       "    </tr>\n",
       "    <tr>\n",
       "      <th>2 </th>\n",
       "      <td> ds:H00016</td>\n",
       "      <td>                                       Oral cancer</td>\n",
       "    </tr>\n",
       "    <tr>\n",
       "      <th>3 </th>\n",
       "      <td> ds:H00017</td>\n",
       "      <td>                                 Esophageal cancer</td>\n",
       "    </tr>\n",
       "    <tr>\n",
       "      <th>4 </th>\n",
       "      <td> ds:H00018</td>\n",
       "      <td>                                    Gastric cancer</td>\n",
       "    </tr>\n",
       "    <tr>\n",
       "      <th>5 </th>\n",
       "      <td> ds:H00019</td>\n",
       "      <td>                                 Pancreatic cancer</td>\n",
       "    </tr>\n",
       "    <tr>\n",
       "      <th>6 </th>\n",
       "      <td> ds:H00020</td>\n",
       "      <td>                                 Colorectal cancer</td>\n",
       "    </tr>\n",
       "    <tr>\n",
       "      <th>7 </th>\n",
       "      <td> ds:H00022</td>\n",
       "      <td>                                    Bladder cancer</td>\n",
       "    </tr>\n",
       "    <tr>\n",
       "      <th>8 </th>\n",
       "      <td> ds:H00023</td>\n",
       "      <td>                                 Testicular cancer</td>\n",
       "    </tr>\n",
       "    <tr>\n",
       "      <th>9 </th>\n",
       "      <td> ds:H00024</td>\n",
       "      <td>                                   Prostate cancer</td>\n",
       "    </tr>\n",
       "    <tr>\n",
       "      <th>10</th>\n",
       "      <td> ds:H00025</td>\n",
       "      <td>                                     Penile cancer</td>\n",
       "    </tr>\n",
       "    <tr>\n",
       "      <th>11</th>\n",
       "      <td> ds:H00026</td>\n",
       "      <td>                                Endometrial Cancer</td>\n",
       "    </tr>\n",
       "    <tr>\n",
       "      <th>12</th>\n",
       "      <td> ds:H00027</td>\n",
       "      <td>                                    Ovarian cancer</td>\n",
       "    </tr>\n",
       "    <tr>\n",
       "      <th>13</th>\n",
       "      <td> ds:H00029</td>\n",
       "      <td>                                     Vulvar cancer</td>\n",
       "    </tr>\n",
       "    <tr>\n",
       "      <th>14</th>\n",
       "      <td> ds:H00030</td>\n",
       "      <td>                                   Cervical cancer</td>\n",
       "    </tr>\n",
       "    <tr>\n",
       "      <th>15</th>\n",
       "      <td> ds:H00031</td>\n",
       "      <td>                                     Breast cancer</td>\n",
       "    </tr>\n",
       "    <tr>\n",
       "      <th>16</th>\n",
       "      <td> ds:H00032</td>\n",
       "      <td>                                    Thyroid cancer</td>\n",
       "    </tr>\n",
       "    <tr>\n",
       "      <th>17</th>\n",
       "      <td> ds:H00044</td>\n",
       "      <td>                          Cancer of the anal canal</td>\n",
       "    </tr>\n",
       "    <tr>\n",
       "      <th>18</th>\n",
       "      <td> ds:H00047</td>\n",
       "      <td>                                Gallbladder cancer</td>\n",
       "    </tr>\n",
       "    <tr>\n",
       "      <th>19</th>\n",
       "      <td> ds:H00054</td>\n",
       "      <td>                             Nasopharyngeal cancer</td>\n",
       "    </tr>\n",
       "    <tr>\n",
       "      <th>20</th>\n",
       "      <td> ds:H00055</td>\n",
       "      <td>                                  Laryngeal cancer</td>\n",
       "    </tr>\n",
       "    <tr>\n",
       "      <th>21</th>\n",
       "      <td> ds:H00857</td>\n",
       "      <td>            Oligodontia-colorectal cancer syndrome</td>\n",
       "    </tr>\n",
       "    <tr>\n",
       "      <th>22</th>\n",
       "      <td> ds:H00876</td>\n",
       "      <td> Mismatch repair deficiency, including: Heredit...</td>\n",
       "    </tr>\n",
       "  </tbody>\n",
       "</table>\n",
       "</div>"
      ],
      "text/plain": [
       "           id                                               name\n",
       "0   ds:H00013                             Small cell lung cancer\n",
       "1   ds:H00014                         Non-small cell lung cancer\n",
       "2   ds:H00016                                        Oral cancer\n",
       "3   ds:H00017                                  Esophageal cancer\n",
       "4   ds:H00018                                     Gastric cancer\n",
       "5   ds:H00019                                  Pancreatic cancer\n",
       "6   ds:H00020                                  Colorectal cancer\n",
       "7   ds:H00022                                     Bladder cancer\n",
       "8   ds:H00023                                  Testicular cancer\n",
       "9   ds:H00024                                    Prostate cancer\n",
       "10  ds:H00025                                      Penile cancer\n",
       "11  ds:H00026                                 Endometrial Cancer\n",
       "12  ds:H00027                                     Ovarian cancer\n",
       "13  ds:H00029                                      Vulvar cancer\n",
       "14  ds:H00030                                    Cervical cancer\n",
       "15  ds:H00031                                      Breast cancer\n",
       "16  ds:H00032                                     Thyroid cancer\n",
       "17  ds:H00044                           Cancer of the anal canal\n",
       "18  ds:H00047                                 Gallbladder cancer\n",
       "19  ds:H00054                              Nasopharyngeal cancer\n",
       "20  ds:H00055                                   Laryngeal cancer\n",
       "21  ds:H00857             Oligodontia-colorectal cancer syndrome\n",
       "22  ds:H00876  Mismatch repair deficiency, including: Heredit..."
      ]
     },
     "execution_count": 2,
     "metadata": {},
     "output_type": "execute_result"
    }
   ],
   "source": [
    "# Find information about cancer from KEGG disease database.\n",
    "query = 'cancer'\n",
    "\n",
    "res = requests.get(KEGG_API_URL + '/find/disease/' + query)\n",
    "pathway_list = res.content.decode('utf8')\n",
    "\n",
    "disease_df = pd.read_csv(io.StringIO(pathway_list), delimiter='\\t',  header=None, names=['id', 'name'])\n",
    "disease_df"
   ]
  },
  {
   "cell_type": "markdown",
   "metadata": {},
   "source": [
    "## Piping the result to KEGG Pathway database to get list of related pathways"
   ]
  },
  {
   "cell_type": "code",
   "execution_count": 3,
   "metadata": {
    "collapsed": false
   },
   "outputs": [],
   "source": [
    "disease_ids = disease_df['id']\n",
    "disease_urls = disease_ids.apply(lambda x: KEGG_API_URL + 'get/' + x)\n",
    "\n",
    "def disease_parser(entry):\n",
    "    lines = entry.split('\\n')\n",
    "    data = {}\n",
    "    \n",
    "    last_key = None\n",
    "    for line in lines:\n",
    "        if '///' in line:\n",
    "            return data\n",
    "        \n",
    "        parts = line.split(' ')\n",
    "        if parts[0] is not None and len(parts[0]) != 0:\n",
    "            last_key = parts[0]\n",
    "            data[parts[0]] = line.replace(parts[0], '').strip()\n",
    "        else:\n",
    "            last_val = data[last_key]\n",
    "            data[last_key] = last_val + '|' + line.strip()\n",
    "    return data   \n",
    "\n",
    "result = []\n",
    "for url in disease_urls:\n",
    "        res = requests.get(url)\n",
    "        rows = disease_parser(res.content.decode('utf8'))\n",
    "        result.append(rows)"
   ]
  },
  {
   "cell_type": "code",
   "execution_count": 4,
   "metadata": {
    "collapsed": false
   },
   "outputs": [],
   "source": [
    "disease_df = pd.DataFrame(result)\n",
    "pathways = disease_df['PATHWAY'].dropna().unique()\n",
    "\n",
    "p_urls = []\n",
    "for pathway in pathways:\n",
    "    entries = pathway.split('|')\n",
    "    for en in entries:\n",
    "        url = KEGG_API_URL + 'get/' + en.split(' ')[0].split('(')[0] + '/kgml'\n",
    "        p_urls.append(url)"
   ]
  },
  {
   "cell_type": "markdown",
   "metadata": {},
   "source": [
    "## Import all pathways directly into Cytoscape"
   ]
  },
  {
   "cell_type": "code",
   "execution_count": 5,
   "metadata": {
    "collapsed": false
   },
   "outputs": [],
   "source": [
    "def create_from_list(network_list):\n",
    "    server_res = requests.post(BASE + 'networks?source=url&collection=' + query, data=json.dumps(network_list), headers=HEADERS)\n",
    "    return server_res.json()\n",
    "\n",
    "url_list = list(set(p_urls))\n",
    "pathway_suids = create_from_list(url_list)"
   ]
  },
  {
   "cell_type": "markdown",
   "metadata": {},
   "source": [
    "### Result\n",
    "In your Cytoscape window, you can see the pathway diagrams as interactive Cytoscape view:\n",
    "\n",
    "![](http://chianti.ucsd.edu/~kono/images/python_kegg_workflow.png)"
   ]
  },
  {
   "cell_type": "markdown",
   "metadata": {},
   "source": [
    "## Embed the result as Cytoscape.js Widget\n",
    "py2cytoscape has utility to visualize any Cytoscape network as an embedded widget.  You can do it with few lines of code:"
   ]
  },
  {
   "cell_type": "code",
   "execution_count": 6,
   "metadata": {
    "collapsed": false
   },
   "outputs": [
    {
     "data": {
      "application/javascript": [
       "if (window['cytoscape'] === undefined) {\n",
       "    var paths = {\n",
       "        cytoscape: 'http://cytoscape.github.io/cytoscape.js/api/cytoscape.js-latest/cytoscape.min'\n",
       "    };\n",
       "\n",
       "    require.config({\n",
       "        paths: paths\n",
       "    });\n",
       "\n",
       "    require(['cytoscape'], function (cytoscape) {\n",
       "        console.log('---------- Loading Cytoscape.js Module -----------');\n",
       "        window['cytoscape'] = cytoscape;\n",
       "\n",
       "        var event = document.createEvent(\"HTMLEvents\");\n",
       "        event.initEvent(\"load_cytoscape\", true, false);\n",
       "        window.dispatchEvent(event);\n",
       "    });\n",
       "}"
      ],
      "text/plain": [
       "<IPython.core.display.Javascript object>"
      ]
     },
     "metadata": {},
     "output_type": "display_data"
    },
    {
     "data": {
      "text/html": [
       "<!DOCTYPE html>\n",
       "<html>\n",
       "\n",
       "<head>\n",
       "    <meta charset=utf-8 />\n",
       "    <style type=\"text/css\">\n",
       "      body {\n",
       "          font: 14px helvetica neue, helvetica, arial, sans-serif;\n",
       "      }\n",
       "\n",
       "      #cyc7527ba1-36f3-40f5-b009-17e283275178 {\n",
       "        height: 700px;\n",
       "        width: 1098px;\n",
       "        position: absolute;\n",
       "        left: 4px;\n",
       "        top: 5px;\n",
       "        background: white;\n",
       "      }\n",
       "    </style>\n",
       "\n",
       "    <script>\n",
       "    (function() {\n",
       "      function render() {\n",
       "        $('#cyc7527ba1-36f3-40f5-b009-17e283275178').cytoscape({\n",
       "            elements: {\n",
       "                nodes: [{\"selected\": false, \"position\": {\"y\": 247.0, \"x\": 487.0}, \"data\": {\"name\": \"container\", \"shared_name\": \"container\", \"KEGG_NODE_X\": \"487\", \"KEGG_NODE_TYPE\": \"group\", \"KEGG_NODE_WIDTH\": \"59\", \"KEGG_NODE_SHAPE\": \"rectangle\", \"KEGG_NODE_FILL_COLOR\": \"#FFFFFF\", \"SUID\": 485, \"KEGG_NODE_HEIGHT\": \"48\", \"id\": \"485\", \"selected\": false, \"KEGG_NODE_Y\": \"247\"}}, {\"selected\": false, \"position\": {\"y\": 142.0, \"x\": 956.0}, \"data\": {\"name\": \"container\", \"shared_name\": \"container\", \"KEGG_NODE_X\": \"956\", \"KEGG_NODE_TYPE\": \"group\", \"KEGG_NODE_WIDTH\": \"48\", \"KEGG_NODE_SHAPE\": \"rectangle\", \"KEGG_NODE_FILL_COLOR\": \"#FFFFFF\", \"SUID\": 484, \"KEGG_NODE_HEIGHT\": \"36\", \"id\": \"484\", \"selected\": false, \"KEGG_NODE_Y\": \"142\"}}, {\"selected\": false, \"position\": {\"y\": 278.0, \"x\": 996.0}, \"data\": {\"name\": \"container\", \"shared_name\": \"container\", \"KEGG_NODE_X\": \"996\", \"KEGG_NODE_TYPE\": \"group\", \"KEGG_NODE_WIDTH\": \"48\", \"KEGG_NODE_SHAPE\": \"rectangle\", \"KEGG_NODE_FILL_COLOR\": \"#FFFFFF\", \"SUID\": 483, \"KEGG_NODE_HEIGHT\": \"36\", \"id\": \"483\", \"selected\": false, \"KEGG_NODE_Y\": \"278\"}}, {\"selected\": false, \"position\": {\"y\": 655.0, \"x\": 428.0}, \"data\": {\"KEGG_NODE_LABEL_LIST_FIRST\": \"ALK\", \"name\": \"path:hsa05223:54\", \"shared_name\": \"path:hsa05223:54\", \"KEGG_NODE_X\": \"428\", \"KEGG_NODE_LABEL\": \"ALK, CD246, NBLST3...\", \"KEGG_NODE_LABEL_COLOR\": \"#000000\", \"KEGG_NODE_TYPE\": \"gene\", \"KEGG_NODE_WIDTH\": \"46\", \"KEGG_NODE_SHAPE\": \"rectangle\", \"KEGG_NODE_FILL_COLOR\": \"#BFFFBF\", \"SUID\": 482, \"selected\": false, \"KEGG_NODE_HEIGHT\": \"17\", \"id\": \"482\", \"KEGG_ID\": [\"hsa:238\", \"hsa:27436\"], \"KEGG_NODE_LABEL_LIST\": [\"ALK\", \"CD246\", \"NBLST3...\"], \"KEGG_NODE_Y\": \"655\", \"KEGG_LINK\": \"http://www.kegg.jp/dbget-bin/www_bget?hsa:238+hsa:27436\"}}, {\"selected\": false, \"position\": {\"y\": 588.0, \"x\": 818.0}, \"data\": {\"KEGG_NODE_LABEL_LIST_FIRST\": \"PI3K-Akt signaling pathway\", \"name\": \"path:hsa05223:53\", \"shared_name\": \"path:hsa05223:53\", \"KEGG_NODE_X\": \"818\", \"KEGG_NODE_LABEL\": \"PI3K-Akt signaling pathway\", \"KEGG_NODE_LABEL_COLOR\": \"#000000\", \"KEGG_NODE_TYPE\": \"map\", \"KEGG_NODE_WIDTH\": \"104\", \"KEGG_NODE_SHAPE\": \"roundrectangle\", \"KEGG_NODE_FILL_COLOR\": \"#89b9cE\", \"SUID\": 481, \"selected\": false, \"KEGG_NODE_HEIGHT\": \"34\", \"id\": \"481\", \"KEGG_ID\": [\"path:hsa04151\"], \"KEGG_NODE_LABEL_LIST\": [\"PI3K-Akt signaling pathway\"], \"KEGG_NODE_Y\": \"588\", \"KEGG_LINK\": \"http://www.kegg.jp/dbget-bin/www_bget?hsa04151\"}}, {\"selected\": false, \"position\": {\"y\": 588.0, \"x\": 375.0}, \"data\": {\"KEGG_NODE_LABEL_LIST_FIRST\": \"ErbB signaling pathway\", \"name\": \"path:hsa05223:52\", \"shared_name\": \"path:hsa05223:52\", \"KEGG_NODE_X\": \"375\", \"KEGG_NODE_LABEL\": \"ErbB signaling pathway\", \"KEGG_NODE_LABEL_COLOR\": \"#000000\", \"KEGG_NODE_TYPE\": \"map\", \"KEGG_NODE_WIDTH\": \"104\", \"KEGG_NODE_SHAPE\": \"roundrectangle\", \"KEGG_NODE_FILL_COLOR\": \"#89b9cE\", \"SUID\": 480, \"selected\": false, \"KEGG_NODE_HEIGHT\": \"34\", \"id\": \"480\", \"KEGG_ID\": [\"path:hsa04012\"], \"KEGG_NODE_LABEL_LIST\": [\"ErbB signaling pathway\"], \"KEGG_NODE_Y\": \"588\", \"KEGG_LINK\": \"http://www.kegg.jp/dbget-bin/www_bget?hsa04012\"}}, {\"selected\": false, \"position\": {\"y\": 433.0, \"x\": 781.0}, \"data\": {\"KEGG_NODE_LABEL_LIST_FIRST\": \"MAPK signaling pathway\", \"name\": \"path:hsa05223:51\", \"shared_name\": \"path:hsa05223:51\", \"KEGG_NODE_X\": \"781\", \"KEGG_NODE_LABEL\": \"MAPK signaling pathway\", \"KEGG_NODE_LABEL_COLOR\": \"#000000\", \"KEGG_NODE_TYPE\": \"map\", \"KEGG_NODE_WIDTH\": \"104\", \"KEGG_NODE_SHAPE\": \"roundrectangle\", \"KEGG_NODE_FILL_COLOR\": \"#89b9cE\", \"SUID\": 479, \"selected\": false, \"KEGG_NODE_HEIGHT\": \"34\", \"id\": \"479\", \"KEGG_ID\": [\"path:hsa04010\"], \"KEGG_NODE_LABEL_LIST\": [\"MAPK signaling pathway\"], \"KEGG_NODE_Y\": \"433\", \"KEGG_LINK\": \"http://www.kegg.jp/dbget-bin/www_bget?hsa04010\"}}, {\"selected\": false, \"position\": {\"y\": 483.0, \"x\": 703.0}, \"data\": {\"KEGG_NODE_LABEL_LIST_FIRST\": \"Calcium signaling pathway\", \"name\": \"path:hsa05223:50\", \"shared_name\": \"path:hsa05223:50\", \"KEGG_NODE_X\": \"703\", \"KEGG_NODE_LABEL\": \"Calcium signaling pathway\", \"KEGG_NODE_LABEL_COLOR\": \"#000000\", \"KEGG_NODE_TYPE\": \"map\", \"KEGG_NODE_WIDTH\": \"104\", \"KEGG_NODE_SHAPE\": \"roundrectangle\", \"KEGG_NODE_FILL_COLOR\": \"#89b9cE\", \"SUID\": 478, \"selected\": false, \"KEGG_NODE_HEIGHT\": \"34\", \"id\": \"478\", \"KEGG_ID\": [\"path:hsa04020\"], \"KEGG_NODE_LABEL_LIST\": [\"Calcium signaling pathway\"], \"KEGG_NODE_Y\": \"483\", \"KEGG_LINK\": \"http://www.kegg.jp/dbget-bin/www_bget?hsa04020\"}}, {\"selected\": false, \"position\": {\"y\": 614.0, \"x\": 1076.0}, \"data\": {\"KEGG_NODE_LABEL_LIST_FIRST\": \"Cell cycle\", \"name\": \"path:hsa05223:49\", \"shared_name\": \"path:hsa05223:49\", \"KEGG_NODE_X\": \"1076\", \"KEGG_NODE_LABEL\": \"Cell cycle\", \"KEGG_NODE_LABEL_COLOR\": \"#000000\", \"KEGG_NODE_TYPE\": \"map\", \"KEGG_NODE_WIDTH\": \"104\", \"KEGG_NODE_SHAPE\": \"roundrectangle\", \"KEGG_NODE_FILL_COLOR\": \"#89b9cE\", \"SUID\": 477, \"selected\": false, \"KEGG_NODE_HEIGHT\": \"34\", \"id\": \"477\", \"KEGG_ID\": [\"path:hsa04110\"], \"KEGG_NODE_LABEL_LIST\": [\"Cell cycle\"], \"KEGG_NODE_Y\": \"614\", \"KEGG_LINK\": \"http://www.kegg.jp/dbget-bin/www_bget?hsa04110\"}}, {\"selected\": false, \"position\": {\"y\": 555.0, \"x\": 1076.0}, \"data\": {\"KEGG_NODE_LABEL_LIST_FIRST\": \"p53 signaling pathway\", \"name\": \"path:hsa05223:48\", \"shared_name\": \"path:hsa05223:48\", \"KEGG_NODE_X\": \"1076\", \"KEGG_NODE_LABEL\": \"p53 signaling pathway\", \"KEGG_NODE_LABEL_COLOR\": \"#000000\", \"KEGG_NODE_TYPE\": \"map\", \"KEGG_NODE_WIDTH\": \"104\", \"KEGG_NODE_SHAPE\": \"roundrectangle\", \"KEGG_NODE_FILL_COLOR\": \"#89b9cE\", \"SUID\": 476, \"selected\": false, \"KEGG_NODE_HEIGHT\": \"34\", \"id\": \"476\", \"KEGG_ID\": [\"path:hsa04115\"], \"KEGG_NODE_LABEL_LIST\": [\"p53 signaling pathway\"], \"KEGG_NODE_Y\": \"555\", \"KEGG_LINK\": \"http://www.kegg.jp/dbget-bin/www_bget?hsa04115\"}}, {\"selected\": false, \"position\": {\"y\": 229.0, \"x\": 1076.0}, \"data\": {\"KEGG_NODE_LABEL_LIST_FIRST\": \"Cell cycle\", \"name\": \"path:hsa05223:47\", \"shared_name\": \"path:hsa05223:47\", \"KEGG_NODE_X\": \"1076\", \"KEGG_NODE_LABEL\": \"Cell cycle\", \"KEGG_NODE_LABEL_COLOR\": \"#000000\", \"KEGG_NODE_TYPE\": \"map\", \"KEGG_NODE_WIDTH\": \"104\", \"KEGG_NODE_SHAPE\": \"roundrectangle\", \"KEGG_NODE_FILL_COLOR\": \"#89b9cE\", \"SUID\": 475, \"selected\": false, \"KEGG_NODE_HEIGHT\": \"34\", \"id\": \"475\", \"KEGG_ID\": [\"path:hsa04110\"], \"KEGG_NODE_LABEL_LIST\": [\"Cell cycle\"], \"KEGG_NODE_Y\": \"229\", \"KEGG_LINK\": \"http://www.kegg.jp/dbget-bin/www_bget?hsa04110\"}}, {\"selected\": false, \"position\": {\"y\": 324.0, \"x\": 365.0}, \"data\": {\"KEGG_NODE_LABEL_LIST_FIRST\": \"KRAS\", \"name\": \"path:hsa05223:46\", \"shared_name\": \"path:hsa05223:46\", \"KEGG_NODE_X\": \"365\", \"KEGG_NODE_LABEL\": \"KRAS, C-K-RAS, CFC2, K-RAS2A, K-RAS2B, K-RAS4A, K-RAS4B, KI-RAS, KRAS1, KRAS2, NS, NS3, RASK2\", \"KEGG_NODE_LABEL_COLOR\": \"#000000\", \"KEGG_NODE_TYPE\": \"gene\", \"KEGG_NODE_WIDTH\": \"46\", \"KEGG_NODE_SHAPE\": \"rectangle\", \"KEGG_NODE_FILL_COLOR\": \"#BFFFBF\", \"SUID\": 474, \"selected\": false, \"KEGG_NODE_HEIGHT\": \"17\", \"id\": \"474\", \"KEGG_ID\": [\"hsa:3845\"], \"KEGG_NODE_LABEL_LIST\": [\"KRAS\", \"C-K-RAS\", \"CFC2\", \"K-RAS2A\", \"K-RAS2B\", \"K-RAS4A\", \"K-RAS4B\", \"KI-RAS\", \"KRAS1\", \"KRAS2\", \"NS\", \"NS3\", \"RASK2\"], \"KEGG_NODE_Y\": \"324\", \"KEGG_LINK\": \"http://www.kegg.jp/dbget-bin/www_bget?hsa:3845\"}}, {\"selected\": false, \"position\": {\"y\": 399.0, \"x\": 672.0}, \"data\": {\"KEGG_NODE_LABEL_LIST_FIRST\": \"ARAF\", \"name\": \"path:hsa05223:45\", \"shared_name\": \"path:hsa05223:45\", \"KEGG_NODE_X\": \"672\", \"KEGG_NODE_LABEL\": \"ARAF, A-RAF, ARAF1, PKS2, RAFA1...\", \"KEGG_NODE_LABEL_COLOR\": \"#000000\", \"KEGG_NODE_TYPE\": \"gene\", \"KEGG_NODE_WIDTH\": \"46\", \"KEGG_NODE_SHAPE\": \"rectangle\", \"KEGG_NODE_FILL_COLOR\": \"#BFFFBF\", \"SUID\": 473, \"selected\": false, \"KEGG_NODE_HEIGHT\": \"17\", \"id\": \"473\", \"KEGG_ID\": [\"hsa:369\", \"hsa:5894\", \"hsa:673\"], \"KEGG_NODE_LABEL_LIST\": [\"ARAF\", \"A-RAF\", \"ARAF1\", \"PKS2\", \"RAFA1...\"], \"KEGG_NODE_Y\": \"399\", \"KEGG_LINK\": \"http://www.kegg.jp/dbget-bin/www_bget?hsa:369+hsa:5894+hsa:673\"}}, {\"selected\": false, \"position\": {\"y\": 399.0, \"x\": 754.0}, \"data\": {\"KEGG_NODE_LABEL_LIST_FIRST\": \"MAP2K1\", \"name\": \"path:hsa05223:44\", \"shared_name\": \"path:hsa05223:44\", \"KEGG_NODE_X\": \"754\", \"KEGG_NODE_LABEL\": \"MAP2K1, CFC3, MAPKK1, MEK1, MKK1, PRKMK1...\", \"KEGG_NODE_LABEL_COLOR\": \"#000000\", \"KEGG_NODE_TYPE\": \"gene\", \"KEGG_NODE_WIDTH\": \"46\", \"KEGG_NODE_SHAPE\": \"rectangle\", \"KEGG_NODE_FILL_COLOR\": \"#BFFFBF\", \"SUID\": 472, \"selected\": false, \"KEGG_NODE_HEIGHT\": \"17\", \"id\": \"472\", \"KEGG_ID\": [\"hsa:5604\", \"hsa:5605\"], \"KEGG_NODE_LABEL_LIST\": [\"MAP2K1\", \"CFC3\", \"MAPKK1\", \"MEK1\", \"MKK1\", \"PRKMK1...\"], \"KEGG_NODE_Y\": \"399\", \"KEGG_LINK\": \"http://www.kegg.jp/dbget-bin/www_bget?hsa:5604+hsa:5605\"}}, {\"selected\": false, \"position\": {\"y\": 399.0, \"x\": 838.0}, \"data\": {\"KEGG_NODE_LABEL_LIST_FIRST\": \"MAPK1\", \"name\": \"path:hsa05223:43\", \"shared_name\": \"path:hsa05223:43\", \"KEGG_NODE_X\": \"838\", \"KEGG_NODE_LABEL\": \"MAPK1, ERK, ERK-2, ERK2, ERT1, MAPK2, P42MAPK, PRKM1, PRKM2, p38, p40, p41, p41mapk, p42-MAPK...\", \"KEGG_NODE_LABEL_COLOR\": \"#000000\", \"KEGG_NODE_TYPE\": \"gene\", \"KEGG_NODE_WIDTH\": \"46\", \"KEGG_NODE_SHAPE\": \"rectangle\", \"KEGG_NODE_FILL_COLOR\": \"#BFFFBF\", \"SUID\": 471, \"selected\": false, \"KEGG_NODE_HEIGHT\": \"17\", \"id\": \"471\", \"KEGG_ID\": [\"hsa:5594\", \"hsa:5595\"], \"KEGG_NODE_LABEL_LIST\": [\"MAPK1\", \"ERK\", \"ERK-2\", \"ERK2\", \"ERT1\", \"MAPK2\", \"P42MAPK\", \"PRKM1\", \"PRKM2\", \"p38\", \"p40\", \"p41\", \"p41mapk\", \"p42-MAPK...\"], \"KEGG_NODE_Y\": \"399\", \"KEGG_LINK\": \"http://www.kegg.jp/dbget-bin/www_bget?hsa:5594+hsa:5595\"}}, {\"selected\": false, \"position\": {\"y\": 58.0, \"x\": 170.0}, \"data\": {\"KEGG_NODE_LABEL_LIST_FIRST\": \"TITLE:Non-small cell lung cancer\", \"name\": \"path:hsa05223:42\", \"shared_name\": \"path:hsa05223:42\", \"KEGG_NODE_X\": \"170\", \"KEGG_NODE_LABEL\": \"TITLE:Non-small cell lung cancer\", \"KEGG_NODE_LABEL_COLOR\": \"#000000\", \"KEGG_NODE_TYPE\": \"map\", \"KEGG_NODE_WIDTH\": \"260\", \"KEGG_NODE_SHAPE\": \"roundrectangle\", \"KEGG_NODE_FILL_COLOR\": \"#f5f5f5\", \"SUID\": 470, \"selected\": false, \"KEGG_NODE_HEIGHT\": \"25\", \"id\": \"470\", \"KEGG_ID\": [\"path:hsa05223\"], \"KEGG_NODE_LABEL_LIST\": [\"TITLE:Non-small cell lung cancer\"], \"KEGG_NODE_Y\": \"58\", \"KEGG_LINK\": \"http://www.kegg.jp/dbget-bin/www_bget?hsa05223\"}}, {\"selected\": false, \"position\": {\"y\": 175.0, \"x\": 407.0}, \"data\": {\"KEGG_NODE_LABEL_LIST_FIRST\": \"FHIT\", \"name\": \"path:hsa05223:41\", \"shared_name\": \"path:hsa05223:41\", \"KEGG_NODE_X\": \"407\", \"KEGG_NODE_LABEL\": \"FHIT, AP3Aase, FRA3B\", \"KEGG_NODE_LABEL_COLOR\": \"#000000\", \"KEGG_NODE_TYPE\": \"gene\", \"KEGG_NODE_WIDTH\": \"46\", \"KEGG_NODE_SHAPE\": \"rectangle\", \"KEGG_NODE_FILL_COLOR\": \"#BFFFBF\", \"SUID\": 469, \"selected\": false, \"KEGG_NODE_HEIGHT\": \"17\", \"id\": \"469\", \"KEGG_ID\": [\"hsa:2272\"], \"KEGG_NODE_LABEL_LIST\": [\"FHIT\", \"AP3Aase\", \"FRA3B\"], \"KEGG_NODE_Y\": \"175\", \"KEGG_LINK\": \"http://www.kegg.jp/dbget-bin/www_bget?hsa:2272\"}}, {\"selected\": false, \"position\": {\"y\": 553.0, \"x\": 445.0}, \"data\": {\"KEGG_NODE_LABEL_LIST_FIRST\": \"PIK3CA\", \"name\": \"path:hsa05223:40\", \"shared_name\": \"path:hsa05223:40\", \"KEGG_NODE_X\": \"445\", \"KEGG_NODE_LABEL\": \"PIK3CA, CLOVE, CWS5, MCAP, MCM, MCMTC, PI3K, p110-alpha...\", \"KEGG_NODE_LABEL_COLOR\": \"#000000\", \"KEGG_NODE_TYPE\": \"gene\", \"KEGG_NODE_WIDTH\": \"46\", \"KEGG_NODE_SHAPE\": \"rectangle\", \"KEGG_NODE_FILL_COLOR\": \"#BFFFBF\", \"SUID\": 468, \"selected\": false, \"KEGG_NODE_HEIGHT\": \"17\", \"id\": \"468\", \"KEGG_ID\": [\"hsa:5290\", \"hsa:5291\", \"hsa:5293\", \"hsa:5294\"], \"KEGG_NODE_LABEL_LIST\": [\"PIK3CA\", \"CLOVE\", \"CWS5\", \"MCAP\", \"MCM\", \"MCMTC\", \"PI3K\", \"p110-alpha...\"], \"KEGG_NODE_Y\": \"553\", \"KEGG_LINK\": \"http://www.kegg.jp/dbget-bin/www_bget?hsa:5290+hsa:5291+hsa:5293+hsa:5294\"}}, {\"selected\": false, \"position\": {\"y\": 553.0, \"x\": 635.0}, \"data\": {\"KEGG_NODE_LABEL_LIST_FIRST\": \"AKT3\", \"name\": \"path:hsa05223:39\", \"shared_name\": \"path:hsa05223:39\", \"KEGG_NODE_X\": \"635\", \"KEGG_NODE_LABEL\": \"AKT3, MPPH, PKB-GAMMA, PKBG, PRKBG, RAC-PK-gamma, RAC-gamma, STK-2...\", \"KEGG_NODE_LABEL_COLOR\": \"#000000\", \"KEGG_NODE_TYPE\": \"gene\", \"KEGG_NODE_WIDTH\": \"46\", \"KEGG_NODE_SHAPE\": \"rectangle\", \"KEGG_NODE_FILL_COLOR\": \"#BFFFBF\", \"SUID\": 467, \"selected\": false, \"KEGG_NODE_HEIGHT\": \"17\", \"id\": \"467\", \"KEGG_ID\": [\"hsa:10000\", \"hsa:207\", \"hsa:208\"], \"KEGG_NODE_LABEL_LIST\": [\"AKT3\", \"MPPH\", \"PKB-GAMMA\", \"PKBG\", \"PRKBG\", \"RAC-PK-gamma\", \"RAC-gamma\", \"STK-2...\"], \"KEGG_NODE_Y\": \"553\", \"KEGG_LINK\": \"http://www.kegg.jp/dbget-bin/www_bget?hsa:10000+hsa:207+hsa:208\"}}, {\"selected\": false, \"position\": {\"y\": 243.0, \"x\": 932.0}, \"data\": {\"KEGG_NODE_LABEL_LIST_FIRST\": \"CDKN2A\", \"name\": \"path:hsa05223:38\", \"shared_name\": \"path:hsa05223:38\", \"KEGG_NODE_X\": \"932\", \"KEGG_NODE_LABEL\": \"CDKN2A, ARF, CDK4I, CDKN2, CMM2, INK4, INK4A, MLM, MTS-1, MTS1, P14, P14ARF, P16, P16-INK4A, P16INK4, P16INK4A, P19, P19ARF, TP16\", \"KEGG_NODE_LABEL_COLOR\": \"#000000\", \"KEGG_NODE_TYPE\": \"gene\", \"KEGG_NODE_WIDTH\": \"46\", \"KEGG_NODE_SHAPE\": \"rectangle\", \"KEGG_NODE_FILL_COLOR\": \"#BFFFBF\", \"SUID\": 466, \"selected\": false, \"KEGG_NODE_HEIGHT\": \"17\", \"id\": \"466\", \"KEGG_ID\": [\"hsa:1029\"], \"KEGG_NODE_LABEL_LIST\": [\"CDKN2A\", \"ARF\", \"CDK4I\", \"CDKN2\", \"CMM2\", \"INK4\", \"INK4A\", \"MLM\", \"MTS-1\", \"MTS1\", \"P14\", \"P14ARF\", \"P16\", \"P16-INK4A\", \"P16INK4\", \"P16INK4A\", \"P19\", \"P19ARF\", \"TP16\"], \"KEGG_NODE_Y\": \"243\", \"KEGG_LINK\": \"http://www.kegg.jp/dbget-bin/www_bget?hsa:1029\"}}, {\"selected\": false, \"position\": {\"y\": 399.0, \"x\": 986.0}, \"data\": {\"KEGG_NODE_LABEL_LIST_FIRST\": \"CCND1\", \"name\": \"path:hsa05223:37\", \"shared_name\": \"path:hsa05223:37\", \"KEGG_NODE_X\": \"986\", \"KEGG_NODE_LABEL\": \"CCND1, BCL1, D11S287E, PRAD1, U21B31\", \"KEGG_NODE_LABEL_COLOR\": \"#000000\", \"KEGG_NODE_TYPE\": \"gene\", \"KEGG_NODE_WIDTH\": \"46\", \"KEGG_NODE_SHAPE\": \"rectangle\", \"KEGG_NODE_FILL_COLOR\": \"#BFFFBF\", \"SUID\": 465, \"selected\": false, \"KEGG_NODE_HEIGHT\": \"17\", \"id\": \"465\", \"KEGG_ID\": [\"hsa:595\"], \"KEGG_NODE_LABEL_LIST\": [\"CCND1\", \"BCL1\", \"D11S287E\", \"PRAD1\", \"U21B31\"], \"KEGG_NODE_Y\": \"399\", \"KEGG_LINK\": \"http://www.kegg.jp/dbget-bin/www_bget?hsa:595\"}}, {\"selected\": false, \"position\": {\"y\": 233.0, \"x\": 493.0}, \"data\": {\"KEGG_NODE_LABEL_LIST_FIRST\": \"RASSF5\", \"name\": \"path:hsa05223:36\", \"shared_name\": \"path:hsa05223:36\", \"KEGG_NODE_X\": \"493\", \"KEGG_NODE_LABEL\": \"RASSF5, Maxp1, NORE1, NORE1A, NORE1B, RAPL, RASSF3\", \"KEGG_NODE_LABEL_COLOR\": \"#000000\", \"KEGG_NODE_TYPE\": \"gene\", \"KEGG_NODE_WIDTH\": \"46\", \"KEGG_NODE_SHAPE\": \"rectangle\", \"KEGG_NODE_FILL_COLOR\": \"#BFFFBF\", \"SUID\": 464, \"selected\": false, \"KEGG_NODE_HEIGHT\": \"17\", \"id\": \"464\", \"KEGG_ID\": [\"hsa:83593\"], \"KEGG_NODE_LABEL_LIST\": [\"RASSF5\", \"Maxp1\", \"NORE1\", \"NORE1A\", \"NORE1B\", \"RAPL\", \"RASSF3\"], \"KEGG_NODE_Y\": \"233\", \"KEGG_LINK\": \"http://www.kegg.jp/dbget-bin/www_bget?hsa:83593\"}}, {\"selected\": false, \"position\": {\"y\": 262.0, \"x\": 482.0}, \"data\": {\"KEGG_NODE_LABEL_LIST_FIRST\": \"RASSF1\", \"name\": \"path:hsa05223:35\", \"shared_name\": \"path:hsa05223:35\", \"KEGG_NODE_X\": \"482\", \"KEGG_NODE_LABEL\": \"RASSF1, 123F2, NORE2A, RASSF1A, RDA32, REH3P21\", \"KEGG_NODE_LABEL_COLOR\": \"#000000\", \"KEGG_NODE_TYPE\": \"gene\", \"KEGG_NODE_WIDTH\": \"46\", \"KEGG_NODE_SHAPE\": \"rectangle\", \"KEGG_NODE_FILL_COLOR\": \"#BFFFBF\", \"SUID\": 463, \"selected\": false, \"KEGG_NODE_HEIGHT\": \"17\", \"id\": \"463\", \"KEGG_ID\": [\"hsa:11186\"], \"KEGG_NODE_LABEL_LIST\": [\"RASSF1\", \"123F2\", \"NORE2A\", \"RASSF1A\", \"RDA32\", \"REH3P21\"], \"KEGG_NODE_Y\": \"262\", \"KEGG_LINK\": \"http://www.kegg.jp/dbget-bin/www_bget?hsa:11186\"}}, {\"selected\": false, \"position\": {\"y\": 151.0, \"x\": 956.0}, \"data\": {\"KEGG_NODE_LABEL_LIST_FIRST\": \"RXRA\", \"name\": \"path:hsa05223:34\", \"shared_name\": \"path:hsa05223:34\", \"KEGG_NODE_X\": \"956\", \"KEGG_NODE_LABEL\": \"RXRA, NR2B1...\", \"KEGG_NODE_LABEL_COLOR\": \"#000000\", \"KEGG_NODE_TYPE\": \"gene\", \"KEGG_NODE_WIDTH\": \"46\", \"KEGG_NODE_SHAPE\": \"rectangle\", \"KEGG_NODE_FILL_COLOR\": \"#BFFFBF\", \"SUID\": 462, \"selected\": false, \"KEGG_NODE_HEIGHT\": \"17\", \"id\": \"462\", \"KEGG_ID\": [\"hsa:6256\", \"hsa:6257\", \"hsa:6258\"], \"KEGG_NODE_LABEL_LIST\": [\"RXRA\", \"NR2B1...\"], \"KEGG_NODE_Y\": \"151\", \"KEGG_LINK\": \"http://www.kegg.jp/dbget-bin/www_bget?hsa:6256+hsa:6257+hsa:6258\"}}, {\"selected\": false, \"position\": {\"y\": 552.0, \"x\": 544.0}, \"data\": {\"KEGG_NODE_LABEL_LIST_FIRST\": \"Phosphatidylinositol-3,4,5-trisphosphate\", \"name\": \"path:hsa05223:33\", \"shared_name\": \"path:hsa05223:33\", \"KEGG_NODE_X\": \"544\", \"KEGG_NODE_LABEL\": \"C05981\", \"KEGG_NODE_LABEL_COLOR\": \"#000000\", \"KEGG_NODE_TYPE\": \"compound\", \"KEGG_NODE_WIDTH\": \"8\", \"KEGG_NODE_SHAPE\": \"circle\", \"KEGG_NODE_FILL_COLOR\": \"#FFFFFF\", \"SUID\": 461, \"selected\": false, \"KEGG_NODE_HEIGHT\": \"8\", \"id\": \"461\", \"KEGG_ID\": [\"cpd:C05981\"], \"KEGG_NODE_LABEL_LIST\": [\"C05981\"], \"KEGG_NODE_Y\": \"552\", \"KEGG_LINK\": \"http://www.kegg.jp/dbget-bin/www_bget?C05981\"}}, {\"selected\": false, \"position\": {\"y\": 399.0, \"x\": 424.0}, \"data\": {\"KEGG_NODE_LABEL_LIST_FIRST\": \"GRB2\", \"name\": \"path:hsa05223:32\", \"shared_name\": \"path:hsa05223:32\", \"KEGG_NODE_X\": \"424\", \"KEGG_NODE_LABEL\": \"GRB2, ASH, EGFRBP-GRB2, Grb3-3, MST084, MSTP084, NCKAP2\", \"KEGG_NODE_LABEL_COLOR\": \"#000000\", \"KEGG_NODE_TYPE\": \"gene\", \"KEGG_NODE_WIDTH\": \"46\", \"KEGG_NODE_SHAPE\": \"rectangle\", \"KEGG_NODE_FILL_COLOR\": \"#BFFFBF\", \"SUID\": 460, \"selected\": false, \"KEGG_NODE_HEIGHT\": \"17\", \"id\": \"460\", \"KEGG_ID\": [\"hsa:2885\"], \"KEGG_NODE_LABEL_LIST\": [\"GRB2\", \"ASH\", \"EGFRBP-GRB2\", \"Grb3-3\", \"MST084\", \"MSTP084\", \"NCKAP2\"], \"KEGG_NODE_Y\": \"399\", \"KEGG_LINK\": \"http://www.kegg.jp/dbget-bin/www_bget?hsa:2885\"}}, {\"selected\": false, \"position\": {\"y\": 399.0, \"x\": 507.0}, \"data\": {\"KEGG_NODE_LABEL_LIST_FIRST\": \"SOS1\", \"name\": \"path:hsa05223:31\", \"shared_name\": \"path:hsa05223:31\", \"KEGG_NODE_X\": \"507\", \"KEGG_NODE_LABEL\": \"SOS1, GF1, GGF1, GINGF, HGF, NS4...\", \"KEGG_NODE_LABEL_COLOR\": \"#000000\", \"KEGG_NODE_TYPE\": \"gene\", \"KEGG_NODE_WIDTH\": \"46\", \"KEGG_NODE_SHAPE\": \"rectangle\", \"KEGG_NODE_FILL_COLOR\": \"#BFFFBF\", \"SUID\": 459, \"selected\": false, \"KEGG_NODE_HEIGHT\": \"17\", \"id\": \"459\", \"KEGG_ID\": [\"hsa:6654\", \"hsa:6655\"], \"KEGG_NODE_LABEL_LIST\": [\"SOS1\", \"GF1\", \"GGF1\", \"GINGF\", \"HGF\", \"NS4...\"], \"KEGG_NODE_Y\": \"399\", \"KEGG_LINK\": \"http://www.kegg.jp/dbget-bin/www_bget?hsa:6654+hsa:6655\"}}, {\"selected\": false, \"position\": {\"y\": 575.0, \"x\": 591.0}, \"data\": {\"KEGG_NODE_LABEL_LIST_FIRST\": \"PDPK1\", \"name\": \"path:hsa05223:30\", \"shared_name\": \"path:hsa05223:30\", \"KEGG_NODE_X\": \"591\", \"KEGG_NODE_LABEL\": \"PDPK1, PDK1, PDPK2, PRO0461\", \"KEGG_NODE_LABEL_COLOR\": \"#000000\", \"KEGG_NODE_TYPE\": \"gene\", \"KEGG_NODE_WIDTH\": \"46\", \"KEGG_NODE_SHAPE\": \"rectangle\", \"KEGG_NODE_FILL_COLOR\": \"#BFFFBF\", \"SUID\": 458, \"selected\": false, \"KEGG_NODE_HEIGHT\": \"17\", \"id\": \"458\", \"KEGG_ID\": [\"hsa:5170\"], \"KEGG_NODE_LABEL_LIST\": [\"PDPK1\", \"PDK1\", \"PDPK2\", \"PRO0461\"], \"KEGG_NODE_Y\": \"575\", \"KEGG_LINK\": \"http://www.kegg.jp/dbget-bin/www_bget?hsa:5170\"}}, {\"selected\": false, \"position\": {\"y\": 134.0, \"x\": 956.0}, \"data\": {\"KEGG_NODE_LABEL_LIST_FIRST\": \"RARB\", \"name\": \"path:hsa05223:29\", \"shared_name\": \"path:hsa05223:29\", \"KEGG_NODE_X\": \"956\", \"KEGG_NODE_LABEL\": \"RARB, HAP, MCOPS12, NR1B2, RRB2\", \"KEGG_NODE_LABEL_COLOR\": \"#000000\", \"KEGG_NODE_TYPE\": \"gene\", \"KEGG_NODE_WIDTH\": \"46\", \"KEGG_NODE_SHAPE\": \"rectangle\", \"KEGG_NODE_FILL_COLOR\": \"#BFFFBF\", \"SUID\": 457, \"selected\": false, \"KEGG_NODE_HEIGHT\": \"17\", \"id\": \"457\", \"KEGG_ID\": [\"hsa:5915\"], \"KEGG_NODE_LABEL_LIST\": [\"RARB\", \"HAP\", \"MCOPS12\", \"NR1B2\", \"RRB2\"], \"KEGG_NODE_Y\": \"134\", \"KEGG_LINK\": \"http://www.kegg.jp/dbget-bin/www_bget?hsa:5915\"}}, {\"selected\": false, \"position\": {\"y\": 280.0, \"x\": 1079.0}, \"data\": {\"KEGG_NODE_LABEL_LIST_FIRST\": \"RB1\", \"name\": \"path:hsa05223:28\", \"shared_name\": \"path:hsa05223:28\", \"KEGG_NODE_X\": \"1079\", \"KEGG_NODE_LABEL\": \"RB1, OSRC, PPP1R130, RB, p105-Rb, pRb, pp110\", \"KEGG_NODE_LABEL_COLOR\": \"#000000\", \"KEGG_NODE_TYPE\": \"gene\", \"KEGG_NODE_WIDTH\": \"46\", \"KEGG_NODE_SHAPE\": \"rectangle\", \"KEGG_NODE_FILL_COLOR\": \"#BFFFBF\", \"SUID\": 456, \"selected\": false, \"KEGG_NODE_HEIGHT\": \"17\", \"id\": \"456\", \"KEGG_ID\": [\"hsa:5925\"], \"KEGG_NODE_LABEL_LIST\": [\"RB1\", \"OSRC\", \"PPP1R130\", \"RB\", \"p105-Rb\", \"pRb\", \"pp110\"], \"KEGG_NODE_Y\": \"280\", \"KEGG_LINK\": \"http://www.kegg.jp/dbget-bin/www_bget?hsa:5925\"}}, {\"selected\": false, \"position\": {\"y\": 475.0, \"x\": 218.0}, \"data\": {\"KEGG_NODE_LABEL_LIST_FIRST\": \"EGF\", \"name\": \"path:hsa05223:27\", \"shared_name\": \"path:hsa05223:27\", \"KEGG_NODE_X\": \"218\", \"KEGG_NODE_LABEL\": \"EGF, HOMG4, URG\", \"KEGG_NODE_LABEL_COLOR\": \"#000000\", \"KEGG_NODE_TYPE\": \"gene\", \"KEGG_NODE_WIDTH\": \"46\", \"KEGG_NODE_SHAPE\": \"rectangle\", \"KEGG_NODE_FILL_COLOR\": \"#BFFFBF\", \"SUID\": 455, \"selected\": false, \"KEGG_NODE_HEIGHT\": \"17\", \"id\": \"455\", \"KEGG_ID\": [\"hsa:1950\"], \"KEGG_NODE_LABEL_LIST\": [\"EGF\", \"HOMG4\", \"URG\"], \"KEGG_NODE_Y\": \"475\", \"KEGG_LINK\": \"http://www.kegg.jp/dbget-bin/www_bget?hsa:1950\"}}, {\"selected\": false, \"position\": {\"y\": 500.0, \"x\": 303.0}, \"data\": {\"KEGG_NODE_LABEL_LIST_FIRST\": \"ERBB2\", \"name\": \"path:hsa05223:26\", \"shared_name\": \"path:hsa05223:26\", \"KEGG_NODE_X\": \"303\", \"KEGG_NODE_LABEL\": \"ERBB2, CD340, HER-2, HER-2/neu, HER2, MLN_19, NEU, NGL, TKR1\", \"KEGG_NODE_LABEL_COLOR\": \"#000000\", \"KEGG_NODE_TYPE\": \"gene\", \"KEGG_NODE_WIDTH\": \"46\", \"KEGG_NODE_SHAPE\": \"rectangle\", \"KEGG_NODE_FILL_COLOR\": \"#BFFFBF\", \"SUID\": 454, \"selected\": false, \"KEGG_NODE_HEIGHT\": \"17\", \"id\": \"454\", \"KEGG_ID\": [\"hsa:2064\"], \"KEGG_NODE_LABEL_LIST\": [\"ERBB2\", \"CD340\", \"HER-2\", \"HER-2/neu\", \"HER2\", \"MLN_19\", \"NEU\", \"NGL\", \"TKR1\"], \"KEGG_NODE_Y\": \"500\", \"KEGG_LINK\": \"http://www.kegg.jp/dbget-bin/www_bget?hsa:2064\"}}, {\"selected\": false, \"position\": {\"y\": 287.0, \"x\": 996.0}, \"data\": {\"KEGG_NODE_LABEL_LIST_FIRST\": \"CCND1\", \"name\": \"path:hsa05223:25\", \"shared_name\": \"path:hsa05223:25\", \"KEGG_NODE_X\": \"996\", \"KEGG_NODE_LABEL\": \"CCND1, BCL1, D11S287E, PRAD1, U21B31\", \"KEGG_NODE_LABEL_COLOR\": \"#000000\", \"KEGG_NODE_TYPE\": \"gene\", \"KEGG_NODE_WIDTH\": \"46\", \"KEGG_NODE_SHAPE\": \"rectangle\", \"KEGG_NODE_FILL_COLOR\": \"#BFFFBF\", \"SUID\": 453, \"selected\": false, \"KEGG_NODE_HEIGHT\": \"17\", \"id\": \"453\", \"KEGG_ID\": [\"hsa:595\"], \"KEGG_NODE_LABEL_LIST\": [\"CCND1\", \"BCL1\", \"D11S287E\", \"PRAD1\", \"U21B31\"], \"KEGG_NODE_Y\": \"287\", \"KEGG_LINK\": \"http://www.kegg.jp/dbget-bin/www_bget?hsa:595\"}}, {\"selected\": false, \"position\": {\"y\": 221.0, \"x\": 596.0}, \"data\": {\"KEGG_NODE_LABEL_LIST_FIRST\": \"STK4\", \"name\": \"path:hsa05223:24\", \"shared_name\": \"path:hsa05223:24\", \"KEGG_NODE_X\": \"596\", \"KEGG_NODE_LABEL\": \"STK4, KRS2, MST1, TIIAC, YSK3\", \"KEGG_NODE_LABEL_COLOR\": \"#000000\", \"KEGG_NODE_TYPE\": \"gene\", \"KEGG_NODE_WIDTH\": \"46\", \"KEGG_NODE_SHAPE\": \"rectangle\", \"KEGG_NODE_FILL_COLOR\": \"#BFFFBF\", \"SUID\": 452, \"selected\": false, \"KEGG_NODE_HEIGHT\": \"17\", \"id\": \"452\", \"KEGG_ID\": [\"hsa:6789\"], \"KEGG_NODE_LABEL_LIST\": [\"STK4\", \"KRS2\", \"MST1\", \"TIIAC\", \"YSK3\"], \"KEGG_NODE_Y\": \"221\", \"KEGG_LINK\": \"http://www.kegg.jp/dbget-bin/www_bget?hsa:6789\"}}, {\"selected\": false, \"position\": {\"y\": 553.0, \"x\": 722.0}, \"data\": {\"KEGG_NODE_LABEL_LIST_FIRST\": \"CASP9\", \"name\": \"path:hsa05223:23\", \"shared_name\": \"path:hsa05223:23\", \"KEGG_NODE_X\": \"722\", \"KEGG_NODE_LABEL\": \"CASP9, APAF-3, APAF3, ICE-LAP6, MCH6, PPP1R56\", \"KEGG_NODE_LABEL_COLOR\": \"#000000\", \"KEGG_NODE_TYPE\": \"gene\", \"KEGG_NODE_WIDTH\": \"46\", \"KEGG_NODE_SHAPE\": \"rectangle\", \"KEGG_NODE_FILL_COLOR\": \"#BFFFBF\", \"SUID\": 451, \"selected\": false, \"KEGG_NODE_HEIGHT\": \"17\", \"id\": \"451\", \"KEGG_ID\": [\"hsa:842\"], \"KEGG_NODE_LABEL_LIST\": [\"CASP9\", \"APAF-3\", \"APAF3\", \"ICE-LAP6\", \"MCH6\", \"PPP1R56\"], \"KEGG_NODE_Y\": \"553\", \"KEGG_LINK\": \"http://www.kegg.jp/dbget-bin/www_bget?hsa:842\"}}, {\"selected\": false, \"position\": {\"y\": 530.0, \"x\": 722.0}, \"data\": {\"KEGG_NODE_LABEL_LIST_FIRST\": \"BAD\", \"name\": \"path:hsa05223:22\", \"shared_name\": \"path:hsa05223:22\", \"KEGG_NODE_X\": \"722\", \"KEGG_NODE_LABEL\": \"BAD, BBC2, BCL2L8\", \"KEGG_NODE_LABEL_COLOR\": \"#000000\", \"KEGG_NODE_TYPE\": \"gene\", \"KEGG_NODE_WIDTH\": \"46\", \"KEGG_NODE_SHAPE\": \"rectangle\", \"KEGG_NODE_FILL_COLOR\": \"#BFFFBF\", \"SUID\": 450, \"selected\": false, \"KEGG_NODE_HEIGHT\": \"17\", \"id\": \"450\", \"KEGG_ID\": [\"hsa:572\"], \"KEGG_NODE_LABEL_LIST\": [\"BAD\", \"BBC2\", \"BCL2L8\"], \"KEGG_NODE_Y\": \"530\", \"KEGG_LINK\": \"http://www.kegg.jp/dbget-bin/www_bget?hsa:572\"}}, {\"selected\": false, \"position\": {\"y\": 576.0, \"x\": 722.0}, \"data\": {\"KEGG_NODE_LABEL_LIST_FIRST\": \"FOXO3\", \"name\": \"path:hsa05223:21\", \"shared_name\": \"path:hsa05223:21\", \"KEGG_NODE_X\": \"722\", \"KEGG_NODE_LABEL\": \"FOXO3, AF6q21, FKHRL1, FKHRL1P2, FOXO2, FOXO3A\", \"KEGG_NODE_LABEL_COLOR\": \"#000000\", \"KEGG_NODE_TYPE\": \"gene\", \"KEGG_NODE_WIDTH\": \"46\", \"KEGG_NODE_SHAPE\": \"rectangle\", \"KEGG_NODE_FILL_COLOR\": \"#BFFFBF\", \"SUID\": 449, \"selected\": false, \"KEGG_NODE_HEIGHT\": \"17\", \"id\": \"449\", \"KEGG_ID\": [\"hsa:2309\"], \"KEGG_NODE_LABEL_LIST\": [\"FOXO3\", \"AF6q21\", \"FKHRL1\", \"FKHRL1P2\", \"FOXO2\", \"FOXO3A\"], \"KEGG_NODE_Y\": \"576\", \"KEGG_LINK\": \"http://www.kegg.jp/dbget-bin/www_bget?hsa:2309\"}}, {\"selected\": false, \"position\": {\"y\": 475.0, \"x\": 303.0}, \"data\": {\"KEGG_NODE_LABEL_LIST_FIRST\": \"EGFR\", \"name\": \"path:hsa05223:20\", \"shared_name\": \"path:hsa05223:20\", \"KEGG_NODE_X\": \"303\", \"KEGG_NODE_LABEL\": \"EGFR, ERBB, ERBB1, HER1, PIG61, mENA\", \"KEGG_NODE_LABEL_COLOR\": \"#000000\", \"KEGG_NODE_TYPE\": \"gene\", \"KEGG_NODE_WIDTH\": \"46\", \"KEGG_NODE_SHAPE\": \"rectangle\", \"KEGG_NODE_FILL_COLOR\": \"#BFFFBF\", \"SUID\": 448, \"selected\": false, \"KEGG_NODE_HEIGHT\": \"17\", \"id\": \"448\", \"KEGG_ID\": [\"hsa:1956\"], \"KEGG_NODE_LABEL_LIST\": [\"EGFR\", \"ERBB\", \"ERBB1\", \"HER1\", \"PIG61\", \"mENA\"], \"KEGG_NODE_Y\": \"475\", \"KEGG_LINK\": \"http://www.kegg.jp/dbget-bin/www_bget?hsa:1956\"}}, {\"selected\": false, \"position\": {\"y\": 499.0, \"x\": 218.0}, \"data\": {\"KEGG_NODE_LABEL_LIST_FIRST\": \"TGFA\", \"name\": \"path:hsa05223:19\", \"shared_name\": \"path:hsa05223:19\", \"KEGG_NODE_X\": \"218\", \"KEGG_NODE_LABEL\": \"TGFA, TFGA\", \"KEGG_NODE_LABEL_COLOR\": \"#000000\", \"KEGG_NODE_TYPE\": \"gene\", \"KEGG_NODE_WIDTH\": \"46\", \"KEGG_NODE_SHAPE\": \"rectangle\", \"KEGG_NODE_FILL_COLOR\": \"#BFFFBF\", \"SUID\": 447, \"selected\": false, \"KEGG_NODE_HEIGHT\": \"17\", \"id\": \"447\", \"KEGG_ID\": [\"hsa:7039\"], \"KEGG_NODE_LABEL_LIST\": [\"TGFA\", \"TFGA\"], \"KEGG_NODE_Y\": \"499\", \"KEGG_LINK\": \"http://www.kegg.jp/dbget-bin/www_bget?hsa:7039\"}}, {\"selected\": false, \"position\": {\"y\": 473.0, \"x\": 398.0}, \"data\": {\"KEGG_NODE_LABEL_LIST_FIRST\": \"PLCG1\", \"name\": \"path:hsa05223:18\", \"shared_name\": \"path:hsa05223:18\", \"KEGG_NODE_X\": \"398\", \"KEGG_NODE_LABEL\": \"PLCG1, NCKAP3, PLC-II, PLC1, PLC148, PLCgamma1...\", \"KEGG_NODE_LABEL_COLOR\": \"#000000\", \"KEGG_NODE_TYPE\": \"gene\", \"KEGG_NODE_WIDTH\": \"46\", \"KEGG_NODE_SHAPE\": \"rectangle\", \"KEGG_NODE_FILL_COLOR\": \"#BFFFBF\", \"SUID\": 446, \"selected\": false, \"KEGG_NODE_HEIGHT\": \"17\", \"id\": \"446\", \"KEGG_ID\": [\"hsa:5335\", \"hsa:5336\"], \"KEGG_NODE_LABEL_LIST\": [\"PLCG1\", \"NCKAP3\", \"PLC-II\", \"PLC1\", \"PLC148\", \"PLCgamma1...\"], \"KEGG_NODE_Y\": \"473\", \"KEGG_LINK\": \"http://www.kegg.jp/dbget-bin/www_bget?hsa:5335+hsa:5336\"}}, {\"selected\": false, \"position\": {\"y\": 498.0, \"x\": 1016.0}, \"data\": {\"KEGG_NODE_LABEL_LIST_FIRST\": \"TP53\", \"name\": \"path:hsa05223:17\", \"shared_name\": \"path:hsa05223:17\", \"KEGG_NODE_X\": \"1016\", \"KEGG_NODE_LABEL\": \"TP53, BCC7, LFS1, P53, TRP53\", \"KEGG_NODE_LABEL_COLOR\": \"#000000\", \"KEGG_NODE_TYPE\": \"gene\", \"KEGG_NODE_WIDTH\": \"46\", \"KEGG_NODE_SHAPE\": \"rectangle\", \"KEGG_NODE_FILL_COLOR\": \"#BFFFBF\", \"SUID\": 445, \"selected\": false, \"KEGG_NODE_HEIGHT\": \"17\", \"id\": \"445\", \"KEGG_ID\": [\"hsa:7157\"], \"KEGG_NODE_LABEL_LIST\": [\"TP53\", \"BCC7\", \"LFS1\", \"P53\", \"TRP53\"], \"KEGG_NODE_Y\": \"498\", \"KEGG_LINK\": \"http://www.kegg.jp/dbget-bin/www_bget?hsa:7157\"}}, {\"selected\": false, \"position\": {\"y\": 399.0, \"x\": 589.0}, \"data\": {\"KEGG_NODE_LABEL_LIST_FIRST\": \"HRAS\", \"name\": \"path:hsa05223:16\", \"shared_name\": \"path:hsa05223:16\", \"KEGG_NODE_X\": \"589\", \"KEGG_NODE_LABEL\": \"HRAS, C-BAS/HAS, C-H-RAS, C-HA-RAS1, CTLO, H-RASIDX, HAMSV, HRAS1, RASH1, p21ras...\", \"KEGG_NODE_LABEL_COLOR\": \"#000000\", \"KEGG_NODE_TYPE\": \"gene\", \"KEGG_NODE_WIDTH\": \"46\", \"KEGG_NODE_SHAPE\": \"rectangle\", \"KEGG_NODE_FILL_COLOR\": \"#BFFFBF\", \"SUID\": 444, \"selected\": false, \"KEGG_NODE_HEIGHT\": \"17\", \"id\": \"444\", \"KEGG_ID\": [\"hsa:3265\", \"hsa:3845\", \"hsa:4893\"], \"KEGG_NODE_LABEL_LIST\": [\"HRAS\", \"C-BAS/HAS\", \"C-H-RAS\", \"C-HA-RAS1\", \"CTLO\", \"H-RASIDX\", \"HAMSV\", \"HRAS1\", \"RASH1\", \"p21ras...\"], \"KEGG_NODE_Y\": \"399\", \"KEGG_LINK\": \"http://www.kegg.jp/dbget-bin/www_bget?hsa:3265+hsa:3845+hsa:4893\"}}, {\"selected\": false, \"position\": {\"y\": 317.0, \"x\": 1079.0}, \"data\": {\"KEGG_NODE_LABEL_LIST_FIRST\": \"E2F1\", \"name\": \"path:hsa05223:15\", \"shared_name\": \"path:hsa05223:15\", \"KEGG_NODE_X\": \"1079\", \"KEGG_NODE_LABEL\": \"E2F1, E2F-1, RBAP1, RBBP3, RBP3...\", \"KEGG_NODE_LABEL_COLOR\": \"#000000\", \"KEGG_NODE_TYPE\": \"gene\", \"KEGG_NODE_WIDTH\": \"46\", \"KEGG_NODE_SHAPE\": \"rectangle\", \"KEGG_NODE_FILL_COLOR\": \"#BFFFBF\", \"SUID\": 443, \"selected\": false, \"KEGG_NODE_HEIGHT\": \"17\", \"id\": \"443\", \"KEGG_ID\": [\"hsa:1869\", \"hsa:1870\", \"hsa:1871\"], \"KEGG_NODE_LABEL_LIST\": [\"E2F1\", \"E2F-1\", \"RBAP1\", \"RBBP3\", \"RBP3...\"], \"KEGG_NODE_Y\": \"317\", \"KEGG_LINK\": \"http://www.kegg.jp/dbget-bin/www_bget?hsa:1869+hsa:1870+hsa:1871\"}}, {\"selected\": false, \"position\": {\"y\": 262.0, \"x\": 596.0}, \"data\": {\"KEGG_NODE_LABEL_LIST_FIRST\": \"CCND1\", \"name\": \"path:hsa05223:14\", \"shared_name\": \"path:hsa05223:14\", \"KEGG_NODE_X\": \"596\", \"KEGG_NODE_LABEL\": \"CCND1, BCL1, D11S287E, PRAD1, U21B31\", \"KEGG_NODE_LABEL_COLOR\": \"#000000\", \"KEGG_NODE_TYPE\": \"gene\", \"KEGG_NODE_WIDTH\": \"46\", \"KEGG_NODE_SHAPE\": \"rectangle\", \"KEGG_NODE_FILL_COLOR\": \"#BFFFBF\", \"SUID\": 442, \"selected\": false, \"KEGG_NODE_HEIGHT\": \"17\", \"id\": \"442\", \"KEGG_ID\": [\"hsa:595\"], \"KEGG_NODE_LABEL_LIST\": [\"CCND1\", \"BCL1\", \"D11S287E\", \"PRAD1\", \"U21B31\"], \"KEGG_NODE_Y\": \"262\", \"KEGG_LINK\": \"http://www.kegg.jp/dbget-bin/www_bget?hsa:595\"}}, {\"selected\": false, \"position\": {\"y\": 270.0, \"x\": 996.0}, \"data\": {\"KEGG_NODE_LABEL_LIST_FIRST\": \"CDK4\", \"name\": \"path:hsa05223:13\", \"shared_name\": \"path:hsa05223:13\", \"KEGG_NODE_X\": \"996\", \"KEGG_NODE_LABEL\": \"CDK4, CMM3, PSK-J3...\", \"KEGG_NODE_LABEL_COLOR\": \"#000000\", \"KEGG_NODE_TYPE\": \"gene\", \"KEGG_NODE_WIDTH\": \"46\", \"KEGG_NODE_SHAPE\": \"rectangle\", \"KEGG_NODE_FILL_COLOR\": \"#BFFFBF\", \"SUID\": 441, \"selected\": false, \"KEGG_NODE_HEIGHT\": \"17\", \"id\": \"441\", \"KEGG_ID\": [\"hsa:1019\", \"hsa:1021\"], \"KEGG_NODE_LABEL_LIST\": [\"CDK4\", \"CMM3\", \"PSK-J3...\"], \"KEGG_NODE_Y\": \"270\", \"KEGG_LINK\": \"http://www.kegg.jp/dbget-bin/www_bget?hsa:1019+hsa:1021\"}}, {\"selected\": false, \"position\": {\"y\": 324.0, \"x\": 479.0}, \"data\": {\"KEGG_NODE_LABEL_LIST_FIRST\": \"PIK3R5\", \"name\": \"path:hsa05223:12\", \"shared_name\": \"path:hsa05223:12\", \"KEGG_NODE_X\": \"479\", \"KEGG_NODE_LABEL\": \"PIK3R5, F730038I15Rik, FOAP-2, P101-PI3K, p101...\", \"KEGG_NODE_LABEL_COLOR\": \"#000000\", \"KEGG_NODE_TYPE\": \"gene\", \"KEGG_NODE_WIDTH\": \"46\", \"KEGG_NODE_SHAPE\": \"rectangle\", \"KEGG_NODE_FILL_COLOR\": \"#BFFFBF\", \"SUID\": 440, \"selected\": false, \"KEGG_NODE_HEIGHT\": \"17\", \"id\": \"440\", \"KEGG_ID\": [\"hsa:23533\", \"hsa:5290\", \"hsa:5291\", \"hsa:5293\", \"hsa:5294\", \"hsa:5295\", \"hsa:5296\", \"hsa:8503\"], \"KEGG_NODE_LABEL_LIST\": [\"PIK3R5\", \"F730038I15Rik\", \"FOAP-2\", \"P101-PI3K\", \"p101...\"], \"KEGG_NODE_Y\": \"324\", \"KEGG_LINK\": \"http://www.kegg.jp/dbget-bin/www_bget?hsa:23533+hsa:5290+hsa:5291+hsa:5293+hsa:5294+hsa:5295+hsa:5296+hsa:8503\"}}, {\"selected\": false, \"position\": {\"y\": 347.0, \"x\": 602.0}, \"data\": {\"KEGG_NODE_LABEL_LIST_FIRST\": \"PDPK1\", \"name\": \"path:hsa05223:11\", \"shared_name\": \"path:hsa05223:11\", \"KEGG_NODE_X\": \"602\", \"KEGG_NODE_LABEL\": \"PDPK1, PDK1, PDPK2, PRO0461\", \"KEGG_NODE_LABEL_COLOR\": \"#000000\", \"KEGG_NODE_TYPE\": \"gene\", \"KEGG_NODE_WIDTH\": \"46\", \"KEGG_NODE_SHAPE\": \"rectangle\", \"KEGG_NODE_FILL_COLOR\": \"#BFFFBF\", \"SUID\": 439, \"selected\": false, \"KEGG_NODE_HEIGHT\": \"17\", \"id\": \"439\", \"KEGG_ID\": [\"hsa:5170\"], \"KEGG_NODE_LABEL_LIST\": [\"PDPK1\", \"PDK1\", \"PDPK2\", \"PRO0461\"], \"KEGG_NODE_Y\": \"347\", \"KEGG_LINK\": \"http://www.kegg.jp/dbget-bin/www_bget?hsa:5170\"}}, {\"selected\": false, \"position\": {\"y\": 325.0, \"x\": 646.0}, \"data\": {\"KEGG_NODE_LABEL_LIST_FIRST\": \"AKT3\", \"name\": \"path:hsa05223:10\", \"shared_name\": \"path:hsa05223:10\", \"KEGG_NODE_X\": \"646\", \"KEGG_NODE_LABEL\": \"AKT3, MPPH, PKB-GAMMA, PKBG, PRKBG, RAC-PK-gamma, RAC-gamma, STK-2...\", \"KEGG_NODE_LABEL_COLOR\": \"#000000\", \"KEGG_NODE_TYPE\": \"gene\", \"KEGG_NODE_WIDTH\": \"46\", \"KEGG_NODE_SHAPE\": \"rectangle\", \"KEGG_NODE_FILL_COLOR\": \"#BFFFBF\", \"SUID\": 438, \"selected\": false, \"KEGG_NODE_HEIGHT\": \"17\", \"id\": \"438\", \"KEGG_ID\": [\"hsa:10000\", \"hsa:207\", \"hsa:208\"], \"KEGG_NODE_LABEL_LIST\": [\"AKT3\", \"MPPH\", \"PKB-GAMMA\", \"PKBG\", \"PRKBG\", \"RAC-PK-gamma\", \"RAC-gamma\", \"STK-2...\"], \"KEGG_NODE_Y\": \"325\", \"KEGG_LINK\": \"http://www.kegg.jp/dbget-bin/www_bget?hsa:10000+hsa:207+hsa:208\"}}, {\"selected\": false, \"position\": {\"y\": 301.0, \"x\": 733.0}, \"data\": {\"KEGG_NODE_LABEL_LIST_FIRST\": \"BAD\", \"name\": \"path:hsa05223:9\", \"shared_name\": \"path:hsa05223:9\", \"KEGG_NODE_X\": \"733\", \"KEGG_NODE_LABEL\": \"BAD, BBC2, BCL2L8\", \"KEGG_NODE_LABEL_COLOR\": \"#000000\", \"KEGG_NODE_TYPE\": \"gene\", \"KEGG_NODE_WIDTH\": \"46\", \"KEGG_NODE_SHAPE\": \"rectangle\", \"KEGG_NODE_FILL_COLOR\": \"#BFFFBF\", \"SUID\": 437, \"selected\": false, \"KEGG_NODE_HEIGHT\": \"17\", \"id\": \"437\", \"KEGG_ID\": [\"hsa:572\"], \"KEGG_NODE_LABEL_LIST\": [\"BAD\", \"BBC2\", \"BCL2L8\"], \"KEGG_NODE_Y\": \"301\", \"KEGG_LINK\": \"http://www.kegg.jp/dbget-bin/www_bget?hsa:572\"}}, {\"selected\": false, \"position\": {\"y\": 325.0, \"x\": 733.0}, \"data\": {\"KEGG_NODE_LABEL_LIST_FIRST\": \"CASP9\", \"name\": \"path:hsa05223:8\", \"shared_name\": \"path:hsa05223:8\", \"KEGG_NODE_X\": \"733\", \"KEGG_NODE_LABEL\": \"CASP9, APAF-3, APAF3, ICE-LAP6, MCH6, PPP1R56\", \"KEGG_NODE_LABEL_COLOR\": \"#000000\", \"KEGG_NODE_TYPE\": \"gene\", \"KEGG_NODE_WIDTH\": \"46\", \"KEGG_NODE_SHAPE\": \"rectangle\", \"KEGG_NODE_FILL_COLOR\": \"#BFFFBF\", \"SUID\": 436, \"selected\": false, \"KEGG_NODE_HEIGHT\": \"17\", \"id\": \"436\", \"KEGG_ID\": [\"hsa:842\"], \"KEGG_NODE_LABEL_LIST\": [\"CASP9\", \"APAF-3\", \"APAF3\", \"ICE-LAP6\", \"MCH6\", \"PPP1R56\"], \"KEGG_NODE_Y\": \"325\", \"KEGG_LINK\": \"http://www.kegg.jp/dbget-bin/www_bget?hsa:842\"}}, {\"selected\": false, \"position\": {\"y\": 347.0, \"x\": 733.0}, \"data\": {\"KEGG_NODE_LABEL_LIST_FIRST\": \"FOXO3\", \"name\": \"path:hsa05223:7\", \"shared_name\": \"path:hsa05223:7\", \"KEGG_NODE_X\": \"733\", \"KEGG_NODE_LABEL\": \"FOXO3, AF6q21, FKHRL1, FKHRL1P2, FOXO2, FOXO3A\", \"KEGG_NODE_LABEL_COLOR\": \"#000000\", \"KEGG_NODE_TYPE\": \"gene\", \"KEGG_NODE_WIDTH\": \"46\", \"KEGG_NODE_SHAPE\": \"rectangle\", \"KEGG_NODE_FILL_COLOR\": \"#BFFFBF\", \"SUID\": 435, \"selected\": false, \"KEGG_NODE_HEIGHT\": \"17\", \"id\": \"435\", \"KEGG_ID\": [\"hsa:2309\"], \"KEGG_NODE_LABEL_LIST\": [\"FOXO3\", \"AF6q21\", \"FKHRL1\", \"FKHRL1P2\", \"FOXO2\", \"FOXO3A\"], \"KEGG_NODE_Y\": \"347\", \"KEGG_LINK\": \"http://www.kegg.jp/dbget-bin/www_bget?hsa:2309\"}}, {\"selected\": false, \"position\": {\"y\": 323.0, \"x\": 556.0}, \"data\": {\"KEGG_NODE_LABEL_LIST_FIRST\": \"Phosphatidylinositol-3,4,5-trisphosphate\", \"name\": \"path:hsa05223:6\", \"shared_name\": \"path:hsa05223:6\", \"KEGG_NODE_X\": \"556\", \"KEGG_NODE_LABEL\": \"C05981\", \"KEGG_NODE_LABEL_COLOR\": \"#000000\", \"KEGG_NODE_TYPE\": \"compound\", \"KEGG_NODE_WIDTH\": \"8\", \"KEGG_NODE_SHAPE\": \"circle\", \"KEGG_NODE_FILL_COLOR\": \"#FFFFFF\", \"SUID\": 434, \"selected\": false, \"KEGG_NODE_HEIGHT\": \"8\", \"id\": \"434\", \"KEGG_ID\": [\"cpd:C05981\"], \"KEGG_NODE_LABEL_LIST\": [\"C05981\"], \"KEGG_NODE_Y\": \"323\", \"KEGG_LINK\": \"http://www.kegg.jp/dbget-bin/www_bget?C05981\"}}, {\"selected\": false, \"position\": {\"y\": 450.0, \"x\": 454.0}, \"data\": {\"KEGG_NODE_LABEL_LIST_FIRST\": \"Ins(1,4,5)P3\", \"name\": \"path:hsa05223:5\", \"shared_name\": \"path:hsa05223:5\", \"KEGG_NODE_X\": \"454\", \"KEGG_NODE_LABEL\": \"C01245\", \"KEGG_NODE_LABEL_COLOR\": \"#000000\", \"KEGG_NODE_TYPE\": \"compound\", \"KEGG_NODE_WIDTH\": \"8\", \"KEGG_NODE_SHAPE\": \"circle\", \"KEGG_NODE_FILL_COLOR\": \"#FFFFFF\", \"SUID\": 433, \"selected\": false, \"KEGG_NODE_HEIGHT\": \"8\", \"id\": \"433\", \"KEGG_ID\": [\"cpd:C01245\"], \"KEGG_NODE_LABEL_LIST\": [\"C01245\"], \"KEGG_NODE_Y\": \"450\", \"KEGG_LINK\": \"http://www.kegg.jp/dbget-bin/www_bget?C01245\"}}, {\"selected\": false, \"position\": {\"y\": 492.0, \"x\": 455.0}, \"data\": {\"KEGG_NODE_LABEL_LIST_FIRST\": \"Diglyceride\", \"name\": \"path:hsa05223:4\", \"shared_name\": \"path:hsa05223:4\", \"KEGG_NODE_X\": \"455\", \"KEGG_NODE_LABEL\": \"C00165\", \"KEGG_NODE_LABEL_COLOR\": \"#000000\", \"KEGG_NODE_TYPE\": \"compound\", \"KEGG_NODE_WIDTH\": \"8\", \"KEGG_NODE_SHAPE\": \"circle\", \"KEGG_NODE_FILL_COLOR\": \"#FFFFFF\", \"SUID\": 432, \"selected\": false, \"KEGG_NODE_HEIGHT\": \"8\", \"id\": \"432\", \"KEGG_ID\": [\"cpd:C00165\"], \"KEGG_NODE_LABEL_LIST\": [\"C00165\"], \"KEGG_NODE_Y\": \"492\", \"KEGG_LINK\": \"http://www.kegg.jp/dbget-bin/www_bget?C00165\"}}, {\"selected\": false, \"position\": {\"y\": 451.0, \"x\": 580.0}, \"data\": {\"KEGG_NODE_LABEL_LIST_FIRST\": \"Ca2+\", \"name\": \"path:hsa05223:3\", \"shared_name\": \"path:hsa05223:3\", \"KEGG_NODE_X\": \"580\", \"KEGG_NODE_LABEL\": \"C00076\", \"KEGG_NODE_LABEL_COLOR\": \"#000000\", \"KEGG_NODE_TYPE\": \"compound\", \"KEGG_NODE_WIDTH\": \"8\", \"KEGG_NODE_SHAPE\": \"circle\", \"KEGG_NODE_FILL_COLOR\": \"#FFFFFF\", \"SUID\": 431, \"selected\": false, \"KEGG_NODE_HEIGHT\": \"8\", \"id\": \"431\", \"KEGG_ID\": [\"cpd:C00076\"], \"KEGG_NODE_LABEL_LIST\": [\"C00076\"], \"KEGG_NODE_Y\": \"451\", \"KEGG_LINK\": \"http://www.kegg.jp/dbget-bin/www_bget?C00076\"}}, {\"selected\": false, \"position\": {\"y\": 142.0, \"x\": 686.0}, \"data\": {\"KEGG_NODE_LABEL_LIST_FIRST\": \"Tretin M\", \"name\": \"path:hsa05223:2\", \"shared_name\": \"path:hsa05223:2\", \"KEGG_NODE_X\": \"686\", \"KEGG_NODE_LABEL\": \"C00777...\", \"KEGG_NODE_LABEL_COLOR\": \"#000000\", \"KEGG_NODE_TYPE\": \"compound\", \"KEGG_NODE_WIDTH\": \"8\", \"KEGG_NODE_SHAPE\": \"circle\", \"KEGG_NODE_FILL_COLOR\": \"#FFFFFF\", \"SUID\": 430, \"selected\": false, \"KEGG_NODE_HEIGHT\": \"8\", \"id\": \"430\", \"KEGG_ID\": [\"cpd:C00777\", \"cpd:C15493\"], \"KEGG_NODE_LABEL_LIST\": [\"C00777...\"], \"KEGG_NODE_Y\": \"142\", \"KEGG_LINK\": \"http://www.kegg.jp/dbget-bin/www_bget?C00777+C15493\"}}, {\"selected\": false, \"position\": {\"y\": 493.0, \"x\": 616.0}, \"data\": {\"KEGG_NODE_LABEL_LIST_FIRST\": \"PRKCA\", \"name\": \"path:hsa05223:1\", \"shared_name\": \"path:hsa05223:1\", \"KEGG_NODE_X\": \"616\", \"KEGG_NODE_LABEL\": \"PRKCA, AAG6, PKC-alpha, PKCA, PRKACA...\", \"KEGG_NODE_LABEL_COLOR\": \"#000000\", \"KEGG_NODE_TYPE\": \"gene\", \"KEGG_NODE_WIDTH\": \"46\", \"KEGG_NODE_SHAPE\": \"rectangle\", \"KEGG_NODE_FILL_COLOR\": \"#BFFFBF\", \"SUID\": 429, \"selected\": false, \"KEGG_NODE_HEIGHT\": \"17\", \"id\": \"429\", \"KEGG_ID\": [\"hsa:5578\", \"hsa:5579\", \"hsa:5582\"], \"KEGG_NODE_LABEL_LIST\": [\"PRKCA\", \"AAG6\", \"PKC-alpha\", \"PKCA\", \"PRKACA...\"], \"KEGG_NODE_Y\": \"493\", \"KEGG_LINK\": \"http://www.kegg.jp/dbget-bin/www_bget?hsa:5578+hsa:5579+hsa:5582\"}}],\n",
       "                edges: [{\"selected\": false, \"data\": {\"KEGG_EDGE_LABEL\": \"/ \", \"name\": \"57 (PPrel) 24\", \"shared_name\": \"57 (PPrel) 24\", \"interaction\": \"PPrel\", \"KEGG_EDGE_SUBTYPES\": [\"missing interaction\"], \"SUID\": 524, \"source\": \"485\", \"target\": \"452\", \"id\": \"524\", \"shared_interaction\": \"PPrel\", \"selected\": false, \"KEGG_RELATION_TYPE\": \"PPrel\"}}, {\"selected\": false, \"data\": {\"KEGG_EDGE_LABEL\": \"+p \", \"name\": \"55 (PPrel) 28\", \"shared_name\": \"55 (PPrel) 28\", \"interaction\": \"PPrel\", \"KEGG_EDGE_SUBTYPES\": [\"activation\", \"phosphorylation\"], \"SUID\": 507, \"source\": \"483\", \"target\": \"456\", \"id\": \"507\", \"shared_interaction\": \"PPrel\", \"selected\": false, \"KEGG_RELATION_TYPE\": \"PPrel\"}}, {\"selected\": false, \"data\": {\"KEGG_EDGE_LABEL\": \"\", \"name\": \"54 (PPrel) 16\", \"shared_name\": \"54 (PPrel) 16\", \"interaction\": \"PPrel\", \"KEGG_EDGE_SUBTYPES\": [\"activation\", \"indirect effect\"], \"SUID\": 528, \"source\": \"482\", \"target\": \"444\", \"id\": \"528\", \"shared_interaction\": \"PPrel\", \"selected\": false, \"KEGG_RELATION_TYPE\": \"PPrel\"}}, {\"selected\": false, \"data\": {\"KEGG_EDGE_LABEL\": \"\", \"name\": \"54 (PPrel) 40\", \"shared_name\": \"54 (PPrel) 40\", \"interaction\": \"PPrel\", \"KEGG_EDGE_SUBTYPES\": [\"activation\"], \"SUID\": 527, \"source\": \"482\", \"target\": \"468\", \"id\": \"527\", \"shared_interaction\": \"PPrel\", \"selected\": false, \"KEGG_RELATION_TYPE\": \"PPrel\"}}, {\"selected\": false, \"data\": {\"KEGG_EDGE_LABEL\": \"\", \"name\": \"46 (PPrel) 45\", \"shared_name\": \"46 (PPrel) 45\", \"interaction\": \"PPrel\", \"KEGG_EDGE_SUBTYPES\": [\"activation\"], \"SUID\": 494, \"source\": \"474\", \"target\": \"473\", \"id\": \"494\", \"shared_interaction\": \"PPrel\", \"selected\": false, \"KEGG_RELATION_TYPE\": \"PPrel\"}}, {\"selected\": false, \"data\": {\"KEGG_EDGE_LABEL\": \"\", \"name\": \"46 (PPrel) 12\", \"shared_name\": \"46 (PPrel) 12\", \"interaction\": \"PPrel\", \"KEGG_EDGE_SUBTYPES\": [\"activation\"], \"SUID\": 493, \"source\": \"474\", \"target\": \"440\", \"id\": \"493\", \"shared_interaction\": \"PPrel\", \"selected\": false, \"KEGG_RELATION_TYPE\": \"PPrel\"}}, {\"selected\": false, \"data\": {\"KEGG_EDGE_LABEL\": \"\", \"name\": \"46 (PPrel) 35\", \"shared_name\": \"46 (PPrel) 35\", \"interaction\": \"PPrel\", \"KEGG_EDGE_SUBTYPES\": [\"activation\"], \"SUID\": 492, \"source\": \"474\", \"target\": \"463\", \"id\": \"492\", \"shared_interaction\": \"PPrel\", \"selected\": false, \"KEGG_RELATION_TYPE\": \"PPrel\"}}, {\"selected\": false, \"data\": {\"KEGG_EDGE_LABEL\": \"+p \", \"name\": \"45 (PPrel) 44\", \"shared_name\": \"45 (PPrel) 44\", \"interaction\": \"PPrel\", \"KEGG_EDGE_SUBTYPES\": [\"activation\", \"phosphorylation\"], \"SUID\": 511, \"source\": \"473\", \"target\": \"472\", \"id\": \"511\", \"shared_interaction\": \"PPrel\", \"selected\": false, \"KEGG_RELATION_TYPE\": \"PPrel\"}}, {\"selected\": false, \"data\": {\"KEGG_EDGE_LABEL\": \"+p \", \"name\": \"44 (PPrel) 43\", \"shared_name\": \"44 (PPrel) 43\", \"interaction\": \"PPrel\", \"KEGG_EDGE_SUBTYPES\": [\"activation\", \"phosphorylation\"], \"SUID\": 512, \"source\": \"472\", \"target\": \"471\", \"id\": \"512\", \"shared_interaction\": \"PPrel\", \"selected\": false, \"KEGG_RELATION_TYPE\": \"PPrel\"}}, {\"selected\": false, \"data\": {\"KEGG_EDGE_LABEL\": \"e \", \"name\": \"43 (GErel) 37\", \"shared_name\": \"43 (GErel) 37\", \"interaction\": \"GErel\", \"KEGG_EDGE_SUBTYPES\": [\"expression\"], \"SUID\": 526, \"source\": \"471\", \"target\": \"465\", \"id\": \"526\", \"shared_interaction\": \"GErel\", \"selected\": false, \"KEGG_RELATION_TYPE\": \"GErel\"}}, {\"selected\": false, \"data\": {\"KEGG_EDGE_LABEL\": \"e \", \"name\": \"40 (PPrel) 30\", \"shared_name\": \"40 (PPrel) 30\", \"interaction\": \"PPrel\", \"KEGG_EDGE_SUBTYPES\": [\"compound\", \"expression\"], \"SUID\": 491, \"source\": \"468\", \"target\": \"458\", \"id\": \"491\", \"shared_interaction\": \"PPrel\", \"selected\": false, \"KEGG_RELATION_TYPE\": \"PPrel\"}}, {\"selected\": false, \"data\": {\"KEGG_EDGE_LABEL\": \"e \", \"name\": \"40 (PPrel) 39\", \"shared_name\": \"40 (PPrel) 39\", \"interaction\": \"PPrel\", \"KEGG_EDGE_SUBTYPES\": [\"compound\", \"expression\"], \"SUID\": 490, \"source\": \"468\", \"target\": \"467\", \"id\": \"490\", \"shared_interaction\": \"PPrel\", \"selected\": false, \"KEGG_RELATION_TYPE\": \"PPrel\"}}, {\"selected\": false, \"data\": {\"KEGG_EDGE_LABEL\": \"+p \", \"name\": \"39 (PPrel) 21\", \"shared_name\": \"39 (PPrel) 21\", \"interaction\": \"PPrel\", \"KEGG_EDGE_SUBTYPES\": [\"inhibition\", \"phosphorylation\"], \"SUID\": 519, \"source\": \"467\", \"target\": \"449\", \"id\": \"519\", \"shared_interaction\": \"PPrel\", \"selected\": false, \"KEGG_RELATION_TYPE\": \"PPrel\"}}, {\"selected\": false, \"data\": {\"KEGG_EDGE_LABEL\": \"+p \", \"name\": \"39 (PPrel) 23\", \"shared_name\": \"39 (PPrel) 23\", \"interaction\": \"PPrel\", \"KEGG_EDGE_SUBTYPES\": [\"inhibition\", \"phosphorylation\"], \"SUID\": 518, \"source\": \"467\", \"target\": \"451\", \"id\": \"518\", \"shared_interaction\": \"PPrel\", \"selected\": false, \"KEGG_RELATION_TYPE\": \"PPrel\"}}, {\"selected\": false, \"data\": {\"KEGG_EDGE_LABEL\": \"+p \", \"name\": \"39 (PPrel) 22\", \"shared_name\": \"39 (PPrel) 22\", \"interaction\": \"PPrel\", \"KEGG_EDGE_SUBTYPES\": [\"inhibition\", \"phosphorylation\"], \"SUID\": 517, \"source\": \"467\", \"target\": \"450\", \"id\": \"517\", \"shared_interaction\": \"PPrel\", \"selected\": false, \"KEGG_RELATION_TYPE\": \"PPrel\"}}, {\"selected\": false, \"data\": {\"KEGG_EDGE_LABEL\": \"/ \", \"name\": \"38 (PPrel) 55\", \"shared_name\": \"38 (PPrel) 55\", \"interaction\": \"PPrel\", \"KEGG_EDGE_SUBTYPES\": [\"missing interaction\"], \"SUID\": 523, \"source\": \"466\", \"target\": \"483\", \"id\": \"523\", \"shared_interaction\": \"PPrel\", \"selected\": false, \"KEGG_RELATION_TYPE\": \"PPrel\"}}, {\"selected\": false, \"data\": {\"KEGG_EDGE_LABEL\": \"/ \", \"name\": \"35 (PPrel) 14\", \"shared_name\": \"35 (PPrel) 14\", \"interaction\": \"PPrel\", \"KEGG_EDGE_SUBTYPES\": [\"missing interaction\"], \"SUID\": 525, \"source\": \"463\", \"target\": \"442\", \"id\": \"525\", \"shared_interaction\": \"PPrel\", \"selected\": false, \"KEGG_RELATION_TYPE\": \"PPrel\"}}, {\"selected\": false, \"data\": {\"KEGG_EDGE_LABEL\": \"\", \"name\": \"35 (PPrel) 36\", \"shared_name\": \"35 (PPrel) 36\", \"interaction\": \"PPrel\", \"KEGG_EDGE_SUBTYPES\": [\"binding/association\"], \"SUID\": 521, \"source\": \"463\", \"target\": \"464\", \"id\": \"521\", \"shared_interaction\": \"PPrel\", \"selected\": false, \"KEGG_RELATION_TYPE\": \"PPrel\"}}, {\"selected\": false, \"data\": {\"KEGG_EDGE_LABEL\": \"\", \"name\": \"32 (PPrel) 31\", \"shared_name\": \"32 (PPrel) 31\", \"interaction\": \"PPrel\", \"KEGG_EDGE_SUBTYPES\": [\"activation\"], \"SUID\": 503, \"source\": \"460\", \"target\": \"459\", \"id\": \"503\", \"shared_interaction\": \"PPrel\", \"selected\": false, \"KEGG_RELATION_TYPE\": \"PPrel\"}}, {\"selected\": false, \"data\": {\"KEGG_EDGE_LABEL\": \"\", \"name\": \"31 (PPrel) 16\", \"shared_name\": \"31 (PPrel) 16\", \"interaction\": \"PPrel\", \"KEGG_EDGE_SUBTYPES\": [\"activation\"], \"SUID\": 504, \"source\": \"459\", \"target\": \"444\", \"id\": \"504\", \"shared_interaction\": \"PPrel\", \"selected\": false, \"KEGG_RELATION_TYPE\": \"PPrel\"}}, {\"selected\": false, \"data\": {\"KEGG_EDGE_LABEL\": \"+p \", \"name\": \"30 (PPrel) 39\", \"shared_name\": \"30 (PPrel) 39\", \"interaction\": \"PPrel\", \"KEGG_EDGE_SUBTYPES\": [\"activation\", \"phosphorylation\"], \"SUID\": 513, \"source\": \"458\", \"target\": \"467\", \"id\": \"513\", \"shared_interaction\": \"PPrel\", \"selected\": false, \"KEGG_RELATION_TYPE\": \"PPrel\"}}, {\"selected\": false, \"data\": {\"KEGG_EDGE_LABEL\": \"\", \"name\": \"27 (PPrel) 26\", \"shared_name\": \"27 (PPrel) 26\", \"interaction\": \"PPrel\", \"KEGG_EDGE_SUBTYPES\": [\"activation\"], \"SUID\": 496, \"source\": \"455\", \"target\": \"454\", \"id\": \"496\", \"shared_interaction\": \"PPrel\", \"selected\": false, \"KEGG_RELATION_TYPE\": \"PPrel\"}}, {\"selected\": false, \"data\": {\"KEGG_EDGE_LABEL\": \"\", \"name\": \"27 (PPrel) 20\", \"shared_name\": \"27 (PPrel) 20\", \"interaction\": \"PPrel\", \"KEGG_EDGE_SUBTYPES\": [\"activation\"], \"SUID\": 495, \"source\": \"455\", \"target\": \"448\", \"id\": \"495\", \"shared_interaction\": \"PPrel\", \"selected\": false, \"KEGG_RELATION_TYPE\": \"PPrel\"}}, {\"selected\": false, \"data\": {\"KEGG_EDGE_LABEL\": \"+p \", \"name\": \"26 (PPrel) 18\", \"shared_name\": \"26 (PPrel) 18\", \"interaction\": \"PPrel\", \"KEGG_EDGE_SUBTYPES\": [\"activation\", \"phosphorylation\"], \"SUID\": 510, \"source\": \"454\", \"target\": \"446\", \"id\": \"510\", \"shared_interaction\": \"PPrel\", \"selected\": false, \"KEGG_RELATION_TYPE\": \"PPrel\"}}, {\"selected\": false, \"data\": {\"KEGG_EDGE_LABEL\": \"\", \"name\": \"26 (PPrel) 40\", \"shared_name\": \"26 (PPrel) 40\", \"interaction\": \"PPrel\", \"KEGG_EDGE_SUBTYPES\": [\"activation\"], \"SUID\": 502, \"source\": \"454\", \"target\": \"468\", \"id\": \"502\", \"shared_interaction\": \"PPrel\", \"selected\": false, \"KEGG_RELATION_TYPE\": \"PPrel\"}}, {\"selected\": false, \"data\": {\"KEGG_EDGE_LABEL\": \"\", \"name\": \"26 (PPrel) 32\", \"shared_name\": \"26 (PPrel) 32\", \"interaction\": \"PPrel\", \"KEGG_EDGE_SUBTYPES\": [\"activation\"], \"SUID\": 501, \"source\": \"454\", \"target\": \"460\", \"id\": \"501\", \"shared_interaction\": \"PPrel\", \"selected\": false, \"KEGG_RELATION_TYPE\": \"PPrel\"}}, {\"selected\": false, \"data\": {\"KEGG_EDGE_LABEL\": \"+p \", \"name\": \"20 (PPrel) 18\", \"shared_name\": \"20 (PPrel) 18\", \"interaction\": \"PPrel\", \"KEGG_EDGE_SUBTYPES\": [\"activation\", \"phosphorylation\"], \"SUID\": 509, \"source\": \"448\", \"target\": \"446\", \"id\": \"509\", \"shared_interaction\": \"PPrel\", \"selected\": false, \"KEGG_RELATION_TYPE\": \"PPrel\"}}, {\"selected\": false, \"data\": {\"KEGG_EDGE_LABEL\": \"\", \"name\": \"20 (PPrel) 40\", \"shared_name\": \"20 (PPrel) 40\", \"interaction\": \"PPrel\", \"KEGG_EDGE_SUBTYPES\": [\"activation\"], \"SUID\": 500, \"source\": \"448\", \"target\": \"468\", \"id\": \"500\", \"shared_interaction\": \"PPrel\", \"selected\": false, \"KEGG_RELATION_TYPE\": \"PPrel\"}}, {\"selected\": false, \"data\": {\"KEGG_EDGE_LABEL\": \"\", \"name\": \"20 (PPrel) 32\", \"shared_name\": \"20 (PPrel) 32\", \"interaction\": \"PPrel\", \"KEGG_EDGE_SUBTYPES\": [\"activation\"], \"SUID\": 499, \"source\": \"448\", \"target\": \"460\", \"id\": \"499\", \"shared_interaction\": \"PPrel\", \"selected\": false, \"KEGG_RELATION_TYPE\": \"PPrel\"}}, {\"selected\": false, \"data\": {\"KEGG_EDGE_LABEL\": \"\", \"name\": \"19 (PPrel) 26\", \"shared_name\": \"19 (PPrel) 26\", \"interaction\": \"PPrel\", \"KEGG_EDGE_SUBTYPES\": [\"activation\"], \"SUID\": 498, \"source\": \"447\", \"target\": \"454\", \"id\": \"498\", \"shared_interaction\": \"PPrel\", \"selected\": false, \"KEGG_RELATION_TYPE\": \"PPrel\"}}, {\"selected\": false, \"data\": {\"KEGG_EDGE_LABEL\": \"\", \"name\": \"19 (PPrel) 20\", \"shared_name\": \"19 (PPrel) 20\", \"interaction\": \"PPrel\", \"KEGG_EDGE_SUBTYPES\": [\"activation\"], \"SUID\": 497, \"source\": \"447\", \"target\": \"448\", \"id\": \"497\", \"shared_interaction\": \"PPrel\", \"selected\": false, \"KEGG_RELATION_TYPE\": \"PPrel\"}}, {\"selected\": false, \"data\": {\"KEGG_EDGE_LABEL\": \"e \", \"name\": \"18 (PPrel) 20\", \"shared_name\": \"18 (PPrel) 20\", \"interaction\": \"PPrel\", \"KEGG_EDGE_SUBTYPES\": [\"compound\", \"expression\"], \"SUID\": 489, \"source\": \"446\", \"target\": \"448\", \"id\": \"489\", \"shared_interaction\": \"PPrel\", \"selected\": false, \"KEGG_RELATION_TYPE\": \"PPrel\"}}, {\"selected\": false, \"data\": {\"KEGG_EDGE_LABEL\": \"e \", \"name\": \"18 (PPrel) 20\", \"shared_name\": \"18 (PPrel) 20\", \"interaction\": \"PPrel\", \"KEGG_EDGE_SUBTYPES\": [\"compound\", \"expression\"], \"SUID\": 488, \"source\": \"446\", \"target\": \"448\", \"id\": \"488\", \"shared_interaction\": \"PPrel\", \"selected\": false, \"KEGG_RELATION_TYPE\": \"PPrel\"}}, {\"selected\": false, \"data\": {\"KEGG_EDGE_LABEL\": \"\", \"name\": \"16 (PPrel) 45\", \"shared_name\": \"16 (PPrel) 45\", \"interaction\": \"PPrel\", \"KEGG_EDGE_SUBTYPES\": [\"activation\"], \"SUID\": 505, \"source\": \"444\", \"target\": \"473\", \"id\": \"505\", \"shared_interaction\": \"PPrel\", \"selected\": false, \"KEGG_RELATION_TYPE\": \"PPrel\"}}, {\"selected\": false, \"data\": {\"KEGG_EDGE_LABEL\": \"+ \", \"name\": \"15 (PPrel) 28\", \"shared_name\": \"15 (PPrel) 28\", \"interaction\": \"PPrel\", \"KEGG_EDGE_SUBTYPES\": [\"dissociation\"], \"SUID\": 520, \"source\": \"443\", \"target\": \"456\", \"id\": \"520\", \"shared_interaction\": \"PPrel\", \"selected\": false, \"KEGG_RELATION_TYPE\": \"PPrel\"}}, {\"selected\": false, \"data\": {\"KEGG_EDGE_LABEL\": \"e \", \"name\": \"12 (PPrel) 11\", \"shared_name\": \"12 (PPrel) 11\", \"interaction\": \"PPrel\", \"KEGG_EDGE_SUBTYPES\": [\"compound\", \"expression\"], \"SUID\": 487, \"source\": \"440\", \"target\": \"439\", \"id\": \"487\", \"shared_interaction\": \"PPrel\", \"selected\": false, \"KEGG_RELATION_TYPE\": \"PPrel\"}}, {\"selected\": false, \"data\": {\"KEGG_EDGE_LABEL\": \"e \", \"name\": \"12 (PPrel) 10\", \"shared_name\": \"12 (PPrel) 10\", \"interaction\": \"PPrel\", \"KEGG_EDGE_SUBTYPES\": [\"compound\", \"expression\"], \"SUID\": 486, \"source\": \"440\", \"target\": \"438\", \"id\": \"486\", \"shared_interaction\": \"PPrel\", \"selected\": false, \"KEGG_RELATION_TYPE\": \"PPrel\"}}, {\"selected\": false, \"data\": {\"KEGG_EDGE_LABEL\": \"+p \", \"name\": \"11 (PPrel) 10\", \"shared_name\": \"11 (PPrel) 10\", \"interaction\": \"PPrel\", \"KEGG_EDGE_SUBTYPES\": [\"activation\", \"phosphorylation\"], \"SUID\": 508, \"source\": \"439\", \"target\": \"438\", \"id\": \"508\", \"shared_interaction\": \"PPrel\", \"selected\": false, \"KEGG_RELATION_TYPE\": \"PPrel\"}}, {\"selected\": false, \"data\": {\"KEGG_EDGE_LABEL\": \"+p \", \"name\": \"10 (PPrel) 7\", \"shared_name\": \"10 (PPrel) 7\", \"interaction\": \"PPrel\", \"KEGG_EDGE_SUBTYPES\": [\"inhibition\", \"phosphorylation\"], \"SUID\": 516, \"source\": \"438\", \"target\": \"435\", \"id\": \"516\", \"shared_interaction\": \"PPrel\", \"selected\": false, \"KEGG_RELATION_TYPE\": \"PPrel\"}}, {\"selected\": false, \"data\": {\"KEGG_EDGE_LABEL\": \"+p \", \"name\": \"10 (PPrel) 8\", \"shared_name\": \"10 (PPrel) 8\", \"interaction\": \"PPrel\", \"KEGG_EDGE_SUBTYPES\": [\"inhibition\", \"phosphorylation\"], \"SUID\": 515, \"source\": \"438\", \"target\": \"436\", \"id\": \"515\", \"shared_interaction\": \"PPrel\", \"selected\": false, \"KEGG_RELATION_TYPE\": \"PPrel\"}}, {\"selected\": false, \"data\": {\"KEGG_EDGE_LABEL\": \"+p \", \"name\": \"10 (PPrel) 9\", \"shared_name\": \"10 (PPrel) 9\", \"interaction\": \"PPrel\", \"KEGG_EDGE_SUBTYPES\": [\"inhibition\", \"phosphorylation\"], \"SUID\": 514, \"source\": \"438\", \"target\": \"437\", \"id\": \"514\", \"shared_interaction\": \"PPrel\", \"selected\": false, \"KEGG_RELATION_TYPE\": \"PPrel\"}}, {\"selected\": false, \"data\": {\"KEGG_EDGE_LABEL\": \"/ \", \"name\": \"2 (PCrel) 56\", \"shared_name\": \"2 (PCrel) 56\", \"interaction\": \"PCrel\", \"KEGG_EDGE_SUBTYPES\": [\"missing interaction\"], \"SUID\": 522, \"source\": \"430\", \"target\": \"484\", \"id\": \"522\", \"shared_interaction\": \"PCrel\", \"selected\": false, \"KEGG_RELATION_TYPE\": \"PCrel\"}}, {\"selected\": false, \"data\": {\"KEGG_EDGE_LABEL\": \"\", \"name\": \"1 (PPrel) 45\", \"shared_name\": \"1 (PPrel) 45\", \"interaction\": \"PPrel\", \"KEGG_EDGE_SUBTYPES\": [\"activation\"], \"SUID\": 506, \"source\": \"429\", \"target\": \"473\", \"id\": \"506\", \"shared_interaction\": \"PPrel\", \"selected\": false, \"KEGG_RELATION_TYPE\": \"PPrel\"}}]\n",
       "            },\n",
       "\n",
       "            layout: {\n",
       "                name: 'preset'\n",
       "            },\n",
       "\n",
       "            ready: function() {\n",
       "                window.cy = this;\n",
       "                cy.fit();\n",
       "                cy.style().fromJson([{\"css\": {\"text-valign\": \"center\", \"font-weight\": \"normal\", \"background-opacity\": 0.9411764705882353, \"width\": \"data(KEGG_NODE_WIDTH)\", \"font-family\": \"HelveticaNeue\", \"border-width\": 0.0, \"content\": \"data(KEGG_NODE_LABEL_LIST_FIRST)\", \"border-opacity\": 1.0, \"border-color\": \"rgb(0,0,0)\", \"text-opacity\": 1.0, \"background-color\": \"data(KEGG_NODE_FILL_COLOR)\", \"text-halign\": \"center\", \"color\": \"data(KEGG_NODE_LABEL_COLOR)\", \"font-size\": 8, \"shape\": \"ellipse\", \"height\": \"data(KEGG_NODE_HEIGHT)\"}, \"selector\": \"node\"}, {\"css\": {\"background-opacity\": 0.0}, \"selector\": \"node[KEGG_NODE_TYPE = 'group']\"}, {\"css\": {\"font-size\": 9}, \"selector\": \"node[KEGG_NODE_TYPE = 'ortholog']\"}, {\"css\": {\"font-size\": 9}, \"selector\": \"node[KEGG_NODE_TYPE = 'gene']\"}, {\"css\": {\"font-size\": 6}, \"selector\": \"node[KEGG_NODE_TYPE = 'compound']\"}, {\"css\": {\"font-size\": 9}, \"selector\": \"node[KEGG_NODE_TYPE = 'map']\"}, {\"css\": {\"font-size\": 9}, \"selector\": \"node[KEGG_NODE_TYPE = 'group']\"}, {\"css\": {\"border-width\": 1.0}, \"selector\": \"node[KEGG_NODE_TYPE = 'ortholog']\"}, {\"css\": {\"border-width\": 2.0}, \"selector\": \"node[KEGG_NODE_TYPE = 'compound']\"}, {\"css\": {\"border-width\": 1.0}, \"selector\": \"node[KEGG_NODE_TYPE = 'group']\"}, {\"css\": {\"shape\": \"rectangle\"}, \"selector\": \"node[KEGG_NODE_TYPE = 'ortholog']\"}, {\"css\": {\"shape\": \"rectangle\"}, \"selector\": \"node[KEGG_NODE_TYPE = 'gene']\"}, {\"css\": {\"shape\": \"roundrectangle\"}, \"selector\": \"node[KEGG_NODE_TYPE = 'map']\"}, {\"css\": {\"shape\": \"ellipse\"}, \"selector\": \"node[KEGG_NODE_TYPE = 'compound']\"}, {\"css\": {\"shape\": \"rectangle\"}, \"selector\": \"node[KEGG_NODE_TYPE = 'group']\"}, {\"css\": {\"text-valign\": \"bottom\"}, \"selector\": \"node[KEGG_NODE_TYPE = 'compound']\"}, {\"css\": {\"background-color\": \"rgb(255,255,0)\"}, \"selector\": \"node:selected\"}, {\"css\": {\"target-arrow-shape\": \"none\", \"color\": \"rgb(220,20,60)\", \"font-family\": \"HelveticaNeue\", \"font-size\": 10, \"line-color\": \"rgb(64,64,64)\", \"line-style\": \"solid\", \"target-arrow-color\": \"rgb(64,64,64)\", \"text-opacity\": 1.0, \"source-arrow-color\": \"rgb(64,64,64)\", \"content\": \"data(KEGG_EDGE_LABEL)\", \"source-arrow-shape\": \"none\", \"font-weight\": \"normal\", \"opacity\": 0.7058823529411765, \"width\": 1.0}, \"selector\": \"edge\"}, {\"css\": {\"line-style\": \"dotted\"}, \"selector\": \"edge[KEGG_EDGE_SUBTYPES = 'state change']\"}, {\"css\": {\"line-style\": \"dashed\"}, \"selector\": \"edge[KEGG_EDGE_SUBTYPES = 'indirect effect']\"}, {\"css\": {\"line-style\": \"dashed\"}, \"selector\": \"edge[KEGG_EDGE_SUBTYPES = 'binding/association']\"}, {\"css\": {\"line-style\": \"dashed\"}, \"selector\": \"edge[KEGG_EDGE_SUBTYPES = 'maplink']\"}, {\"css\": {\"target-arrow-shape\": \"triangle\"}, \"selector\": \"edge[KEGG_EDGE_SUBTYPES = 'expression']\"}, {\"css\": {\"target-arrow-shape\": \"triangle\"}, \"selector\": \"edge[KEGG_EDGE_SUBTYPES = 'indirect effect']\"}, {\"css\": {\"target-arrow-shape\": \"triangle\"}, \"selector\": \"edge[KEGG_EDGE_SUBTYPES = 'irreversible']\"}, {\"css\": {\"target-arrow-shape\": \"tee\"}, \"selector\": \"edge[KEGG_EDGE_SUBTYPES = 'inhibition']\"}, {\"css\": {\"target-arrow-shape\": \"tee\"}, \"selector\": \"edge[KEGG_EDGE_SUBTYPES = 'repression']\"}, {\"css\": {\"target-arrow-shape\": \"triangle\"}, \"selector\": \"edge[KEGG_EDGE_SUBTYPES = 'activation']\"}, {\"css\": {\"line-color\": \"rgb(255,0,0)\"}, \"selector\": \"edge:selected\"}]).update();\n",
       "            }\n",
       "        });\n",
       "      }\n",
       "\n",
       "      var before_render = function(){\n",
       "        if(window['cytoscape'] === undefined){\n",
       "          console.log(\"waiting for Cyjs!\");\n",
       "          window.addEventListener(\"load_cytoscape\", before_render);\n",
       "        } else {\n",
       "          console.log(\"Ready to render graph...\");\n",
       "          render();\n",
       "        }\n",
       "      }\n",
       "\n",
       "      before_render();\n",
       "\n",
       "    })();\n",
       "    </script>\n",
       "</head>\n",
       "\n",
       "<body>\n",
       "  <div id=\"cyc7527ba1-36f3-40f5-b009-17e283275178\"></div>\n",
       "  <!-- When only #uuid div is placed on this page, the height of output-box on ipynb will be 0px. One line below will prevent that. -->\n",
       "  <div id=\"dummy\" style=\"width:1098px;height:700px\">\n",
       "</body>\n",
       "\n",
       "</html>"
      ],
      "text/plain": [
       "<IPython.core.display.HTML object>"
      ]
     },
     "metadata": {},
     "output_type": "display_data"
    }
   ],
   "source": [
    "from py2cytoscape import cytoscapejs as cyjs\n",
    "\n",
    "res1 = requests.get(BASE + 'styles/KEGG Style.json')\n",
    "kegg_style = res1.json()\n",
    "\n",
    "# Load local network files\n",
    "kegg_url = BASE + 'networks/' + str(pathway_suids[5]['networkSUID'][0])\n",
    "net1 =  requests.get(kegg_url + '/views/first')\n",
    "\n",
    "# Render it!\n",
    "cyjs.render(net1.json(), style=kegg_style[0]['style'], background='white')"
   ]
  },
  {
   "cell_type": "markdown",
   "metadata": {},
   "source": [
    "----\n",
    "[Back to Index](../index.ipynb)\n"
   ]
  }
 ],
 "metadata": {
  "kernelspec": {
   "display_name": "Python 3",
   "language": "python",
   "name": "python3"
  },
  "language_info": {
   "codemirror_mode": {
    "name": "ipython",
    "version": 3
   },
   "file_extension": ".py",
   "mimetype": "text/x-python",
   "name": "python",
   "nbconvert_exporter": "python",
   "pygments_lexer": "ipython3",
   "version": "3.4.3"
  }
 },
 "nbformat": 4,
 "nbformat_minor": 0
}
