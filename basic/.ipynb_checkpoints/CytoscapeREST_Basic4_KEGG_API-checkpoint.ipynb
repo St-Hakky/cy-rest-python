{
 "cells": [
  {
   "cell_type": "markdown",
   "metadata": {},
   "source": [
    "# Working with External Web Services\n",
    "\n",
    "This example demonstrates how to use external web services with Cytoscape.\n",
    "\n",
    "## Requirments\n",
    "In addition to basic cyREST setup, you need to install the following Cytoscpae App to run this workflow:\n",
    "\n",
    "* [KEGGScape 0.7.x](http://apps.cytoscape.org/apps/keggscape)\n",
    "\n",
    "\n",
    "## Input and Output\n",
    "\n",
    "* Input - Disease name\n",
    "* Output - Cytoscape session file containing all KEGG pathways known to be related to the disease.\n",
    "\n",
    "## External Services\n",
    "\n",
    "* KEGG API\n",
    "* TogoWS"
   ]
  },
  {
   "cell_type": "code",
   "execution_count": 1,
   "metadata": {
    "collapsed": false
   },
   "outputs": [
    {
     "data": {
      "text/plain": [
       "<Response [200]>"
      ]
     },
     "execution_count": 1,
     "metadata": {},
     "output_type": "execute_result"
    }
   ],
   "source": [
    "import requests\n",
    "import json\n",
    "import pandas as pd\n",
    "import io\n",
    "from IPython.display import Image\n",
    "\n",
    "# Basic Setup\n",
    "PORT_NUMBER = 1234\n",
    "BASE = 'http://localhost:' + str(PORT_NUMBER) + '/v1/'\n",
    "\n",
    "# KEGG API\n",
    "KEGG_API_URL = 'http://rest.kegg.jp/'\n",
    "\n",
    "# Header for posting data to the server as JSON\n",
    "HEADERS = {'Content-Type': 'application/json'}\n",
    "\n",
    "# Delete all networks in current session\n",
    "requests.delete(BASE + 'session')"
   ]
  },
  {
   "cell_type": "markdown",
   "metadata": {},
   "source": [
    "## Get list of entries about cancer\n",
    "\n"
   ]
  },
  {
   "cell_type": "code",
   "execution_count": 2,
   "metadata": {
    "collapsed": false
   },
   "outputs": [
    {
     "data": {
      "text/html": [
       "<div style=\"max-height:1000px;max-width:1500px;overflow:auto;\">\n",
       "<table border=\"1\" class=\"dataframe\">\n",
       "  <thead>\n",
       "    <tr style=\"text-align: right;\">\n",
       "      <th></th>\n",
       "      <th>id</th>\n",
       "      <th>name</th>\n",
       "    </tr>\n",
       "  </thead>\n",
       "  <tbody>\n",
       "    <tr>\n",
       "      <th>0</th>\n",
       "      <td>ds:H00013</td>\n",
       "      <td>Small cell lung cancer</td>\n",
       "    </tr>\n",
       "    <tr>\n",
       "      <th>1</th>\n",
       "      <td>ds:H00014</td>\n",
       "      <td>Non-small cell lung cancer</td>\n",
       "    </tr>\n",
       "    <tr>\n",
       "      <th>2</th>\n",
       "      <td>ds:H00016</td>\n",
       "      <td>Oral cancer</td>\n",
       "    </tr>\n",
       "    <tr>\n",
       "      <th>3</th>\n",
       "      <td>ds:H00017</td>\n",
       "      <td>Esophageal cancer</td>\n",
       "    </tr>\n",
       "    <tr>\n",
       "      <th>4</th>\n",
       "      <td>ds:H00018</td>\n",
       "      <td>Gastric cancer</td>\n",
       "    </tr>\n",
       "    <tr>\n",
       "      <th>5</th>\n",
       "      <td>ds:H00019</td>\n",
       "      <td>Pancreatic cancer</td>\n",
       "    </tr>\n",
       "    <tr>\n",
       "      <th>6</th>\n",
       "      <td>ds:H00020</td>\n",
       "      <td>Colorectal cancer</td>\n",
       "    </tr>\n",
       "    <tr>\n",
       "      <th>7</th>\n",
       "      <td>ds:H00022</td>\n",
       "      <td>Bladder cancer</td>\n",
       "    </tr>\n",
       "    <tr>\n",
       "      <th>8</th>\n",
       "      <td>ds:H00023</td>\n",
       "      <td>Testicular cancer</td>\n",
       "    </tr>\n",
       "    <tr>\n",
       "      <th>9</th>\n",
       "      <td>ds:H00024</td>\n",
       "      <td>Prostate cancer</td>\n",
       "    </tr>\n",
       "    <tr>\n",
       "      <th>10</th>\n",
       "      <td>ds:H00025</td>\n",
       "      <td>Penile cancer</td>\n",
       "    </tr>\n",
       "    <tr>\n",
       "      <th>11</th>\n",
       "      <td>ds:H00026</td>\n",
       "      <td>Endometrial Cancer</td>\n",
       "    </tr>\n",
       "    <tr>\n",
       "      <th>12</th>\n",
       "      <td>ds:H00027</td>\n",
       "      <td>Ovarian cancer</td>\n",
       "    </tr>\n",
       "    <tr>\n",
       "      <th>13</th>\n",
       "      <td>ds:H00029</td>\n",
       "      <td>Vulvar cancer</td>\n",
       "    </tr>\n",
       "    <tr>\n",
       "      <th>14</th>\n",
       "      <td>ds:H00030</td>\n",
       "      <td>Cervical cancer</td>\n",
       "    </tr>\n",
       "    <tr>\n",
       "      <th>15</th>\n",
       "      <td>ds:H00031</td>\n",
       "      <td>Breast cancer</td>\n",
       "    </tr>\n",
       "    <tr>\n",
       "      <th>16</th>\n",
       "      <td>ds:H00032</td>\n",
       "      <td>Thyroid cancer</td>\n",
       "    </tr>\n",
       "    <tr>\n",
       "      <th>17</th>\n",
       "      <td>ds:H00044</td>\n",
       "      <td>Cancer of the anal canal</td>\n",
       "    </tr>\n",
       "    <tr>\n",
       "      <th>18</th>\n",
       "      <td>ds:H00047</td>\n",
       "      <td>Gallbladder cancer</td>\n",
       "    </tr>\n",
       "    <tr>\n",
       "      <th>19</th>\n",
       "      <td>ds:H00054</td>\n",
       "      <td>Nasopharyngeal cancer</td>\n",
       "    </tr>\n",
       "    <tr>\n",
       "      <th>20</th>\n",
       "      <td>ds:H00055</td>\n",
       "      <td>Laryngeal cancer</td>\n",
       "    </tr>\n",
       "    <tr>\n",
       "      <th>21</th>\n",
       "      <td>ds:H00857</td>\n",
       "      <td>Oligodontia-colorectal cancer syndrome</td>\n",
       "    </tr>\n",
       "    <tr>\n",
       "      <th>22</th>\n",
       "      <td>ds:H00876</td>\n",
       "      <td>Mismatch repair deficiency, including: Heredit...</td>\n",
       "    </tr>\n",
       "  </tbody>\n",
       "</table>\n",
       "</div>"
      ],
      "text/plain": [
       "           id                                               name\n",
       "0   ds:H00013                             Small cell lung cancer\n",
       "1   ds:H00014                         Non-small cell lung cancer\n",
       "2   ds:H00016                                        Oral cancer\n",
       "3   ds:H00017                                  Esophageal cancer\n",
       "4   ds:H00018                                     Gastric cancer\n",
       "5   ds:H00019                                  Pancreatic cancer\n",
       "6   ds:H00020                                  Colorectal cancer\n",
       "7   ds:H00022                                     Bladder cancer\n",
       "8   ds:H00023                                  Testicular cancer\n",
       "9   ds:H00024                                    Prostate cancer\n",
       "10  ds:H00025                                      Penile cancer\n",
       "11  ds:H00026                                 Endometrial Cancer\n",
       "12  ds:H00027                                     Ovarian cancer\n",
       "13  ds:H00029                                      Vulvar cancer\n",
       "14  ds:H00030                                    Cervical cancer\n",
       "15  ds:H00031                                      Breast cancer\n",
       "16  ds:H00032                                     Thyroid cancer\n",
       "17  ds:H00044                           Cancer of the anal canal\n",
       "18  ds:H00047                                 Gallbladder cancer\n",
       "19  ds:H00054                              Nasopharyngeal cancer\n",
       "20  ds:H00055                                   Laryngeal cancer\n",
       "21  ds:H00857             Oligodontia-colorectal cancer syndrome\n",
       "22  ds:H00876  Mismatch repair deficiency, including: Heredit..."
      ]
     },
     "execution_count": 2,
     "metadata": {},
     "output_type": "execute_result"
    }
   ],
   "source": [
    "# Find information about cancer from KEGG disease database.\n",
    "query = 'cancer'\n",
    "\n",
    "res = requests.get(KEGG_API_URL + '/find/disease/' + query)\n",
    "pathway_list = res.content.decode('utf8')\n",
    "\n",
    "disease_df = pd.read_csv(io.StringIO(pathway_list), delimiter='\\t',  header=None, names=['id', 'name'])\n",
    "disease_df"
   ]
  },
  {
   "cell_type": "markdown",
   "metadata": {},
   "source": [
    "## Get pathway list"
   ]
  },
  {
   "cell_type": "code",
   "execution_count": 3,
   "metadata": {
    "collapsed": false
   },
   "outputs": [],
   "source": [
    "disease_ids = disease_df['id']\n",
    "disease_urls = disease_ids.apply(lambda x: KEGG_API_URL + 'get/' + x)\n",
    "\n",
    "def disease_parser(entry):\n",
    "    lines = entry.split('\\n')\n",
    "    data = {}\n",
    "    \n",
    "    last_key = None\n",
    "    for line in lines:\n",
    "        if '///' in line:\n",
    "            return data\n",
    "        \n",
    "        parts = line.split(' ')\n",
    "        if parts[0] is not None and len(parts[0]) != 0:\n",
    "            last_key = parts[0]\n",
    "            data[parts[0]] = line.replace(parts[0], '').strip()\n",
    "        else:\n",
    "            last_val = data[last_key]\n",
    "            data[last_key] = last_val + '|' + line.strip()\n",
    "    return data   \n",
    "\n",
    "result = []\n",
    "for url in disease_urls:\n",
    "        res = requests.get(url)\n",
    "        rows = disease_parser(res.content)\n",
    "        result.append(rows)"
   ]
  },
  {
   "cell_type": "code",
   "execution_count": 4,
   "metadata": {
    "collapsed": false
   },
   "outputs": [],
   "source": [
    "disease_df = pd.DataFrame(result)\n",
    "pathways = disease_df['PATHWAY'].dropna().unique()\n",
    "\n",
    "p_urls = []\n",
    "for pathway in pathways:\n",
    "    entries = pathway.split('|')\n",
    "    for en in entries:\n",
    "        url = KEGG_API_URL + 'get/' + en.split(' ')[0].split('(')[0] + '/kgml'\n",
    "        p_urls.append(url)"
   ]
  },
  {
   "cell_type": "markdown",
   "metadata": {},
   "source": [
    "## Import all cancer related pathways"
   ]
  },
  {
   "cell_type": "code",
   "execution_count": 5,
   "metadata": {
    "collapsed": false
   },
   "outputs": [],
   "source": [
    "def create_from_list(network_list):\n",
    "    server_res = requests.post(BASE + 'networks?source=url&collection=' + query, data=json.dumps(network_list), headers=HEADERS)\n",
    "    return json.loads(server_res.content)\n",
    "\n",
    "requests.delete(BASE + 'networks')\n",
    "\n",
    "url_list = list(set(p_urls))\n",
    "pathway_suids = create_from_list(url_list)"
   ]
  },
  {
   "cell_type": "code",
   "execution_count": 6,
   "metadata": {
    "collapsed": false
   },
   "outputs": [
    {
     "name": "stdout",
     "output_type": "stream",
     "text": [
      "{\n",
      "    \"source\": \"http://rest.kegg.jp/get/hsa05222/kgml\", \n",
      "    \"networkSUID\": [\n",
      "        61055\n",
      "    ]\n",
      "}\n"
     ]
    },
    {
     "data": {
      "image/png": "[encoded data removed]",
      "text/plain": [
       "<IPython.core.display.Image object>"
      ]
     },
     "execution_count": 6,
     "metadata": {},
     "output_type": "execute_result"
    }
   ],
   "source": [
    "# Check the result.\n",
    "print(json.dumps(pathway_suids[0], indent=4))\n",
    "\n",
    "Image(url=BASE+'networks/' + str(pathway_suids[0]['networkSUID'][0]) + '/views/first.png', embed=True)"
   ]
  },
  {
   "cell_type": "markdown",
   "metadata": {},
   "source": [
    "## Result\n",
    "\n",
    "![](http://cl.ly/XcVj/cancer_kegg.png)\n",
    "\n",
    "\n",
    "## Annotate Pathways using external web services\n",
    "\n",
    "(TBD)\n",
    "\n",
    "* Get list of genes in the pathway\n",
    "* ID Conversion\n",
    "* Interactions\n",
    "\n",
    "----\n",
    "[Back to Index](../index.ipynb)\n"
   ]
  }
 ],
 "metadata": {
  "kernelspec": {
   "display_name": "Python 2",
   "language": "python",
   "name": "python2"
  },
  "language_info": {
   "codemirror_mode": {
    "name": "ipython",
    "version": 2
   },
   "file_extension": ".py",
   "mimetype": "text/x-python",
   "name": "python",
   "nbconvert_exporter": "python",
   "pygments_lexer": "ipython2",
   "version": "2.7.10"
  }
 },
 "nbformat": 4,
 "nbformat_minor": 0
}
