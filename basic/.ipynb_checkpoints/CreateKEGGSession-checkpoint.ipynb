{
 "cells": [
  {
   "cell_type": "markdown",
   "metadata": {},
   "source": [
    "# Automatic Cytoscape Session Generator for KEGG\n",
    "\n",
    "### What's This?\n",
    "This script creates Cytoscape session from a list of KEGG Pathway IDs.\n",
    "\n",
    "### Tested on:\n",
    "* KEGGScape 0.6.0\n",
    "* Cytoscape 3.2.0 SNAPSHOT\n",
    "* cy-rest build 9/9/2014"
   ]
  },
  {
   "cell_type": "code",
   "execution_count": 1,
   "metadata": {
    "collapsed": false
   },
   "outputs": [],
   "source": [
    "# Basic Setup\n",
    "\n",
    "import requests\n",
    "import json\n",
    "import pandas as pd\n",
    "import io\n",
    "\n",
    "# Basic Setup\n",
    "PORT_NUMBER = 1234\n",
    "BASE = 'http://localhost:' + str(PORT_NUMBER) + '/v1/'\n",
    "\n",
    "# KEGG API\n",
    "KEGG_API_URL = 'http://rest.kegg.jp/'\n",
    "\n",
    "# Header for posting data to the server as JSON\n",
    "HEADERS = {'Content-Type': 'application/json'}"
   ]
  },
  {
   "cell_type": "code",
   "execution_count": 2,
   "metadata": {
    "collapsed": false
   },
   "outputs": [],
   "source": [
    "# Load Resource file\n",
    "f = open('sample_data/kegg_pathway_list.txt')\n",
    "pathway_list = f.read()\n",
    "f.close()\n",
    "\n",
    "lines = pathway_list.splitlines()\n",
    "pathways = {}\n",
    "for line in lines:\n",
    "    parts = line.split(':')\n",
    "    pathways[parts[1]] = parts[0]\n",
    "    \n",
    "sorted_pathways = sorted(pathways.items())\n",
    "api_urls = []\n",
    "for k, v in sorted_pathways:\n",
    "    api_urls.append(KEGG_API_URL + 'get/' + v + '/kgml')\n",
    "\n",
    "# Function to call Cytoscape REST API\n",
    "def create_from_list(network_list):\n",
    "    server_res = requests.post(BASE + 'networks?source=url&collection=KEGG Pathways', data=json.dumps(network_list), headers=HEADERS)\n",
    "    print(server_res.content)\n",
    "    return json.loads(server_res.content)\n",
    "\n",
    "#requests.delete(BASE + 'networks')\n",
    "#print(json.dumps(create_from_list(api_urls), indent=4))"
   ]
  }
 ],
 "metadata": {
  "kernelspec": {
   "display_name": "Python 2",
   "language": "python",
   "name": "python2"
  },
  "language_info": {
   "codemirror_mode": {
    "name": "ipython",
    "version": 2
   },
   "file_extension": ".py",
   "mimetype": "text/x-python",
   "name": "python",
   "nbconvert_exporter": "python",
   "pygments_lexer": "ipython2",
   "version": "2.7.10"
  }
 },
 "nbformat": 4,
 "nbformat_minor": 0
}
