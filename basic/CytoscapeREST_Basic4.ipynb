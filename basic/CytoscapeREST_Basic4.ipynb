{
 "metadata": {
  "name": "",
  "signature": "sha256:3de77792ea90fadcb478f62d25a13572176843e4d5518f8e38947561a178d358"
 },
 "nbformat": 3,
 "nbformat_minor": 0,
 "worksheets": [
  {
   "cells": [
    {
     "cell_type": "code",
     "collapsed": false,
     "input": [],
     "language": "python",
     "metadata": {},
     "outputs": []
    }
   ],
   "metadata": {}
  }
 ]
}