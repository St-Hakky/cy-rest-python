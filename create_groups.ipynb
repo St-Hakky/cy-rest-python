{
 "metadata": {
  "name": "",
  "signature": "sha256:6bd9081b6fd313f689dc197de4a8090b6622eb984e55095b7b2adddf56ebefcb"
 },
 "nbformat": 3,
 "nbformat_minor": 0,
 "worksheets": [
  {
   "cells": [
    {
     "cell_type": "code",
     "collapsed": false,
     "input": [
      "import requests\n",
      "import json\n",
      "\n",
      "# Basic Setup\n",
      "PORT_NUMBER = 1234\n",
      "BASE = 'http://localhost:' + str(PORT_NUMBER) + '/v1/'\n",
      "\n",
      "# Header for posting data to the server as JSON\n",
      "HEADERS = {'Content-Type': 'application/json'}\n",
      "\n",
      "res = requests.get(BASE)\n",
      "status_object = json.loads(res.content);\n",
      "print(status_object)\n"
     ],
     "language": "python",
     "metadata": {},
     "outputs": [],
     "prompt_number": 58
    },
    {
     "cell_type": "code",
     "collapsed": false,
     "input": [
      "res = requests.get(BASE + 'networks?format=SUID')\n",
      "suid_list = json.loads(res.content)\n",
      "net_suid = suid_list[0]\n",
      "res_net = requests.get(BASE + 'networks/' + str(net_suid))\n",
      "\n",
      "metro_net = json.loads(res_net.content)\n",
      "nodes = metro_net['elements']['nodes']"
     ],
     "language": "python",
     "metadata": {},
     "outputs": [],
     "prompt_number": 59
    },
    {
     "cell_type": "code",
     "collapsed": false,
     "input": [
      "# Create group\n",
      "groups = {}\n",
      "group_names = {}\n",
      "\n",
      "for node in nodes:\n",
      "    group_id = node['data']['station_g_cd']\n",
      "    suid = node['data']['SUID']\n",
      "    \n",
      "    if group_id in groups.keys():\n",
      "        current_list = groups[group_id]\n",
      "        current_list.append(suid)\n",
      "        groups[group_id] = current_list\n",
      "    else:\n",
      "        new_list = [suid]\n",
      "        groups[group_id] = new_list\n",
      "        group_names[group_id] = node['data']['station_name']\n",
      "\n",
      "for key in groups.keys():\n",
      "    group = groups[key]\n",
      "    group_name = group_names[key]\n",
      "    if len(group) is 1:\n",
      "        continue\n",
      "    else:\n",
      "        #create Group\n",
      "        group_data = {'name': group_name,'nodes': group,'edges': []}\n",
      "        res1 = requests.post(BASE + 'networks/' + str(net_suid) + '/groups', data=json.dumps(group_data), headers=HEADERS)\n",
      "        group_res = json.loads(res1.content)\n",
      "\n",
      "        "
     ],
     "language": "python",
     "metadata": {},
     "outputs": [],
     "prompt_number": 60
    },
    {
     "cell_type": "code",
     "collapsed": false,
     "input": [
      "all_groups = requests.get(BASE + 'networks/' + str(net_suid) + '/groups')\n",
      "allgp = json.loads(all_groups.content)\n",
      "\n",
      "for g in allgp:\n",
      "    requests.get(BASE + 'networks/' + str(net_suid) + '/groups/' + str(g['SUID']) + '/collapse')"
     ],
     "language": "python",
     "metadata": {},
     "outputs": [],
     "prompt_number": 61
    },
    {
     "cell_type": "code",
     "collapsed": false,
     "input": [
      "res1 = requests.delete(BASE + 'networks/' + str(net_suid) + '/groups')\n"
     ],
     "language": "python",
     "metadata": {},
     "outputs": [],
     "prompt_number": 62
    }
   ],
   "metadata": {}
  }
 ]
}