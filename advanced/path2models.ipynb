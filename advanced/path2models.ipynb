{
 "metadata": {
  "name": "",
  "signature": "sha256:6121093034756b6f18d8d60c85f2f8cf7a2fecb8cda0f9ecd321aa28df448dec"
 },
 "nbformat": 3,
 "nbformat_minor": 0,
 "worksheets": [
  {
   "cells": [
    {
     "cell_type": "code",
     "collapsed": false,
     "input": [],
     "language": "python",
     "metadata": {},
     "outputs": []
    }
   ],
   "metadata": {}
  }
 ]
}