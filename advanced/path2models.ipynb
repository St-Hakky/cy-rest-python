{
 "cells": [
  {
   "cell_type": "markdown",
   "metadata": {},
   "source": [
    "# Mapping Path2Models whole genome metabolism model to KEGG pathway\n",
    "\n",
    "## Software Requirements\n",
    "\n",
    "* pandas\n",
    "* python-libsbml"
   ]
  },
  {
   "cell_type": "code",
   "execution_count": 1,
   "metadata": {
    "collapsed": false
   },
   "outputs": [
    {
     "ename": "ImportError",
     "evalue": "No module named libsbml",
     "output_type": "error",
     "traceback": [
      "\u001b[0;31m---------------------------------------------------------------------------\u001b[0m",
      "\u001b[0;31mImportError\u001b[0m                               Traceback (most recent call last)",
      "\u001b[0;32m<ipython-input-1-a7ef45f0f849>\u001b[0m in \u001b[0;36m<module>\u001b[0;34m()\u001b[0m\n\u001b[0;32m----> 1\u001b[0;31m \u001b[0;32mimport\u001b[0m \u001b[0mlibsbml\u001b[0m\u001b[0;34m\u001b[0m\u001b[0m\n\u001b[0m\u001b[1;32m      2\u001b[0m \u001b[0;32mimport\u001b[0m \u001b[0mpandas\u001b[0m \u001b[0;32mas\u001b[0m \u001b[0mpd\u001b[0m\u001b[0;34m\u001b[0m\u001b[0m\n\u001b[1;32m      3\u001b[0m \u001b[0;32mimport\u001b[0m \u001b[0mre\u001b[0m\u001b[0;34m\u001b[0m\u001b[0m\n",
      "\u001b[0;31mImportError\u001b[0m: No module named libsbml"
     ]
    }
   ],
   "source": [
    "import libsbml\n",
    "import pandas as pd\n",
    "import re"
   ]
  },
  {
   "cell_type": "markdown",
   "metadata": {},
   "source": [
    "## Retrieving the whole-genome metabolic model from path2models"
   ]
  },
  {
   "cell_type": "markdown",
   "metadata": {},
   "source": [
    "Whole Genome Metabolism of Escherichia coli str. K-12 substr. MG1655 http://www.ebi.ac.uk/biomodels-main/download?mid=BMID000000140222\n",
    "This file is big, so I recommend you download this once."
   ]
  },
  {
   "cell_type": "code",
   "execution_count": 2,
   "metadata": {
    "collapsed": false
   },
   "outputs": [
    {
     "name": "stdout",
     "output_type": "stream",
     "text": [
      "  % Total    % Received % Xferd  Average Speed   Time    Time     Time  Current\n",
      "                                 Dload  Upload   Total   Spent    Left  Speed\n",
      "100 9112k    0 9112k    0     0  1431k      0 --:--:--  0:00:06 --:--:-- 1826k\n"
     ]
    }
   ],
   "source": [
    "!curl -o BMID000000140222.xml http://www.ebi.ac.uk/biomodels-main/download?mid=BMID000000140222"
   ]
  },
  {
   "cell_type": "markdown",
   "metadata": {},
   "source": [
    "### reading path2models SBML"
   ]
  },
  {
   "cell_type": "code",
   "execution_count": 9,
   "metadata": {
    "collapsed": false
   },
   "outputs": [],
   "source": [
    "document = libsbml.readSBML('BMID000000140222.xml')\n",
    "model = document.getModel()"
   ]
  },
  {
   "cell_type": "markdown",
   "metadata": {},
   "source": [
    "#### construct regex patterns"
   ]
  },
  {
   "cell_type": "code",
   "execution_count": 10,
   "metadata": {
    "collapsed": false
   },
   "outputs": [],
   "source": [
    "bigg = re.compile(r'BIGG:.*</p>')\n",
    "brenda = re.compile(r'BRENDA:.*</p>')\n",
    "gene_association = re.compile(r'GENE_ASSOCIATION:.*</p>')\n",
    "kegg = re.compile(r'KEGG:.*</p>')\n",
    "metacyc = re.compile(r'METACYC:.*</p>')\n",
    "reactome = re.compile(r'REACTOME:.*</p>')\n",
    "rhea = re.compile(r'RHEA:.*</p>')\n",
    "seed = re.compile(r'SEED:.*</p>')\n",
    "upa = re.compile(r'UPA:.*</p>')"
   ]
  },
  {
   "cell_type": "markdown",
   "metadata": {},
   "source": [
    "#### create pandas dataframe for reactions"
   ]
  },
  {
   "cell_type": "code",
   "execution_count": 13,
   "metadata": {
    "collapsed": false
   },
   "outputs": [],
   "source": [
    "id_ary = []\n",
    "bigg_ary = []\n",
    "brenda_ary = []\n",
    "gene_association_ary = []\n",
    "kegg_ary = []\n",
    "metacyc_ary =[]\n",
    "\n",
    "for i in range(0,model.getNumReactions()):\n",
    "    r = model.getReaction(i)\n",
    "\n",
    "    notes = r.getNotesString()\n",
    "\n",
    "    bigg_re = bigg.search(notes)\n",
    "    brenda_re = brenda.search(notes)\n",
    "    gene_association_re = gene_association.search(notes)\n",
    "    kegg_re = kegg.search(notes)\n",
    "    metacyc_re = metacyc.search(notes)\n",
    "    \n",
    "    id_ary.append(r.id)\n",
    "    bigg_ary.append(None)\n",
    "    brenda_ary.append(None)\n",
    "    gene_association_ary.append(None)\n",
    "    kegg_ary.append(None)\n",
    "    metacyc_ary.append(None)\n",
    "\n",
    "    if bigg_re:\n",
    "        bigg_ary.pop()\n",
    "        big = bigg_re.group()[6:-4]\n",
    "        bigg_ary.append(big)\n",
    "    if brenda_re:\n",
    "        brenda_ary.pop()\n",
    "        br = brenda_re.group()[8:-4]\n",
    "        brenda_ary.append(br)\n",
    "    if gene_association_re:\n",
    "        gene_association_ary.pop()\n",
    "        gene = gene_association_re.group()[18:-4]\n",
    "        gene_association_ary.append(gene)\n",
    "    if kegg_re:\n",
    "        kegg_ary.pop()\n",
    "        keg = kegg_re.group()[6:-4]\n",
    "        kegg_ary.append(keg)\n",
    "    if metacyc_re:\n",
    "        metacyc_ary.pop()\n",
    "        meta = metacyc_re.group()[9:-4]\n",
    "        metacyc_ary.append(meta)\n"
   ]
  },
  {
   "cell_type": "code",
   "execution_count": 14,
   "metadata": {
    "collapsed": false
   },
   "outputs": [],
   "source": [
    "id_se = pd.Series(id_ary, name='ID')\n",
    "bigg_se = pd.Series(bigg_ary, name='BIGG')\n",
    "brenda_se = pd.Series(brenda_ary, name='BRENDA')\n",
    "gene_association_se = pd.Series(gene_association_ary, name='GENE_ASSOCIATION')\n",
    "kegg_se = pd.Series(kegg_ary, name='KEGG')\n",
    "metacyc_se = pd.Series(metacyc_ary, name='METACYC')\n",
    "\n",
    "df = pd.concat([id_se, bigg_se, brenda_se, gene_association_se, kegg_se, metacyc_se], axis=1)"
   ]
  },
  {
   "cell_type": "code",
   "execution_count": 2,
   "metadata": {
    "collapsed": false
   },
   "outputs": [
    {
     "ename": "NameError",
     "evalue": "name 'df' is not defined",
     "output_type": "error",
     "traceback": [
      "\u001b[0;31m---------------------------------------------------------------------------\u001b[0m",
      "\u001b[0;31mNameError\u001b[0m                                 Traceback (most recent call last)",
      "\u001b[0;32m<ipython-input-2-2569c44faf66>\u001b[0m in \u001b[0;36m<module>\u001b[0;34m()\u001b[0m\n\u001b[0;32m----> 1\u001b[0;31m \u001b[0mdf\u001b[0m\u001b[0;34m.\u001b[0m\u001b[0mhead\u001b[0m\u001b[0;34m(\u001b[0m\u001b[0;34m)\u001b[0m\u001b[0;34m\u001b[0m\u001b[0m\n\u001b[0m",
      "\u001b[0;31mNameError\u001b[0m: name 'df' is not defined"
     ]
    }
   ],
   "source": [
    "df.head()"
   ]
  },
  {
   "cell_type": "markdown",
   "metadata": {},
   "source": [
    "## Integrating path2models dataframe with KEGG pathway"
   ]
  },
  {
   "cell_type": "markdown",
   "metadata": {},
   "source": [
    "### importing E.coli glycolysis(eco00010) pathway"
   ]
  },
  {
   "cell_type": "code",
   "execution_count": 18,
   "metadata": {
    "collapsed": false
   },
   "outputs": [
    {
     "data": {
      "text/plain": [
       "<Response [200]>"
      ]
     },
     "execution_count": 18,
     "metadata": {},
     "output_type": "execute_result"
    }
   ],
   "source": [
    "import requests\n",
    "import json\n",
    "\n",
    "# Basic Setup\n",
    "PORT_NUMBER = 1234\n",
    "BASE_URL = \"http://localhost:\" + str(PORT_NUMBER) + \"/v1/\"\n",
    "\n",
    "# Header for posting data to the server as JSON\n",
    "HEADERS = {'Content-Type': 'application/json'}\n",
    "\n",
    "requests.get(BASE_URL)"
   ]
  },
  {
   "cell_type": "code",
   "execution_count": 19,
   "metadata": {
    "collapsed": false
   },
   "outputs": [
    {
     "name": "stdout",
     "output_type": "stream",
     "text": [
      "Pathway SUID = 114311\n"
     ]
    }
   ],
   "source": [
    "pathway_location = \"http://rest.kegg.jp/get/eco00010/kgml\"\n",
    "res1 = requests.post(BASE_URL + \"networks?source=url\", data=json.dumps([pathway_location]), headers=HEADERS)\n",
    "result = json.loads(res1.content)\n",
    "pathway_suid = result[0][\"networkSUID\"][0]\n",
    "print(\"Pathway SUID = \" + str(pathway_suid))"
   ]
  }
 ],
 "metadata": {
  "kernelspec": {
   "display_name": "Python 2",
   "language": "python",
   "name": "python2"
  },
  "language_info": {
   "codemirror_mode": {
    "name": "ipython",
    "version": 2
   },
   "file_extension": ".py",
   "mimetype": "text/x-python",
   "name": "python",
   "nbconvert_exporter": "python",
   "pygments_lexer": "ipython2",
   "version": "2.7.10"
  }
 },
 "nbformat": 4,
 "nbformat_minor": 0
}
