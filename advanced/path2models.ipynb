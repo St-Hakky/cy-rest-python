{
 "metadata": {
  "name": "",
  "signature": "sha256:2d7f76c62dc2f4ba174993f408ab4c8cfd71c9e2709167d904524f04ef53df56"
 },
 "nbformat": 3,
 "nbformat_minor": 0,
 "worksheets": [
  {
   "cells": [
    {
     "cell_type": "markdown",
     "metadata": {},
     "source": [
      "# Mapping Path2Models whole genome metabolism model to KEGG pathway"
     ]
    },
    {
     "cell_type": "markdown",
     "metadata": {},
     "source": [
      "## Requirements\n",
      " - python-libsbml"
     ]
    },
    {
     "cell_type": "markdown",
     "metadata": {},
     "source": [
      "## Retrieving the whole-genome metabolic model from path2models"
     ]
    },
    {
     "cell_type": "markdown",
     "metadata": {},
     "source": [
      "Whole Genome Metabolism of Escherichia coli str. K-12 substr. MG1655 http://www.ebi.ac.uk/biomodels-main/download?mid=BMID000000140222\n",
      "This file is big, so I recommend you download this once."
     ]
    },
    {
     "cell_type": "code",
     "collapsed": false,
     "input": [
      "!curl -o BMID000000140222.xml http://www.ebi.ac.uk/biomodels-main/download?mid=BMID000000140222"
     ],
     "language": "python",
     "metadata": {},
     "outputs": [
      {
       "output_type": "stream",
       "stream": "stdout",
       "text": [
        "  % Total    % Received % Xferd  Average Speed   Time    Time     Time  Current\r\n",
        "                                 Dload  Upload   Total   Spent    Left  Speed\r\n",
        "\r",
        "  0     0    0     0    0     0      0      0 --:--:-- --:--:-- --:--:--     0"
       ]
      },
      {
       "output_type": "stream",
       "stream": "stdout",
       "text": [
        "\r",
        "100 90133    0 90133    0     0  98939      0 --:--:-- --:--:-- --:--:-- 98938"
       ]
      },
      {
       "output_type": "stream",
       "stream": "stdout",
       "text": [
        "\r",
        "100 2353k    0 2353k    0     0  1309k      0 --:--:--  0:00:01 --:--:-- 1308k"
       ]
      },
      {
       "output_type": "stream",
       "stream": "stdout",
       "text": [
        "\r",
        "100 4170k    0 4170k    0     0  1467k      0 --:--:--  0:00:02 --:--:-- 1467k"
       ]
      },
      {
       "output_type": "stream",
       "stream": "stdout",
       "text": [
        "\r",
        "100 7049k    0 7049k    0     0  1856k      0 --:--:--  0:00:03 --:--:-- 1856k"
       ]
      },
      {
       "output_type": "stream",
       "stream": "stdout",
       "text": [
        "\r",
        "100 9112k    0 9112k    0     0  2025k      0 --:--:--  0:00:04 --:--:-- 2025k\r\n"
       ]
      }
     ],
     "prompt_number": 1
    }
   ],
   "metadata": {}
  }
 ]
}