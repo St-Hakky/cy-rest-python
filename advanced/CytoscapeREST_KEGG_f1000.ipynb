{
 "metadata": {
  "name": "",
  "signature": "sha256:52d912721e40ca8d9cedd682b1c6b7eb48c6b3930ed0be9d1e3796428dbdb6da"
 },
 "nbformat": 3,
 "nbformat_minor": 0,
 "worksheets": [
  {
   "cells": [
    {
     "cell_type": "markdown",
     "metadata": {},
     "source": [
      "# Integrating transcriptome profile with KEGG pathway\n",
      " This example shows how to integrate transcriptome data(preprocessed with bioconductor packages) with KEGG pathways.\n",
      " \n",
      " * Cytoscape 3.2.0\n",
      " * [KEGGScape 0.7.x](http://apps.cytoscape.org/apps/keggscape)\n",
      " * [cy-rest 0.9.x or later](https://github.com/keiono/cy-rest)\n",
      " \n",
      "## Input and Output\n",
      "\n",
      "* Input - bioconductor ecoliLeucine package\n",
      "* Output - Cytoscape session file containing KEGG pathway with differentially expressed genes\n"
     ]
    },
    {
     "cell_type": "markdown",
     "metadata": {},
     "source": [
      "## Importing a KEGG pathway (Glycine, serine and threonine metabolism - Escherichia coli K-12 MG1655)"
     ]
    },
    {
     "cell_type": "code",
     "collapsed": false,
     "input": [
      "import requests\n",
      "import json\n",
      "\n",
      "# Basic Setup\n",
      "PORT_NUMBER = 1234\n",
      "BASE_URL = \"http://localhost:\" + str(PORT_NUMBER) + \"/v1/\"\n",
      "\n",
      "# Header for posting data to the server as JSON\n",
      "HEADERS = {'Content-Type': 'application/json'}\n",
      "\n",
      "requests.get(BASE)"
     ],
     "language": "python",
     "metadata": {},
     "outputs": [
      {
       "metadata": {},
       "output_type": "pyout",
       "prompt_number": 5,
       "text": [
        "<Response [200]>"
       ]
      }
     ],
     "prompt_number": 5
    },
    {
     "cell_type": "code",
     "collapsed": false,
     "input": [
      "pathway_location = \"http://rest.kegg.jp/get/eco00260/kgml\"\n",
      "res1 = requests.post(BASE_URL + \"networks?source=url\", data=json.dumps([pathway_location]), headers=HEADERS)\n",
      "result = json.loads(res1.content)\n",
      "pathway_suid = result[0][\"networkSUID\"][0]\n",
      "print(\"Pathway SUID = \" + str(pathway_suid))"
     ],
     "language": "python",
     "metadata": {},
     "outputs": [
      {
       "output_type": "stream",
       "stream": "stdout",
       "text": [
        "Pathway SUID = 90\n"
       ]
      }
     ],
     "prompt_number": 4
    }
   ],
   "metadata": {}
  }
 ]
}