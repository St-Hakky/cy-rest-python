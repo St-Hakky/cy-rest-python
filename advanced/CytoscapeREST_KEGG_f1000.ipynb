{
 "metadata": {
  "name": "",
  "signature": "sha256:8b3b6786d6a4d55f20cf161af28a41c4d6a24b2b620e9971dff7f677617e7122"
 },
 "nbformat": 3,
 "nbformat_minor": 0,
 "worksheets": [
  {
   "cells": [
    {
     "cell_type": "markdown",
     "metadata": {},
     "source": [
      "# Integrating transcriptome profile with KEGG pathway\n",
      " This example shows how to integrate transcriptome data(preprocessed with bioconductor packages) with KEGG pathways.\n",
      " \n",
      " * Cytoscape 3.2.0\n",
      " * [KEGGScape 0.7.x](http://apps.cytoscape.org/apps/keggscape)\n",
      " * [cy-rest 0.9.x or later](https://github.com/keiono/cy-rest)\n",
      " \n",
      "## Input and Output\n",
      "\n",
      "* Input - bioconductor ecoliLeucine package\n",
      "* Output - Cytoscape session file containing KEGG pathway with differentially expressed genes\n"
     ]
    },
    {
     "cell_type": "code",
     "collapsed": false,
     "input": [],
     "language": "python",
     "metadata": {},
     "outputs": []
    }
   ],
   "metadata": {}
  }
 ]
}