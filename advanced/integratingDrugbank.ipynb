{
 "metadata": {
  "name": "",
  "signature": "sha256:d0ec315420330a08d5bb354a34b9fe93ff8e07e0185b541f47a1da4cfb40c027"
 },
 "nbformat": 3,
 "nbformat_minor": 0,
 "worksheets": [
  {
   "cells": [
    {
     "cell_type": "markdown",
     "metadata": {},
     "source": [
      "# Mapping Drugbank drug targets on KEGG pathway\n",
      "Here we show a example of data integration. We map drug targets(from Drugbank) on KEGG pathway. To manage several tables, we use MongoDB and PyMongo.\n",
      "\n",
      "## Loading all data into pandas dataframe\n",
      "First we import [Alanine, aspartate and glutamate metabolism, eco00250](http://www.genome.jp/kegg-bin/show_pathway?eco00250)\n"
     ]
    },
    {
     "cell_type": "code",
     "collapsed": false,
     "input": [
      "import requests\n",
      "import json\n",
      "import pandas as pd\n",
      "\n",
      "PORT_NUMBER = 1234\n",
      "BASE = 'http://localhost:' + str(PORT_NUMBER) + '/v1/'\n",
      "HEADERS = {'Content-Type': 'application/json'}\n",
      "\n",
      "requests.post(BASE + 'networks?source=url&collection=foo', data=json.dumps(['http://rest.kegg.jp/get/eco00250/kgml']), headers=HEADERS)"
     ],
     "language": "python",
     "metadata": {},
     "outputs": [
      {
       "metadata": {},
       "output_type": "pyout",
       "prompt_number": 164,
       "text": [
        "<Response [200]>"
       ]
      }
     ],
     "prompt_number": 164
    },
    {
     "cell_type": "markdown",
     "metadata": {},
     "source": [
      "####and get node attribute table as alanine_nodes.tsv"
     ]
    },
    {
     "cell_type": "code",
     "collapsed": false,
     "input": [
      "res = requests.get(BASE + 'networks')\n",
      "networkIds = eval(res.content)\n",
      "print networkIds"
     ],
     "language": "python",
     "metadata": {},
     "outputs": [
      {
       "output_type": "stream",
       "stream": "stdout",
       "text": [
        "[7208]\n"
       ]
      }
     ],
     "prompt_number": 165
    },
    {
     "cell_type": "code",
     "collapsed": false,
     "input": [
      "res = requests.get(BASE + 'networks/' + str(networkIds[0]) + '/tables/defaultnode.tsv')\n",
      "f = open('alanine_nodes.tsv', 'w')\n",
      "f.write(res.content)\n",
      "f.close()"
     ],
     "language": "python",
     "metadata": {},
     "outputs": [],
     "prompt_number": 166
    },
    {
     "cell_type": "markdown",
     "metadata": {},
     "source": [
      "####import alanine_nodes.tsv into pandas dataframe"
     ]
    },
    {
     "cell_type": "code",
     "collapsed": false,
     "input": [
      "alanine_df = pd.read_table('alanine_nodes.tsv')"
     ],
     "language": "python",
     "metadata": {},
     "outputs": [],
     "prompt_number": 167
    },
    {
     "cell_type": "code",
     "collapsed": false,
     "input": [
      "alanine_df.head()"
     ],
     "language": "python",
     "metadata": {},
     "outputs": [
      {
       "html": [
        "<div style=\"max-height:1000px;max-width:1500px;overflow:auto;\">\n",
        "<table border=\"1\" class=\"dataframe\">\n",
        "  <thead>\n",
        "    <tr style=\"text-align: right;\">\n",
        "      <th></th>\n",
        "      <th>SUID</th>\n",
        "      <th>shared name</th>\n",
        "      <th>name</th>\n",
        "      <th>selected</th>\n",
        "      <th>KEGG_NODE_X</th>\n",
        "      <th>KEGG_NODE_Y</th>\n",
        "      <th>KEGG_NODE_WIDTH</th>\n",
        "      <th>KEGG_NODE_HEIGHT</th>\n",
        "      <th>KEGG_NODE_LABEL</th>\n",
        "      <th>KEGG_NODE_LABEL_LIST_FIRST</th>\n",
        "      <th>KEGG_NODE_LABEL_LIST</th>\n",
        "      <th>KEGG_ID</th>\n",
        "      <th>KEGG_NODE_LABEL_COLOR</th>\n",
        "      <th>KEGG_NODE_FILL_COLOR</th>\n",
        "      <th>KEGG_NODE_REACTIONID</th>\n",
        "      <th>KEGG_NODE_TYPE</th>\n",
        "      <th>KEGG_NODE_SHAPE</th>\n",
        "      <th>KEGG_LINK</th>\n",
        "    </tr>\n",
        "  </thead>\n",
        "  <tbody>\n",
        "    <tr>\n",
        "      <th>0</th>\n",
        "      <td> 7218</td>\n",
        "      <td> path:eco00250:15</td>\n",
        "      <td> path:eco00250:15</td>\n",
        "      <td> False</td>\n",
        "      <td> 271</td>\n",
        "      <td> 515</td>\n",
        "      <td>   8</td>\n",
        "      <td>  8</td>\n",
        "      <td>                    C00122</td>\n",
        "      <td>                  Fumarate</td>\n",
        "      <td>                    C00122</td>\n",
        "      <td>    cpd:C00122</td>\n",
        "      <td> #000000</td>\n",
        "      <td> #FFFFFF</td>\n",
        "      <td> NaN</td>\n",
        "      <td> compound</td>\n",
        "      <td>         circle</td>\n",
        "      <td>   http://www.kegg.jp/dbget-bin/www_bget?C00122</td>\n",
        "    </tr>\n",
        "    <tr>\n",
        "      <th>1</th>\n",
        "      <td> 7219</td>\n",
        "      <td> path:eco00250:16</td>\n",
        "      <td> path:eco00250:16</td>\n",
        "      <td> False</td>\n",
        "      <td> 270</td>\n",
        "      <td> 572</td>\n",
        "      <td>   8</td>\n",
        "      <td>  8</td>\n",
        "      <td>                    C00042</td>\n",
        "      <td>                 Succinate</td>\n",
        "      <td>                    C00042</td>\n",
        "      <td>    cpd:C00042</td>\n",
        "      <td> #000000</td>\n",
        "      <td> #FFFFFF</td>\n",
        "      <td> NaN</td>\n",
        "      <td> compound</td>\n",
        "      <td>         circle</td>\n",
        "      <td>   http://www.kegg.jp/dbget-bin/www_bget?C00042</td>\n",
        "    </tr>\n",
        "    <tr>\n",
        "      <th>2</th>\n",
        "      <td> 7220</td>\n",
        "      <td> path:eco00250:17</td>\n",
        "      <td> path:eco00250:17</td>\n",
        "      <td> False</td>\n",
        "      <td> 734</td>\n",
        "      <td> 513</td>\n",
        "      <td>   8</td>\n",
        "      <td>  8</td>\n",
        "      <td>                    C00036</td>\n",
        "      <td>              Oxaloacetate</td>\n",
        "      <td>                    C00036</td>\n",
        "      <td>    cpd:C00036</td>\n",
        "      <td> #000000</td>\n",
        "      <td> #FFFFFF</td>\n",
        "      <td> NaN</td>\n",
        "      <td> compound</td>\n",
        "      <td>         circle</td>\n",
        "      <td>   http://www.kegg.jp/dbget-bin/www_bget?C00036</td>\n",
        "    </tr>\n",
        "    <tr>\n",
        "      <th>3</th>\n",
        "      <td> 7221</td>\n",
        "      <td> path:eco00250:18</td>\n",
        "      <td> path:eco00250:18</td>\n",
        "      <td> False</td>\n",
        "      <td> 666</td>\n",
        "      <td> 572</td>\n",
        "      <td>   8</td>\n",
        "      <td>  8</td>\n",
        "      <td>                    C00026</td>\n",
        "      <td>            2-Oxoglutarate</td>\n",
        "      <td>                    C00026</td>\n",
        "      <td>    cpd:C00026</td>\n",
        "      <td> #000000</td>\n",
        "      <td> #FFFFFF</td>\n",
        "      <td> NaN</td>\n",
        "      <td> compound</td>\n",
        "      <td>         circle</td>\n",
        "      <td>   http://www.kegg.jp/dbget-bin/www_bget?C00026</td>\n",
        "    </tr>\n",
        "    <tr>\n",
        "      <th>4</th>\n",
        "      <td> 7222</td>\n",
        "      <td> path:eco00250:19</td>\n",
        "      <td> path:eco00250:19</td>\n",
        "      <td> False</td>\n",
        "      <td> 497</td>\n",
        "      <td> 543</td>\n",
        "      <td> 474</td>\n",
        "      <td> 34</td>\n",
        "      <td> Citrate cycle (TCA cycle)</td>\n",
        "      <td> Citrate cycle (TCA cycle)</td>\n",
        "      <td> Citrate cycle (TCA cycle)</td>\n",
        "      <td> path:eco00020</td>\n",
        "      <td> #000000</td>\n",
        "      <td> #89b9cE</td>\n",
        "      <td> NaN</td>\n",
        "      <td>      map</td>\n",
        "      <td> roundrectangle</td>\n",
        "      <td> http://www.kegg.jp/dbget-bin/www_bget?eco00020</td>\n",
        "    </tr>\n",
        "  </tbody>\n",
        "</table>\n",
        "</div>"
       ],
       "metadata": {},
       "output_type": "pyout",
       "prompt_number": 168,
       "text": [
        "   SUID       shared name              name selected  KEGG_NODE_X  \\\n",
        "0  7218  path:eco00250:15  path:eco00250:15    False          271   \n",
        "1  7219  path:eco00250:16  path:eco00250:16    False          270   \n",
        "2  7220  path:eco00250:17  path:eco00250:17    False          734   \n",
        "3  7221  path:eco00250:18  path:eco00250:18    False          666   \n",
        "4  7222  path:eco00250:19  path:eco00250:19    False          497   \n",
        "\n",
        "   KEGG_NODE_Y  KEGG_NODE_WIDTH  KEGG_NODE_HEIGHT            KEGG_NODE_LABEL  \\\n",
        "0          515                8                 8                     C00122   \n",
        "1          572                8                 8                     C00042   \n",
        "2          513                8                 8                     C00036   \n",
        "3          572                8                 8                     C00026   \n",
        "4          543              474                34  Citrate cycle (TCA cycle)   \n",
        "\n",
        "  KEGG_NODE_LABEL_LIST_FIRST       KEGG_NODE_LABEL_LIST        KEGG_ID  \\\n",
        "0                   Fumarate                     C00122     cpd:C00122   \n",
        "1                  Succinate                     C00042     cpd:C00042   \n",
        "2               Oxaloacetate                     C00036     cpd:C00036   \n",
        "3             2-Oxoglutarate                     C00026     cpd:C00026   \n",
        "4  Citrate cycle (TCA cycle)  Citrate cycle (TCA cycle)  path:eco00020   \n",
        "\n",
        "  KEGG_NODE_LABEL_COLOR KEGG_NODE_FILL_COLOR KEGG_NODE_REACTIONID  \\\n",
        "0               #000000              #FFFFFF                  NaN   \n",
        "1               #000000              #FFFFFF                  NaN   \n",
        "2               #000000              #FFFFFF                  NaN   \n",
        "3               #000000              #FFFFFF                  NaN   \n",
        "4               #000000              #89b9cE                  NaN   \n",
        "\n",
        "  KEGG_NODE_TYPE KEGG_NODE_SHAPE  \\\n",
        "0       compound          circle   \n",
        "1       compound          circle   \n",
        "2       compound          circle   \n",
        "3       compound          circle   \n",
        "4            map  roundrectangle   \n",
        "\n",
        "                                        KEGG_LINK  \n",
        "0    http://www.kegg.jp/dbget-bin/www_bget?C00122  \n",
        "1    http://www.kegg.jp/dbget-bin/www_bget?C00042  \n",
        "2    http://www.kegg.jp/dbget-bin/www_bget?C00036  \n",
        "3    http://www.kegg.jp/dbget-bin/www_bget?C00026  \n",
        "4  http://www.kegg.jp/dbget-bin/www_bget?eco00020  "
       ]
      }
     ],
     "prompt_number": 168
    },
    {
     "cell_type": "markdown",
     "metadata": {},
     "source": [
      "####next we download DRUGBANK drugtarget and ID mapping table"
     ]
    },
    {
     "cell_type": "code",
     "collapsed": false,
     "input": [
      "!curl -O http://www.drugbank.ca/system/downloads/current/all_target_ids_all.csv.zip"
     ],
     "language": "python",
     "metadata": {},
     "outputs": [
      {
       "output_type": "stream",
       "stream": "stdout",
       "text": [
        "  % Total    % Received % Xferd  Average Speed   Time    Time     Time  Current\r\n",
        "                                 Dload  Upload   Total   Spent    Left  Speed\r\n",
        "\r",
        "  0     0    0     0    0     0      0      0 --:--:-- --:--:-- --:--:--     0"
       ]
      },
      {
       "output_type": "stream",
       "stream": "stdout",
       "text": [
        "\r",
        "100  202k  100  202k    0     0   342k      0 --:--:-- --:--:-- --:--:--  342k\r\n"
       ]
      }
     ],
     "prompt_number": 169
    },
    {
     "cell_type": "code",
     "collapsed": false,
     "input": [
      "!unzip all_target_ids_all.csv.zip"
     ],
     "language": "python",
     "metadata": {},
     "outputs": [
      {
       "output_type": "stream",
       "stream": "stdout",
       "text": [
        "Archive:  all_target_ids_all.csv.zip\r\n",
        "  inflating: all_target_ids_all.csv  \r\n"
       ]
      }
     ],
     "prompt_number": 8
    },
    {
     "cell_type": "markdown",
     "metadata": {},
     "source": [
      "####import Drugbank drug targets into pandas dataframe"
     ]
    },
    {
     "cell_type": "code",
     "collapsed": false,
     "input": [
      "drugbank_df = pd.read_csv('all_target_ids_all.csv')"
     ],
     "language": "python",
     "metadata": {},
     "outputs": [],
     "prompt_number": 170
    },
    {
     "cell_type": "code",
     "collapsed": false,
     "input": [
      "drugbank_df.head()"
     ],
     "language": "python",
     "metadata": {},
     "outputs": [
      {
       "html": [
        "<div style=\"max-height:1000px;max-width:1500px;overflow:auto;\">\n",
        "<table border=\"1\" class=\"dataframe\">\n",
        "  <thead>\n",
        "    <tr style=\"text-align: right;\">\n",
        "      <th></th>\n",
        "      <th>ID</th>\n",
        "      <th>Name</th>\n",
        "      <th>Gene Name</th>\n",
        "      <th>GenBank Protein ID</th>\n",
        "      <th>GenBank Gene ID</th>\n",
        "      <th>UniProt ID</th>\n",
        "      <th>Uniprot Title</th>\n",
        "      <th>PDB ID</th>\n",
        "      <th>GeneCard ID</th>\n",
        "      <th>GenAtlas ID</th>\n",
        "      <th>HGNC ID</th>\n",
        "      <th>Species</th>\n",
        "      <th>Drug IDs</th>\n",
        "    </tr>\n",
        "  </thead>\n",
        "  <tbody>\n",
        "    <tr>\n",
        "      <th>0</th>\n",
        "      <td> P45059</td>\n",
        "      <td>              Peptidoglycan synthase FtsI</td>\n",
        "      <td>  ftsI</td>\n",
        "      <td> 1574687</td>\n",
        "      <td>   L42023</td>\n",
        "      <td> P45059</td>\n",
        "      <td> FTSI_HAEIN</td>\n",
        "      <td>NaN</td>\n",
        "      <td>   NaN</td>\n",
        "      <td>   NaN</td>\n",
        "      <td>        NaN</td>\n",
        "      <td> Haemophilus influenzae (strain ATCC 51907 / DS...</td>\n",
        "      <td>                                           DB00303</td>\n",
        "    </tr>\n",
        "    <tr>\n",
        "      <th>1</th>\n",
        "      <td> P19113</td>\n",
        "      <td>                  Histidine decarboxylase</td>\n",
        "      <td>   HDC</td>\n",
        "      <td>   32109</td>\n",
        "      <td>   X54297</td>\n",
        "      <td> P19113</td>\n",
        "      <td> DCHS_HUMAN</td>\n",
        "      <td>NaN</td>\n",
        "      <td>   HDC</td>\n",
        "      <td>   HDC</td>\n",
        "      <td>  HGNC:4855</td>\n",
        "      <td>                                             Human</td>\n",
        "      <td>                                  DB00114; DB00117</td>\n",
        "    </tr>\n",
        "    <tr>\n",
        "      <th>2</th>\n",
        "      <td> Q9UI32</td>\n",
        "      <td> Glutaminase liver isoform, mitochondrial</td>\n",
        "      <td>  GLS2</td>\n",
        "      <td> 6650606</td>\n",
        "      <td> AF110330</td>\n",
        "      <td> Q9UI32</td>\n",
        "      <td> GLSL_HUMAN</td>\n",
        "      <td>NaN</td>\n",
        "      <td>  GLS2</td>\n",
        "      <td>  GLS2</td>\n",
        "      <td> HGNC:29570</td>\n",
        "      <td>                                             Human</td>\n",
        "      <td>                                           DB00142</td>\n",
        "    </tr>\n",
        "    <tr>\n",
        "      <th>3</th>\n",
        "      <td> P00488</td>\n",
        "      <td>          Coagulation factor XIII A chain</td>\n",
        "      <td> F13A1</td>\n",
        "      <td>  182309</td>\n",
        "      <td>   M22001</td>\n",
        "      <td> P00488</td>\n",
        "      <td> F13A_HUMAN</td>\n",
        "      <td>NaN</td>\n",
        "      <td> F13A1</td>\n",
        "      <td> F13A1</td>\n",
        "      <td>  HGNC:3531</td>\n",
        "      <td>                                             Human</td>\n",
        "      <td>                                  DB01839; DB02340</td>\n",
        "    </tr>\n",
        "    <tr>\n",
        "      <th>4</th>\n",
        "      <td> P35228</td>\n",
        "      <td>         Nitric oxide synthase, inducible</td>\n",
        "      <td>  NOS2</td>\n",
        "      <td>  292242</td>\n",
        "      <td>   L09210</td>\n",
        "      <td> P35228</td>\n",
        "      <td> NOS2_HUMAN</td>\n",
        "      <td>NaN</td>\n",
        "      <td> NOS2A</td>\n",
        "      <td> NOS2A</td>\n",
        "      <td>  HGNC:7873</td>\n",
        "      <td>                                             Human</td>\n",
        "      <td> DB00125; DB00155; DB01110; DB01234; DB01686; D...</td>\n",
        "    </tr>\n",
        "  </tbody>\n",
        "</table>\n",
        "</div>"
       ],
       "metadata": {},
       "output_type": "pyout",
       "prompt_number": 171,
       "text": [
        "       ID                                      Name Gene Name  \\\n",
        "0  P45059               Peptidoglycan synthase FtsI      ftsI   \n",
        "1  P19113                   Histidine decarboxylase       HDC   \n",
        "2  Q9UI32  Glutaminase liver isoform, mitochondrial      GLS2   \n",
        "3  P00488           Coagulation factor XIII A chain     F13A1   \n",
        "4  P35228          Nitric oxide synthase, inducible      NOS2   \n",
        "\n",
        "   GenBank Protein ID GenBank Gene ID UniProt ID Uniprot Title  PDB ID  \\\n",
        "0             1574687          L42023     P45059    FTSI_HAEIN     NaN   \n",
        "1               32109          X54297     P19113    DCHS_HUMAN     NaN   \n",
        "2             6650606        AF110330     Q9UI32    GLSL_HUMAN     NaN   \n",
        "3              182309          M22001     P00488    F13A_HUMAN     NaN   \n",
        "4              292242          L09210     P35228    NOS2_HUMAN     NaN   \n",
        "\n",
        "  GeneCard ID GenAtlas ID     HGNC ID  \\\n",
        "0         NaN         NaN         NaN   \n",
        "1         HDC         HDC   HGNC:4855   \n",
        "2        GLS2        GLS2  HGNC:29570   \n",
        "3       F13A1       F13A1   HGNC:3531   \n",
        "4       NOS2A       NOS2A   HGNC:7873   \n",
        "\n",
        "                                             Species  \\\n",
        "0  Haemophilus influenzae (strain ATCC 51907 / DS...   \n",
        "1                                              Human   \n",
        "2                                              Human   \n",
        "3                                              Human   \n",
        "4                                              Human   \n",
        "\n",
        "                                            Drug IDs  \n",
        "0                                            DB00303  \n",
        "1                                   DB00114; DB00117  \n",
        "2                                            DB00142  \n",
        "3                                   DB01839; DB02340  \n",
        "4  DB00125; DB00155; DB01110; DB01234; DB01686; D...  "
       ]
      }
     ],
     "prompt_number": 171
    },
    {
     "cell_type": "markdown",
     "metadata": {},
     "source": [
      "####Get uniprot-keggid conversion table. This takes long time."
     ]
    },
    {
     "cell_type": "code",
     "collapsed": false,
     "input": [
      "!curl -o conv_eco_uniprot.tsv http://rest.kegg.jp/conv/eco/uniprot"
     ],
     "language": "python",
     "metadata": {},
     "outputs": [
      {
       "output_type": "stream",
       "stream": "stdout",
       "text": [
        "  % Total    % Received % Xferd  Average Speed   Time    Time     Time  Current\r\n",
        "                                 Dload  Upload   Total   Spent    Left  Speed\r\n",
        "\r",
        "  0     0    0     0    0     0      0      0 --:--:-- --:--:-- --:--:--     0"
       ]
      },
      {
       "output_type": "stream",
       "stream": "stdout",
       "text": [
        "\r",
        "  0     0    0     0    0     0      0      0 --:--:--  0:00:01 --:--:--     0"
       ]
      },
      {
       "output_type": "stream",
       "stream": "stdout",
       "text": [
        "\r",
        "  0     0    0     0    0     0      0      0 --:--:--  0:00:02 --:--:--     0"
       ]
      },
      {
       "output_type": "stream",
       "stream": "stdout",
       "text": [
        "\r",
        "  0     0    0     0    0     0      0      0 --:--:--  0:00:03 --:--:--     0"
       ]
      },
      {
       "output_type": "stream",
       "stream": "stdout",
       "text": [
        "\r",
        "  0     0    0     0    0     0      0      0 --:--:--  0:00:04 --:--:--     0"
       ]
      },
      {
       "output_type": "stream",
       "stream": "stdout",
       "text": [
        "\r",
        "  0     0    0     0    0     0      0      0 --:--:--  0:00:05 --:--:--     0"
       ]
      },
      {
       "output_type": "stream",
       "stream": "stdout",
       "text": [
        "\r",
        "  0     0    0     0    0     0      0      0 --:--:--  0:00:06 --:--:--     0"
       ]
      },
      {
       "output_type": "stream",
       "stream": "stdout",
       "text": [
        "\r",
        "  0     0    0     0    0     0      0      0 --:--:--  0:00:07 --:--:--     0"
       ]
      },
      {
       "output_type": "stream",
       "stream": "stdout",
       "text": [
        "\r",
        "  0     0    0     0    0     0      0      0 --:--:--  0:00:08 --:--:--     0"
       ]
      },
      {
       "output_type": "stream",
       "stream": "stdout",
       "text": [
        "\r",
        "  0     0    0     0    0     0      0      0 --:--:--  0:00:09 --:--:--     0"
       ]
      },
      {
       "output_type": "stream",
       "stream": "stdout",
       "text": [
        "\r",
        "  0     0    0     0    0     0      0      0 --:--:--  0:00:10 --:--:--     0"
       ]
      },
      {
       "output_type": "stream",
       "stream": "stdout",
       "text": [
        "\r",
        "  0     0    0     0    0     0      0      0 --:--:--  0:00:11 --:--:--     0"
       ]
      },
      {
       "output_type": "stream",
       "stream": "stdout",
       "text": [
        "\r",
        "  0     0    0     0    0     0      0      0 --:--:--  0:00:12 --:--:--     0"
       ]
      },
      {
       "output_type": "stream",
       "stream": "stdout",
       "text": [
        "\r",
        "  0     0    0     0    0     0      0      0 --:--:--  0:00:13 --:--:--     0"
       ]
      },
      {
       "output_type": "stream",
       "stream": "stdout",
       "text": [
        "\r",
        "  0     0    0     0    0     0      0      0 --:--:--  0:00:14 --:--:--     0"
       ]
      },
      {
       "output_type": "stream",
       "stream": "stdout",
       "text": [
        "\r",
        "  0     0    0     0    0     0      0      0 --:--:--  0:00:15 --:--:--     0"
       ]
      },
      {
       "output_type": "stream",
       "stream": "stdout",
       "text": [
        "\r",
        "  0     0    0     0    0     0      0      0 --:--:--  0:00:16 --:--:--     0"
       ]
      },
      {
       "output_type": "stream",
       "stream": "stdout",
       "text": [
        "\r",
        "  0     0    0     0    0     0      0      0 --:--:--  0:00:17 --:--:--     0"
       ]
      },
      {
       "output_type": "stream",
       "stream": "stdout",
       "text": [
        "\r",
        "  0     0    0     0    0     0      0      0 --:--:--  0:00:18 --:--:--     0"
       ]
      },
      {
       "output_type": "stream",
       "stream": "stdout",
       "text": [
        "\r",
        "  0     0    0     0    0     0      0      0 --:--:--  0:00:19 --:--:--     0"
       ]
      },
      {
       "output_type": "stream",
       "stream": "stdout",
       "text": [
        "\r",
        "  0     0    0     0    0     0      0      0 --:--:--  0:00:20 --:--:--     0"
       ]
      },
      {
       "output_type": "stream",
       "stream": "stdout",
       "text": [
        "\r",
        "  0     0    0     0    0     0      0      0 --:--:--  0:00:21 --:--:--     0"
       ]
      },
      {
       "output_type": "stream",
       "stream": "stdout",
       "text": [
        "\r",
        "  0     0    0     0    0     0      0      0 --:--:--  0:00:22 --:--:--     0"
       ]
      },
      {
       "output_type": "stream",
       "stream": "stdout",
       "text": [
        "\r",
        "  0     0    0     0    0     0      0      0 --:--:--  0:00:23 --:--:--     0"
       ]
      },
      {
       "output_type": "stream",
       "stream": "stdout",
       "text": [
        "\r",
        "  0     0    0     0    0     0      0      0 --:--:--  0:00:24 --:--:--     0"
       ]
      },
      {
       "output_type": "stream",
       "stream": "stdout",
       "text": [
        "\r",
        "  0     0    0     0    0     0      0      0 --:--:--  0:00:25 --:--:--     0"
       ]
      },
      {
       "output_type": "stream",
       "stream": "stdout",
       "text": [
        "\r",
        "  0     0    0     0    0     0      0      0 --:--:--  0:00:26 --:--:--     0"
       ]
      },
      {
       "output_type": "stream",
       "stream": "stdout",
       "text": [
        "\r",
        "  0     0    0     0    0     0      0      0 --:--:--  0:00:27 --:--:--     0"
       ]
      },
      {
       "output_type": "stream",
       "stream": "stdout",
       "text": [
        "\r",
        "  0     0    0     0    0     0      0      0 --:--:--  0:00:28 --:--:--     0"
       ]
      },
      {
       "output_type": "stream",
       "stream": "stdout",
       "text": [
        "\r",
        "  0     0    0     0    0     0      0      0 --:--:--  0:00:29 --:--:--     0"
       ]
      },
      {
       "output_type": "stream",
       "stream": "stdout",
       "text": [
        "\r",
        "  0     0    0     0    0     0      0      0 --:--:--  0:00:30 --:--:--     0"
       ]
      },
      {
       "output_type": "stream",
       "stream": "stdout",
       "text": [
        "\r",
        "  0     0    0     0    0     0      0      0 --:--:--  0:00:31 --:--:--     0"
       ]
      },
      {
       "output_type": "stream",
       "stream": "stdout",
       "text": [
        "\r",
        "  0     0    0     0    0     0      0      0 --:--:--  0:00:32 --:--:--     0"
       ]
      },
      {
       "output_type": "stream",
       "stream": "stdout",
       "text": [
        "\r",
        "  0     0    0     0    0     0      0      0 --:--:--  0:00:33 --:--:--     0"
       ]
      },
      {
       "output_type": "stream",
       "stream": "stdout",
       "text": [
        "\r",
        "  0     0    0     0    0     0      0      0 --:--:--  0:00:34 --:--:--     0"
       ]
      },
      {
       "output_type": "stream",
       "stream": "stdout",
       "text": [
        "\r",
        "  0     0    0     0    0     0      0      0 --:--:--  0:00:35 --:--:--     0"
       ]
      },
      {
       "output_type": "stream",
       "stream": "stdout",
       "text": [
        "\r",
        "  0     0    0     0    0     0      0      0 --:--:--  0:00:36 --:--:--     0"
       ]
      },
      {
       "output_type": "stream",
       "stream": "stdout",
       "text": [
        "\r",
        "  0     0    0     0    0     0      0      0 --:--:--  0:00:37 --:--:--     0"
       ]
      },
      {
       "output_type": "stream",
       "stream": "stdout",
       "text": [
        "\r",
        "  0     0    0     0    0     0      0      0 --:--:--  0:00:38 --:--:--     0"
       ]
      },
      {
       "output_type": "stream",
       "stream": "stdout",
       "text": [
        "\r",
        "  0     0    0     0    0     0      0      0 --:--:--  0:00:39 --:--:--     0"
       ]
      },
      {
       "output_type": "stream",
       "stream": "stdout",
       "text": [
        "\r",
        "  0     0    0     0    0     0      0      0 --:--:--  0:00:40 --:--:--     0"
       ]
      },
      {
       "output_type": "stream",
       "stream": "stdout",
       "text": [
        "\r",
        "  0     0    0     0    0     0      0      0 --:--:--  0:00:41 --:--:--     0"
       ]
      },
      {
       "output_type": "stream",
       "stream": "stdout",
       "text": [
        "\r",
        "  0     0    0     0    0     0      0      0 --:--:--  0:00:42 --:--:--     0"
       ]
      },
      {
       "output_type": "stream",
       "stream": "stdout",
       "text": [
        "\r",
        "  0     0    0     0    0     0      0      0 --:--:--  0:00:43 --:--:--     0"
       ]
      },
      {
       "output_type": "stream",
       "stream": "stdout",
       "text": [
        "\r",
        "  0     0    0     0    0     0      0      0 --:--:--  0:00:44 --:--:--     0"
       ]
      },
      {
       "output_type": "stream",
       "stream": "stdout",
       "text": [
        "\r",
        "  0     0    0     0    0     0      0      0 --:--:--  0:00:45 --:--:--     0"
       ]
      },
      {
       "output_type": "stream",
       "stream": "stdout",
       "text": [
        "\r",
        "  0     0    0     0    0     0      0      0 --:--:--  0:00:46 --:--:--     0"
       ]
      },
      {
       "output_type": "stream",
       "stream": "stdout",
       "text": [
        "\r",
        "  0     0    0     0    0     0      0      0 --:--:--  0:00:47 --:--:--     0"
       ]
      },
      {
       "output_type": "stream",
       "stream": "stdout",
       "text": [
        "\r",
        "  0     0    0     0    0     0      0      0 --:--:--  0:00:48 --:--:--     0"
       ]
      },
      {
       "output_type": "stream",
       "stream": "stdout",
       "text": [
        "\r",
        "  0     0    0     0    0     0      0      0 --:--:--  0:00:49 --:--:--     0"
       ]
      },
      {
       "output_type": "stream",
       "stream": "stdout",
       "text": [
        "\r",
        "  0     0    0     0    0     0      0     "
       ]
      },
      {
       "output_type": "stream",
       "stream": "stdout",
       "text": [
        " 0 --:--:--  0:00:50 --:--:--     0"
       ]
      },
      {
       "output_type": "stream",
       "stream": "stdout",
       "text": [
        "\r",
        "  0     0    0     0    0     0      0      0 --:--:--  0:00:51 --:--:--     0"
       ]
      },
      {
       "output_type": "stream",
       "stream": "stdout",
       "text": [
        "\r",
        "  0     0    0     0    0     0      0      0 --:--:--  0:00:52 --:--:--     0"
       ]
      },
      {
       "output_type": "stream",
       "stream": "stdout",
       "text": [
        "\r",
        "  0     0    0     0    0     0      0      0 --:--:--  0:00:53 --:--:--     0"
       ]
      },
      {
       "output_type": "stream",
       "stream": "stdout",
       "text": [
        "\r",
        "  0     0    0     0    0     0      0      0 --:--:--  0:00:54 --:--:--     0"
       ]
      },
      {
       "output_type": "stream",
       "stream": "stdout",
       "text": [
        "\r",
        "  0     0    0     0    0     0      0      0 --:--:--  0:00:55 --:--:--     0"
       ]
      },
      {
       "output_type": "stream",
       "stream": "stdout",
       "text": [
        "\r",
        "  0     0    0     0    0     0      0      0 --:--:--  0:00:56 --:--:--     0"
       ]
      },
      {
       "output_type": "stream",
       "stream": "stdout",
       "text": [
        "\r",
        "  0     0    0     0    0     0      0      0 --:--:--  0:00:57 --:--:--     0"
       ]
      },
      {
       "output_type": "stream",
       "stream": "stdout",
       "text": [
        "\r",
        "  0     0    0     0    0     0      0      0 --:--:--  0:00:58 --:--:--     0"
       ]
      },
      {
       "output_type": "stream",
       "stream": "stdout",
       "text": [
        "\r",
        "  0     0    0     0    0     0      0      0 --:--:--  0:00:59 --:--:--     0"
       ]
      },
      {
       "output_type": "stream",
       "stream": "stdout",
       "text": [
        "\r",
        "  0     0    0     0    0     0      0      0 --:--:--  0:01:00 --:--:--     0"
       ]
      },
      {
       "output_type": "stream",
       "stream": "stdout",
       "text": [
        "\r",
        "  0     0    0     0    0     0      0      0 --:--:--  0:01:01 --:--:--     0"
       ]
      },
      {
       "output_type": "stream",
       "stream": "stdout",
       "text": [
        "\r",
        "  0     0    0     0    0     0      0      0 --:--:--  0:01:02 --:--:--     0"
       ]
      },
      {
       "output_type": "stream",
       "stream": "stdout",
       "text": [
        "\r",
        "  0     0    0     0    0     0      0      0 --:--:--  0:01:03 --:--:--     0"
       ]
      },
      {
       "output_type": "stream",
       "stream": "stdout",
       "text": [
        "\r",
        "  0     0    0     0    0     0      0      0 --:--:--  0:01:04 --:--:--     0"
       ]
      },
      {
       "output_type": "stream",
       "stream": "stdout",
       "text": [
        "\r",
        "  0     0    0     0    0     0      0      0 --:--:--  0:01:05 --:--:--     0"
       ]
      },
      {
       "output_type": "stream",
       "stream": "stdout",
       "text": [
        "\r",
        "  0     0    0     0    0     0      0      0 --:--:--  0:01:06 --:--:--     0"
       ]
      },
      {
       "output_type": "stream",
       "stream": "stdout",
       "text": [
        "\r",
        "  0     0    0     0    0     0      0      0 --:--:--  0:01:07 --:--:--     0"
       ]
      },
      {
       "output_type": "stream",
       "stream": "stdout",
       "text": [
        "\r",
        "  0     0    0     0    0     0      0      0 --:--:--  0:01:08 --:--:--     0"
       ]
      },
      {
       "output_type": "stream",
       "stream": "stdout",
       "text": [
        "\r",
        "  0     0    0     0    0     0      0      0 --:--:--  0:01:09 --:--:--     0"
       ]
      },
      {
       "output_type": "stream",
       "stream": "stdout",
       "text": [
        "\r",
        "  0     0    0     0    0     0      0      0 --:--:--  0:01:10 --:--:--     0"
       ]
      },
      {
       "output_type": "stream",
       "stream": "stdout",
       "text": [
        "\r",
        "  0     0    0     0    0     0      0      0 --:--:--  0:01:11 --:--:--     0"
       ]
      },
      {
       "output_type": "stream",
       "stream": "stdout",
       "text": [
        "\r",
        "  0     0    0     0    0     0      0      0 --:--:--  0:01:12 --:--:--     0"
       ]
      },
      {
       "output_type": "stream",
       "stream": "stdout",
       "text": [
        "\r",
        "  0     0    0     0    0     0      0      0 --:--:--  0:01:13 --:--:--     0"
       ]
      },
      {
       "output_type": "stream",
       "stream": "stdout",
       "text": [
        "\r",
        "  0     0    0     0    0     0      0      0 --:--:--  0:01:14 --:--:--     0"
       ]
      },
      {
       "output_type": "stream",
       "stream": "stdout",
       "text": [
        "\r",
        "  0     0    0     0    0     0      0      0 --:--:--  0:01:15 --:--:--     0"
       ]
      },
      {
       "output_type": "stream",
       "stream": "stdout",
       "text": [
        "\r",
        "  0     0    0     0    0     0      0      0 --:--:--  0:01:16 --:--:--     0"
       ]
      },
      {
       "output_type": "stream",
       "stream": "stdout",
       "text": [
        "\r",
        "  0     0    0     0    0     0      0      0 --:--:--  0:01:17 --:--:--     0"
       ]
      },
      {
       "output_type": "stream",
       "stream": "stdout",
       "text": [
        "\r",
        "  0     0    0     0    0     0      0      0 --:--:--  0:01:18 --:--:--     0"
       ]
      },
      {
       "output_type": "stream",
       "stream": "stdout",
       "text": [
        "\r",
        "  0     0    0     0    0     0      0      0 --:--:--  0:01:19 --:--:--     0"
       ]
      },
      {
       "output_type": "stream",
       "stream": "stdout",
       "text": [
        "\r",
        "  0     0    0     0    0     0      0      0 --:--:--  0:01:20 --:--:--     0"
       ]
      },
      {
       "output_type": "stream",
       "stream": "stdout",
       "text": [
        "\r",
        "  0     0    0     0    0     0      0      0 --:--:--  0:01:21 --:--:--     0"
       ]
      },
      {
       "output_type": "stream",
       "stream": "stdout",
       "text": [
        "\r",
        "  0     0    0     0    0     0      0      0 --:--:--  0:01:22 --:--:--     0"
       ]
      },
      {
       "output_type": "stream",
       "stream": "stdout",
       "text": [
        "\r",
        "  0     0    0     0    0     0      0      0 --:--:--  0:01:23 --:--:--     0"
       ]
      },
      {
       "output_type": "stream",
       "stream": "stdout",
       "text": [
        "\r",
        "  0     0    0     0    0     0      0      0 --:--:--  0:01:24 --:--:--     0"
       ]
      },
      {
       "output_type": "stream",
       "stream": "stdout",
       "text": [
        "\r",
        "  0     0    0     0    0     0      0      0 --:--:--  0:01:25 --:--:--     0"
       ]
      },
      {
       "output_type": "stream",
       "stream": "stdout",
       "text": [
        "\r",
        "  0     0    0     0    0     0      0      0 --:--:--  0:01:26 --:--:--     0"
       ]
      },
      {
       "output_type": "stream",
       "stream": "stdout",
       "text": [
        "\r",
        "  0     0    0     0    0     0      0      0 --:--:--  0:01:27 --:--:--     0"
       ]
      },
      {
       "output_type": "stream",
       "stream": "stdout",
       "text": [
        "\r",
        "  0     0    0     0    0     0      0      0 --:--:--  0:01:28 --:--:--     0"
       ]
      },
      {
       "output_type": "stream",
       "stream": "stdout",
       "text": [
        "\r",
        "  0     0    0     0    0     0      0      0 --:--:--  0:01:29 --:--:--     0"
       ]
      },
      {
       "output_type": "stream",
       "stream": "stdout",
       "text": [
        "\r",
        "  0     0    0     0    0     0      0      0 --:--:--  0:01:30 --:--:--     0"
       ]
      },
      {
       "output_type": "stream",
       "stream": "stdout",
       "text": [
        "\r",
        "  0     0    0     0    0     0      0      0 --:--:--  0:01:31 --:--:--     0"
       ]
      },
      {
       "output_type": "stream",
       "stream": "stdout",
       "text": [
        "\r",
        "  0     0    0     0    0     0      0      0 --:--:--  0:01:32 --:--:--     0"
       ]
      },
      {
       "output_type": "stream",
       "stream": "stdout",
       "text": [
        "\r",
        "  0     0    0     0    0     0      0      0 --:--:--  0:01:33 --:--:--     0"
       ]
      },
      {
       "output_type": "stream",
       "stream": "stdout",
       "text": [
        "\r",
        "  0     0    0     0    0     0      0      0 --:--:--  0:01:34 --:--:--     0"
       ]
      },
      {
       "output_type": "stream",
       "stream": "stdout",
       "text": [
        "\r",
        "  0     0    0     0    0     0      0      0 --:--:--  0:01:35 --:--:--     0"
       ]
      },
      {
       "output_type": "stream",
       "stream": "stdout",
       "text": [
        "\r",
        "  0     0    0     0    0     0      0      0 --:--:--  0:01:36 --:--:--     0"
       ]
      },
      {
       "output_type": "stream",
       "stream": "stdout",
       "text": [
        "\r",
        "  0     0    0     0    0     0      0      0 --:--:--  0:01:37 --:--:--     0"
       ]
      },
      {
       "output_type": "stream",
       "stream": "stdout",
       "text": [
        "\r",
        "  0     0    0     0    0     0      0      0 --:--:--  0:01:38 --:--:--     0"
       ]
      },
      {
       "output_type": "stream",
       "stream": "stdout",
       "text": [
        "\r",
        "  0     0    0     0    0     0      0      0 --:--:--  0:01:39 --:--:--     0"
       ]
      },
      {
       "output_type": "stream",
       "stream": "stdout",
       "text": [
        "\r",
        "  0     0    0     0    0     0      0      0 --:--:--  0:01:40 --:--:--     0"
       ]
      },
      {
       "output_type": "stream",
       "stream": "stdout",
       "text": [
        "\r",
        "  0     0    0     0    0     0      0      0 --:--:--  0:01:41 --:--:--     0"
       ]
      },
      {
       "output_type": "stream",
       "stream": "stdout",
       "text": [
        "\r",
        "  0     0    0     0    0     0      0      0 --:--:--  0:01:42 --:--:--     0"
       ]
      },
      {
       "output_type": "stream",
       "stream": "stdout",
       "text": [
        "\r",
        "  0     0    0     0    0     0      0      0 --:--:--  0:01:43 --:--:--     0"
       ]
      },
      {
       "output_type": "stream",
       "stream": "stdout",
       "text": [
        "\r",
        "  0     0    0     0    0     0      0      0 --:--:--  0:01:44 --:--:--     0"
       ]
      },
      {
       "output_type": "stream",
       "stream": "stdout",
       "text": [
        "\r",
        "  0     0    0     0    0     0      0      0 --:--:--  0:01:45 --:--:--     0"
       ]
      },
      {
       "output_type": "stream",
       "stream": "stdout",
       "text": [
        "\r",
        "  0     0    0     0    0     0      0      0 --:--:--  0:01:46 --:--:--     0"
       ]
      },
      {
       "output_type": "stream",
       "stream": "stdout",
       "text": [
        "\r",
        "  0     0    0     0    0     0      0      0 --:--:--  0:01:47 --:--:--     0"
       ]
      },
      {
       "output_type": "stream",
       "stream": "stdout",
       "text": [
        "\r",
        "  0     0    0     0    0     0      0      0 --:--:--  0:01:48 --:--:--     0"
       ]
      },
      {
       "output_type": "stream",
       "stream": "stdout",
       "text": [
        "\r",
        "  0     0    0     0    0     0      0      0 --:--:--  0:01:49 --:--:--     0"
       ]
      },
      {
       "output_type": "stream",
       "stream": "stdout",
       "text": [
        "\r",
        "  0     0    0     0    0     0      0"
       ]
      },
      {
       "output_type": "stream",
       "stream": "stdout",
       "text": [
        "      0 --:--:--  0:01:50 --:--:--     0"
       ]
      },
      {
       "output_type": "stream",
       "stream": "stdout",
       "text": [
        "\r",
        "  0     0    0     0    0     0      0      0 --:--:--  0:01:51 --:--:--     0"
       ]
      },
      {
       "output_type": "stream",
       "stream": "stdout",
       "text": [
        "\r",
        "  0     0    0     0    0     0      0      0 --:--:--  0:01:52 --:--:--     0"
       ]
      },
      {
       "output_type": "stream",
       "stream": "stdout",
       "text": [
        "\r",
        "  0     0    0     0    0     0      0      0 --:--:--  0:01:53 --:--:--     0"
       ]
      },
      {
       "output_type": "stream",
       "stream": "stdout",
       "text": [
        "\r",
        "  0     0    0     0    0     0      0      0 --:--:--  0:01:54 --:--:--     0"
       ]
      },
      {
       "output_type": "stream",
       "stream": "stdout",
       "text": [
        "\r",
        "  0     0    0     0    0     0      0      0 --:--:--  0:01:55 --:--:--     0"
       ]
      },
      {
       "output_type": "stream",
       "stream": "stdout",
       "text": [
        "\r",
        "  0     0    0     0    0     0      0      0 --:--:--  0:01:56 --:--:--     0"
       ]
      },
      {
       "output_type": "stream",
       "stream": "stdout",
       "text": [
        "\r",
        "  0     0    0     0    0     0      0      0 --:--:--  0:01:57 --:--:--     0"
       ]
      },
      {
       "output_type": "stream",
       "stream": "stdout",
       "text": [
        "\r",
        "  0     0    0     0    0     0      0      0 --:--:--  0:01:58 --:--:--     0"
       ]
      },
      {
       "output_type": "stream",
       "stream": "stdout",
       "text": [
        "\r",
        "  0     0    0     0    0     0      0      0 --:--:--  0:01:59 --:--:--     0"
       ]
      },
      {
       "output_type": "stream",
       "stream": "stdout",
       "text": [
        "\r",
        "  0     0    0     0    0     0      0      0 --:--:--  0:02:00 --:--:--     0"
       ]
      },
      {
       "output_type": "stream",
       "stream": "stdout",
       "text": [
        "\r",
        "  0     0    0     0    0     0      0      0 --:--:--  0:02:01 --:--:--     0"
       ]
      },
      {
       "output_type": "stream",
       "stream": "stdout",
       "text": [
        "\r",
        "  0     0    0     0    0     0      0      0 --:--:--  0:02:02 --:--:--     0"
       ]
      },
      {
       "output_type": "stream",
       "stream": "stdout",
       "text": [
        "\r",
        "  0     0    0     0    0     0      0      0 --:--:--  0:02:03 --:--:--     0"
       ]
      },
      {
       "output_type": "stream",
       "stream": "stdout",
       "text": [
        "\r",
        "  0     0    0     0    0     0      0      0 --:--:--  0:02:04 --:--:--     0"
       ]
      },
      {
       "output_type": "stream",
       "stream": "stdout",
       "text": [
        "\r",
        "  0     0    0     0    0     0      0      0 --:--:--  0:02:05 --:--:--     0"
       ]
      },
      {
       "output_type": "stream",
       "stream": "stdout",
       "text": [
        "\r",
        "  0     0    0     0    0     0      0      0 --:--:--  0:02:06 --:--:--     0"
       ]
      },
      {
       "output_type": "stream",
       "stream": "stdout",
       "text": [
        "\r",
        "  0     0    0     0    0     0      0      0 --:--:--  0:02:07 --:--:--     0"
       ]
      },
      {
       "output_type": "stream",
       "stream": "stdout",
       "text": [
        "\r",
        "  0     0    0     0    0     0      0      0 --:--:--  0:02:08 --:--:--     0"
       ]
      },
      {
       "output_type": "stream",
       "stream": "stdout",
       "text": [
        "\r",
        "  0     0    0     0    0     0      0      0 --:--:--  0:02:09 --:--:--     0"
       ]
      },
      {
       "output_type": "stream",
       "stream": "stdout",
       "text": [
        "\r",
        "  0     0    0     0    0     0      0      0 --:--:--  0:02:10 --:--:--     0"
       ]
      },
      {
       "output_type": "stream",
       "stream": "stdout",
       "text": [
        "\r",
        "  0     0    0     0    0     0      0      0 --:--:--  0:02:11 --:--:--     0"
       ]
      },
      {
       "output_type": "stream",
       "stream": "stdout",
       "text": [
        "\r",
        "  0     0    0     0    0     0      0      0 --:--:--  0:02:12 --:--:--     0"
       ]
      },
      {
       "output_type": "stream",
       "stream": "stdout",
       "text": [
        "\r",
        "  0     0    0     0    0     0      0      0 --:--:--  0:02:13 --:--:--     0"
       ]
      },
      {
       "output_type": "stream",
       "stream": "stdout",
       "text": [
        "\r",
        "  0     0    0     0    0     0      0      0 --:--:--  0:02:14 --:--:--     0"
       ]
      },
      {
       "output_type": "stream",
       "stream": "stdout",
       "text": [
        "\r",
        "  0     0    0     0    0     0      0      0 --:--:--  0:02:15 --:--:--     0"
       ]
      },
      {
       "output_type": "stream",
       "stream": "stdout",
       "text": [
        "\r",
        "  0     0    0     0    0     0      0      0 --:--:--  0:02:16 --:--:--     0"
       ]
      },
      {
       "output_type": "stream",
       "stream": "stdout",
       "text": [
        "\r",
        "  0     0    0     0    0     0      0      0 --:--:--  0:02:17 --:--:--     0"
       ]
      },
      {
       "output_type": "stream",
       "stream": "stdout",
       "text": [
        "\r",
        "  0     0    0     0    0     0      0      0 --:--:--  0:02:18 --:--:--     0"
       ]
      },
      {
       "output_type": "stream",
       "stream": "stdout",
       "text": [
        "\r",
        "  0     0    0     0    0     0      0      0 --:--:--  0:02:19 --:--:--     0"
       ]
      },
      {
       "output_type": "stream",
       "stream": "stdout",
       "text": [
        "\r",
        "  0     0    0     0    0     0      0      0 --:--:--  0:02:20 --:--:--     0"
       ]
      },
      {
       "output_type": "stream",
       "stream": "stdout",
       "text": [
        "\r",
        "  0     0    0     0    0     0      0      0 --:--:--  0:02:21 --:--:--     0"
       ]
      },
      {
       "output_type": "stream",
       "stream": "stdout",
       "text": [
        "\r",
        "  0     0    0     0    0     0      0      0 --:--:--  0:02:22 --:--:--     0"
       ]
      },
      {
       "output_type": "stream",
       "stream": "stdout",
       "text": [
        "\r",
        "  0     0    0     0    0     0      0      0 --:--:--  0:02:23 --:--:--     0"
       ]
      },
      {
       "output_type": "stream",
       "stream": "stdout",
       "text": [
        "\r",
        "  0     0    0     0    0     0      0      0 --:--:--  0:02:24 --:--:--     0"
       ]
      },
      {
       "output_type": "stream",
       "stream": "stdout",
       "text": [
        "\r",
        "  0     0    0     0    0     0      0      0 --:--:--  0:02:25 --:--:--     0"
       ]
      },
      {
       "output_type": "stream",
       "stream": "stdout",
       "text": [
        "\r",
        "  0     0    0     0    0     0      0      0 --:--:--  0:02:26 --:--:--     0"
       ]
      },
      {
       "output_type": "stream",
       "stream": "stdout",
       "text": [
        "\r",
        "  0     0    0     0    0     0      0      0 --:--:--  0:02:27 --:--:--     0"
       ]
      },
      {
       "output_type": "stream",
       "stream": "stdout",
       "text": [
        "\r",
        "  0     0    0     0    0     0      0      0 --:--:--  0:02:28 --:--:--     0"
       ]
      },
      {
       "output_type": "stream",
       "stream": "stdout",
       "text": [
        "\r",
        "  0     0    0     0    0     0      0      0 --:--:--  0:02:29 --:--:--     0"
       ]
      },
      {
       "output_type": "stream",
       "stream": "stdout",
       "text": [
        "\r",
        "  0     0    0     0    0     0      0      0 --:--:--  0:02:30 --:--:--     0"
       ]
      },
      {
       "output_type": "stream",
       "stream": "stdout",
       "text": [
        "\r",
        "  0     0    0     0    0     0      0      0 --:--:--  0:02:31 --:--:--     0"
       ]
      },
      {
       "output_type": "stream",
       "stream": "stdout",
       "text": [
        "\r",
        "  0     0    0     0    0     0      0      0 --:--:--  0:02:32 --:--:--     0"
       ]
      },
      {
       "output_type": "stream",
       "stream": "stdout",
       "text": [
        "\r",
        "  0     0    0     0    0     0      0      0 --:--:--  0:02:33 --:--:--     0"
       ]
      },
      {
       "output_type": "stream",
       "stream": "stdout",
       "text": [
        "\r",
        "  0     0    0     0    0     0      0      0 --:--:--  0:02:34 --:--:--     0"
       ]
      },
      {
       "output_type": "stream",
       "stream": "stdout",
       "text": [
        "\r",
        "  0     0    0     0    0     0      0      0 --:--:--  0:02:35 --:--:--     0"
       ]
      },
      {
       "output_type": "stream",
       "stream": "stdout",
       "text": [
        "\r",
        "  0     0    0     0    0     0      0      0 --:--:--  0:02:36 --:--:--     0"
       ]
      },
      {
       "output_type": "stream",
       "stream": "stdout",
       "text": [
        "\r",
        "  0     0    0     0    0     0      0      0 --:--:--  0:02:37 --:--:--     0"
       ]
      },
      {
       "output_type": "stream",
       "stream": "stdout",
       "text": [
        "\r",
        "  0     0    0     0    0     0      0      0 --:--:--  0:02:38 --:--:--     0"
       ]
      },
      {
       "output_type": "stream",
       "stream": "stdout",
       "text": [
        "\r",
        "  0     0    0     0    0     0      0      0 --:--:--  0:02:39 --:--:--     0"
       ]
      },
      {
       "output_type": "stream",
       "stream": "stdout",
       "text": [
        "\r",
        "  0     0    0     0    0     0      0      0 --:--:--  0:02:40 --:--:--     0"
       ]
      },
      {
       "output_type": "stream",
       "stream": "stdout",
       "text": [
        "\r",
        "  0     0    0     0    0     0      0      0 --:--:--  0:02:41 --:--:--     0"
       ]
      },
      {
       "output_type": "stream",
       "stream": "stdout",
       "text": [
        "\r",
        "  0     0    0     0    0     0      0      0 --:--:--  0:02:42 --:--:--     0"
       ]
      },
      {
       "output_type": "stream",
       "stream": "stdout",
       "text": [
        "\r",
        "  0     0    0     0    0     0      0      0 --:--:--  0:02:43 --:--:--     0"
       ]
      },
      {
       "output_type": "stream",
       "stream": "stdout",
       "text": [
        "\r",
        "  0     0    0     0    0     0      0      0 --:--:--  0:02:44 --:--:--     0"
       ]
      },
      {
       "output_type": "stream",
       "stream": "stdout",
       "text": [
        "\r",
        "  0     0    0     0    0     0      0      0 --:--:--  0:02:46 --:--:--     0"
       ]
      },
      {
       "output_type": "stream",
       "stream": "stdout",
       "text": [
        "\r",
        "  0     0    0     0    0     0      0      0 --:--:--  0:02:47 --:--:--     0"
       ]
      },
      {
       "output_type": "stream",
       "stream": "stdout",
       "text": [
        "\r",
        "  0     0    0     0    0     0      0      0 --:--:--  0:02:48 --:--:--     0"
       ]
      },
      {
       "output_type": "stream",
       "stream": "stdout",
       "text": [
        "\r",
        "  0     0    0     0    0     0      0      0 --:--:--  0:02:49 --:--:--     0"
       ]
      },
      {
       "output_type": "stream",
       "stream": "stdout",
       "text": [
        "\r",
        "  0     0    0     0    0     0      0      0 --:--:--  0:02:50 --:--:--     0"
       ]
      },
      {
       "output_type": "stream",
       "stream": "stdout",
       "text": [
        "\r",
        "  0     0    0     0    0     0      0      0 --:--:--  0:02:51 --:--:--     0"
       ]
      },
      {
       "output_type": "stream",
       "stream": "stdout",
       "text": [
        "\r",
        "  0     0    0     0    0     0      0      0 --:--:--  0:02:52 --:--:--     0"
       ]
      },
      {
       "output_type": "stream",
       "stream": "stdout",
       "text": [
        "\r",
        "  0     0    0     0    0     0      0      0 --:--:--  0:02:53 --:--:--     0"
       ]
      },
      {
       "output_type": "stream",
       "stream": "stdout",
       "text": [
        "\r",
        "  0     0    0     0    0     0      0      0 --:--:--  0:02:54 --:--:--     0"
       ]
      },
      {
       "output_type": "stream",
       "stream": "stdout",
       "text": [
        "\r",
        "  0     0    0     0    0     0      0      0 --:--:--  0:02:55 --:--:--     0"
       ]
      },
      {
       "output_type": "stream",
       "stream": "stdout",
       "text": [
        "\r",
        "  0     0    0     0    0     0      0      0 --:--:--  0:02:56 --:--:--     0"
       ]
      },
      {
       "output_type": "stream",
       "stream": "stdout",
       "text": [
        "\r",
        "  0     0    0     0    0     0      0      0 --:--:--  0:02:57 --:--:--     0"
       ]
      },
      {
       "output_type": "stream",
       "stream": "stdout",
       "text": [
        "\r",
        "  0     0    0     0    0     0      0      0 --:--:--  0:02:58 --:--:--     0"
       ]
      },
      {
       "output_type": "stream",
       "stream": "stdout",
       "text": [
        "\r",
        "  0     0    0     0    0     0      0      0 --:--:--  0:02:59 --:--:--     0"
       ]
      },
      {
       "output_type": "stream",
       "stream": "stdout",
       "text": [
        "\r",
        "  0     0    0     0    0     0      0      0 --:--:--  0:03:00 --:--:--     0"
       ]
      },
      {
       "output_type": "stream",
       "stream": "stdout",
       "text": [
        "\r",
        "  0     0    0     0    0     0      0      0 --:--:--  0:03:01 --:--:--     0"
       ]
      },
      {
       "output_type": "stream",
       "stream": "stdout",
       "text": [
        "\r",
        "  0     0    0     0    0     0      0      0 --:--:--  0:03:02 --:--:--     0"
       ]
      },
      {
       "output_type": "stream",
       "stream": "stdout",
       "text": [
        "\r",
        "  0     0    0     0    0     0      0      0 --:--:--  0:03:03 --:--:--     0"
       ]
      },
      {
       "output_type": "stream",
       "stream": "stdout",
       "text": [
        "\r",
        "  0     0    0     0    0     0      0      0 --:--:--  0:03:04 --:--:--     0"
       ]
      },
      {
       "output_type": "stream",
       "stream": "stdout",
       "text": [
        "\r",
        "  0     0    0     0    0     0      0      0 --:--:--  0:03:05 --:--:--     0"
       ]
      },
      {
       "output_type": "stream",
       "stream": "stdout",
       "text": [
        "\r",
        "  0     0    0     0    0     0      0      0 --:--:--  0:03:06 --:--:--     0"
       ]
      },
      {
       "output_type": "stream",
       "stream": "stdout",
       "text": [
        "\r",
        "  0     0    0     0    0     0      0      0 --:--:--  0:03:07 --:--:--     0"
       ]
      },
      {
       "output_type": "stream",
       "stream": "stdout",
       "text": [
        "\r",
        "  0     0    0     0    0     0      0      0 --:--:--  0:03:08 --:--:--     0"
       ]
      },
      {
       "output_type": "stream",
       "stream": "stdout",
       "text": [
        "\r",
        "  0     0    0     0    0     0      0      0 --:--:--  0:03:09 --:--:--     0"
       ]
      },
      {
       "output_type": "stream",
       "stream": "stdout",
       "text": [
        "\r",
        "  0     0    0     0    0     0      0      0 --:--:--  0:03:10 --:--:--     0"
       ]
      },
      {
       "output_type": "stream",
       "stream": "stdout",
       "text": [
        "\r",
        "  0     0    0     0    0     0      0      0 --:--:--  0:03:11 --:--:--     0"
       ]
      },
      {
       "output_type": "stream",
       "stream": "stdout",
       "text": [
        "\r",
        "  0     0    0     0    0     0      0      0 --:--:--  0:03:12 --:--:--     0"
       ]
      },
      {
       "output_type": "stream",
       "stream": "stdout",
       "text": [
        "\r",
        "  0     0    0     0    0     0      0      0 --:--:--  0:03:13 --:--:--     0"
       ]
      },
      {
       "output_type": "stream",
       "stream": "stdout",
       "text": [
        "\r",
        "  0     0    0     0    0     0      0      0 --:--:--  0:03:14 --:--:--     0"
       ]
      },
      {
       "output_type": "stream",
       "stream": "stdout",
       "text": [
        "\r",
        "  0     0    0     0    0     0      0      0 --:--:--  0:03:15 --:--:--     0"
       ]
      },
      {
       "output_type": "stream",
       "stream": "stdout",
       "text": [
        "\r",
        "  0     0    0     0    0     0      0      0 --:--:--  0:03:16 --:--:--     0"
       ]
      },
      {
       "output_type": "stream",
       "stream": "stdout",
       "text": [
        "\r",
        "  0     0    0     0    0     0      0      0 --:--:--  0:03:17 --:--:--     0"
       ]
      },
      {
       "output_type": "stream",
       "stream": "stdout",
       "text": [
        "\r",
        "  0     0    0     0    0     0      0      0 --:--:--  0:03:18 --:--:--     0"
       ]
      },
      {
       "output_type": "stream",
       "stream": "stdout",
       "text": [
        "\r",
        "  0     0    0     0    0     0      0      0 --:--:--  0:03:19 --:--:--     0"
       ]
      },
      {
       "output_type": "stream",
       "stream": "stdout",
       "text": [
        "\r",
        "  0     0    0     0    0     0      0      0 --:--:--  0:03:20 --:--:--     0"
       ]
      },
      {
       "output_type": "stream",
       "stream": "stdout",
       "text": [
        "\r",
        "  0     0    0     0    0     0      0      0 --:--:--  0:03:21 --:--:--     0"
       ]
      },
      {
       "output_type": "stream",
       "stream": "stdout",
       "text": [
        "\r",
        "  0     0    0     0    0     0      0      0 --:--:--  0:03:22 --:--:--     0"
       ]
      },
      {
       "output_type": "stream",
       "stream": "stdout",
       "text": [
        "\r",
        "  0     0    0     0    0     0      0      0 --:--:--  0:03:23 --:--:--     0"
       ]
      },
      {
       "output_type": "stream",
       "stream": "stdout",
       "text": [
        "\r",
        "  0     0    0     0    0     0      0      0 --:--:--  0:03:24 --:--:--     0"
       ]
      },
      {
       "output_type": "stream",
       "stream": "stdout",
       "text": [
        "\r",
        "100  5371    0  5371    0     0     26      0 --:--:--  0:03:24 --:--:--  1167"
       ]
      },
      {
       "output_type": "stream",
       "stream": "stdout",
       "text": [
        "\r",
        "100 87040    0 87040    0     0    423      0 --:--:--  0:03:25 --:--:-- 19463\r\n"
       ]
      }
     ],
     "prompt_number": 9
    },
    {
     "cell_type": "code",
     "collapsed": false,
     "input": [
      "!head conv_eco_uniprot.tsv"
     ],
     "language": "python",
     "metadata": {},
     "outputs": [
      {
       "output_type": "stream",
       "stream": "stdout",
       "text": [
        "up:A5A605\teco:b4586\r\n",
        "up:A5A607\teco:b4589\r\n",
        "up:A5A611\teco:b4593\r\n",
        "up:A5A612\teco:b4594\r\n",
        "up:A5A613\teco:b4595\r\n",
        "up:A5A614\teco:b4596\r\n",
        "up:A5A615\teco:b4598\r\n",
        "up:A5A616\teco:b4599\r\n",
        "up:A5A617\teco:b4601\r\n",
        "up:A5A618\teco:b4602\r\n"
       ]
      }
     ],
     "prompt_number": 172
    },
    {
     "cell_type": "markdown",
     "metadata": {},
     "source": [
      "####import uniprot-KEGG ID conversion table"
     ]
    },
    {
     "cell_type": "code",
     "collapsed": false,
     "input": [
      "idconversion_df = pd.read_table('conv_eco_uniprot.tsv', header=None)"
     ],
     "language": "python",
     "metadata": {},
     "outputs": [],
     "prompt_number": 173
    },
    {
     "cell_type": "code",
     "collapsed": false,
     "input": [
      "idconversion_df.head()"
     ],
     "language": "python",
     "metadata": {},
     "outputs": [
      {
       "html": [
        "<div style=\"max-height:1000px;max-width:1500px;overflow:auto;\">\n",
        "<table border=\"1\" class=\"dataframe\">\n",
        "  <thead>\n",
        "    <tr style=\"text-align: right;\">\n",
        "      <th></th>\n",
        "      <th>0</th>\n",
        "      <th>1</th>\n",
        "    </tr>\n",
        "  </thead>\n",
        "  <tbody>\n",
        "    <tr>\n",
        "      <th>0</th>\n",
        "      <td> up:A5A605</td>\n",
        "      <td> eco:b4586</td>\n",
        "    </tr>\n",
        "    <tr>\n",
        "      <th>1</th>\n",
        "      <td> up:A5A607</td>\n",
        "      <td> eco:b4589</td>\n",
        "    </tr>\n",
        "    <tr>\n",
        "      <th>2</th>\n",
        "      <td> up:A5A611</td>\n",
        "      <td> eco:b4593</td>\n",
        "    </tr>\n",
        "    <tr>\n",
        "      <th>3</th>\n",
        "      <td> up:A5A612</td>\n",
        "      <td> eco:b4594</td>\n",
        "    </tr>\n",
        "    <tr>\n",
        "      <th>4</th>\n",
        "      <td> up:A5A613</td>\n",
        "      <td> eco:b4595</td>\n",
        "    </tr>\n",
        "  </tbody>\n",
        "</table>\n",
        "</div>"
       ],
       "metadata": {},
       "output_type": "pyout",
       "prompt_number": 174,
       "text": [
        "           0          1\n",
        "0  up:A5A605  eco:b4586\n",
        "1  up:A5A607  eco:b4589\n",
        "2  up:A5A611  eco:b4593\n",
        "3  up:A5A612  eco:b4594\n",
        "4  up:A5A613  eco:b4595"
       ]
      }
     ],
     "prompt_number": 174
    },
    {
     "cell_type": "markdown",
     "metadata": {},
     "source": [
      "## Merging pandas dataframes\n",
      "\n",
      "We integrate the three table(network nodes, drug targets table, id conversion table). Here we append columns drug target and drug to Cytoscape\u2019s node table."
     ]
    },
    {
     "cell_type": "code",
     "collapsed": false,
     "input": [
      "target_uniprot = []\n",
      "target_drug = []"
     ],
     "language": "python",
     "metadata": {},
     "outputs": [],
     "prompt_number": 175
    },
    {
     "cell_type": "code",
     "collapsed": true,
     "input": [
      "for i, keggtype in alanine_df['KEGG_NODE_TYPE'].iteritems():\n",
      "    target_uniprot.append(None)\n",
      "    target_drug.append(None)\n",
      "    if keggtype == 'gene':\n",
      "        uniprotids = []\n",
      "        for locus in alanine_df['KEGG_ID'][i].split('|'):\n",
      "            uniprot = idconversion_df[idconversion_df[1] == locus][0]\n",
      "            uniprotid = uniprot.values[0].replace('up:', '')\n",
      "            uniprotids.append(uniprotid)\n",
      "        for j, unip in drugbank_df['UniProt ID'].iteritems():\n",
      "            if unip in uniprotids:\n",
      "                target_uniprot.pop()\n",
      "                target_uniprot.append(unip)\n",
      "                target_drug.pop()\n",
      "                target_drug.append(drugbank_df['Drug IDs'][j])"
     ],
     "language": "python",
     "metadata": {},
     "outputs": [],
     "prompt_number": 176
    },
    {
     "cell_type": "code",
     "collapsed": false,
     "input": [
      "s1 = pd.Series(target_uniprot, name='TARGET_UNIPROT')\n",
      "s2 = pd.Series(target_drug, name='TARGET_DRUG')"
     ],
     "language": "python",
     "metadata": {},
     "outputs": [],
     "prompt_number": 177
    },
    {
     "cell_type": "code",
     "collapsed": false,
     "input": [
      "merged_df = pd.concat([alanine_df, s1, s2], axis=1)"
     ],
     "language": "python",
     "metadata": {},
     "outputs": [],
     "prompt_number": 178
    },
    {
     "cell_type": "code",
     "collapsed": false,
     "input": [
      "merged_df.head()"
     ],
     "language": "python",
     "metadata": {},
     "outputs": [
      {
       "html": [
        "<div style=\"max-height:1000px;max-width:1500px;overflow:auto;\">\n",
        "<table border=\"1\" class=\"dataframe\">\n",
        "  <thead>\n",
        "    <tr style=\"text-align: right;\">\n",
        "      <th></th>\n",
        "      <th>SUID</th>\n",
        "      <th>shared name</th>\n",
        "      <th>name</th>\n",
        "      <th>selected</th>\n",
        "      <th>KEGG_NODE_X</th>\n",
        "      <th>KEGG_NODE_Y</th>\n",
        "      <th>KEGG_NODE_WIDTH</th>\n",
        "      <th>KEGG_NODE_HEIGHT</th>\n",
        "      <th>KEGG_NODE_LABEL</th>\n",
        "      <th>KEGG_NODE_LABEL_LIST_FIRST</th>\n",
        "      <th>KEGG_NODE_LABEL_LIST</th>\n",
        "      <th>KEGG_ID</th>\n",
        "      <th>KEGG_NODE_LABEL_COLOR</th>\n",
        "      <th>KEGG_NODE_FILL_COLOR</th>\n",
        "      <th>KEGG_NODE_REACTIONID</th>\n",
        "      <th>KEGG_NODE_TYPE</th>\n",
        "      <th>KEGG_NODE_SHAPE</th>\n",
        "      <th>KEGG_LINK</th>\n",
        "      <th>TARGET_UNIPROT</th>\n",
        "      <th>TARGET_DRUG</th>\n",
        "    </tr>\n",
        "  </thead>\n",
        "  <tbody>\n",
        "    <tr>\n",
        "      <th>0</th>\n",
        "      <td> 7218</td>\n",
        "      <td> path:eco00250:15</td>\n",
        "      <td> path:eco00250:15</td>\n",
        "      <td> False</td>\n",
        "      <td> 271</td>\n",
        "      <td> 515</td>\n",
        "      <td>   8</td>\n",
        "      <td>  8</td>\n",
        "      <td>                    C00122</td>\n",
        "      <td>                  Fumarate</td>\n",
        "      <td>                    C00122</td>\n",
        "      <td>    cpd:C00122</td>\n",
        "      <td> #000000</td>\n",
        "      <td> #FFFFFF</td>\n",
        "      <td> NaN</td>\n",
        "      <td> compound</td>\n",
        "      <td>         circle</td>\n",
        "      <td>   http://www.kegg.jp/dbget-bin/www_bget?C00122</td>\n",
        "      <td> None</td>\n",
        "      <td> None</td>\n",
        "    </tr>\n",
        "    <tr>\n",
        "      <th>1</th>\n",
        "      <td> 7219</td>\n",
        "      <td> path:eco00250:16</td>\n",
        "      <td> path:eco00250:16</td>\n",
        "      <td> False</td>\n",
        "      <td> 270</td>\n",
        "      <td> 572</td>\n",
        "      <td>   8</td>\n",
        "      <td>  8</td>\n",
        "      <td>                    C00042</td>\n",
        "      <td>                 Succinate</td>\n",
        "      <td>                    C00042</td>\n",
        "      <td>    cpd:C00042</td>\n",
        "      <td> #000000</td>\n",
        "      <td> #FFFFFF</td>\n",
        "      <td> NaN</td>\n",
        "      <td> compound</td>\n",
        "      <td>         circle</td>\n",
        "      <td>   http://www.kegg.jp/dbget-bin/www_bget?C00042</td>\n",
        "      <td> None</td>\n",
        "      <td> None</td>\n",
        "    </tr>\n",
        "    <tr>\n",
        "      <th>2</th>\n",
        "      <td> 7220</td>\n",
        "      <td> path:eco00250:17</td>\n",
        "      <td> path:eco00250:17</td>\n",
        "      <td> False</td>\n",
        "      <td> 734</td>\n",
        "      <td> 513</td>\n",
        "      <td>   8</td>\n",
        "      <td>  8</td>\n",
        "      <td>                    C00036</td>\n",
        "      <td>              Oxaloacetate</td>\n",
        "      <td>                    C00036</td>\n",
        "      <td>    cpd:C00036</td>\n",
        "      <td> #000000</td>\n",
        "      <td> #FFFFFF</td>\n",
        "      <td> NaN</td>\n",
        "      <td> compound</td>\n",
        "      <td>         circle</td>\n",
        "      <td>   http://www.kegg.jp/dbget-bin/www_bget?C00036</td>\n",
        "      <td> None</td>\n",
        "      <td> None</td>\n",
        "    </tr>\n",
        "    <tr>\n",
        "      <th>3</th>\n",
        "      <td> 7221</td>\n",
        "      <td> path:eco00250:18</td>\n",
        "      <td> path:eco00250:18</td>\n",
        "      <td> False</td>\n",
        "      <td> 666</td>\n",
        "      <td> 572</td>\n",
        "      <td>   8</td>\n",
        "      <td>  8</td>\n",
        "      <td>                    C00026</td>\n",
        "      <td>            2-Oxoglutarate</td>\n",
        "      <td>                    C00026</td>\n",
        "      <td>    cpd:C00026</td>\n",
        "      <td> #000000</td>\n",
        "      <td> #FFFFFF</td>\n",
        "      <td> NaN</td>\n",
        "      <td> compound</td>\n",
        "      <td>         circle</td>\n",
        "      <td>   http://www.kegg.jp/dbget-bin/www_bget?C00026</td>\n",
        "      <td> None</td>\n",
        "      <td> None</td>\n",
        "    </tr>\n",
        "    <tr>\n",
        "      <th>4</th>\n",
        "      <td> 7222</td>\n",
        "      <td> path:eco00250:19</td>\n",
        "      <td> path:eco00250:19</td>\n",
        "      <td> False</td>\n",
        "      <td> 497</td>\n",
        "      <td> 543</td>\n",
        "      <td> 474</td>\n",
        "      <td> 34</td>\n",
        "      <td> Citrate cycle (TCA cycle)</td>\n",
        "      <td> Citrate cycle (TCA cycle)</td>\n",
        "      <td> Citrate cycle (TCA cycle)</td>\n",
        "      <td> path:eco00020</td>\n",
        "      <td> #000000</td>\n",
        "      <td> #89b9cE</td>\n",
        "      <td> NaN</td>\n",
        "      <td>      map</td>\n",
        "      <td> roundrectangle</td>\n",
        "      <td> http://www.kegg.jp/dbget-bin/www_bget?eco00020</td>\n",
        "      <td> None</td>\n",
        "      <td> None</td>\n",
        "    </tr>\n",
        "  </tbody>\n",
        "</table>\n",
        "</div>"
       ],
       "metadata": {},
       "output_type": "pyout",
       "prompt_number": 179,
       "text": [
        "   SUID       shared name              name selected  KEGG_NODE_X  \\\n",
        "0  7218  path:eco00250:15  path:eco00250:15    False          271   \n",
        "1  7219  path:eco00250:16  path:eco00250:16    False          270   \n",
        "2  7220  path:eco00250:17  path:eco00250:17    False          734   \n",
        "3  7221  path:eco00250:18  path:eco00250:18    False          666   \n",
        "4  7222  path:eco00250:19  path:eco00250:19    False          497   \n",
        "\n",
        "   KEGG_NODE_Y  KEGG_NODE_WIDTH  KEGG_NODE_HEIGHT            KEGG_NODE_LABEL  \\\n",
        "0          515                8                 8                     C00122   \n",
        "1          572                8                 8                     C00042   \n",
        "2          513                8                 8                     C00036   \n",
        "3          572                8                 8                     C00026   \n",
        "4          543              474                34  Citrate cycle (TCA cycle)   \n",
        "\n",
        "  KEGG_NODE_LABEL_LIST_FIRST       KEGG_NODE_LABEL_LIST        KEGG_ID  \\\n",
        "0                   Fumarate                     C00122     cpd:C00122   \n",
        "1                  Succinate                     C00042     cpd:C00042   \n",
        "2               Oxaloacetate                     C00036     cpd:C00036   \n",
        "3             2-Oxoglutarate                     C00026     cpd:C00026   \n",
        "4  Citrate cycle (TCA cycle)  Citrate cycle (TCA cycle)  path:eco00020   \n",
        "\n",
        "  KEGG_NODE_LABEL_COLOR KEGG_NODE_FILL_COLOR KEGG_NODE_REACTIONID  \\\n",
        "0               #000000              #FFFFFF                  NaN   \n",
        "1               #000000              #FFFFFF                  NaN   \n",
        "2               #000000              #FFFFFF                  NaN   \n",
        "3               #000000              #FFFFFF                  NaN   \n",
        "4               #000000              #89b9cE                  NaN   \n",
        "\n",
        "  KEGG_NODE_TYPE KEGG_NODE_SHAPE  \\\n",
        "0       compound          circle   \n",
        "1       compound          circle   \n",
        "2       compound          circle   \n",
        "3       compound          circle   \n",
        "4            map  roundrectangle   \n",
        "\n",
        "                                        KEGG_LINK TARGET_UNIPROT TARGET_DRUG  \n",
        "0    http://www.kegg.jp/dbget-bin/www_bget?C00122           None        None  \n",
        "1    http://www.kegg.jp/dbget-bin/www_bget?C00042           None        None  \n",
        "2    http://www.kegg.jp/dbget-bin/www_bget?C00036           None        None  \n",
        "3    http://www.kegg.jp/dbget-bin/www_bget?C00026           None        None  \n",
        "4  http://www.kegg.jp/dbget-bin/www_bget?eco00020           None        None  "
       ]
      }
     ],
     "prompt_number": 179
    },
    {
     "cell_type": "code",
     "collapsed": false,
     "input": [
      "drugjson = json.loads(merged_df.to_json(orient=\"records\"))"
     ],
     "language": "python",
     "metadata": {},
     "outputs": [],
     "prompt_number": 180
    },
    {
     "cell_type": "code",
     "collapsed": false,
     "input": [
      "new_table_data = {\n",
      "    \"key\": \"KEGG_NODE_LABEL\",\n",
      "    \"dataKey\": \"KEGG_NODE_LABEL\",\n",
      "    \"data\" : drugjson\n",
      "}\n",
      "\n",
      "update_table_url =  BASE + \"networks/\" + str(networkIds[0]) + \"/tables/defaultnode\"\n",
      "print update_table_url\n",
      "requests.put(update_table_url, data=json.dumps(new_table_data), headers=HEADERS)"
     ],
     "language": "python",
     "metadata": {},
     "outputs": [
      {
       "output_type": "stream",
       "stream": "stdout",
       "text": [
        "http://localhost:1234/v1/networks/7208/tables/defaultnode\n"
       ]
      },
      {
       "metadata": {},
       "output_type": "pyout",
       "prompt_number": 181,
       "text": [
        "<Response [204]>"
       ]
      }
     ],
     "prompt_number": 181
    },
    {
     "cell_type": "code",
     "collapsed": false,
     "input": [],
     "language": "python",
     "metadata": {},
     "outputs": []
    }
   ],
   "metadata": {}
  }
 ]
}