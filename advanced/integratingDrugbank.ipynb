{
 "cells": [
  {
   "cell_type": "markdown",
   "metadata": {},
   "source": [
    "# Mapping Drugbank drug targets on KEGG pathway\n",
    "\n",
    "by Kozo Nishida (Riken, Japan)\n",
    "\n",
    "Here we show a example of data integration. We map drug targets(from Drugbank) on KEGG pathway. To manage several tables, we use MongoDB and PyMongo.\n",
    "\n",
    "## Loading all data into pandas dataframe\n",
    "First we import a KEGG pathway: [Alanine, aspartate and glutamate metabolism, eco00250](http://www.genome.jp/kegg-bin/show_pathway?eco00250)\n"
   ]
  },
  {
   "cell_type": "code",
   "execution_count": 1,
   "metadata": {
    "collapsed": false
   },
   "outputs": [
    {
     "data": {
      "text/plain": [
       "<Response [200]>"
      ]
     },
     "execution_count": 1,
     "metadata": {},
     "output_type": "execute_result"
    }
   ],
   "source": [
    "import requests\n",
    "import json\n",
    "import pandas as pd\n",
    "\n",
    "PORT_NUMBER = 1234\n",
    "BASE = 'http://localhost:' + str(PORT_NUMBER) + '/v1/'\n",
    "HEADERS = {'Content-Type': 'application/json'}\n",
    "\n",
    "requests.post(BASE + 'networks?source=url&collection=KEGG', data=json.dumps(['http://rest.kegg.jp/get/eco00250/kgml']), headers=HEADERS)"
   ]
  },
  {
   "cell_type": "markdown",
   "metadata": {},
   "source": [
    "### and get node attribute table as alanine_nodes.tsv"
   ]
  },
  {
   "cell_type": "code",
   "execution_count": 2,
   "metadata": {
    "collapsed": false
   },
   "outputs": [
    {
     "name": "stdout",
     "output_type": "stream",
     "text": [
      "[71442, 70708, 71718, 72010, 72396, 71166]\n"
     ]
    }
   ],
   "source": [
    "res = requests.get(BASE + 'networks')\n",
    "networkIds = eval(res.content)\n",
    "print networkIds"
   ]
  },
  {
   "cell_type": "code",
   "execution_count": 3,
   "metadata": {
    "collapsed": false
   },
   "outputs": [],
   "source": [
    "res = requests.get(BASE + 'networks/' + str(networkIds[0]) + '/tables/defaultnode.tsv')\n",
    "f = open('alanine_nodes.tsv', 'w')\n",
    "f.write(res.content)\n",
    "f.close()"
   ]
  },
  {
   "cell_type": "markdown",
   "metadata": {},
   "source": [
    "####import alanine_nodes.tsv into pandas dataframe"
   ]
  },
  {
   "cell_type": "code",
   "execution_count": 4,
   "metadata": {
    "collapsed": false
   },
   "outputs": [
    {
     "data": {
      "text/html": [
       "<div style=\"max-height:1000px;max-width:1500px;overflow:auto;\">\n",
       "<table border=\"1\" class=\"dataframe\">\n",
       "  <thead>\n",
       "    <tr style=\"text-align: right;\">\n",
       "      <th></th>\n",
       "      <th>SUID</th>\n",
       "      <th>shared name</th>\n",
       "      <th>KEGG_NODE_X</th>\n",
       "      <th>KEGG_NODE_Y</th>\n",
       "      <th>KEGG_NODE_WIDTH</th>\n",
       "      <th>KEGG_NODE_HEIGHT</th>\n",
       "      <th>KEGG_NODE_LABEL</th>\n",
       "      <th>KEGG_NODE_LABEL_LIST_FIRST</th>\n",
       "      <th>KEGG_NODE_LABEL_LIST</th>\n",
       "      <th>KEGG_ID</th>\n",
       "      <th>...</th>\n",
       "      <th>ld20t16</th>\n",
       "      <th>ld20t56</th>\n",
       "      <th>ld20t14</th>\n",
       "      <th>ld20t60</th>\n",
       "      <th>ld20t72</th>\n",
       "      <th>ld20t28</th>\n",
       "      <th>id</th>\n",
       "      <th>chart</th>\n",
       "      <th>name</th>\n",
       "      <th>selected</th>\n",
       "    </tr>\n",
       "  </thead>\n",
       "  <tbody>\n",
       "    <tr>\n",
       "      <th>0</th>\n",
       "      <td>71452</td>\n",
       "      <td>path:ath00020:28</td>\n",
       "      <td>526</td>\n",
       "      <td>649</td>\n",
       "      <td>46</td>\n",
       "      <td>17</td>\n",
       "      <td>K00174...</td>\n",
       "      <td>K00174...</td>\n",
       "      <td>K00174...</td>\n",
       "      <td>ko:K00174|ko:K00175|ko:K00177|ko:K00176</td>\n",
       "      <td>...</td>\n",
       "      <td>NaN</td>\n",
       "      <td>NaN</td>\n",
       "      <td>NaN</td>\n",
       "      <td>NaN</td>\n",
       "      <td>NaN</td>\n",
       "      <td>NaN</td>\n",
       "      <td>NaN</td>\n",
       "      <td>NaN</td>\n",
       "      <td>path:ath00020:28</td>\n",
       "      <td>False</td>\n",
       "    </tr>\n",
       "    <tr>\n",
       "      <th>1</th>\n",
       "      <td>71453</td>\n",
       "      <td>path:ath00020:29</td>\n",
       "      <td>467</td>\n",
       "      <td>618</td>\n",
       "      <td>46</td>\n",
       "      <td>17</td>\n",
       "      <td>mtLPD1...</td>\n",
       "      <td>mtLPD1...</td>\n",
       "      <td>mtLPD1...</td>\n",
       "      <td>ath:AT1G48030|ath:AT3G16950|ath:AT3G17240|ath:...</td>\n",
       "      <td>...</td>\n",
       "      <td>NaN</td>\n",
       "      <td>NaN</td>\n",
       "      <td>NaN</td>\n",
       "      <td>NaN</td>\n",
       "      <td>NaN</td>\n",
       "      <td>NaN</td>\n",
       "      <td>NaN</td>\n",
       "      <td>NaN</td>\n",
       "      <td>path:ath00020:29</td>\n",
       "      <td>False</td>\n",
       "    </tr>\n",
       "    <tr>\n",
       "      <th>2</th>\n",
       "      <td>71454</td>\n",
       "      <td>path:ath00020:30</td>\n",
       "      <td>661</td>\n",
       "      <td>574</td>\n",
       "      <td>46</td>\n",
       "      <td>17</td>\n",
       "      <td>AT3G55410...</td>\n",
       "      <td>AT3G55410...</td>\n",
       "      <td>AT3G55410...</td>\n",
       "      <td>ath:AT3G55410|ath:AT5G65750</td>\n",
       "      <td>...</td>\n",
       "      <td>NaN</td>\n",
       "      <td>NaN</td>\n",
       "      <td>NaN</td>\n",
       "      <td>NaN</td>\n",
       "      <td>NaN</td>\n",
       "      <td>NaN</td>\n",
       "      <td>NaN</td>\n",
       "      <td>NaN</td>\n",
       "      <td>path:ath00020:30</td>\n",
       "      <td>False</td>\n",
       "    </tr>\n",
       "    <tr>\n",
       "      <th>3</th>\n",
       "      <td>71455</td>\n",
       "      <td>path:ath00020:31</td>\n",
       "      <td>530</td>\n",
       "      <td>575</td>\n",
       "      <td>46</td>\n",
       "      <td>17</td>\n",
       "      <td>AT3G55410...</td>\n",
       "      <td>AT3G55410...</td>\n",
       "      <td>AT3G55410...</td>\n",
       "      <td>ath:AT3G55410|ath:AT5G65750</td>\n",
       "      <td>...</td>\n",
       "      <td>NaN</td>\n",
       "      <td>NaN</td>\n",
       "      <td>NaN</td>\n",
       "      <td>NaN</td>\n",
       "      <td>NaN</td>\n",
       "      <td>NaN</td>\n",
       "      <td>NaN</td>\n",
       "      <td>NaN</td>\n",
       "      <td>path:ath00020:31</td>\n",
       "      <td>False</td>\n",
       "    </tr>\n",
       "    <tr>\n",
       "      <th>4</th>\n",
       "      <td>71456</td>\n",
       "      <td>path:ath00020:32</td>\n",
       "      <td>403</td>\n",
       "      <td>574</td>\n",
       "      <td>46</td>\n",
       "      <td>17</td>\n",
       "      <td>AT4G26910...</td>\n",
       "      <td>AT4G26910...</td>\n",
       "      <td>AT4G26910...</td>\n",
       "      <td>ath:AT4G26910|ath:AT5G55070</td>\n",
       "      <td>...</td>\n",
       "      <td>NaN</td>\n",
       "      <td>NaN</td>\n",
       "      <td>NaN</td>\n",
       "      <td>NaN</td>\n",
       "      <td>NaN</td>\n",
       "      <td>NaN</td>\n",
       "      <td>NaN</td>\n",
       "      <td>NaN</td>\n",
       "      <td>path:ath00020:32</td>\n",
       "      <td>False</td>\n",
       "    </tr>\n",
       "  </tbody>\n",
       "</table>\n",
       "<p>5 rows × 44 columns</p>\n",
       "</div>"
      ],
      "text/plain": [
       "    SUID       shared name  KEGG_NODE_X  KEGG_NODE_Y  KEGG_NODE_WIDTH  \\\n",
       "0  71452  path:ath00020:28          526          649               46   \n",
       "1  71453  path:ath00020:29          467          618               46   \n",
       "2  71454  path:ath00020:30          661          574               46   \n",
       "3  71455  path:ath00020:31          530          575               46   \n",
       "4  71456  path:ath00020:32          403          574               46   \n",
       "\n",
       "   KEGG_NODE_HEIGHT KEGG_NODE_LABEL KEGG_NODE_LABEL_LIST_FIRST  \\\n",
       "0                17       K00174...                  K00174...   \n",
       "1                17       mtLPD1...                  mtLPD1...   \n",
       "2                17    AT3G55410...               AT3G55410...   \n",
       "3                17    AT3G55410...               AT3G55410...   \n",
       "4                17    AT4G26910...               AT4G26910...   \n",
       "\n",
       "  KEGG_NODE_LABEL_LIST                                            KEGG_ID  \\\n",
       "0            K00174...            ko:K00174|ko:K00175|ko:K00177|ko:K00176   \n",
       "1            mtLPD1...  ath:AT1G48030|ath:AT3G16950|ath:AT3G17240|ath:...   \n",
       "2         AT3G55410...                        ath:AT3G55410|ath:AT5G65750   \n",
       "3         AT3G55410...                        ath:AT3G55410|ath:AT5G65750   \n",
       "4         AT4G26910...                        ath:AT4G26910|ath:AT5G55070   \n",
       "\n",
       "     ...    ld20t16 ld20t56 ld20t14 ld20t60 ld20t72 ld20t28  id  chart  \\\n",
       "0    ...        NaN     NaN     NaN     NaN     NaN     NaN NaN    NaN   \n",
       "1    ...        NaN     NaN     NaN     NaN     NaN     NaN NaN    NaN   \n",
       "2    ...        NaN     NaN     NaN     NaN     NaN     NaN NaN    NaN   \n",
       "3    ...        NaN     NaN     NaN     NaN     NaN     NaN NaN    NaN   \n",
       "4    ...        NaN     NaN     NaN     NaN     NaN     NaN NaN    NaN   \n",
       "\n",
       "               name  selected  \n",
       "0  path:ath00020:28     False  \n",
       "1  path:ath00020:29     False  \n",
       "2  path:ath00020:30     False  \n",
       "3  path:ath00020:31     False  \n",
       "4  path:ath00020:32     False  \n",
       "\n",
       "[5 rows x 44 columns]"
      ]
     },
     "execution_count": 4,
     "metadata": {},
     "output_type": "execute_result"
    }
   ],
   "source": [
    "alanine_df = pd.read_table('alanine_nodes.tsv')\n",
    "alanine_df.head()"
   ]
  },
  {
   "cell_type": "markdown",
   "metadata": {},
   "source": [
    "####next we download DRUGBANK drugtarget and ID mapping table"
   ]
  },
  {
   "cell_type": "code",
   "execution_count": 5,
   "metadata": {
    "collapsed": false
   },
   "outputs": [
    {
     "name": "stdout",
     "output_type": "stream",
     "text": [
      "  % Total    % Received % Xferd  Average Speed   Time    Time     Time  Current\n",
      "                                 Dload  Upload   Total   Spent    Left  Speed\n",
      "100  203k  100  203k    0     0   281k      0 --:--:-- --:--:-- --:--:--  281k\n"
     ]
    }
   ],
   "source": [
    "!curl -O http://www.drugbank.ca/system/downloads/current/all_target_ids_all.csv.zip"
   ]
  },
  {
   "cell_type": "code",
   "execution_count": 6,
   "metadata": {
    "collapsed": false
   },
   "outputs": [
    {
     "name": "stdout",
     "output_type": "stream",
     "text": [
      "Archive:  all_target_ids_all.csv.zip\r\n",
      "  inflating: all_target_ids_all.csv  \r\n"
     ]
    }
   ],
   "source": [
    "!unzip all_target_ids_all.csv.zip"
   ]
  },
  {
   "cell_type": "markdown",
   "metadata": {},
   "source": [
    "####import Drugbank drug targets into pandas dataframe"
   ]
  },
  {
   "cell_type": "code",
   "execution_count": 12,
   "metadata": {
    "collapsed": false
   },
   "outputs": [
    {
     "data": {
      "text/html": [
       "<div style=\"max-height:1000px;max-width:1500px;overflow:auto;\">\n",
       "<table border=\"1\" class=\"dataframe\">\n",
       "  <thead>\n",
       "    <tr style=\"text-align: right;\">\n",
       "      <th></th>\n",
       "      <th>ID</th>\n",
       "      <th>Name</th>\n",
       "      <th>Gene Name</th>\n",
       "      <th>GenBank Protein ID</th>\n",
       "      <th>GenBank Gene ID</th>\n",
       "      <th>UniProt ID</th>\n",
       "      <th>Uniprot Title</th>\n",
       "      <th>PDB ID</th>\n",
       "      <th>GeneCard ID</th>\n",
       "      <th>GenAtlas ID</th>\n",
       "      <th>HGNC ID</th>\n",
       "      <th>Species</th>\n",
       "      <th>Drug IDs</th>\n",
       "    </tr>\n",
       "  </thead>\n",
       "  <tbody>\n",
       "    <tr>\n",
       "      <th>0</th>\n",
       "      <td>P45059</td>\n",
       "      <td>Peptidoglycan synthase FtsI</td>\n",
       "      <td>ftsI</td>\n",
       "      <td>1574687</td>\n",
       "      <td>L42023</td>\n",
       "      <td>P45059</td>\n",
       "      <td>FTSI_HAEIN</td>\n",
       "      <td>NaN</td>\n",
       "      <td>NaN</td>\n",
       "      <td>NaN</td>\n",
       "      <td>NaN</td>\n",
       "      <td>Haemophilus influenzae (strain ATCC 51907 / DS...</td>\n",
       "      <td>DB00303</td>\n",
       "    </tr>\n",
       "    <tr>\n",
       "      <th>1</th>\n",
       "      <td>P19113</td>\n",
       "      <td>Histidine decarboxylase</td>\n",
       "      <td>HDC</td>\n",
       "      <td>32109</td>\n",
       "      <td>X54297</td>\n",
       "      <td>P19113</td>\n",
       "      <td>DCHS_HUMAN</td>\n",
       "      <td>NaN</td>\n",
       "      <td>HDC</td>\n",
       "      <td>HDC</td>\n",
       "      <td>HGNC:4855</td>\n",
       "      <td>Human</td>\n",
       "      <td>DB00114; DB00117</td>\n",
       "    </tr>\n",
       "    <tr>\n",
       "      <th>2</th>\n",
       "      <td>Q9UI32</td>\n",
       "      <td>Glutaminase liver isoform, mitochondrial</td>\n",
       "      <td>GLS2</td>\n",
       "      <td>6650606</td>\n",
       "      <td>AF110330</td>\n",
       "      <td>Q9UI32</td>\n",
       "      <td>GLSL_HUMAN</td>\n",
       "      <td>NaN</td>\n",
       "      <td>GLS2</td>\n",
       "      <td>GLS2</td>\n",
       "      <td>HGNC:29570</td>\n",
       "      <td>Human</td>\n",
       "      <td>DB00142</td>\n",
       "    </tr>\n",
       "    <tr>\n",
       "      <th>3</th>\n",
       "      <td>P00488</td>\n",
       "      <td>Coagulation factor XIII A chain</td>\n",
       "      <td>F13A1</td>\n",
       "      <td>182309</td>\n",
       "      <td>M22001</td>\n",
       "      <td>P00488</td>\n",
       "      <td>F13A_HUMAN</td>\n",
       "      <td>NaN</td>\n",
       "      <td>F13A1</td>\n",
       "      <td>F13A1</td>\n",
       "      <td>HGNC:3531</td>\n",
       "      <td>Human</td>\n",
       "      <td>DB01839; DB02340</td>\n",
       "    </tr>\n",
       "    <tr>\n",
       "      <th>4</th>\n",
       "      <td>P35228</td>\n",
       "      <td>Nitric oxide synthase, inducible</td>\n",
       "      <td>NOS2</td>\n",
       "      <td>292242</td>\n",
       "      <td>L09210</td>\n",
       "      <td>P35228</td>\n",
       "      <td>NOS2_HUMAN</td>\n",
       "      <td>NaN</td>\n",
       "      <td>NOS2A</td>\n",
       "      <td>NOS2A</td>\n",
       "      <td>HGNC:7873</td>\n",
       "      <td>Human</td>\n",
       "      <td>DB00125; DB00155; DB01110; DB01234; DB01686; D...</td>\n",
       "    </tr>\n",
       "  </tbody>\n",
       "</table>\n",
       "</div>"
      ],
      "text/plain": [
       "       ID                                      Name Gene Name  \\\n",
       "0  P45059               Peptidoglycan synthase FtsI      ftsI   \n",
       "1  P19113                   Histidine decarboxylase       HDC   \n",
       "2  Q9UI32  Glutaminase liver isoform, mitochondrial      GLS2   \n",
       "3  P00488           Coagulation factor XIII A chain     F13A1   \n",
       "4  P35228          Nitric oxide synthase, inducible      NOS2   \n",
       "\n",
       "   GenBank Protein ID GenBank Gene ID UniProt ID Uniprot Title  PDB ID  \\\n",
       "0             1574687          L42023     P45059    FTSI_HAEIN     NaN   \n",
       "1               32109          X54297     P19113    DCHS_HUMAN     NaN   \n",
       "2             6650606        AF110330     Q9UI32    GLSL_HUMAN     NaN   \n",
       "3              182309          M22001     P00488    F13A_HUMAN     NaN   \n",
       "4              292242          L09210     P35228    NOS2_HUMAN     NaN   \n",
       "\n",
       "  GeneCard ID GenAtlas ID     HGNC ID  \\\n",
       "0         NaN         NaN         NaN   \n",
       "1         HDC         HDC   HGNC:4855   \n",
       "2        GLS2        GLS2  HGNC:29570   \n",
       "3       F13A1       F13A1   HGNC:3531   \n",
       "4       NOS2A       NOS2A   HGNC:7873   \n",
       "\n",
       "                                             Species  \\\n",
       "0  Haemophilus influenzae (strain ATCC 51907 / DS...   \n",
       "1                                              Human   \n",
       "2                                              Human   \n",
       "3                                              Human   \n",
       "4                                              Human   \n",
       "\n",
       "                                            Drug IDs  \n",
       "0                                            DB00303  \n",
       "1                                   DB00114; DB00117  \n",
       "2                                            DB00142  \n",
       "3                                   DB01839; DB02340  \n",
       "4  DB00125; DB00155; DB01110; DB01234; DB01686; D...  "
      ]
     },
     "execution_count": 12,
     "metadata": {},
     "output_type": "execute_result"
    }
   ],
   "source": [
    "drugbank_df = pd.read_csv('all_target_ids_all.csv')\n",
    "drugbank_df.head()"
   ]
  },
  {
   "cell_type": "markdown",
   "metadata": {},
   "source": [
    "####Get uniprot-keggid conversion table. This takes long time."
   ]
  },
  {
   "cell_type": "code",
   "execution_count": 13,
   "metadata": {
    "collapsed": false
   },
   "outputs": [
    {
     "name": "stdout",
     "output_type": "stream",
     "text": [
      "  % Total    % Received % Xferd  Average Speed   Time    Time     Time  Current\n",
      "                                 Dload  Upload   Total   Spent    Left  Speed\n",
      "  0     0    0     0    0     0      0      0 --:--:--  0:00:36 --:--:--     0^C\n"
     ]
    }
   ],
   "source": [
    "!curl -o conv_eco_uniprot.tsv http://rest.kegg.jp/conv/eco/uniprot"
   ]
  },
  {
   "cell_type": "code",
   "execution_count": 14,
   "metadata": {
    "collapsed": false
   },
   "outputs": [
    {
     "name": "stdout",
     "output_type": "stream",
     "text": [
      "head: conv_eco_uniprot.tsv: No such file or directory\r\n"
     ]
    }
   ],
   "source": [
    "!head conv_eco_uniprot.tsv"
   ]
  },
  {
   "cell_type": "markdown",
   "metadata": {},
   "source": [
    "####import uniprot-KEGG ID conversion table"
   ]
  },
  {
   "cell_type": "code",
   "execution_count": 15,
   "metadata": {
    "collapsed": false
   },
   "outputs": [
    {
     "ename": "IOError",
     "evalue": "File conv_eco_uniprot.tsv does not exist",
     "output_type": "error",
     "traceback": [
      "\u001b[0;31m---------------------------------------------------------------------------\u001b[0m",
      "\u001b[0;31mIOError\u001b[0m                                   Traceback (most recent call last)",
      "\u001b[0;32m<ipython-input-15-bf65b8f5bfd7>\u001b[0m in \u001b[0;36m<module>\u001b[0;34m()\u001b[0m\n\u001b[0;32m----> 1\u001b[0;31m \u001b[0midconversion_df\u001b[0m \u001b[0;34m=\u001b[0m \u001b[0mpd\u001b[0m\u001b[0;34m.\u001b[0m\u001b[0mread_table\u001b[0m\u001b[0;34m(\u001b[0m\u001b[0;34m'conv_eco_uniprot.tsv'\u001b[0m\u001b[0;34m,\u001b[0m \u001b[0mheader\u001b[0m\u001b[0;34m=\u001b[0m\u001b[0mNone\u001b[0m\u001b[0;34m)\u001b[0m\u001b[0;34m\u001b[0m\u001b[0m\n\u001b[0m\u001b[1;32m      2\u001b[0m \u001b[0midconversion_df\u001b[0m\u001b[0;34m.\u001b[0m\u001b[0mhead\u001b[0m\u001b[0;34m(\u001b[0m\u001b[0;34m)\u001b[0m\u001b[0;34m\u001b[0m\u001b[0m\n",
      "\u001b[0;32m/Users/kono/anaconda/lib/python2.7/site-packages/pandas/io/parsers.pyc\u001b[0m in \u001b[0;36mparser_f\u001b[0;34m(filepath_or_buffer, sep, dialect, compression, doublequote, escapechar, quotechar, quoting, skipinitialspace, lineterminator, header, index_col, names, prefix, skiprows, skipfooter, skip_footer, na_values, na_fvalues, true_values, false_values, delimiter, converters, dtype, usecols, engine, delim_whitespace, as_recarray, na_filter, compact_ints, use_unsigned, low_memory, buffer_lines, warn_bad_lines, error_bad_lines, keep_default_na, thousands, comment, decimal, parse_dates, keep_date_col, dayfirst, date_parser, memory_map, float_precision, nrows, iterator, chunksize, verbose, encoding, squeeze, mangle_dupe_cols, tupleize_cols, infer_datetime_format, skip_blank_lines)\u001b[0m\n\u001b[1;32m    472\u001b[0m                     skip_blank_lines=skip_blank_lines)\n\u001b[1;32m    473\u001b[0m \u001b[0;34m\u001b[0m\u001b[0m\n\u001b[0;32m--> 474\u001b[0;31m         \u001b[0;32mreturn\u001b[0m \u001b[0m_read\u001b[0m\u001b[0;34m(\u001b[0m\u001b[0mfilepath_or_buffer\u001b[0m\u001b[0;34m,\u001b[0m \u001b[0mkwds\u001b[0m\u001b[0;34m)\u001b[0m\u001b[0;34m\u001b[0m\u001b[0m\n\u001b[0m\u001b[1;32m    475\u001b[0m \u001b[0;34m\u001b[0m\u001b[0m\n\u001b[1;32m    476\u001b[0m     \u001b[0mparser_f\u001b[0m\u001b[0;34m.\u001b[0m\u001b[0m__name__\u001b[0m \u001b[0;34m=\u001b[0m \u001b[0mname\u001b[0m\u001b[0;34m\u001b[0m\u001b[0m\n",
      "\u001b[0;32m/Users/kono/anaconda/lib/python2.7/site-packages/pandas/io/parsers.pyc\u001b[0m in \u001b[0;36m_read\u001b[0;34m(filepath_or_buffer, kwds)\u001b[0m\n\u001b[1;32m    248\u001b[0m \u001b[0;34m\u001b[0m\u001b[0m\n\u001b[1;32m    249\u001b[0m     \u001b[0;31m# Create the parser.\u001b[0m\u001b[0;34m\u001b[0m\u001b[0;34m\u001b[0m\u001b[0m\n\u001b[0;32m--> 250\u001b[0;31m     \u001b[0mparser\u001b[0m \u001b[0;34m=\u001b[0m \u001b[0mTextFileReader\u001b[0m\u001b[0;34m(\u001b[0m\u001b[0mfilepath_or_buffer\u001b[0m\u001b[0;34m,\u001b[0m \u001b[0;34m**\u001b[0m\u001b[0mkwds\u001b[0m\u001b[0;34m)\u001b[0m\u001b[0;34m\u001b[0m\u001b[0m\n\u001b[0m\u001b[1;32m    251\u001b[0m \u001b[0;34m\u001b[0m\u001b[0m\n\u001b[1;32m    252\u001b[0m     \u001b[0;32mif\u001b[0m \u001b[0;34m(\u001b[0m\u001b[0mnrows\u001b[0m \u001b[0;32mis\u001b[0m \u001b[0;32mnot\u001b[0m \u001b[0mNone\u001b[0m\u001b[0;34m)\u001b[0m \u001b[0;32mand\u001b[0m \u001b[0;34m(\u001b[0m\u001b[0mchunksize\u001b[0m \u001b[0;32mis\u001b[0m \u001b[0;32mnot\u001b[0m \u001b[0mNone\u001b[0m\u001b[0;34m)\u001b[0m\u001b[0;34m:\u001b[0m\u001b[0;34m\u001b[0m\u001b[0m\n",
      "\u001b[0;32m/Users/kono/anaconda/lib/python2.7/site-packages/pandas/io/parsers.pyc\u001b[0m in \u001b[0;36m__init__\u001b[0;34m(self, f, engine, **kwds)\u001b[0m\n\u001b[1;32m    564\u001b[0m             \u001b[0mself\u001b[0m\u001b[0;34m.\u001b[0m\u001b[0moptions\u001b[0m\u001b[0;34m[\u001b[0m\u001b[0;34m'has_index_names'\u001b[0m\u001b[0;34m]\u001b[0m \u001b[0;34m=\u001b[0m \u001b[0mkwds\u001b[0m\u001b[0;34m[\u001b[0m\u001b[0;34m'has_index_names'\u001b[0m\u001b[0;34m]\u001b[0m\u001b[0;34m\u001b[0m\u001b[0m\n\u001b[1;32m    565\u001b[0m \u001b[0;34m\u001b[0m\u001b[0m\n\u001b[0;32m--> 566\u001b[0;31m         \u001b[0mself\u001b[0m\u001b[0;34m.\u001b[0m\u001b[0m_make_engine\u001b[0m\u001b[0;34m(\u001b[0m\u001b[0mself\u001b[0m\u001b[0;34m.\u001b[0m\u001b[0mengine\u001b[0m\u001b[0;34m)\u001b[0m\u001b[0;34m\u001b[0m\u001b[0m\n\u001b[0m\u001b[1;32m    567\u001b[0m \u001b[0;34m\u001b[0m\u001b[0m\n\u001b[1;32m    568\u001b[0m     \u001b[0;32mdef\u001b[0m \u001b[0m_get_options_with_defaults\u001b[0m\u001b[0;34m(\u001b[0m\u001b[0mself\u001b[0m\u001b[0;34m,\u001b[0m \u001b[0mengine\u001b[0m\u001b[0;34m)\u001b[0m\u001b[0;34m:\u001b[0m\u001b[0;34m\u001b[0m\u001b[0m\n",
      "\u001b[0;32m/Users/kono/anaconda/lib/python2.7/site-packages/pandas/io/parsers.pyc\u001b[0m in \u001b[0;36m_make_engine\u001b[0;34m(self, engine)\u001b[0m\n\u001b[1;32m    703\u001b[0m     \u001b[0;32mdef\u001b[0m \u001b[0m_make_engine\u001b[0m\u001b[0;34m(\u001b[0m\u001b[0mself\u001b[0m\u001b[0;34m,\u001b[0m \u001b[0mengine\u001b[0m\u001b[0;34m=\u001b[0m\u001b[0;34m'c'\u001b[0m\u001b[0;34m)\u001b[0m\u001b[0;34m:\u001b[0m\u001b[0;34m\u001b[0m\u001b[0m\n\u001b[1;32m    704\u001b[0m         \u001b[0;32mif\u001b[0m \u001b[0mengine\u001b[0m \u001b[0;34m==\u001b[0m \u001b[0;34m'c'\u001b[0m\u001b[0;34m:\u001b[0m\u001b[0;34m\u001b[0m\u001b[0m\n\u001b[0;32m--> 705\u001b[0;31m             \u001b[0mself\u001b[0m\u001b[0;34m.\u001b[0m\u001b[0m_engine\u001b[0m \u001b[0;34m=\u001b[0m \u001b[0mCParserWrapper\u001b[0m\u001b[0;34m(\u001b[0m\u001b[0mself\u001b[0m\u001b[0;34m.\u001b[0m\u001b[0mf\u001b[0m\u001b[0;34m,\u001b[0m \u001b[0;34m**\u001b[0m\u001b[0mself\u001b[0m\u001b[0;34m.\u001b[0m\u001b[0moptions\u001b[0m\u001b[0;34m)\u001b[0m\u001b[0;34m\u001b[0m\u001b[0m\n\u001b[0m\u001b[1;32m    706\u001b[0m         \u001b[0;32melse\u001b[0m\u001b[0;34m:\u001b[0m\u001b[0;34m\u001b[0m\u001b[0m\n\u001b[1;32m    707\u001b[0m             \u001b[0;32mif\u001b[0m \u001b[0mengine\u001b[0m \u001b[0;34m==\u001b[0m \u001b[0;34m'python'\u001b[0m\u001b[0;34m:\u001b[0m\u001b[0;34m\u001b[0m\u001b[0m\n",
      "\u001b[0;32m/Users/kono/anaconda/lib/python2.7/site-packages/pandas/io/parsers.pyc\u001b[0m in \u001b[0;36m__init__\u001b[0;34m(self, src, **kwds)\u001b[0m\n\u001b[1;32m   1070\u001b[0m         \u001b[0mkwds\u001b[0m\u001b[0;34m[\u001b[0m\u001b[0;34m'allow_leading_cols'\u001b[0m\u001b[0;34m]\u001b[0m \u001b[0;34m=\u001b[0m \u001b[0mself\u001b[0m\u001b[0;34m.\u001b[0m\u001b[0mindex_col\u001b[0m \u001b[0;32mis\u001b[0m \u001b[0;32mnot\u001b[0m \u001b[0mFalse\u001b[0m\u001b[0;34m\u001b[0m\u001b[0m\n\u001b[1;32m   1071\u001b[0m \u001b[0;34m\u001b[0m\u001b[0m\n\u001b[0;32m-> 1072\u001b[0;31m         \u001b[0mself\u001b[0m\u001b[0;34m.\u001b[0m\u001b[0m_reader\u001b[0m \u001b[0;34m=\u001b[0m \u001b[0m_parser\u001b[0m\u001b[0;34m.\u001b[0m\u001b[0mTextReader\u001b[0m\u001b[0;34m(\u001b[0m\u001b[0msrc\u001b[0m\u001b[0;34m,\u001b[0m \u001b[0;34m**\u001b[0m\u001b[0mkwds\u001b[0m\u001b[0;34m)\u001b[0m\u001b[0;34m\u001b[0m\u001b[0m\n\u001b[0m\u001b[1;32m   1073\u001b[0m \u001b[0;34m\u001b[0m\u001b[0m\n\u001b[1;32m   1074\u001b[0m         \u001b[0;31m# XXX\u001b[0m\u001b[0;34m\u001b[0m\u001b[0;34m\u001b[0m\u001b[0m\n",
      "\u001b[0;32mpandas/parser.pyx\u001b[0m in \u001b[0;36mpandas.parser.TextReader.__cinit__ (pandas/parser.c:3173)\u001b[0;34m()\u001b[0m\n",
      "\u001b[0;32mpandas/parser.pyx\u001b[0m in \u001b[0;36mpandas.parser.TextReader._setup_parser_source (pandas/parser.c:5912)\u001b[0;34m()\u001b[0m\n",
      "\u001b[0;31mIOError\u001b[0m: File conv_eco_uniprot.tsv does not exist"
     ]
    }
   ],
   "source": [
    "idconversion_df = pd.read_table('conv_eco_uniprot.tsv', header=None)\n",
    "idconversion_df.head()"
   ]
  },
  {
   "cell_type": "markdown",
   "metadata": {},
   "source": [
    "## Merging pandas dataframes\n",
    "\n",
    "We integrate the three table(network nodes, drug targets table, id conversion table). Here we append columns drug target and drug to Cytoscape’s node table."
   ]
  },
  {
   "cell_type": "code",
   "execution_count": null,
   "metadata": {
    "collapsed": false
   },
   "outputs": [],
   "source": [
    "target_uniprot = []\n",
    "target_drug = []"
   ]
  },
  {
   "cell_type": "code",
   "execution_count": null,
   "metadata": {
    "collapsed": true
   },
   "outputs": [],
   "source": [
    "for i, keggtype in alanine_df['KEGG_NODE_TYPE'].iteritems():\n",
    "    target_uniprot.append(None)\n",
    "    target_drug.append(None)\n",
    "    if keggtype == 'gene':\n",
    "        uniprotids = []\n",
    "        for locus in alanine_df['KEGG_ID'][i].split('|'):\n",
    "            uniprot = idconversion_df[idconversion_df[1] == locus][0]\n",
    "            uniprotid = uniprot.values[0].replace('up:', '')\n",
    "            uniprotids.append(uniprotid)\n",
    "        for j, unip in drugbank_df['UniProt ID'].iteritems():\n",
    "            if unip in uniprotids:\n",
    "                target_uniprot.pop()\n",
    "                target_uniprot.append(unip)\n",
    "                target_drug.pop()\n",
    "                target_drug.append(drugbank_df['Drug IDs'][j])"
   ]
  },
  {
   "cell_type": "code",
   "execution_count": null,
   "metadata": {
    "collapsed": false
   },
   "outputs": [],
   "source": [
    "s1 = pd.Series(target_uniprot, name='TARGET_UNIPROT')\n",
    "s2 = pd.Series(target_drug, name='TARGET_DRUG')\n",
    "merged_df = pd.concat([alanine_df, s1, s2], axis=1)\n",
    "merged_df.head()"
   ]
  },
  {
   "cell_type": "code",
   "execution_count": null,
   "metadata": {
    "collapsed": false
   },
   "outputs": [],
   "source": [
    "drugjson = json.loads(merged_df.to_json(orient=\"records\"))\n",
    "\n",
    "new_table_data = {\n",
    "    \"key\": \"KEGG_NODE_LABEL\",\n",
    "    \"dataKey\": \"KEGG_NODE_LABEL\",\n",
    "    \"data\" : drugjson\n",
    "}\n",
    "\n",
    "update_table_url =  BASE + \"networks/\" + str(networkIds[0]) + \"/tables/defaultnode\"\n",
    "print update_table_url\n",
    "\n",
    "requests.put(update_table_url, data=json.dumps(new_table_data), headers=HEADERS)"
   ]
  }
 ],
 "metadata": {
  "kernelspec": {
   "display_name": "Python 2",
   "language": "python",
   "name": "python2"
  },
  "language_info": {
   "codemirror_mode": {
    "name": "ipython",
    "version": 2
   },
   "file_extension": ".py",
   "mimetype": "text/x-python",
   "name": "python",
   "nbconvert_exporter": "python",
   "pygments_lexer": "ipython2",
   "version": "2.7.10"
  }
 },
 "nbformat": 4,
 "nbformat_minor": 0
}
