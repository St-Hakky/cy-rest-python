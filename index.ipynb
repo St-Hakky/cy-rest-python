{
 "metadata": {
  "name": "",
  "signature": "sha256:9dd06dc40e30c13294e28ef6b45fcc1dc10f4fd152a2757ed504930e9f6e6b36"
 },
 "nbformat": 3,
 "nbformat_minor": 0,
 "worksheets": [
  {
   "cells": [
    {
     "cell_type": "markdown",
     "metadata": {},
     "source": [
      "<div>\n",
      "<img src=\"http://www.cytoscape.org/images/cytoscape3_logo.png\">\n",
      "</div>"
     ]
    },
    {
     "cell_type": "markdown",
     "metadata": {},
     "source": [
      "Welcome to [Cytoscape REST examples](https://github.com/keiono/cy-rest) in IPython Notebook!\n",
      "\n",
      "Cytoscape is an open source software platform for visualizing complex networks and integrating these with any type of attribute data. A lot of Apps are available for various kinds of problem domains, including bioinformatics, social network analysis, and semantic web."
     ]
    },
    {
     "cell_type": "heading",
     "level": 1,
     "metadata": {},
     "source": [
      "Content"
     ]
    },
    {
     "cell_type": "heading",
     "level": 2,
     "metadata": {},
     "source": [
      "Tutorial"
     ]
    },
    {
     "cell_type": "markdown",
     "metadata": {},
     "source": [
      "The Tutorial is divided in two sections: Basic and Advanced exercises. \n",
      "Each section contains several IPython notebooks with different exercises. \n",
      "\n",
      "Get started with Cytoscape REST examples by going through the tutorial, attempting the exercises."
     ]
    },
    {
     "cell_type": "heading",
     "level": 3,
     "metadata": {},
     "source": [
      "Basic Exercises"
     ]
    },
    {
     "cell_type": "markdown",
     "metadata": {},
     "source": [
      "- [Fundamentals of Cytoscape RESTful API](http://nbviewer.ipython.org/github/idekerlab/cy-rest-python/blob/develop/basic/CytoscapeREST_Basic1.ipynb)\n",
      "- [NetworkX and Cytoscape](http://nbviewer.ipython.org/github/idekerlab/cy-rest-python/blob/develop/basic/CytoscapeREST_Basic2.ipynb)\n",
      "- [Visual Style as a Python Object](http://nbviewer.ipython.org/github/idekerlab/cy-rest-python/blob/develop/basic/CytoscapeREST_Basic3.ipynb)\n",
      "- [Batch import KEGG pathways](http://nbviewer.ipython.org/github/idekerlab/cy-rest-python/blob/develop/basic/CytoscapeREST_Basic4_KEGG_API.ipynb)"
     ]
    },
    {
     "cell_type": "heading",
     "level": 3,
     "metadata": {},
     "source": [
      "Advanced Exercises"
     ]
    },
    {
     "cell_type": "markdown",
     "metadata": {},
     "source": [
      "- [Visualizing differentially expressed transcritome profile](http://nbviewer.ipython.org/github/idekerlab/cy-rest-python/blob/develop/advanced/CytoscapeREST_KEGG_f1000.ipynb)\n",
      "- [Visualizing time series metabolome profile](http://nbviewer.ipython.org/github/idekerlab/cy-rest-python/blob/develop/advanced/CytoscapeREST_KEGG_time_series.ipynb)\n",
      "- [Mapping DRUGBANK drug targets to KEGG pathway]()"
     ]
    },
    {
     "cell_type": "markdown",
     "metadata": {},
     "source": [
      "# More Information\n",
      "To see the cy-rest source code, visit the GitHub repository: https://github.com/keiono/cy-rest\n",
      "\n",
      "Be sure to follow us on Twitter [@cytoscape](https://twitter.com/cytoscape)\n",
      "\n",
      "## Contact\n",
      "For questions, please join the cytoscape-discuss mailing list: https://groups.google.com/forum/#!forum/cytoscape-discuss\n",
      "\n",
      "Follow us on Twitter [@cytoscape](https://twitter.com/cytoscape)! When tweeting about your Cytoscape IPython notebook, be sure to use the #cytoscape tag!\n"
     ]
    },
    {
     "cell_type": "markdown",
     "metadata": {},
     "source": [
      "<script>\n",
      "  (function(i,s,o,g,r,a,m){i['GoogleAnalyticsObject']=r;i[r]=i[r]||function(){\n",
      "  (i[r].q=i[r].q||[]).push(arguments)},i[r].l=1*new Date();a=s.createElement(o),\n",
      "  m=s.getElementsByTagName(o)[0];a.async=1;a.src=g;m.parentNode.insertBefore(a,m)\n",
      "  })(window,document,'script','//www.google-analytics.com/analytics.js','ga');\n",
      "\n",
      "  ga('create', 'UA-27761864-9', 'auto');\n",
      "  ga('send', 'pageview');\n",
      "</script>"
     ]
    }
   ],
   "metadata": {}
  }
 ]
}