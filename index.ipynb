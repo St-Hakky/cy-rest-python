{
 "metadata": {
  "name": "",
  "signature": "sha256:54ddf3db396cd0481c1592200d54ee872fb59c5318ef1667a28b845e2c633921"
 },
 "nbformat": 3,
 "nbformat_minor": 0,
 "worksheets": [
  {
   "cells": [
    {
     "cell_type": "markdown",
     "metadata": {},
     "source": [
      "\n",
      " ![](http://ipython.org/_static/IPy_header.png)\n",
      "\n",
      "  \n",
      "   \n",
      "<h1 style=\"text-align: center; font-size: 5em; font-weight: 100;\">Meets</h1>\n",
      "     \n",
      "      \n",
      " ![](http://cytoscape.org/images/logo/cy3logoOrange.svg)\n",
      "\n",
      "  \n",
      "\n",
      "# Welcome to [cyREST](https://github.com/idekerlab/cyREST) examples in IPython Notebook!\n",
      "\n",
      "## What is Cytoscape?\n",
      "[Cytoscape](http://www.cytoscape.org/) is an open source software platform for visualizing complex networks and integrating these with any type of attribute data. A lot of [Apps](http://apps.cytoscape.org/) are available for various kinds of problem domains, including bioinformatics, social network analysis, and semantic web.\n",
      "\n",
      "## Introduction to cyREST\n",
      "[cyREST]() is a Cytoscape App providing access to Cytoscape core data objects including networks, tables, and Styles via RESTful API, which is totally platform/language independent.  This means you can write your own workflows using Cytoscape in programming language of your choice."
     ]
    },
    {
     "cell_type": "markdown",
     "metadata": {},
     "source": [
      "# Contents\n",
      "\n",
      "----\n",
      "\n",
      "## Tutorials\n",
      "This tutorial has two sections: Basic and Advanced.   Each section contains several [IPython Notebooks](http://ipython.org/notebook.html).  We recommend to try all Basic tutorials to understand how cyREST works with Cytoscape core.\n",
      "\n",
      "### Basic Exercises\n",
      "\n",
      "- [Fundamentals of Cytoscape RESTful API](http://nbviewer.ipython.org/github/idekerlab/cy-rest-python/blob/develop/basic/CytoscapeREST_Basic1.ipynb)\n",
      "- [NetworkX and Cytoscape](http://nbviewer.ipython.org/github/idekerlab/cy-rest-python/blob/develop/basic/CytoscapeREST_Basic2.ipynb)\n",
      "- [Visual Style as a Python Object](http://nbviewer.ipython.org/github/idekerlab/cy-rest-python/blob/develop/basic/CytoscapeREST_Basic3.ipynb)\n",
      "- [Batch import KEGG pathways](http://nbviewer.ipython.org/github/idekerlab/cy-rest-python/blob/develop/basic/CytoscapeREST_Basic4_KEGG_API.ipynb)\n",
      "- [RECOMB/Cytoscape 2014 Demo](http://nbviewer.ipython.org/github/idekerlab/cy-rest-python/blob/develop/basic/RECOMB2014_demo-final.ipynb)\n",
      "\n",
      "### Advanced Exercises\n",
      "\n",
      "- [Visualizing differentially expressed transcritome profile](http://nbviewer.ipython.org/github/idekerlab/cy-rest-python/blob/develop/advanced/CytoscapeREST_KEGG_f1000.ipynb)\n",
      "- [Visualizing time series metabolome profile](http://nbviewer.ipython.org/github/idekerlab/cy-rest-python/blob/develop/advanced/CytoscapeREST_KEGG_time_series.ipynb)\n",
      "- [Mapping DRUGBANK drug targets to KEGG pathway](http://nbviewer.ipython.org/github/idekerlab/cy-rest-python/blob/develop/advanced/integratingDrugbank.ipynb)\n"
     ]
    },
    {
     "cell_type": "markdown",
     "metadata": {},
     "source": [
      "----\n",
      "\n",
      "# More Information\n",
      "To see the cy-rest source code, visit the GitHub repository: https://github.com/idekerlab/cyREST\n",
      "\n",
      "Be sure to follow us on Twitter [@cytoscape](https://twitter.com/cytoscape)! When tweeting about your Cytoscape IPython notebook, be sure to use the #cytoscape tag!\n",
      "\n",
      "## Contact\n",
      "For questions, please join the [cytoscape-discuss mailing list](https://groups.google.com/forum/#!forum/cytoscape-discuss)\n",
      "\n",
      "> Keiichiro Ono (kono at ucsd dot edu)\n"
     ]
    },
    {
     "cell_type": "markdown",
     "metadata": {},
     "source": [
      "<script>\n",
      "  (function(i,s,o,g,r,a,m){i['GoogleAnalyticsObject']=r;i[r]=i[r]||function(){\n",
      "  (i[r].q=i[r].q||[]).push(arguments)},i[r].l=1*new Date();a=s.createElement(o),\n",
      "  m=s.getElementsByTagName(o)[0];a.async=1;a.src=g;m.parentNode.insertBefore(a,m)\n",
      "  })(window,document,'script','//www.google-analytics.com/analytics.js','ga');\n",
      "\n",
      "  ga('create', 'UA-27761864-9', 'auto');\n",
      "  ga('send', 'pageview');\n",
      "</script>"
     ]
    }
   ],
   "metadata": {}
  }
 ]
}